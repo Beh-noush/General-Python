{
  "nbformat": 4,
  "nbformat_minor": 0,
  "metadata": {
    "colab": {
      "name": "hw1_Behnoush_Khavari.pynb.ipynb",
      "provenance": [],
      "collapsed_sections": [],
      "include_colab_link": true
    },
    "kernelspec": {
      "name": "python3",
      "display_name": "Python 3"
    }
  },
  "cells": [
    {
      "cell_type": "markdown",
      "metadata": {
        "id": "view-in-github",
        "colab_type": "text"
      },
      "source": [
        "<a href=\"https://colab.research.google.com/github/Beh-noush/General-Python/blob/main/%23%20MLE_for_normal_distribution.ipynb(from%20IFT6269)%20ipynb\" target=\"_parent\"><img src=\"https://colab.research.google.com/assets/colab-badge.svg\" alt=\"Open In Colab\"/></a>"
      ]
    },
    {
      "cell_type": "markdown",
      "metadata": {
        "id": "Z8p_rVKVWH2w"
      },
      "source": [
        "# MLE_for_normal_distribution.ipynb(from IFT6269) "
      ]
    },
    {
      "cell_type": "markdown",
      "metadata": {
        "id": "SloWv9XFBdxL"
      },
      "source": [
        "We are going to numerically explore the MLE of the variance parameter of the Gaussian."
      ]
    },
    {
      "cell_type": "code",
      "metadata": {
        "id": "WlK2DyIsTCEk"
      },
      "source": [
        "import numpy as np\n",
        "import matplotlib.pyplot as plt"
      ],
      "execution_count": 1,
      "outputs": []
    },
    {
      "cell_type": "code",
      "metadata": {
        "id": "UbbWroVpRo-R"
      },
      "source": [
        "def sample_gaussian_data(num_samples, num_trials):\n",
        "  \"\"\"\n",
        "  inputs: \n",
        "     num_samples: [int] number of samples to generate for each trial\n",
        "     num_trials: [int] number of trials\n",
        "  Returns:\n",
        "     samples: [num_samples,num_trial] Array of generated samples.\n",
        "  \"\"\"\n",
        "  return np.random.randn(num_samples, num_trials)"
      ],
      "execution_count": 3,
      "outputs": []
    },
    {
      "cell_type": "code",
      "metadata": {
        "id": "RfzZh9OwTy8g"
      },
      "source": [
        "def mu_sigma2_mle(samples):\n",
        "    \"\"\"\n",
        "    # TODO \n",
        "    Compute Gaussian MLE estimators for the mean and variance \n",
        "        Inputs:\n",
        "             samples: [num_samples, num_trials] Matrix of N(0, 1) iid samples. \n",
        "                      It contains num_trials sets, each of these sets containing\n",
        "                      num_samples samples.\n",
        "        \n",
        "        Returns:\n",
        "             mu_hat: [num_trials] Vector of MLE mean estimators for each trial\n",
        "             sigma2_hat: [num_trials] Vector of MLE variance estimators for each trial\n",
        "             \n",
        "    \"\"\"\n",
        "    mean = np.mean(samples , axis = 0)\n",
        "    var = np.mean( (samples - mean)**2, axis = 0 ) #It is equivalent to using np.var(samples , axis = 0)\n",
        "    return mean , var "
      ],
      "execution_count": 4,
      "outputs": []
    },
    {
      "cell_type": "code",
      "metadata": {
        "id": "KJnRhEaWc2OW",
        "outputId": "69755101-ff41-4709-b6ea-737329b543bd",
        "colab": {
          "base_uri": "https://localhost:8080/"
        }
      },
      "source": [
        "samp = sample_gaussian_data(10,3)\n",
        "mu_sigma2_mle(samp)"
      ],
      "execution_count": 6,
      "outputs": [
        {
          "output_type": "execute_result",
          "data": {
            "text/plain": [
              "(array([-0.13836067,  0.44849168, -0.29944406]),\n",
              " array([0.50100184, 0.27039961, 1.34849992]))"
            ]
          },
          "metadata": {
            "tags": []
          },
          "execution_count": 6
        }
      ]
    },
    {
      "cell_type": "code",
      "metadata": {
        "id": "Coe0Hmwrc8Js",
        "outputId": "2f22ad30-ed2b-41c9-c62b-2d0e1de54cc8",
        "colab": {
          "base_uri": "https://localhost:8080/"
        }
      },
      "source": [
        "np.var(samp, axis = 0)"
      ],
      "execution_count": 8,
      "outputs": [
        {
          "output_type": "execute_result",
          "data": {
            "text/plain": [
              "array([0.50100184, 0.27039961, 1.34849992])"
            ]
          },
          "metadata": {
            "tags": []
          },
          "execution_count": 8
        }
      ]
    },
    {
      "cell_type": "code",
      "metadata": {
        "id": "Ur_MyJhzXSWq"
      },
      "source": [
        "def freq_mean_var(x):\n",
        "    \"\"\"\n",
        "    Compute the frequentist mean and variance of a vector of n real numbers \n",
        "        Inputs:\n",
        "             x: [n] Vector of real numbers\n",
        "        \n",
        "        Returns:\n",
        "             (mean, var): [tuple] Frequentist mean and variance of x\n",
        "             \n",
        "    \"\"\"\n",
        "    mean = np.mean(x)\n",
        "    var = np.mean((x - mean)**2) #Equivalent to np.var(x)\n",
        "    return (mean , var)\n"
      ],
      "execution_count": 9,
      "outputs": []
    },
    {
      "cell_type": "code",
      "metadata": {
        "id": "E3F37UWIdhWT",
        "outputId": "d612a9e0-a952-4f9d-a320-2855cbe71ead",
        "colab": {
          "base_uri": "https://localhost:8080/"
        }
      },
      "source": [
        "freq_mean_var(samp[:,1])"
      ],
      "execution_count": 10,
      "outputs": [
        {
          "output_type": "execute_result",
          "data": {
            "text/plain": [
              "(0.4484916766760138, 0.27039960644684347)"
            ]
          },
          "metadata": {
            "tags": []
          },
          "execution_count": 10
        }
      ]
    },
    {
      "cell_type": "code",
      "metadata": {
        "id": "FN3vX3vwd2dQ",
        "outputId": "5057c9f8-2f26-4913-d02f-091f1477260d",
        "colab": {
          "base_uri": "https://localhost:8080/"
        }
      },
      "source": [
        "np.var(samp[:,1])"
      ],
      "execution_count": 11,
      "outputs": [
        {
          "output_type": "execute_result",
          "data": {
            "text/plain": [
              "0.27039960644684347"
            ]
          },
          "metadata": {
            "tags": []
          },
          "execution_count": 11
        }
      ]
    },
    {
      "cell_type": "code",
      "metadata": {
        "id": "-2Bqj64ZTy3X"
      },
      "source": [
        "def empirical_frequentist_bias(empirical_mean, true_mean):\n",
        "    \"\"\"\n",
        "    # TODO \n",
        "    Estimate the frequentist bias of an estimator given its empirical and true means \n",
        "        Inputs:\n",
        "             true_mean: [float] True mean of the estimator\n",
        "             empirical_mean: [float] Empirical mean of the estimator\n",
        "             \n",
        "        Returns:\n",
        "             bias: [float] Frequentist bias\n",
        "            \n",
        "    \"\"\"\n",
        "    return true_mean - empirical_mean\n"
      ],
      "execution_count": 12,
      "outputs": []
    },
    {
      "cell_type": "code",
      "metadata": {
        "id": "QLChG0awZMOd"
      },
      "source": [
        "def plot_sigma_hat_histogram(samples, bins=200):\n",
        "    \"\"\"\n",
        "    Plots a histogram of estimated variances \n",
        "        Inputs:\n",
        "            samples: [array] Estimated variances to be plotted\n",
        "\n",
        "    \"\"\"\n",
        "    plt.xlabel('variance')\n",
        "    plt.ylabel('counts')\n",
        "    plt.hist(samples, bins )"
      ],
      "execution_count": 13,
      "outputs": []
    },
    {
      "cell_type": "code",
      "metadata": {
        "colab": {
          "base_uri": "https://localhost:8080/"
        },
        "id": "Yn6zTvnxeae-",
        "outputId": "c40df893-6d48-44ae-bede-3e8631b5b238"
      },
      "source": [
        "#draw  𝑛=5  samples from the standard Gaussian distribution,  N(0,1) .\n",
        "samples = sample_gaussian_data(5,1)\n",
        "print(f'Generated Gaussian samples\\n{samples}')"
      ],
      "execution_count": null,
      "outputs": [
        {
          "output_type": "stream",
          "text": [
            "Generated Gaussian samples\n",
            "[[-1.18890842]\n",
            " [ 0.62134348]\n",
            " [ 0.42917227]\n",
            " [-0.98416142]\n",
            " [ 0.2704691 ]]\n"
          ],
          "name": "stdout"
        }
      ]
    },
    {
      "cell_type": "code",
      "metadata": {
        "colab": {
          "base_uri": "https://localhost:8080/"
        },
        "id": "ohE-Le__ZMoz",
        "outputId": "e7e38f4e-d3b9-46d8-b347-02092cd06437"
      },
      "source": [
        "#Compute the ML estimate  𝜇̂  for the mean and  𝜎̂2  for the variance of the Gaussian, as given in Question 3(d).\n",
        "mean , variance = mu_sigma2_mle(samples)\n",
        "print(f'MLE of mean is {mean}\\nMLE of variance is {variance}') "
      ],
      "execution_count": null,
      "outputs": [
        {
          "output_type": "stream",
          "text": [
            "MLE of mean is [-0.170417]\n",
            "MLE of variance is [0.57605545]\n"
          ],
          "name": "stdout"
        }
      ]
    },
    {
      "cell_type": "code",
      "metadata": {
        "colab": {
          "base_uri": "https://localhost:8080/",
          "height": 277
        },
        "id": "EjstCJ0dsheK",
        "outputId": "6d2f6396-79fa-49e2-d4ab-e13b1245262b"
      },
      "source": [
        "#Repeat the previous steps 10,000 times. Plot a histogram of the 10,000 estimates of the Gaussian variance parameter to show its empirical distribution.\n",
        "samples  =  sample_gaussian_data(num_samples = 5 , num_trials = 10000)\n",
        "mean , var = mu_sigma2_mle(samples)\n",
        "plot_sigma_hat_histogram(var, bins = 200)"
      ],
      "execution_count": 17,
      "outputs": [
        {
          "output_type": "display_data",
          "data": {
            "image/png": "[encoded data removed]",
            "text/plain": [
              "<Figure size 432x288 with 1 Axes>"
            ]
          },
          "metadata": {
            "tags": [],
            "needs_background": "light"
          }
        }
      ]
    },
    {
      "cell_type": "markdown",
      "metadata": {
        "id": "YUiBh13Wpt0q"
      },
      "source": [
        "We notice that the shape of this histogram shows the Chi-square distribution as we expected for the sum of squares of standard normal variables.\n"
      ]
    },
    {
      "cell_type": "code",
      "metadata": {
        "colab": {
          "base_uri": "https://localhost:8080/"
        },
        "id": "1QZYzYg5x-yj",
        "outputId": "b2383764-0564-4050-d594-3b86308952e1"
      },
      "source": [
        "_, sigma2_hat_vec = mu_sigma2_mle(samples)"
      ],
      "execution_count": null,
      "outputs": [
        {
          "output_type": "execute_result",
          "data": {
            "text/plain": [
              "0.19962312114292557"
            ]
          },
          "metadata": {
            "tags": []
          },
          "execution_count": 13
        }
      ]
    },
    {
      "cell_type": "code",
      "metadata": {
        "colab": {
          "base_uri": "https://localhost:8080/"
        },
        "id": "aYtO-I5syDou",
        "outputId": "9eb7b65b-2b72-455d-c10b-f7e4d169b8ad"
      },
      "source": [
        "var_of_gaussian_variance = np.mean((var - np.mean(var))**2)\n",
        "var_of_gaussian_variance "
      ],
      "execution_count": null,
      "outputs": [
        {
          "output_type": "execute_result",
          "data": {
            "text/plain": [
              "0.31670181055821495"
            ]
          },
          "metadata": {
            "tags": []
          },
          "execution_count": 12
        }
      ]
    },
    {
      "cell_type": "markdown",
      "metadata": {
        "id": "77ECHpslSoDO"
      },
      "source": [
        "\n",
        " Let $X_{1},\\dots,X_{n} \\stackrel{\\text{iid}}{\\sim} \\mathcal{N}(\\mu,\\sigma^2)$ (where $\\mu \\in \\mathbb{R}$) for $n\\geq2$ to simplify. Let $\\bar{X} := \\frac{1}{n} \\sum_{i=1}^n X_i$. We can show that the MLE for $\\theta := (\\mu,\\sigma^2)$ is  $\\hat{\\mu} = \\bar{X}$ and $\\hat{\\sigma}^2 := \\frac{1}{n} \\sum_{i=1}^n (X_i - \\bar{X})^2$. Here, we want to derive the bias, variance and consistency  only for $\\hat{\\sigma}^2$.\n",
        "\n",
        "\n",
        " When calculating the variance of $\\hat{\\sigma}^2$, we use the fact that $\\frac{1}{\\sigma^2} \\sum_{i=1}^n (X_i - \\bar{X})^2 \\stackrel{\\text{d}}{=} \\chi_{n-1}^2$, where $\\chi_{n-1}^2$ be the chi-squared distribution with $(n-1)$ degrees of freedom. Also, for chi-squared distribution, we have $\\text{Var} [\\chi_{n-1}^2] = 2(n-1)$."
      ]
    },
    {
      "cell_type": "markdown",
      "metadata": {
        "id": "SohbrCgAVev2"
      },
      "source": [
        "Next, we find the expectation of $\\hat{\\sigma^2}$ to see if it is biased.\n",
        "$$\n",
        " \\mathbb{E}[ \\hat{\\sigma^2}] = \\frac{\\sum_{i=1}^n\\mathbb{E}[(X_i-\\bar X)^2] }n = \\frac1n \\sigma^2 \\mathbb{E}[\\sum_{i=1}^n (\\frac{X_i-\\bar X}{\\sigma})^2]\n",
        "$$\n",
        "We notice that if $X_i$ have normal distribution with variance $\\sigma^2$, the new variables $\\frac{X_i-\\bar X}{\\sigma}$ have standard distribution and therefore the sum of their squared values has Chi-distribution $\\chi_{n-1}$. The expectation value of Chi-distribution is $(n-1)$ which means the mean of \n",
        "$$\\mathbb E[ \\hat{\\sigma^2}]  = \\frac1n \\sigma^2\\mathbb E[\\sum_{i=1}^n (\\frac{X_i-\\bar X}{\\sigma})^2] = \\frac1n \\sigma^2(n-1) =  \\sigma^2(1-\\frac1n) =\\sigma^2-\\frac{\\sigma^2}n$$\n",
        "Therefore, the estimator of variance is biased and its bias is equal to \n",
        "$$\n",
        "bias(\\hat{\\sigma^2}) = \\sigma^2  - \\mathbb E[\\hat{\\sigma^2}] = \\frac{\\sigma^2}n \\neq 0 \\,\\,\\to \\hat{\\sigma^2}\\text{ is biased}\n",
        "$$"
      ]
    },
    {
      "cell_type": "markdown",
      "metadata": {
        "id": "2JJUaagXZd4_"
      },
      "source": [
        "Finally its variance is\n",
        "$$Var[ \\hat{\\sigma^2}] = Var[\\frac{\\sum_{i=1}^n (X_i-\\bar X)^2 }n] = Var[\\sigma^2\\frac{\\sum_{i=1}^n (\\frac{X_i-\\bar X}{\\sigma})^2 }n] \n",
        "=\\frac{\\sigma^4}{n^2} Var[\\sum_{i=1}^n (\\frac{X_i-\\bar X}{\\sigma})^2  ]$$\n",
        "\n",
        "With the same line of argument as for the case of the expectation value of $\\hat{\\sigma^2}$, we use the properties of the Chi-square distribution which has $2(n-1)$ as the variance for $\\chi_{n-1}$. Therefore, the above value of variance becomes\n",
        "$$Var[ \\hat{\\sigma^2}] = Var[\\frac{\\sum_{i=1}^n (X_i-\\bar X)^2 }n] =\\frac{\\sigma^4}{n^2} (2(n-1))  =\\frac{2(n-1)}{n^2}  \\sigma^4 \n",
        "$$"
      ]
    },
    {
      "cell_type": "markdown",
      "metadata": {
        "id": "3AGX5PAcik7k"
      },
      "source": [
        "We can compare these theoretical results for the bias and variance of the estimator $\\hat\\sigma^2$ with the theoretical result:"
      ]
    },
    {
      "cell_type": "code",
      "metadata": {
        "id": "vGtfm6nnrpqd",
        "colab": {
          "base_uri": "https://localhost:8080/"
        },
        "outputId": "f5f695d7-fd1c-49e0-ba8e-a70999e0192b"
      },
      "source": [
        "NUM_SAMPLES = 5\n",
        "bias_of_gaussian_variance = np.mean(var) - 1\n",
        "\n",
        "# Use the same 10,000 repeated trials to numerically estimate the (frequentist) bias and variance of the ML estimate  𝜎̂2  of the Gaussian variance parameter.\n",
        "# Compare the results with the theoretical (frequentist) bias and variance that you can compute above.\n",
        "sigma2_hat_mean, sigma2_hat_var = freq_mean_var(var)\n",
        "\n",
        "TRUE_SIGMA2 = 1.\n",
        "\n",
        "# The theoretical bias and variance of $\\hat{\\sigma}^2$\n",
        "n = NUM_SAMPLES\n",
        "THEO_BIAS = TRUE_SIGMA2/n\n",
        "THEO_VAR =  TRUE_SIGMA2**2*(2*n -2)/(n**2)\n",
        "\n",
        "emp_bias = empirical_frequentist_bias(empirical_mean=sigma2_hat_mean,\n",
        "                                      true_mean=TRUE_SIGMA2)\n",
        "\n",
        "print('Theoretical Bias: ', THEO_BIAS, ' Freq. Estimated Bias: ', emp_bias)\n",
        "print('Theoretical Variance: ', THEO_VAR, ' Freq. Estimated Variance: ', sigma2_hat_var)"
      ],
      "execution_count": 20,
      "outputs": [
        {
          "output_type": "stream",
          "text": [
            "Theoretical Bias:  0.2  Freq. Estimated Bias:  0.20402697452170704\n",
            "Theoretical Variance:  0.32  Freq. Estimated Variance:  0.3112150654280202\n"
          ],
          "name": "stdout"
        }
      ]
    },
    {
      "cell_type": "markdown",
      "metadata": {
        "id": "CLfeBM2bNH5a"
      },
      "source": [
        "Conclusions drawn from this experiment:\n",
        "The numerical result is pretty close to the theoretical one for the num_trials as large as 10000. "
      ]
    }
  ]
}