{
  "nbformat": 4,
  "nbformat_minor": 0,
  "metadata": {
    "colab": {
      "name": "War_Game.ipynb",
      "provenance": [],
      "collapsed_sections": [],
      "authorship_tag": "ABX9TyPKD0s7ixg2NUSQhCwSCRyM",
      "include_colab_link": true
    },
    "kernelspec": {
      "name": "python3",
      "display_name": "Python 3"
    },
    "language_info": {
      "name": "python"
    }
  },
  "cells": [
    {
      "cell_type": "markdown",
      "metadata": {
        "id": "view-in-github",
        "colab_type": "text"
      },
      "source": [
        "<a href=\"https://colab.research.google.com/github/Beh-noush/General-Python/blob/main/War_Game.ipynb\" target=\"_parent\"><img src=\"https://colab.research.google.com/assets/colab-badge.svg\" alt=\"Open In Colab\"/></a>"
      ]
    },
    {
      "cell_type": "code",
      "metadata": {
        "id": "LWf4xQfF5pfS"
      },
      "source": [
        "#Global variables\n",
        "suits = ['Diamonds', 'Hearts', 'Spades', 'Clubs']\n",
        "ranks = ['two' , 'three' , 'four', 'five', 'six', 'seven', 'eight', 'nine' , 'ten' , 'king' , 'queen', 'jack']\n",
        "values = {'two': 2, 'three':3 , 'four':4, 'five':5, 'six':6, 'seven':7, 'eight':8, 'nine':9 , 'ten':10 , 'king':11 , 'queen':12, 'jack':13}"
      ],
      "execution_count": 4,
      "outputs": []
    },
    {
      "cell_type": "code",
      "metadata": {
        "id": "BKJ7L_V1nyfP"
      },
      "source": [
        "class Card:\n",
        "  def __init__(self , suit , rank):\n",
        "    self.suit = suit\n",
        "    self.rank = rank\n",
        "    self.value = values[self.rank]\n",
        "  def __str__(self):\n",
        "    return f\"{self.rank} of {self.suit}\" "
      ],
      "execution_count": 5,
      "outputs": []
    },
    {
      "cell_type": "code",
      "metadata": {
        "id": "R1UQ2Njt5f6L"
      },
      "source": [
        " my_card = Card('Diamonds' , 'three')"
      ],
      "execution_count": 9,
      "outputs": []
    },
    {
      "cell_type": "code",
      "metadata": {
        "colab": {
          "base_uri": "https://localhost:8080/"
        },
        "id": "vRfZazkg5lTL",
        "outputId": "ee723f37-628b-4b6e-9e7f-cac42a38928a"
      },
      "source": [
        "my_card.value"
      ],
      "execution_count": 13,
      "outputs": [
        {
          "output_type": "execute_result",
          "data": {
            "text/plain": [
              "3"
            ]
          },
          "metadata": {
            "tags": []
          },
          "execution_count": 13
        }
      ]
    },
    {
      "cell_type": "code",
      "metadata": {
        "id": "xkHvmveO7CKk"
      },
      "source": [
        ""
      ],
      "execution_count": null,
      "outputs": []
    }
  ]
}