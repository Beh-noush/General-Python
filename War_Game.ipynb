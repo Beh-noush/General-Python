{
  "nbformat": 4,
  "nbformat_minor": 0,
  "metadata": {
    "colab": {
      "name": "War_Game.ipynb",
      "provenance": [],
      "collapsed_sections": [],
      "authorship_tag": "ABX9TyNYkG4VdGfhTG32DrWI0xJw",
      "include_colab_link": true
    },
    "kernelspec": {
      "name": "python3",
      "display_name": "Python 3"
    },
    "language_info": {
      "name": "python"
    }
  },
  "cells": [
    {
      "cell_type": "markdown",
      "metadata": {
        "id": "view-in-github",
        "colab_type": "text"
      },
      "source": [
        "<a href=\"https://colab.research.google.com/github/Beh-noush/General-Python/blob/main/War_Game.ipynb\" target=\"_parent\"><img src=\"https://colab.research.google.com/assets/colab-badge.svg\" alt=\"Open In Colab\"/></a>"
      ]
    },
    {
      "cell_type": "code",
      "metadata": {
        "id": "iHwAk24SWqF0"
      },
      "source": [
        "from random import shuffle"
      ],
      "execution_count": 14,
      "outputs": []
    },
    {
      "cell_type": "code",
      "metadata": {
        "id": "LWf4xQfF5pfS"
      },
      "source": [
        "#Global variables\n",
        "suits = ['Diamonds', 'Hearts', 'Spades', 'Clubs']\n",
        "ranks = ['two' , 'three' , 'four', 'five', 'six', 'seven', 'eight', 'nine' , 'ten' , 'king' , 'queen', 'jack']\n",
        "values = {'two': 2, 'three':3 , 'four':4, 'five':5, 'six':6, 'seven':7, 'eight':8, 'nine':9 , 'ten':10 , 'king':11 , 'queen':12, 'jack':13}"
      ],
      "execution_count": 1,
      "outputs": []
    },
    {
      "cell_type": "code",
      "metadata": {
        "id": "BKJ7L_V1nyfP"
      },
      "source": [
        "class Card:\n",
        "  def __init__(self , suit , rank):\n",
        "    self.suit = suit\n",
        "    self.rank = rank\n",
        "    self.value = values[self.rank]\n",
        "  def __str__(self):\n",
        "    return f\"{self.rank} of {self.suit}\" "
      ],
      "execution_count": 2,
      "outputs": []
    },
    {
      "cell_type": "code",
      "metadata": {
        "id": "R1UQ2Njt5f6L"
      },
      "source": [
        " my_card = Card('Diamonds' , 'three')"
      ],
      "execution_count": 3,
      "outputs": []
    },
    {
      "cell_type": "code",
      "metadata": {
        "colab": {
          "base_uri": "https://localhost:8080/"
        },
        "id": "vRfZazkg5lTL",
        "outputId": "3391627c-df79-4d2b-bdb2-eba61ad82c90"
      },
      "source": [
        "my_card.value"
      ],
      "execution_count": 4,
      "outputs": [
        {
          "output_type": "execute_result",
          "data": {
            "text/plain": [
              "3"
            ]
          },
          "metadata": {
            "tags": []
          },
          "execution_count": 4
        }
      ]
    },
    {
      "cell_type": "code",
      "metadata": {
        "id": "xkHvmveO7CKk"
      },
      "source": [
        "class Deck:\n",
        "  def __init__(self):\n",
        "    self.all_cards = []\n",
        "    for suit in suits:\n",
        "      for rank in ranks:\n",
        "        one_card = Card(suit,rank)\n",
        "        self.all_cards.append(one_card)\n",
        "\n",
        "  def shuffle(self):\n",
        "    shuffle(self.all_cards)"
      ],
      "execution_count": 21,
      "outputs": []
    },
    {
      "cell_type": "code",
      "metadata": {
        "id": "cWIf4pNLV4SW"
      },
      "source": [
        "my_deck = Deck()"
      ],
      "execution_count": 22,
      "outputs": []
    },
    {
      "cell_type": "code",
      "metadata": {
        "colab": {
          "base_uri": "https://localhost:8080/"
        },
        "id": "AiONF6dwV6D7",
        "outputId": "e49773e3-5898-4ca7-b323-9cb23066ed44"
      },
      "source": [
        "for card in my_deck.all_cards:\n",
        "  print(card)"
      ],
      "execution_count": 23,
      "outputs": [
        {
          "output_type": "stream",
          "text": [
            "two of Diamonds\n",
            "three of Diamonds\n",
            "four of Diamonds\n",
            "five of Diamonds\n",
            "six of Diamonds\n",
            "seven of Diamonds\n",
            "eight of Diamonds\n",
            "nine of Diamonds\n",
            "ten of Diamonds\n",
            "king of Diamonds\n",
            "queen of Diamonds\n",
            "jack of Diamonds\n",
            "two of Hearts\n",
            "three of Hearts\n",
            "four of Hearts\n",
            "five of Hearts\n",
            "six of Hearts\n",
            "seven of Hearts\n",
            "eight of Hearts\n",
            "nine of Hearts\n",
            "ten of Hearts\n",
            "king of Hearts\n",
            "queen of Hearts\n",
            "jack of Hearts\n",
            "two of Spades\n",
            "three of Spades\n",
            "four of Spades\n",
            "five of Spades\n",
            "six of Spades\n",
            "seven of Spades\n",
            "eight of Spades\n",
            "nine of Spades\n",
            "ten of Spades\n",
            "king of Spades\n",
            "queen of Spades\n",
            "jack of Spades\n",
            "two of Clubs\n",
            "three of Clubs\n",
            "four of Clubs\n",
            "five of Clubs\n",
            "six of Clubs\n",
            "seven of Clubs\n",
            "eight of Clubs\n",
            "nine of Clubs\n",
            "ten of Clubs\n",
            "king of Clubs\n",
            "queen of Clubs\n",
            "jack of Clubs\n"
          ],
          "name": "stdout"
        }
      ]
    },
    {
      "cell_type": "code",
      "metadata": {
        "id": "zlVA_QmZWCra"
      },
      "source": [
        "my_deck.shuffle()"
      ],
      "execution_count": 24,
      "outputs": []
    },
    {
      "cell_type": "code",
      "metadata": {
        "colab": {
          "base_uri": "https://localhost:8080/"
        },
        "id": "ytmHwE7zWo06",
        "outputId": "e4521eee-70da-45f1-866d-c90d330c939e"
      },
      "source": [
        "for card in my_deck.all_cards:\n",
        "  print(card)"
      ],
      "execution_count": 25,
      "outputs": [
        {
          "output_type": "stream",
          "text": [
            "ten of Spades\n",
            "eight of Hearts\n",
            "seven of Spades\n",
            "nine of Clubs\n",
            "three of Clubs\n",
            "six of Clubs\n",
            "two of Hearts\n",
            "jack of Spades\n",
            "jack of Hearts\n",
            "four of Spades\n",
            "nine of Hearts\n",
            "king of Clubs\n",
            "eight of Clubs\n",
            "king of Diamonds\n",
            "ten of Clubs\n",
            "six of Spades\n",
            "five of Hearts\n",
            "queen of Hearts\n",
            "four of Diamonds\n",
            "jack of Diamonds\n",
            "queen of Clubs\n",
            "queen of Spades\n",
            "nine of Diamonds\n",
            "five of Clubs\n",
            "two of Spades\n",
            "four of Hearts\n",
            "seven of Clubs\n",
            "five of Spades\n",
            "five of Diamonds\n",
            "queen of Diamonds\n",
            "king of Spades\n",
            "seven of Diamonds\n",
            "king of Hearts\n",
            "ten of Hearts\n",
            "four of Clubs\n",
            "seven of Hearts\n",
            "eight of Spades\n",
            "two of Clubs\n",
            "eight of Diamonds\n",
            "nine of Spades\n",
            "three of Hearts\n",
            "three of Diamonds\n",
            "three of Spades\n",
            "six of Hearts\n",
            "jack of Clubs\n",
            "six of Diamonds\n",
            "ten of Diamonds\n",
            "two of Diamonds\n"
          ],
          "name": "stdout"
        }
      ]
    },
    {
      "cell_type": "code",
      "metadata": {
        "id": "GEIOgpGRXNb9"
      },
      "source": [
        "class Player:\n",
        "  def __init__(self, name, cards = []):\n",
        "    self.name = name\n",
        "    self.cards = cards\n",
        "  def get_card(card):\n",
        "    if type(card) == type([]):\n",
        "      self.cards.extend(card)\n",
        "    else:\n",
        "      self.cards.append(card)\n",
        "  def play_a_card(self):\n",
        "    played_card = self.cards.pop()"
      ],
      "execution_count": null,
      "outputs": []
    },
    {
      "cell_type": "code",
      "metadata": {
        "id": "taKTQYUUYkcN"
      },
      "source": [
        "#Start playing\n",
        "#1- Make a shuffled card deck!\n",
        "card_deck = Deck()\n",
        "card_deck.shuffle()\n",
        "\n",
        "#2- Introduce the players!\n",
        "player_1 = Player('Andre')\n",
        "player_2 = Player('Karen')\n",
        "\n",
        "#3- Distribute the cards between the two players!\n",
        "for card in card_deck:\n",
        "  player_1.get_card(card)\n",
        "  player_2.get_card(card)"
      ],
      "execution_count": null,
      "outputs": []
    }
  ]
}