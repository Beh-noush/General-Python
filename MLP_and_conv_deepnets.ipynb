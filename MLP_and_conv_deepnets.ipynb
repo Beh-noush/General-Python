{
  "nbformat": 4,
  "nbformat_minor": 0,
  "metadata": {
    "colab": {
      "name": "MLP-and-conv-deepnets.ipynb",
      "provenance": [],
      "collapsed_sections": [
        "NsDXLKHdGKuN",
        "rztBUzJvGT2m",
        "5TIxSgcleAJu",
        "LIWCCA6ld6hh"
      ],
      "authorship_tag": "ABX9TyP1kenODN9k3ZdeFI8xWVfg",
      "include_colab_link": true
    },
    "kernelspec": {
      "name": "python3",
      "display_name": "Python 3"
    },
    "language_info": {
      "name": "python"
    },
    "widgets": {
      "application/vnd.jupyter.widget-state+json": {
        "1d642cf72c2c46388b7b4ac3fb3c5918": {
          "model_module": "@jupyter-widgets/controls",
          "model_name": "HBoxModel",
          "model_module_version": "1.5.0",
          "state": {
            "_view_name": "HBoxView",
            "_dom_classes": [],
            "_model_name": "HBoxModel",
            "_view_module": "@jupyter-widgets/controls",
            "_model_module_version": "1.5.0",
            "_view_count": null,
            "_view_module_version": "1.5.0",
            "box_style": "",
            "layout": "IPY_MODEL_2826846bd48b416082113c9510a8b3c2",
            "_model_module": "@jupyter-widgets/controls",
            "children": [
              "IPY_MODEL_83d04ab9c8ef42a4be5fb00c173658bf",
              "IPY_MODEL_c0321917fb4e4d0ea18663845389436b",
              "IPY_MODEL_e664d6d44d934645bcc4289da11f69ef"
            ]
          }
        },
        "2826846bd48b416082113c9510a8b3c2": {
          "model_module": "@jupyter-widgets/base",
          "model_name": "LayoutModel",
          "model_module_version": "1.2.0",
          "state": {
            "_view_name": "LayoutView",
            "grid_template_rows": null,
            "right": null,
            "justify_content": null,
            "_view_module": "@jupyter-widgets/base",
            "overflow": null,
            "_model_module_version": "1.2.0",
            "_view_count": null,
            "flex_flow": null,
            "width": null,
            "min_width": null,
            "border": null,
            "align_items": null,
            "bottom": null,
            "_model_module": "@jupyter-widgets/base",
            "top": null,
            "grid_column": null,
            "overflow_y": null,
            "overflow_x": null,
            "grid_auto_flow": null,
            "grid_area": null,
            "grid_template_columns": null,
            "flex": null,
            "_model_name": "LayoutModel",
            "justify_items": null,
            "grid_row": null,
            "max_height": null,
            "align_content": null,
            "visibility": null,
            "align_self": null,
            "height": null,
            "min_height": null,
            "padding": null,
            "grid_auto_rows": null,
            "grid_gap": null,
            "max_width": null,
            "order": null,
            "_view_module_version": "1.2.0",
            "grid_template_areas": null,
            "object_position": null,
            "object_fit": null,
            "grid_auto_columns": null,
            "margin": null,
            "display": null,
            "left": null
          }
        },
        "83d04ab9c8ef42a4be5fb00c173658bf": {
          "model_module": "@jupyter-widgets/controls",
          "model_name": "HTMLModel",
          "model_module_version": "1.5.0",
          "state": {
            "_view_name": "HTMLView",
            "style": "IPY_MODEL_97ea39fb42a346498572a4370aa9c2c6",
            "_dom_classes": [],
            "description": "",
            "_model_name": "HTMLModel",
            "placeholder": "​",
            "_view_module": "@jupyter-widgets/controls",
            "_model_module_version": "1.5.0",
            "value": "100%",
            "_view_count": null,
            "_view_module_version": "1.5.0",
            "description_tooltip": null,
            "_model_module": "@jupyter-widgets/controls",
            "layout": "IPY_MODEL_5a6030adad9f4266a46ae59e890b9f71"
          }
        },
        "c0321917fb4e4d0ea18663845389436b": {
          "model_module": "@jupyter-widgets/controls",
          "model_name": "FloatProgressModel",
          "model_module_version": "1.5.0",
          "state": {
            "_view_name": "ProgressView",
            "style": "IPY_MODEL_eec54527d0ee4ebf9e519f29ac328ca4",
            "_dom_classes": [],
            "description": "",
            "_model_name": "FloatProgressModel",
            "bar_style": "success",
            "max": 46830571,
            "_view_module": "@jupyter-widgets/controls",
            "_model_module_version": "1.5.0",
            "value": 46830571,
            "_view_count": null,
            "_view_module_version": "1.5.0",
            "orientation": "horizontal",
            "min": 0,
            "description_tooltip": null,
            "_model_module": "@jupyter-widgets/controls",
            "layout": "IPY_MODEL_54d387fc1ad54e74b619f3cf856665cd"
          }
        },
        "e664d6d44d934645bcc4289da11f69ef": {
          "model_module": "@jupyter-widgets/controls",
          "model_name": "HTMLModel",
          "model_module_version": "1.5.0",
          "state": {
            "_view_name": "HTMLView",
            "style": "IPY_MODEL_52a88487e11f4f188166c86bfeb2e92e",
            "_dom_classes": [],
            "description": "",
            "_model_name": "HTMLModel",
            "placeholder": "​",
            "_view_module": "@jupyter-widgets/controls",
            "_model_module_version": "1.5.0",
            "value": " 44.7M/44.7M [00:00&lt;00:00, 65.2MB/s]",
            "_view_count": null,
            "_view_module_version": "1.5.0",
            "description_tooltip": null,
            "_model_module": "@jupyter-widgets/controls",
            "layout": "IPY_MODEL_1964c96199d14d2faf71af9dc95f7e12"
          }
        },
        "97ea39fb42a346498572a4370aa9c2c6": {
          "model_module": "@jupyter-widgets/controls",
          "model_name": "DescriptionStyleModel",
          "model_module_version": "1.5.0",
          "state": {
            "_view_name": "StyleView",
            "_model_name": "DescriptionStyleModel",
            "description_width": "",
            "_view_module": "@jupyter-widgets/base",
            "_model_module_version": "1.5.0",
            "_view_count": null,
            "_view_module_version": "1.2.0",
            "_model_module": "@jupyter-widgets/controls"
          }
        },
        "5a6030adad9f4266a46ae59e890b9f71": {
          "model_module": "@jupyter-widgets/base",
          "model_name": "LayoutModel",
          "model_module_version": "1.2.0",
          "state": {
            "_view_name": "LayoutView",
            "grid_template_rows": null,
            "right": null,
            "justify_content": null,
            "_view_module": "@jupyter-widgets/base",
            "overflow": null,
            "_model_module_version": "1.2.0",
            "_view_count": null,
            "flex_flow": null,
            "width": null,
            "min_width": null,
            "border": null,
            "align_items": null,
            "bottom": null,
            "_model_module": "@jupyter-widgets/base",
            "top": null,
            "grid_column": null,
            "overflow_y": null,
            "overflow_x": null,
            "grid_auto_flow": null,
            "grid_area": null,
            "grid_template_columns": null,
            "flex": null,
            "_model_name": "LayoutModel",
            "justify_items": null,
            "grid_row": null,
            "max_height": null,
            "align_content": null,
            "visibility": null,
            "align_self": null,
            "height": null,
            "min_height": null,
            "padding": null,
            "grid_auto_rows": null,
            "grid_gap": null,
            "max_width": null,
            "order": null,
            "_view_module_version": "1.2.0",
            "grid_template_areas": null,
            "object_position": null,
            "object_fit": null,
            "grid_auto_columns": null,
            "margin": null,
            "display": null,
            "left": null
          }
        },
        "eec54527d0ee4ebf9e519f29ac328ca4": {
          "model_module": "@jupyter-widgets/controls",
          "model_name": "ProgressStyleModel",
          "model_module_version": "1.5.0",
          "state": {
            "_view_name": "StyleView",
            "_model_name": "ProgressStyleModel",
            "description_width": "",
            "_view_module": "@jupyter-widgets/base",
            "_model_module_version": "1.5.0",
            "_view_count": null,
            "_view_module_version": "1.2.0",
            "bar_color": null,
            "_model_module": "@jupyter-widgets/controls"
          }
        },
        "54d387fc1ad54e74b619f3cf856665cd": {
          "model_module": "@jupyter-widgets/base",
          "model_name": "LayoutModel",
          "model_module_version": "1.2.0",
          "state": {
            "_view_name": "LayoutView",
            "grid_template_rows": null,
            "right": null,
            "justify_content": null,
            "_view_module": "@jupyter-widgets/base",
            "overflow": null,
            "_model_module_version": "1.2.0",
            "_view_count": null,
            "flex_flow": null,
            "width": null,
            "min_width": null,
            "border": null,
            "align_items": null,
            "bottom": null,
            "_model_module": "@jupyter-widgets/base",
            "top": null,
            "grid_column": null,
            "overflow_y": null,
            "overflow_x": null,
            "grid_auto_flow": null,
            "grid_area": null,
            "grid_template_columns": null,
            "flex": null,
            "_model_name": "LayoutModel",
            "justify_items": null,
            "grid_row": null,
            "max_height": null,
            "align_content": null,
            "visibility": null,
            "align_self": null,
            "height": null,
            "min_height": null,
            "padding": null,
            "grid_auto_rows": null,
            "grid_gap": null,
            "max_width": null,
            "order": null,
            "_view_module_version": "1.2.0",
            "grid_template_areas": null,
            "object_position": null,
            "object_fit": null,
            "grid_auto_columns": null,
            "margin": null,
            "display": null,
            "left": null
          }
        },
        "52a88487e11f4f188166c86bfeb2e92e": {
          "model_module": "@jupyter-widgets/controls",
          "model_name": "DescriptionStyleModel",
          "model_module_version": "1.5.0",
          "state": {
            "_view_name": "StyleView",
            "_model_name": "DescriptionStyleModel",
            "description_width": "",
            "_view_module": "@jupyter-widgets/base",
            "_model_module_version": "1.5.0",
            "_view_count": null,
            "_view_module_version": "1.2.0",
            "_model_module": "@jupyter-widgets/controls"
          }
        },
        "1964c96199d14d2faf71af9dc95f7e12": {
          "model_module": "@jupyter-widgets/base",
          "model_name": "LayoutModel",
          "model_module_version": "1.2.0",
          "state": {
            "_view_name": "LayoutView",
            "grid_template_rows": null,
            "right": null,
            "justify_content": null,
            "_view_module": "@jupyter-widgets/base",
            "overflow": null,
            "_model_module_version": "1.2.0",
            "_view_count": null,
            "flex_flow": null,
            "width": null,
            "min_width": null,
            "border": null,
            "align_items": null,
            "bottom": null,
            "_model_module": "@jupyter-widgets/base",
            "top": null,
            "grid_column": null,
            "overflow_y": null,
            "overflow_x": null,
            "grid_auto_flow": null,
            "grid_area": null,
            "grid_template_columns": null,
            "flex": null,
            "_model_name": "LayoutModel",
            "justify_items": null,
            "grid_row": null,
            "max_height": null,
            "align_content": null,
            "visibility": null,
            "align_self": null,
            "height": null,
            "min_height": null,
            "padding": null,
            "grid_auto_rows": null,
            "grid_gap": null,
            "max_width": null,
            "order": null,
            "_view_module_version": "1.2.0",
            "grid_template_areas": null,
            "object_position": null,
            "object_fit": null,
            "grid_auto_columns": null,
            "margin": null,
            "display": null,
            "left": null
          }
        },
        "e078cb4c2f7b41f79ddd6f942607034b": {
          "model_module": "@jupyter-widgets/controls",
          "model_name": "HBoxModel",
          "model_module_version": "1.5.0",
          "state": {
            "_dom_classes": [],
            "_model_module": "@jupyter-widgets/controls",
            "_model_module_version": "1.5.0",
            "_model_name": "HBoxModel",
            "_view_count": null,
            "_view_module": "@jupyter-widgets/controls",
            "_view_module_version": "1.5.0",
            "_view_name": "HBoxView",
            "box_style": "",
            "children": [
              "IPY_MODEL_0a9dac44b1d54e78b6f3dc7c4846163f",
              "IPY_MODEL_029d6a7e1f9f4b628d5615a836d44d83",
              "IPY_MODEL_fe3c98cd1bc74cf18035003120b9a41b"
            ],
            "layout": "IPY_MODEL_370ccf20c20f46b2b866c700e4ad73e6"
          }
        },
        "0a9dac44b1d54e78b6f3dc7c4846163f": {
          "model_module": "@jupyter-widgets/controls",
          "model_name": "HTMLModel",
          "model_module_version": "1.5.0",
          "state": {
            "_dom_classes": [],
            "_model_module": "@jupyter-widgets/controls",
            "_model_module_version": "1.5.0",
            "_model_name": "HTMLModel",
            "_view_count": null,
            "_view_module": "@jupyter-widgets/controls",
            "_view_module_version": "1.5.0",
            "_view_name": "HTMLView",
            "description": "",
            "description_tooltip": null,
            "layout": "IPY_MODEL_4b848be3ca664a6bab289f3311c4b9af",
            "placeholder": "​",
            "style": "IPY_MODEL_8a964caeeb734d8aa3fa1691f51fc11d",
            "value": ""
          }
        },
        "029d6a7e1f9f4b628d5615a836d44d83": {
          "model_module": "@jupyter-widgets/controls",
          "model_name": "FloatProgressModel",
          "model_module_version": "1.5.0",
          "state": {
            "_dom_classes": [],
            "_model_module": "@jupyter-widgets/controls",
            "_model_module_version": "1.5.0",
            "_model_name": "FloatProgressModel",
            "_view_count": null,
            "_view_module": "@jupyter-widgets/controls",
            "_view_module_version": "1.5.0",
            "_view_name": "ProgressView",
            "bar_style": "success",
            "description": "",
            "description_tooltip": null,
            "layout": "IPY_MODEL_081e83d755364178950c4c5b4b510ceb",
            "max": 9912422,
            "min": 0,
            "orientation": "horizontal",
            "style": "IPY_MODEL_72e38a280ec24b68aec4597b72d40ba1",
            "value": 9912422
          }
        },
        "fe3c98cd1bc74cf18035003120b9a41b": {
          "model_module": "@jupyter-widgets/controls",
          "model_name": "HTMLModel",
          "model_module_version": "1.5.0",
          "state": {
            "_dom_classes": [],
            "_model_module": "@jupyter-widgets/controls",
            "_model_module_version": "1.5.0",
            "_model_name": "HTMLModel",
            "_view_count": null,
            "_view_module": "@jupyter-widgets/controls",
            "_view_module_version": "1.5.0",
            "_view_name": "HTMLView",
            "description": "",
            "description_tooltip": null,
            "layout": "IPY_MODEL_4cc62105c6594afab31a6efa290efbb1",
            "placeholder": "​",
            "style": "IPY_MODEL_85d1b64eb44a43f5872b4014e2cc7ae7",
            "value": " 9913344/? [00:00&lt;00:00, 24174472.55it/s]"
          }
        },
        "370ccf20c20f46b2b866c700e4ad73e6": {
          "model_module": "@jupyter-widgets/base",
          "model_name": "LayoutModel",
          "model_module_version": "1.2.0",
          "state": {
            "_model_module": "@jupyter-widgets/base",
            "_model_module_version": "1.2.0",
            "_model_name": "LayoutModel",
            "_view_count": null,
            "_view_module": "@jupyter-widgets/base",
            "_view_module_version": "1.2.0",
            "_view_name": "LayoutView",
            "align_content": null,
            "align_items": null,
            "align_self": null,
            "border": null,
            "bottom": null,
            "display": null,
            "flex": null,
            "flex_flow": null,
            "grid_area": null,
            "grid_auto_columns": null,
            "grid_auto_flow": null,
            "grid_auto_rows": null,
            "grid_column": null,
            "grid_gap": null,
            "grid_row": null,
            "grid_template_areas": null,
            "grid_template_columns": null,
            "grid_template_rows": null,
            "height": null,
            "justify_content": null,
            "justify_items": null,
            "left": null,
            "margin": null,
            "max_height": null,
            "max_width": null,
            "min_height": null,
            "min_width": null,
            "object_fit": null,
            "object_position": null,
            "order": null,
            "overflow": null,
            "overflow_x": null,
            "overflow_y": null,
            "padding": null,
            "right": null,
            "top": null,
            "visibility": null,
            "width": null
          }
        },
        "4b848be3ca664a6bab289f3311c4b9af": {
          "model_module": "@jupyter-widgets/base",
          "model_name": "LayoutModel",
          "model_module_version": "1.2.0",
          "state": {
            "_model_module": "@jupyter-widgets/base",
            "_model_module_version": "1.2.0",
            "_model_name": "LayoutModel",
            "_view_count": null,
            "_view_module": "@jupyter-widgets/base",
            "_view_module_version": "1.2.0",
            "_view_name": "LayoutView",
            "align_content": null,
            "align_items": null,
            "align_self": null,
            "border": null,
            "bottom": null,
            "display": null,
            "flex": null,
            "flex_flow": null,
            "grid_area": null,
            "grid_auto_columns": null,
            "grid_auto_flow": null,
            "grid_auto_rows": null,
            "grid_column": null,
            "grid_gap": null,
            "grid_row": null,
            "grid_template_areas": null,
            "grid_template_columns": null,
            "grid_template_rows": null,
            "height": null,
            "justify_content": null,
            "justify_items": null,
            "left": null,
            "margin": null,
            "max_height": null,
            "max_width": null,
            "min_height": null,
            "min_width": null,
            "object_fit": null,
            "object_position": null,
            "order": null,
            "overflow": null,
            "overflow_x": null,
            "overflow_y": null,
            "padding": null,
            "right": null,
            "top": null,
            "visibility": null,
            "width": null
          }
        },
        "8a964caeeb734d8aa3fa1691f51fc11d": {
          "model_module": "@jupyter-widgets/controls",
          "model_name": "DescriptionStyleModel",
          "model_module_version": "1.5.0",
          "state": {
            "_model_module": "@jupyter-widgets/controls",
            "_model_module_version": "1.5.0",
            "_model_name": "DescriptionStyleModel",
            "_view_count": null,
            "_view_module": "@jupyter-widgets/base",
            "_view_module_version": "1.2.0",
            "_view_name": "StyleView",
            "description_width": ""
          }
        },
        "081e83d755364178950c4c5b4b510ceb": {
          "model_module": "@jupyter-widgets/base",
          "model_name": "LayoutModel",
          "model_module_version": "1.2.0",
          "state": {
            "_model_module": "@jupyter-widgets/base",
            "_model_module_version": "1.2.0",
            "_model_name": "LayoutModel",
            "_view_count": null,
            "_view_module": "@jupyter-widgets/base",
            "_view_module_version": "1.2.0",
            "_view_name": "LayoutView",
            "align_content": null,
            "align_items": null,
            "align_self": null,
            "border": null,
            "bottom": null,
            "display": null,
            "flex": null,
            "flex_flow": null,
            "grid_area": null,
            "grid_auto_columns": null,
            "grid_auto_flow": null,
            "grid_auto_rows": null,
            "grid_column": null,
            "grid_gap": null,
            "grid_row": null,
            "grid_template_areas": null,
            "grid_template_columns": null,
            "grid_template_rows": null,
            "height": null,
            "justify_content": null,
            "justify_items": null,
            "left": null,
            "margin": null,
            "max_height": null,
            "max_width": null,
            "min_height": null,
            "min_width": null,
            "object_fit": null,
            "object_position": null,
            "order": null,
            "overflow": null,
            "overflow_x": null,
            "overflow_y": null,
            "padding": null,
            "right": null,
            "top": null,
            "visibility": null,
            "width": null
          }
        },
        "72e38a280ec24b68aec4597b72d40ba1": {
          "model_module": "@jupyter-widgets/controls",
          "model_name": "ProgressStyleModel",
          "model_module_version": "1.5.0",
          "state": {
            "_model_module": "@jupyter-widgets/controls",
            "_model_module_version": "1.5.0",
            "_model_name": "ProgressStyleModel",
            "_view_count": null,
            "_view_module": "@jupyter-widgets/base",
            "_view_module_version": "1.2.0",
            "_view_name": "StyleView",
            "bar_color": null,
            "description_width": ""
          }
        },
        "4cc62105c6594afab31a6efa290efbb1": {
          "model_module": "@jupyter-widgets/base",
          "model_name": "LayoutModel",
          "model_module_version": "1.2.0",
          "state": {
            "_model_module": "@jupyter-widgets/base",
            "_model_module_version": "1.2.0",
            "_model_name": "LayoutModel",
            "_view_count": null,
            "_view_module": "@jupyter-widgets/base",
            "_view_module_version": "1.2.0",
            "_view_name": "LayoutView",
            "align_content": null,
            "align_items": null,
            "align_self": null,
            "border": null,
            "bottom": null,
            "display": null,
            "flex": null,
            "flex_flow": null,
            "grid_area": null,
            "grid_auto_columns": null,
            "grid_auto_flow": null,
            "grid_auto_rows": null,
            "grid_column": null,
            "grid_gap": null,
            "grid_row": null,
            "grid_template_areas": null,
            "grid_template_columns": null,
            "grid_template_rows": null,
            "height": null,
            "justify_content": null,
            "justify_items": null,
            "left": null,
            "margin": null,
            "max_height": null,
            "max_width": null,
            "min_height": null,
            "min_width": null,
            "object_fit": null,
            "object_position": null,
            "order": null,
            "overflow": null,
            "overflow_x": null,
            "overflow_y": null,
            "padding": null,
            "right": null,
            "top": null,
            "visibility": null,
            "width": null
          }
        },
        "85d1b64eb44a43f5872b4014e2cc7ae7": {
          "model_module": "@jupyter-widgets/controls",
          "model_name": "DescriptionStyleModel",
          "model_module_version": "1.5.0",
          "state": {
            "_model_module": "@jupyter-widgets/controls",
            "_model_module_version": "1.5.0",
            "_model_name": "DescriptionStyleModel",
            "_view_count": null,
            "_view_module": "@jupyter-widgets/base",
            "_view_module_version": "1.2.0",
            "_view_name": "StyleView",
            "description_width": ""
          }
        },
        "9338574e30b541e99b2c2630781b08d3": {
          "model_module": "@jupyter-widgets/controls",
          "model_name": "HBoxModel",
          "model_module_version": "1.5.0",
          "state": {
            "_dom_classes": [],
            "_model_module": "@jupyter-widgets/controls",
            "_model_module_version": "1.5.0",
            "_model_name": "HBoxModel",
            "_view_count": null,
            "_view_module": "@jupyter-widgets/controls",
            "_view_module_version": "1.5.0",
            "_view_name": "HBoxView",
            "box_style": "",
            "children": [
              "IPY_MODEL_ad25f437895c48c491e2e5abe4ea1c58",
              "IPY_MODEL_16362032199d42e3a2a9dab4dc644210",
              "IPY_MODEL_d7ce25ce29cf448a8e1928df96a77da3"
            ],
            "layout": "IPY_MODEL_5ce405a9039b4f81a485856860c267bb"
          }
        },
        "ad25f437895c48c491e2e5abe4ea1c58": {
          "model_module": "@jupyter-widgets/controls",
          "model_name": "HTMLModel",
          "model_module_version": "1.5.0",
          "state": {
            "_dom_classes": [],
            "_model_module": "@jupyter-widgets/controls",
            "_model_module_version": "1.5.0",
            "_model_name": "HTMLModel",
            "_view_count": null,
            "_view_module": "@jupyter-widgets/controls",
            "_view_module_version": "1.5.0",
            "_view_name": "HTMLView",
            "description": "",
            "description_tooltip": null,
            "layout": "IPY_MODEL_1fa2149c0404413488c7fc3d88aa950d",
            "placeholder": "​",
            "style": "IPY_MODEL_2340bc5aa92b42bbaf4de2306603707f",
            "value": ""
          }
        },
        "16362032199d42e3a2a9dab4dc644210": {
          "model_module": "@jupyter-widgets/controls",
          "model_name": "FloatProgressModel",
          "model_module_version": "1.5.0",
          "state": {
            "_dom_classes": [],
            "_model_module": "@jupyter-widgets/controls",
            "_model_module_version": "1.5.0",
            "_model_name": "FloatProgressModel",
            "_view_count": null,
            "_view_module": "@jupyter-widgets/controls",
            "_view_module_version": "1.5.0",
            "_view_name": "ProgressView",
            "bar_style": "success",
            "description": "",
            "description_tooltip": null,
            "layout": "IPY_MODEL_2b28b96197ae42c3b2ecf764b3ac3bd2",
            "max": 28881,
            "min": 0,
            "orientation": "horizontal",
            "style": "IPY_MODEL_4bc853ba97364a3a92d577d9ce41e471",
            "value": 28881
          }
        },
        "d7ce25ce29cf448a8e1928df96a77da3": {
          "model_module": "@jupyter-widgets/controls",
          "model_name": "HTMLModel",
          "model_module_version": "1.5.0",
          "state": {
            "_dom_classes": [],
            "_model_module": "@jupyter-widgets/controls",
            "_model_module_version": "1.5.0",
            "_model_name": "HTMLModel",
            "_view_count": null,
            "_view_module": "@jupyter-widgets/controls",
            "_view_module_version": "1.5.0",
            "_view_name": "HTMLView",
            "description": "",
            "description_tooltip": null,
            "layout": "IPY_MODEL_79698cde57ad40f789cdcdf6c5664010",
            "placeholder": "​",
            "style": "IPY_MODEL_b50751b7cc60471eaea7d955cbfe11f1",
            "value": " 29696/? [00:00&lt;00:00, 835266.14it/s]"
          }
        },
        "5ce405a9039b4f81a485856860c267bb": {
          "model_module": "@jupyter-widgets/base",
          "model_name": "LayoutModel",
          "model_module_version": "1.2.0",
          "state": {
            "_model_module": "@jupyter-widgets/base",
            "_model_module_version": "1.2.0",
            "_model_name": "LayoutModel",
            "_view_count": null,
            "_view_module": "@jupyter-widgets/base",
            "_view_module_version": "1.2.0",
            "_view_name": "LayoutView",
            "align_content": null,
            "align_items": null,
            "align_self": null,
            "border": null,
            "bottom": null,
            "display": null,
            "flex": null,
            "flex_flow": null,
            "grid_area": null,
            "grid_auto_columns": null,
            "grid_auto_flow": null,
            "grid_auto_rows": null,
            "grid_column": null,
            "grid_gap": null,
            "grid_row": null,
            "grid_template_areas": null,
            "grid_template_columns": null,
            "grid_template_rows": null,
            "height": null,
            "justify_content": null,
            "justify_items": null,
            "left": null,
            "margin": null,
            "max_height": null,
            "max_width": null,
            "min_height": null,
            "min_width": null,
            "object_fit": null,
            "object_position": null,
            "order": null,
            "overflow": null,
            "overflow_x": null,
            "overflow_y": null,
            "padding": null,
            "right": null,
            "top": null,
            "visibility": null,
            "width": null
          }
        },
        "1fa2149c0404413488c7fc3d88aa950d": {
          "model_module": "@jupyter-widgets/base",
          "model_name": "LayoutModel",
          "model_module_version": "1.2.0",
          "state": {
            "_model_module": "@jupyter-widgets/base",
            "_model_module_version": "1.2.0",
            "_model_name": "LayoutModel",
            "_view_count": null,
            "_view_module": "@jupyter-widgets/base",
            "_view_module_version": "1.2.0",
            "_view_name": "LayoutView",
            "align_content": null,
            "align_items": null,
            "align_self": null,
            "border": null,
            "bottom": null,
            "display": null,
            "flex": null,
            "flex_flow": null,
            "grid_area": null,
            "grid_auto_columns": null,
            "grid_auto_flow": null,
            "grid_auto_rows": null,
            "grid_column": null,
            "grid_gap": null,
            "grid_row": null,
            "grid_template_areas": null,
            "grid_template_columns": null,
            "grid_template_rows": null,
            "height": null,
            "justify_content": null,
            "justify_items": null,
            "left": null,
            "margin": null,
            "max_height": null,
            "max_width": null,
            "min_height": null,
            "min_width": null,
            "object_fit": null,
            "object_position": null,
            "order": null,
            "overflow": null,
            "overflow_x": null,
            "overflow_y": null,
            "padding": null,
            "right": null,
            "top": null,
            "visibility": null,
            "width": null
          }
        },
        "2340bc5aa92b42bbaf4de2306603707f": {
          "model_module": "@jupyter-widgets/controls",
          "model_name": "DescriptionStyleModel",
          "model_module_version": "1.5.0",
          "state": {
            "_model_module": "@jupyter-widgets/controls",
            "_model_module_version": "1.5.0",
            "_model_name": "DescriptionStyleModel",
            "_view_count": null,
            "_view_module": "@jupyter-widgets/base",
            "_view_module_version": "1.2.0",
            "_view_name": "StyleView",
            "description_width": ""
          }
        },
        "2b28b96197ae42c3b2ecf764b3ac3bd2": {
          "model_module": "@jupyter-widgets/base",
          "model_name": "LayoutModel",
          "model_module_version": "1.2.0",
          "state": {
            "_model_module": "@jupyter-widgets/base",
            "_model_module_version": "1.2.0",
            "_model_name": "LayoutModel",
            "_view_count": null,
            "_view_module": "@jupyter-widgets/base",
            "_view_module_version": "1.2.0",
            "_view_name": "LayoutView",
            "align_content": null,
            "align_items": null,
            "align_self": null,
            "border": null,
            "bottom": null,
            "display": null,
            "flex": null,
            "flex_flow": null,
            "grid_area": null,
            "grid_auto_columns": null,
            "grid_auto_flow": null,
            "grid_auto_rows": null,
            "grid_column": null,
            "grid_gap": null,
            "grid_row": null,
            "grid_template_areas": null,
            "grid_template_columns": null,
            "grid_template_rows": null,
            "height": null,
            "justify_content": null,
            "justify_items": null,
            "left": null,
            "margin": null,
            "max_height": null,
            "max_width": null,
            "min_height": null,
            "min_width": null,
            "object_fit": null,
            "object_position": null,
            "order": null,
            "overflow": null,
            "overflow_x": null,
            "overflow_y": null,
            "padding": null,
            "right": null,
            "top": null,
            "visibility": null,
            "width": null
          }
        },
        "4bc853ba97364a3a92d577d9ce41e471": {
          "model_module": "@jupyter-widgets/controls",
          "model_name": "ProgressStyleModel",
          "model_module_version": "1.5.0",
          "state": {
            "_model_module": "@jupyter-widgets/controls",
            "_model_module_version": "1.5.0",
            "_model_name": "ProgressStyleModel",
            "_view_count": null,
            "_view_module": "@jupyter-widgets/base",
            "_view_module_version": "1.2.0",
            "_view_name": "StyleView",
            "bar_color": null,
            "description_width": ""
          }
        },
        "79698cde57ad40f789cdcdf6c5664010": {
          "model_module": "@jupyter-widgets/base",
          "model_name": "LayoutModel",
          "model_module_version": "1.2.0",
          "state": {
            "_model_module": "@jupyter-widgets/base",
            "_model_module_version": "1.2.0",
            "_model_name": "LayoutModel",
            "_view_count": null,
            "_view_module": "@jupyter-widgets/base",
            "_view_module_version": "1.2.0",
            "_view_name": "LayoutView",
            "align_content": null,
            "align_items": null,
            "align_self": null,
            "border": null,
            "bottom": null,
            "display": null,
            "flex": null,
            "flex_flow": null,
            "grid_area": null,
            "grid_auto_columns": null,
            "grid_auto_flow": null,
            "grid_auto_rows": null,
            "grid_column": null,
            "grid_gap": null,
            "grid_row": null,
            "grid_template_areas": null,
            "grid_template_columns": null,
            "grid_template_rows": null,
            "height": null,
            "justify_content": null,
            "justify_items": null,
            "left": null,
            "margin": null,
            "max_height": null,
            "max_width": null,
            "min_height": null,
            "min_width": null,
            "object_fit": null,
            "object_position": null,
            "order": null,
            "overflow": null,
            "overflow_x": null,
            "overflow_y": null,
            "padding": null,
            "right": null,
            "top": null,
            "visibility": null,
            "width": null
          }
        },
        "b50751b7cc60471eaea7d955cbfe11f1": {
          "model_module": "@jupyter-widgets/controls",
          "model_name": "DescriptionStyleModel",
          "model_module_version": "1.5.0",
          "state": {
            "_model_module": "@jupyter-widgets/controls",
            "_model_module_version": "1.5.0",
            "_model_name": "DescriptionStyleModel",
            "_view_count": null,
            "_view_module": "@jupyter-widgets/base",
            "_view_module_version": "1.2.0",
            "_view_name": "StyleView",
            "description_width": ""
          }
        },
        "3c35ea6d8fe745f2b382659d5cbd5f2d": {
          "model_module": "@jupyter-widgets/controls",
          "model_name": "HBoxModel",
          "model_module_version": "1.5.0",
          "state": {
            "_dom_classes": [],
            "_model_module": "@jupyter-widgets/controls",
            "_model_module_version": "1.5.0",
            "_model_name": "HBoxModel",
            "_view_count": null,
            "_view_module": "@jupyter-widgets/controls",
            "_view_module_version": "1.5.0",
            "_view_name": "HBoxView",
            "box_style": "",
            "children": [
              "IPY_MODEL_8442f2a55f5e43a08917da1497bbb5b8",
              "IPY_MODEL_d417a0e2938a40e5bf52e1ea63bbf1a0",
              "IPY_MODEL_64b3b3f337a04a0daead50af7cb29cf7"
            ],
            "layout": "IPY_MODEL_b09ff31730044a228803671cc3ce5465"
          }
        },
        "8442f2a55f5e43a08917da1497bbb5b8": {
          "model_module": "@jupyter-widgets/controls",
          "model_name": "HTMLModel",
          "model_module_version": "1.5.0",
          "state": {
            "_dom_classes": [],
            "_model_module": "@jupyter-widgets/controls",
            "_model_module_version": "1.5.0",
            "_model_name": "HTMLModel",
            "_view_count": null,
            "_view_module": "@jupyter-widgets/controls",
            "_view_module_version": "1.5.0",
            "_view_name": "HTMLView",
            "description": "",
            "description_tooltip": null,
            "layout": "IPY_MODEL_55f2474437114db4854e1b627879c3ab",
            "placeholder": "​",
            "style": "IPY_MODEL_28abc2d6af484f038ceb74ce318fd9d7",
            "value": ""
          }
        },
        "d417a0e2938a40e5bf52e1ea63bbf1a0": {
          "model_module": "@jupyter-widgets/controls",
          "model_name": "FloatProgressModel",
          "model_module_version": "1.5.0",
          "state": {
            "_dom_classes": [],
            "_model_module": "@jupyter-widgets/controls",
            "_model_module_version": "1.5.0",
            "_model_name": "FloatProgressModel",
            "_view_count": null,
            "_view_module": "@jupyter-widgets/controls",
            "_view_module_version": "1.5.0",
            "_view_name": "ProgressView",
            "bar_style": "success",
            "description": "",
            "description_tooltip": null,
            "layout": "IPY_MODEL_195ad33c8d304235aab108b46a6fc08b",
            "max": 1648877,
            "min": 0,
            "orientation": "horizontal",
            "style": "IPY_MODEL_b32fa3892b534ff1b7a9f4ae29d1625d",
            "value": 1648877
          }
        },
        "64b3b3f337a04a0daead50af7cb29cf7": {
          "model_module": "@jupyter-widgets/controls",
          "model_name": "HTMLModel",
          "model_module_version": "1.5.0",
          "state": {
            "_dom_classes": [],
            "_model_module": "@jupyter-widgets/controls",
            "_model_module_version": "1.5.0",
            "_model_name": "HTMLModel",
            "_view_count": null,
            "_view_module": "@jupyter-widgets/controls",
            "_view_module_version": "1.5.0",
            "_view_name": "HTMLView",
            "description": "",
            "description_tooltip": null,
            "layout": "IPY_MODEL_fdb0745e557e4b2cad6990cad219d8cd",
            "placeholder": "​",
            "style": "IPY_MODEL_682ed09916f64e6db9356d2390ff161b",
            "value": " 1649664/? [00:00&lt;00:00, 4142037.92it/s]"
          }
        },
        "b09ff31730044a228803671cc3ce5465": {
          "model_module": "@jupyter-widgets/base",
          "model_name": "LayoutModel",
          "model_module_version": "1.2.0",
          "state": {
            "_model_module": "@jupyter-widgets/base",
            "_model_module_version": "1.2.0",
            "_model_name": "LayoutModel",
            "_view_count": null,
            "_view_module": "@jupyter-widgets/base",
            "_view_module_version": "1.2.0",
            "_view_name": "LayoutView",
            "align_content": null,
            "align_items": null,
            "align_self": null,
            "border": null,
            "bottom": null,
            "display": null,
            "flex": null,
            "flex_flow": null,
            "grid_area": null,
            "grid_auto_columns": null,
            "grid_auto_flow": null,
            "grid_auto_rows": null,
            "grid_column": null,
            "grid_gap": null,
            "grid_row": null,
            "grid_template_areas": null,
            "grid_template_columns": null,
            "grid_template_rows": null,
            "height": null,
            "justify_content": null,
            "justify_items": null,
            "left": null,
            "margin": null,
            "max_height": null,
            "max_width": null,
            "min_height": null,
            "min_width": null,
            "object_fit": null,
            "object_position": null,
            "order": null,
            "overflow": null,
            "overflow_x": null,
            "overflow_y": null,
            "padding": null,
            "right": null,
            "top": null,
            "visibility": null,
            "width": null
          }
        },
        "55f2474437114db4854e1b627879c3ab": {
          "model_module": "@jupyter-widgets/base",
          "model_name": "LayoutModel",
          "model_module_version": "1.2.0",
          "state": {
            "_model_module": "@jupyter-widgets/base",
            "_model_module_version": "1.2.0",
            "_model_name": "LayoutModel",
            "_view_count": null,
            "_view_module": "@jupyter-widgets/base",
            "_view_module_version": "1.2.0",
            "_view_name": "LayoutView",
            "align_content": null,
            "align_items": null,
            "align_self": null,
            "border": null,
            "bottom": null,
            "display": null,
            "flex": null,
            "flex_flow": null,
            "grid_area": null,
            "grid_auto_columns": null,
            "grid_auto_flow": null,
            "grid_auto_rows": null,
            "grid_column": null,
            "grid_gap": null,
            "grid_row": null,
            "grid_template_areas": null,
            "grid_template_columns": null,
            "grid_template_rows": null,
            "height": null,
            "justify_content": null,
            "justify_items": null,
            "left": null,
            "margin": null,
            "max_height": null,
            "max_width": null,
            "min_height": null,
            "min_width": null,
            "object_fit": null,
            "object_position": null,
            "order": null,
            "overflow": null,
            "overflow_x": null,
            "overflow_y": null,
            "padding": null,
            "right": null,
            "top": null,
            "visibility": null,
            "width": null
          }
        },
        "28abc2d6af484f038ceb74ce318fd9d7": {
          "model_module": "@jupyter-widgets/controls",
          "model_name": "DescriptionStyleModel",
          "model_module_version": "1.5.0",
          "state": {
            "_model_module": "@jupyter-widgets/controls",
            "_model_module_version": "1.5.0",
            "_model_name": "DescriptionStyleModel",
            "_view_count": null,
            "_view_module": "@jupyter-widgets/base",
            "_view_module_version": "1.2.0",
            "_view_name": "StyleView",
            "description_width": ""
          }
        },
        "195ad33c8d304235aab108b46a6fc08b": {
          "model_module": "@jupyter-widgets/base",
          "model_name": "LayoutModel",
          "model_module_version": "1.2.0",
          "state": {
            "_model_module": "@jupyter-widgets/base",
            "_model_module_version": "1.2.0",
            "_model_name": "LayoutModel",
            "_view_count": null,
            "_view_module": "@jupyter-widgets/base",
            "_view_module_version": "1.2.0",
            "_view_name": "LayoutView",
            "align_content": null,
            "align_items": null,
            "align_self": null,
            "border": null,
            "bottom": null,
            "display": null,
            "flex": null,
            "flex_flow": null,
            "grid_area": null,
            "grid_auto_columns": null,
            "grid_auto_flow": null,
            "grid_auto_rows": null,
            "grid_column": null,
            "grid_gap": null,
            "grid_row": null,
            "grid_template_areas": null,
            "grid_template_columns": null,
            "grid_template_rows": null,
            "height": null,
            "justify_content": null,
            "justify_items": null,
            "left": null,
            "margin": null,
            "max_height": null,
            "max_width": null,
            "min_height": null,
            "min_width": null,
            "object_fit": null,
            "object_position": null,
            "order": null,
            "overflow": null,
            "overflow_x": null,
            "overflow_y": null,
            "padding": null,
            "right": null,
            "top": null,
            "visibility": null,
            "width": null
          }
        },
        "b32fa3892b534ff1b7a9f4ae29d1625d": {
          "model_module": "@jupyter-widgets/controls",
          "model_name": "ProgressStyleModel",
          "model_module_version": "1.5.0",
          "state": {
            "_model_module": "@jupyter-widgets/controls",
            "_model_module_version": "1.5.0",
            "_model_name": "ProgressStyleModel",
            "_view_count": null,
            "_view_module": "@jupyter-widgets/base",
            "_view_module_version": "1.2.0",
            "_view_name": "StyleView",
            "bar_color": null,
            "description_width": ""
          }
        },
        "fdb0745e557e4b2cad6990cad219d8cd": {
          "model_module": "@jupyter-widgets/base",
          "model_name": "LayoutModel",
          "model_module_version": "1.2.0",
          "state": {
            "_model_module": "@jupyter-widgets/base",
            "_model_module_version": "1.2.0",
            "_model_name": "LayoutModel",
            "_view_count": null,
            "_view_module": "@jupyter-widgets/base",
            "_view_module_version": "1.2.0",
            "_view_name": "LayoutView",
            "align_content": null,
            "align_items": null,
            "align_self": null,
            "border": null,
            "bottom": null,
            "display": null,
            "flex": null,
            "flex_flow": null,
            "grid_area": null,
            "grid_auto_columns": null,
            "grid_auto_flow": null,
            "grid_auto_rows": null,
            "grid_column": null,
            "grid_gap": null,
            "grid_row": null,
            "grid_template_areas": null,
            "grid_template_columns": null,
            "grid_template_rows": null,
            "height": null,
            "justify_content": null,
            "justify_items": null,
            "left": null,
            "margin": null,
            "max_height": null,
            "max_width": null,
            "min_height": null,
            "min_width": null,
            "object_fit": null,
            "object_position": null,
            "order": null,
            "overflow": null,
            "overflow_x": null,
            "overflow_y": null,
            "padding": null,
            "right": null,
            "top": null,
            "visibility": null,
            "width": null
          }
        },
        "682ed09916f64e6db9356d2390ff161b": {
          "model_module": "@jupyter-widgets/controls",
          "model_name": "DescriptionStyleModel",
          "model_module_version": "1.5.0",
          "state": {
            "_model_module": "@jupyter-widgets/controls",
            "_model_module_version": "1.5.0",
            "_model_name": "DescriptionStyleModel",
            "_view_count": null,
            "_view_module": "@jupyter-widgets/base",
            "_view_module_version": "1.2.0",
            "_view_name": "StyleView",
            "description_width": ""
          }
        },
        "2863fd1e059d461082ad8ca0efa101d6": {
          "model_module": "@jupyter-widgets/controls",
          "model_name": "HBoxModel",
          "model_module_version": "1.5.0",
          "state": {
            "_dom_classes": [],
            "_model_module": "@jupyter-widgets/controls",
            "_model_module_version": "1.5.0",
            "_model_name": "HBoxModel",
            "_view_count": null,
            "_view_module": "@jupyter-widgets/controls",
            "_view_module_version": "1.5.0",
            "_view_name": "HBoxView",
            "box_style": "",
            "children": [
              "IPY_MODEL_b4386edb6fc846728262cf8649e18474",
              "IPY_MODEL_8bf240ea0e2a4402bc5b8e0526c59ef2",
              "IPY_MODEL_3dd4c798c3fc4c208061daf505bb26a9"
            ],
            "layout": "IPY_MODEL_5520f52516554a118a5e143bfcd48a78"
          }
        },
        "b4386edb6fc846728262cf8649e18474": {
          "model_module": "@jupyter-widgets/controls",
          "model_name": "HTMLModel",
          "model_module_version": "1.5.0",
          "state": {
            "_dom_classes": [],
            "_model_module": "@jupyter-widgets/controls",
            "_model_module_version": "1.5.0",
            "_model_name": "HTMLModel",
            "_view_count": null,
            "_view_module": "@jupyter-widgets/controls",
            "_view_module_version": "1.5.0",
            "_view_name": "HTMLView",
            "description": "",
            "description_tooltip": null,
            "layout": "IPY_MODEL_9666f99f9d3a4f0792ee0af9d9363df6",
            "placeholder": "​",
            "style": "IPY_MODEL_b418adabfb144992a2608d0bada6e60a",
            "value": ""
          }
        },
        "8bf240ea0e2a4402bc5b8e0526c59ef2": {
          "model_module": "@jupyter-widgets/controls",
          "model_name": "FloatProgressModel",
          "model_module_version": "1.5.0",
          "state": {
            "_dom_classes": [],
            "_model_module": "@jupyter-widgets/controls",
            "_model_module_version": "1.5.0",
            "_model_name": "FloatProgressModel",
            "_view_count": null,
            "_view_module": "@jupyter-widgets/controls",
            "_view_module_version": "1.5.0",
            "_view_name": "ProgressView",
            "bar_style": "success",
            "description": "",
            "description_tooltip": null,
            "layout": "IPY_MODEL_08afee8621f94db98e115ad638b13f42",
            "max": 4542,
            "min": 0,
            "orientation": "horizontal",
            "style": "IPY_MODEL_e412935b9f31403c8acfa0523b54afc4",
            "value": 4542
          }
        },
        "3dd4c798c3fc4c208061daf505bb26a9": {
          "model_module": "@jupyter-widgets/controls",
          "model_name": "HTMLModel",
          "model_module_version": "1.5.0",
          "state": {
            "_dom_classes": [],
            "_model_module": "@jupyter-widgets/controls",
            "_model_module_version": "1.5.0",
            "_model_name": "HTMLModel",
            "_view_count": null,
            "_view_module": "@jupyter-widgets/controls",
            "_view_module_version": "1.5.0",
            "_view_name": "HTMLView",
            "description": "",
            "description_tooltip": null,
            "layout": "IPY_MODEL_b948cab330e04d1ea17142a1cb34ee70",
            "placeholder": "​",
            "style": "IPY_MODEL_be63fa9a97164bf594140fb71a01d170",
            "value": " 5120/? [00:00&lt;00:00, 159865.08it/s]"
          }
        },
        "5520f52516554a118a5e143bfcd48a78": {
          "model_module": "@jupyter-widgets/base",
          "model_name": "LayoutModel",
          "model_module_version": "1.2.0",
          "state": {
            "_model_module": "@jupyter-widgets/base",
            "_model_module_version": "1.2.0",
            "_model_name": "LayoutModel",
            "_view_count": null,
            "_view_module": "@jupyter-widgets/base",
            "_view_module_version": "1.2.0",
            "_view_name": "LayoutView",
            "align_content": null,
            "align_items": null,
            "align_self": null,
            "border": null,
            "bottom": null,
            "display": null,
            "flex": null,
            "flex_flow": null,
            "grid_area": null,
            "grid_auto_columns": null,
            "grid_auto_flow": null,
            "grid_auto_rows": null,
            "grid_column": null,
            "grid_gap": null,
            "grid_row": null,
            "grid_template_areas": null,
            "grid_template_columns": null,
            "grid_template_rows": null,
            "height": null,
            "justify_content": null,
            "justify_items": null,
            "left": null,
            "margin": null,
            "max_height": null,
            "max_width": null,
            "min_height": null,
            "min_width": null,
            "object_fit": null,
            "object_position": null,
            "order": null,
            "overflow": null,
            "overflow_x": null,
            "overflow_y": null,
            "padding": null,
            "right": null,
            "top": null,
            "visibility": null,
            "width": null
          }
        },
        "9666f99f9d3a4f0792ee0af9d9363df6": {
          "model_module": "@jupyter-widgets/base",
          "model_name": "LayoutModel",
          "model_module_version": "1.2.0",
          "state": {
            "_model_module": "@jupyter-widgets/base",
            "_model_module_version": "1.2.0",
            "_model_name": "LayoutModel",
            "_view_count": null,
            "_view_module": "@jupyter-widgets/base",
            "_view_module_version": "1.2.0",
            "_view_name": "LayoutView",
            "align_content": null,
            "align_items": null,
            "align_self": null,
            "border": null,
            "bottom": null,
            "display": null,
            "flex": null,
            "flex_flow": null,
            "grid_area": null,
            "grid_auto_columns": null,
            "grid_auto_flow": null,
            "grid_auto_rows": null,
            "grid_column": null,
            "grid_gap": null,
            "grid_row": null,
            "grid_template_areas": null,
            "grid_template_columns": null,
            "grid_template_rows": null,
            "height": null,
            "justify_content": null,
            "justify_items": null,
            "left": null,
            "margin": null,
            "max_height": null,
            "max_width": null,
            "min_height": null,
            "min_width": null,
            "object_fit": null,
            "object_position": null,
            "order": null,
            "overflow": null,
            "overflow_x": null,
            "overflow_y": null,
            "padding": null,
            "right": null,
            "top": null,
            "visibility": null,
            "width": null
          }
        },
        "b418adabfb144992a2608d0bada6e60a": {
          "model_module": "@jupyter-widgets/controls",
          "model_name": "DescriptionStyleModel",
          "model_module_version": "1.5.0",
          "state": {
            "_model_module": "@jupyter-widgets/controls",
            "_model_module_version": "1.5.0",
            "_model_name": "DescriptionStyleModel",
            "_view_count": null,
            "_view_module": "@jupyter-widgets/base",
            "_view_module_version": "1.2.0",
            "_view_name": "StyleView",
            "description_width": ""
          }
        },
        "08afee8621f94db98e115ad638b13f42": {
          "model_module": "@jupyter-widgets/base",
          "model_name": "LayoutModel",
          "model_module_version": "1.2.0",
          "state": {
            "_model_module": "@jupyter-widgets/base",
            "_model_module_version": "1.2.0",
            "_model_name": "LayoutModel",
            "_view_count": null,
            "_view_module": "@jupyter-widgets/base",
            "_view_module_version": "1.2.0",
            "_view_name": "LayoutView",
            "align_content": null,
            "align_items": null,
            "align_self": null,
            "border": null,
            "bottom": null,
            "display": null,
            "flex": null,
            "flex_flow": null,
            "grid_area": null,
            "grid_auto_columns": null,
            "grid_auto_flow": null,
            "grid_auto_rows": null,
            "grid_column": null,
            "grid_gap": null,
            "grid_row": null,
            "grid_template_areas": null,
            "grid_template_columns": null,
            "grid_template_rows": null,
            "height": null,
            "justify_content": null,
            "justify_items": null,
            "left": null,
            "margin": null,
            "max_height": null,
            "max_width": null,
            "min_height": null,
            "min_width": null,
            "object_fit": null,
            "object_position": null,
            "order": null,
            "overflow": null,
            "overflow_x": null,
            "overflow_y": null,
            "padding": null,
            "right": null,
            "top": null,
            "visibility": null,
            "width": null
          }
        },
        "e412935b9f31403c8acfa0523b54afc4": {
          "model_module": "@jupyter-widgets/controls",
          "model_name": "ProgressStyleModel",
          "model_module_version": "1.5.0",
          "state": {
            "_model_module": "@jupyter-widgets/controls",
            "_model_module_version": "1.5.0",
            "_model_name": "ProgressStyleModel",
            "_view_count": null,
            "_view_module": "@jupyter-widgets/base",
            "_view_module_version": "1.2.0",
            "_view_name": "StyleView",
            "bar_color": null,
            "description_width": ""
          }
        },
        "b948cab330e04d1ea17142a1cb34ee70": {
          "model_module": "@jupyter-widgets/base",
          "model_name": "LayoutModel",
          "model_module_version": "1.2.0",
          "state": {
            "_model_module": "@jupyter-widgets/base",
            "_model_module_version": "1.2.0",
            "_model_name": "LayoutModel",
            "_view_count": null,
            "_view_module": "@jupyter-widgets/base",
            "_view_module_version": "1.2.0",
            "_view_name": "LayoutView",
            "align_content": null,
            "align_items": null,
            "align_self": null,
            "border": null,
            "bottom": null,
            "display": null,
            "flex": null,
            "flex_flow": null,
            "grid_area": null,
            "grid_auto_columns": null,
            "grid_auto_flow": null,
            "grid_auto_rows": null,
            "grid_column": null,
            "grid_gap": null,
            "grid_row": null,
            "grid_template_areas": null,
            "grid_template_columns": null,
            "grid_template_rows": null,
            "height": null,
            "justify_content": null,
            "justify_items": null,
            "left": null,
            "margin": null,
            "max_height": null,
            "max_width": null,
            "min_height": null,
            "min_width": null,
            "object_fit": null,
            "object_position": null,
            "order": null,
            "overflow": null,
            "overflow_x": null,
            "overflow_y": null,
            "padding": null,
            "right": null,
            "top": null,
            "visibility": null,
            "width": null
          }
        },
        "be63fa9a97164bf594140fb71a01d170": {
          "model_module": "@jupyter-widgets/controls",
          "model_name": "DescriptionStyleModel",
          "model_module_version": "1.5.0",
          "state": {
            "_model_module": "@jupyter-widgets/controls",
            "_model_module_version": "1.5.0",
            "_model_name": "DescriptionStyleModel",
            "_view_count": null,
            "_view_module": "@jupyter-widgets/base",
            "_view_module_version": "1.2.0",
            "_view_name": "StyleView",
            "description_width": ""
          }
        },
        "f8210482a9464e63b0aebd13ee95c4f1": {
          "model_module": "@jupyter-widgets/controls",
          "model_name": "HBoxModel",
          "model_module_version": "1.5.0",
          "state": {
            "_dom_classes": [],
            "_model_module": "@jupyter-widgets/controls",
            "_model_module_version": "1.5.0",
            "_model_name": "HBoxModel",
            "_view_count": null,
            "_view_module": "@jupyter-widgets/controls",
            "_view_module_version": "1.5.0",
            "_view_name": "HBoxView",
            "box_style": "",
            "children": [
              "IPY_MODEL_df79bfb2260f435492d46841bd39e317",
              "IPY_MODEL_57eb8d6c56d6471a934f74c51cb4996e",
              "IPY_MODEL_fd6dd21fc7f34f95a1e6a3e58b3d3961"
            ],
            "layout": "IPY_MODEL_e89bf60f822e43a09fd334d5892808e9"
          }
        },
        "df79bfb2260f435492d46841bd39e317": {
          "model_module": "@jupyter-widgets/controls",
          "model_name": "HTMLModel",
          "model_module_version": "1.5.0",
          "state": {
            "_dom_classes": [],
            "_model_module": "@jupyter-widgets/controls",
            "_model_module_version": "1.5.0",
            "_model_name": "HTMLModel",
            "_view_count": null,
            "_view_module": "@jupyter-widgets/controls",
            "_view_module_version": "1.5.0",
            "_view_name": "HTMLView",
            "description": "",
            "description_tooltip": null,
            "layout": "IPY_MODEL_868598f6525f485ea64cdeafe9b481ad",
            "placeholder": "​",
            "style": "IPY_MODEL_82570fbf1732442c8976dc579b4568df",
            "value": ""
          }
        },
        "57eb8d6c56d6471a934f74c51cb4996e": {
          "model_module": "@jupyter-widgets/controls",
          "model_name": "FloatProgressModel",
          "model_module_version": "1.5.0",
          "state": {
            "_dom_classes": [],
            "_model_module": "@jupyter-widgets/controls",
            "_model_module_version": "1.5.0",
            "_model_name": "FloatProgressModel",
            "_view_count": null,
            "_view_module": "@jupyter-widgets/controls",
            "_view_module_version": "1.5.0",
            "_view_name": "ProgressView",
            "bar_style": "success",
            "description": "",
            "description_tooltip": null,
            "layout": "IPY_MODEL_190d4cdfa9c54fff89e209a23a4acf6b",
            "max": 170498071,
            "min": 0,
            "orientation": "horizontal",
            "style": "IPY_MODEL_71a3211a48824259b362571c9f7e69a8",
            "value": 170498071
          }
        },
        "fd6dd21fc7f34f95a1e6a3e58b3d3961": {
          "model_module": "@jupyter-widgets/controls",
          "model_name": "HTMLModel",
          "model_module_version": "1.5.0",
          "state": {
            "_dom_classes": [],
            "_model_module": "@jupyter-widgets/controls",
            "_model_module_version": "1.5.0",
            "_model_name": "HTMLModel",
            "_view_count": null,
            "_view_module": "@jupyter-widgets/controls",
            "_view_module_version": "1.5.0",
            "_view_name": "HTMLView",
            "description": "",
            "description_tooltip": null,
            "layout": "IPY_MODEL_2cd978d16c634bd7ae24ecde22301c1b",
            "placeholder": "​",
            "style": "IPY_MODEL_0416097e985d4ab68d95cfe837a66863",
            "value": " 170499072/? [00:13&lt;00:00, 12963121.50it/s]"
          }
        },
        "e89bf60f822e43a09fd334d5892808e9": {
          "model_module": "@jupyter-widgets/base",
          "model_name": "LayoutModel",
          "model_module_version": "1.2.0",
          "state": {
            "_model_module": "@jupyter-widgets/base",
            "_model_module_version": "1.2.0",
            "_model_name": "LayoutModel",
            "_view_count": null,
            "_view_module": "@jupyter-widgets/base",
            "_view_module_version": "1.2.0",
            "_view_name": "LayoutView",
            "align_content": null,
            "align_items": null,
            "align_self": null,
            "border": null,
            "bottom": null,
            "display": null,
            "flex": null,
            "flex_flow": null,
            "grid_area": null,
            "grid_auto_columns": null,
            "grid_auto_flow": null,
            "grid_auto_rows": null,
            "grid_column": null,
            "grid_gap": null,
            "grid_row": null,
            "grid_template_areas": null,
            "grid_template_columns": null,
            "grid_template_rows": null,
            "height": null,
            "justify_content": null,
            "justify_items": null,
            "left": null,
            "margin": null,
            "max_height": null,
            "max_width": null,
            "min_height": null,
            "min_width": null,
            "object_fit": null,
            "object_position": null,
            "order": null,
            "overflow": null,
            "overflow_x": null,
            "overflow_y": null,
            "padding": null,
            "right": null,
            "top": null,
            "visibility": null,
            "width": null
          }
        },
        "868598f6525f485ea64cdeafe9b481ad": {
          "model_module": "@jupyter-widgets/base",
          "model_name": "LayoutModel",
          "model_module_version": "1.2.0",
          "state": {
            "_model_module": "@jupyter-widgets/base",
            "_model_module_version": "1.2.0",
            "_model_name": "LayoutModel",
            "_view_count": null,
            "_view_module": "@jupyter-widgets/base",
            "_view_module_version": "1.2.0",
            "_view_name": "LayoutView",
            "align_content": null,
            "align_items": null,
            "align_self": null,
            "border": null,
            "bottom": null,
            "display": null,
            "flex": null,
            "flex_flow": null,
            "grid_area": null,
            "grid_auto_columns": null,
            "grid_auto_flow": null,
            "grid_auto_rows": null,
            "grid_column": null,
            "grid_gap": null,
            "grid_row": null,
            "grid_template_areas": null,
            "grid_template_columns": null,
            "grid_template_rows": null,
            "height": null,
            "justify_content": null,
            "justify_items": null,
            "left": null,
            "margin": null,
            "max_height": null,
            "max_width": null,
            "min_height": null,
            "min_width": null,
            "object_fit": null,
            "object_position": null,
            "order": null,
            "overflow": null,
            "overflow_x": null,
            "overflow_y": null,
            "padding": null,
            "right": null,
            "top": null,
            "visibility": null,
            "width": null
          }
        },
        "82570fbf1732442c8976dc579b4568df": {
          "model_module": "@jupyter-widgets/controls",
          "model_name": "DescriptionStyleModel",
          "model_module_version": "1.5.0",
          "state": {
            "_model_module": "@jupyter-widgets/controls",
            "_model_module_version": "1.5.0",
            "_model_name": "DescriptionStyleModel",
            "_view_count": null,
            "_view_module": "@jupyter-widgets/base",
            "_view_module_version": "1.2.0",
            "_view_name": "StyleView",
            "description_width": ""
          }
        },
        "190d4cdfa9c54fff89e209a23a4acf6b": {
          "model_module": "@jupyter-widgets/base",
          "model_name": "LayoutModel",
          "model_module_version": "1.2.0",
          "state": {
            "_model_module": "@jupyter-widgets/base",
            "_model_module_version": "1.2.0",
            "_model_name": "LayoutModel",
            "_view_count": null,
            "_view_module": "@jupyter-widgets/base",
            "_view_module_version": "1.2.0",
            "_view_name": "LayoutView",
            "align_content": null,
            "align_items": null,
            "align_self": null,
            "border": null,
            "bottom": null,
            "display": null,
            "flex": null,
            "flex_flow": null,
            "grid_area": null,
            "grid_auto_columns": null,
            "grid_auto_flow": null,
            "grid_auto_rows": null,
            "grid_column": null,
            "grid_gap": null,
            "grid_row": null,
            "grid_template_areas": null,
            "grid_template_columns": null,
            "grid_template_rows": null,
            "height": null,
            "justify_content": null,
            "justify_items": null,
            "left": null,
            "margin": null,
            "max_height": null,
            "max_width": null,
            "min_height": null,
            "min_width": null,
            "object_fit": null,
            "object_position": null,
            "order": null,
            "overflow": null,
            "overflow_x": null,
            "overflow_y": null,
            "padding": null,
            "right": null,
            "top": null,
            "visibility": null,
            "width": null
          }
        },
        "71a3211a48824259b362571c9f7e69a8": {
          "model_module": "@jupyter-widgets/controls",
          "model_name": "ProgressStyleModel",
          "model_module_version": "1.5.0",
          "state": {
            "_model_module": "@jupyter-widgets/controls",
            "_model_module_version": "1.5.0",
            "_model_name": "ProgressStyleModel",
            "_view_count": null,
            "_view_module": "@jupyter-widgets/base",
            "_view_module_version": "1.2.0",
            "_view_name": "StyleView",
            "bar_color": null,
            "description_width": ""
          }
        },
        "2cd978d16c634bd7ae24ecde22301c1b": {
          "model_module": "@jupyter-widgets/base",
          "model_name": "LayoutModel",
          "model_module_version": "1.2.0",
          "state": {
            "_model_module": "@jupyter-widgets/base",
            "_model_module_version": "1.2.0",
            "_model_name": "LayoutModel",
            "_view_count": null,
            "_view_module": "@jupyter-widgets/base",
            "_view_module_version": "1.2.0",
            "_view_name": "LayoutView",
            "align_content": null,
            "align_items": null,
            "align_self": null,
            "border": null,
            "bottom": null,
            "display": null,
            "flex": null,
            "flex_flow": null,
            "grid_area": null,
            "grid_auto_columns": null,
            "grid_auto_flow": null,
            "grid_auto_rows": null,
            "grid_column": null,
            "grid_gap": null,
            "grid_row": null,
            "grid_template_areas": null,
            "grid_template_columns": null,
            "grid_template_rows": null,
            "height": null,
            "justify_content": null,
            "justify_items": null,
            "left": null,
            "margin": null,
            "max_height": null,
            "max_width": null,
            "min_height": null,
            "min_width": null,
            "object_fit": null,
            "object_position": null,
            "order": null,
            "overflow": null,
            "overflow_x": null,
            "overflow_y": null,
            "padding": null,
            "right": null,
            "top": null,
            "visibility": null,
            "width": null
          }
        },
        "0416097e985d4ab68d95cfe837a66863": {
          "model_module": "@jupyter-widgets/controls",
          "model_name": "DescriptionStyleModel",
          "model_module_version": "1.5.0",
          "state": {
            "_model_module": "@jupyter-widgets/controls",
            "_model_module_version": "1.5.0",
            "_model_name": "DescriptionStyleModel",
            "_view_count": null,
            "_view_module": "@jupyter-widgets/base",
            "_view_module_version": "1.2.0",
            "_view_name": "StyleView",
            "description_width": ""
          }
        }
      }
    }
  },
  "cells": [
    {
      "cell_type": "markdown",
      "metadata": {
        "id": "view-in-github",
        "colab_type": "text"
      },
      "source": [
        "<a href=\"https://colab.research.google.com/github/Beh-noush/General-Python/blob/main/MLP_and_conv_deepnets.ipynb\" target=\"_parent\"><img src=\"https://colab.research.google.com/assets/colab-badge.svg\" alt=\"Open In Colab\"/></a>"
      ]
    },
    {
      "cell_type": "markdown",
      "source": [
        "References for this code: https://github.com/Cours-EDUlib/IVADO-DL101/blob/master/tutorials/Day3_CNN_solutions.ipynb, https://pytorch.org/tutorials/beginner/transfer_learning_tutorial.html and https://github.com/likarajo/ant_bees/blob/main/ant_bees.ipynb."
      ],
      "metadata": {
        "id": "hUn888n8GItD"
      }
    },
    {
      "cell_type": "markdown",
      "source": [
        "#PART 1: MLP on MNIST"
      ],
      "metadata": {
        "id": "NsDXLKHdGKuN"
      }
    },
    {
      "cell_type": "code",
      "source": [
        "!pip install tensorly\n",
        "import tensorly as tl\n",
        "tl.set_backend('pytorch')"
      ],
      "metadata": {
        "id": "kl-cEq_OQUZ6",
        "outputId": "10a94c5c-609a-4fed-c841-ac0bd2bec85f",
        "colab": {
          "base_uri": "https://localhost:8080/"
        }
      },
      "execution_count": 1,
      "outputs": [
        {
          "output_type": "stream",
          "name": "stdout",
          "text": [
            "Requirement already satisfied: tensorly in /usr/local/lib/python3.7/dist-packages (0.7.0)\n",
            "Requirement already satisfied: scipy in /usr/local/lib/python3.7/dist-packages (from tensorly) (1.4.1)\n",
            "Requirement already satisfied: nose in /usr/local/lib/python3.7/dist-packages (from tensorly) (1.3.7)\n",
            "Requirement already satisfied: numpy in /usr/local/lib/python3.7/dist-packages (from tensorly) (1.21.6)\n"
          ]
        }
      ]
    },
    {
      "cell_type": "code",
      "execution_count": 2,
      "metadata": {
        "id": "2Oq1qP5Eeh0z"
      },
      "outputs": [],
      "source": [
        "import torch\n",
        "import torchvision\n",
        "import numpy as np\n",
        "import matplotlib.pyplot as plt\n",
        "import torch.nn as nn\n",
        "from torch.utils.data import dataloader\n",
        "import torch.nn.functional as F\n",
        "import torch.optim as optim\n",
        "from tqdm import tqdm\n",
        "seed = 1234\n",
        "np.random.seed(seed)\n",
        "torch.manual_seed(seed)\n",
        "torch.cuda.manual_seed(seed)"
      ]
    },
    {
      "cell_type": "code",
      "source": [
        "def plot_results(acc_list_train, acc_list_test, loss_list_train, loss_list_test):\n",
        "  plt.figure(figsize=(10,5))\n",
        "  plt.subplot(121)\n",
        "  plt.plot(acc_list_train,'blue',label = 'train')\n",
        "  plt.plot(acc_list_test,'orange',label = 'test')\n",
        "  plt.xlabel('epochs')\n",
        "  plt.ylabel('accuracy')\n",
        "  plt.grid()\n",
        "  plt.legend()\n",
        "  plt.subplot(122)\n",
        "  plt.plot(loss_list_train,'blue',label = 'train')\n",
        "  plt.plot(loss_list_test,'orange',label = 'test')\n",
        "  plt.xlabel('epochs')\n",
        "  plt.ylabel('loss')\n",
        "  plt.grid()\n",
        "  plt.legend()  "
      ],
      "metadata": {
        "id": "OJHnHm2vD-Fk"
      },
      "execution_count": 3,
      "outputs": []
    },
    {
      "cell_type": "code",
      "source": [
        "transform = torchvision.transforms.ToTensor()"
      ],
      "metadata": {
        "id": "qJEHu0TTiITo"
      },
      "execution_count": 4,
      "outputs": []
    },
    {
      "cell_type": "code",
      "source": [
        "mnist_dataset_train = torchvision.datasets.MNIST('mnist_data' ,train = True, transform = transform, download= True)"
      ],
      "metadata": {
        "id": "4yKpfUTZe42G"
      },
      "execution_count": 5,
      "outputs": []
    },
    {
      "cell_type": "code",
      "source": [
        "train_data, valid_data = torch.utils.data.random_split(mnist_dataset_train,[40000,20000])"
      ],
      "metadata": {
        "id": "1xHSt0BGWnIW"
      },
      "execution_count": 6,
      "outputs": []
    },
    {
      "cell_type": "code",
      "source": [
        "batch_size = 500\n",
        "mnist_train_loader = torch.utils.data.DataLoader(mnist_dataset_train, batch_size= batch_size, shuffle= True)\n",
        "num_batches_train = len(mnist_train_loader)\n",
        "mnist_valid_loader = torch.utils.data.DataLoader(valid_data, batch_size= batch_size, shuffle= True)\n",
        "num_batches_valid = len(mnist_valid_loader)"
      ],
      "metadata": {
        "id": "PRp7YBMFg4qk"
      },
      "execution_count": 7,
      "outputs": []
    },
    {
      "cell_type": "code",
      "source": [
        "is_gpu = torch.cuda.is_available()\n",
        "device = torch.device('cuda:0' if is_gpu else 'cpu')\n",
        "device"
      ],
      "metadata": {
        "colab": {
          "base_uri": "https://localhost:8080/"
        },
        "id": "RhX8-fQ6oxm6",
        "outputId": "bda0a06e-bb98-403e-9f4a-f9218b12dbab"
      },
      "execution_count": 8,
      "outputs": [
        {
          "output_type": "execute_result",
          "data": {
            "text/plain": [
              "device(type='cpu')"
            ]
          },
          "metadata": {},
          "execution_count": 8
        }
      ]
    },
    {
      "cell_type": "code",
      "source": [
        "def train_nn(nn_model, loss, optimizer, train_loader, valid_loader, epochs, fully_connected = False):\n",
        "  acc_list_train = []\n",
        "  loss_list_train = []\n",
        "  acc_list_test = []\n",
        "  loss_list_test = []\n",
        "  num_batches_train=len(train_loader)\n",
        "  # print(num_batches_train)\n",
        "  num_batches_valid=len(valid_loader)\n",
        "  # print(num_batches_valid)\n",
        "  for e in tqdm(range(epochs)):\n",
        "    # print(list(nn_model.parameters())[-1])\n",
        "\n",
        "    model_loss = 0\n",
        "    model_acc = 0\n",
        "    nn_model.train()\n",
        "    \n",
        "    for (data,label) in train_loader:\n",
        "      data = data.to(device)\n",
        "      if fully_connected:\n",
        "        data = data.view(-1,28*28) #Note that 28 is only valid for mnist, not for example for CIFAR.\n",
        "      label = label.to(device)\n",
        "      nn_output = nn_model(data)\n",
        "      _, predict = torch.max(nn_output, axis =1)\n",
        "      batch_loss = loss(nn_output, label)\n",
        "      model_loss += batch_loss/num_batches_train\n",
        "      batch_acc = torch.mean((predict == label).float())/num_batches_train\n",
        "      model_acc += batch_acc\n",
        "\n",
        "      batch_loss.backward()\n",
        "      # if e==1:\n",
        "        # print(nn_model.out.weight.grad) \n",
        "      optimizer.step()\n",
        "\n",
        "      optimizer.zero_grad()\n",
        "\n",
        "    acc_list_train.append(model_acc)\n",
        "    loss_list_train.append(model_loss)\n",
        "    valid_loss = 0\n",
        "    valid_acc = 0\n",
        "    nn_model.eval()\n",
        "\n",
        "    for (data,label) in valid_loader:\n",
        "      data = data.to(device)\n",
        "      if fully_connected:\n",
        "        data = data.view(-1,28*28)\n",
        "      label = label.to(device)\n",
        "      with torch.no_grad():\n",
        "        valid_out = nn_model(data)\n",
        "        batch_loss = loss(valid_out, label)\n",
        "        valid_loss += batch_loss/num_batches_valid\n",
        "        _,valid_pred = torch.max(valid_out,axis = 1)\n",
        "        batch_acc = torch.mean((valid_pred == label).float())\n",
        "        valid_acc += batch_acc/num_batches_valid\n",
        "\n",
        "    acc_list_test.append(valid_acc)\n",
        "    loss_list_test.append(valid_loss)\n",
        "  return (acc_list_train, loss_list_train, acc_list_test, loss_list_test)"
      ],
      "metadata": {
        "id": "Pt752i8r_Kc9"
      },
      "execution_count": 9,
      "outputs": []
    },
    {
      "cell_type": "code",
      "source": [
        "#A mlp with three hidden layers of sizes 1000, 1500, 800\n",
        "#Also, I am trying Kaiming(He) initialization.\n",
        "class MLP(nn.Module):\n",
        "  def __init__(self, hidden_1, hidden_2):#, hidden_3):\n",
        "    '''\n",
        "    Inputs:\n",
        "    --------\n",
        "    hidden_1: int\n",
        "              number of hidden units in the first hidden layer\n",
        "    hidden_2: int\n",
        "              number of hidden units in the second hidden layer\n",
        "\n",
        "    '''\n",
        "    super(MLP,self).__init__()\n",
        "\n",
        "    self.hidden_1, self.hidden_2 = hidden_1, hidden_2\n",
        "    #self.normalized_input = nn.BatchNorm1d(28*28)\n",
        "    self.fc1 = nn.Linear(784, self.hidden_1)\n",
        "    nn.init.kaiming_normal_(self.fc1.weight)\n",
        "    self.fc2 = nn.Linear(self.hidden_1, self.hidden_2)\n",
        "    nn.init.kaiming_normal_(self.fc2.weight)\n",
        "    #print(self.fc2.weight.get_device())\n",
        " #   self.fc3 = nn.Linear(self.hidden_2, self.hidden_3)\n",
        "    self.out = nn.Linear(self.hidden_2, 10)\n",
        "    nn.init.kaiming_normal_(self.out.weight)\n",
        "\n",
        "  def forward(self,x):\n",
        "    #x = self.normalized_input(x)\n",
        "    activ_1 = F.relu(self.fc1(x))\n",
        "    activ_2 = F.relu(self.fc2(activ_1))\n",
        "   # activ_3 = F.relu(self.fc3(activ_2))\n",
        "    output = F.softmax(self.out(activ_2))\n",
        "    return output"
      ],
      "metadata": {
        "id": "qX6j34fisBEn"
      },
      "execution_count": 94,
      "outputs": []
    },
    {
      "cell_type": "code",
      "source": [
        "test_model = MLP(64,128)"
      ],
      "metadata": {
        "id": "FbB20CzmB2oI"
      },
      "execution_count": 95,
      "outputs": []
    },
    {
      "cell_type": "code",
      "source": [
        "sum([param.numel() for param in test_model.parameters()])"
      ],
      "metadata": {
        "id": "i9AMztUvaGJn",
        "outputId": "0d727916-4a9b-499e-a576-8af46484482f",
        "colab": {
          "base_uri": "https://localhost:8080/"
        }
      },
      "execution_count": null,
      "outputs": [
        {
          "output_type": "execute_result",
          "data": {
            "text/plain": [
              "59850"
            ]
          },
          "metadata": {},
          "execution_count": 23
        }
      ]
    },
    {
      "cell_type": "code",
      "source": [
        "for param in test_model.parameters():\n",
        "  print(param.numel())"
      ],
      "metadata": {
        "id": "fzjM7EVQbanu",
        "outputId": "322d82a0-26cc-4bb2-b984-35f4d5a60448",
        "colab": {
          "base_uri": "https://localhost:8080/"
        }
      },
      "execution_count": null,
      "outputs": [
        {
          "output_type": "stream",
          "name": "stdout",
          "text": [
            "50176\n",
            "64\n",
            "8192\n",
            "128\n",
            "1280\n",
            "10\n"
          ]
        }
      ]
    },
    {
      "cell_type": "markdown",
      "source": [
        "Next, we replace one of the fully-connected matrices with a tensor train and compare the number of parameters."
      ],
      "metadata": {
        "id": "jTw_veh4bt0C"
      }
    },
    {
      "cell_type": "code",
      "source": [
        "#A mlp with two hidden layers \n",
        "class MLP(nn.Module):\n",
        "  def __init__(self, hidden_1, hidden_2, bond, dim, init='normal'):#, hidden_3):\n",
        "    '''\n",
        "    Inputs:\n",
        "    --------\n",
        "    hidden_1: int\n",
        "              number of hidden units in the first hidden layer\n",
        "    hidden_2: int\n",
        "              number of hidden units in the second hidden layer\n",
        "    bond: int\n",
        "             the bond dimension of the TT\n",
        "    dim: int\n",
        "             the dimension of each leg of the TT\n",
        "\n",
        "    '''\n",
        "\n",
        "    super(MLP,self).__init__()\n",
        "    self.bond, self.dim = bond, dim\n",
        "    self.hidden_1, self.hidden_2 = hidden_1, hidden_2\n",
        "    self.fc1 = nn.Linear(784, self.hidden_1)\n",
        "    nn.init.kaiming_normal_(self.fc1.weight)\n",
        "    # cur_dev = self.fc1.weight.device\n",
        "    \n",
        "\n",
        "#The second layer is a TT\n",
        "    cores = [None for i in range(5)]\n",
        "    self.weights = [None for i in range(5)]\n",
        "    cores[0] = torch.Tensor(1, self.dim, self.bond)\n",
        "    for l in range(1,5-1):\n",
        "      cores[l] = torch.Tensor(self.bond, self.dim, self.bond)\n",
        "    cores[-1] = torch.Tensor(self.bond, self.dim,1)\n",
        "    cores = [core.to(cur_dev) for core in cores]\n",
        "    for l in range(5):\n",
        "      self.weights[l] = nn.Parameter(cores[l])\n",
        "    self.params = nn.ParameterList(self.weights)\n",
        "    # initialize weights and biases\n",
        "    for weight in self.params:\n",
        "      if init=='normal':\n",
        "        torch.nn.init.normal_( weight, mean=0.0, std= .5)\n",
        "      elif init=='uniform':\n",
        "        torch.nn.init.uniform_(weight,-1,1)\n",
        "#This part was for the second layer.\n",
        "\n",
        "    self.out = nn.Linear(self.hidden_2, 10)\n",
        "    nn.init.kaiming_normal_(self.out.weight)\n",
        "\n",
        "\n",
        "\n",
        "\n",
        "  def forward(self,x):\n",
        "    W = tl.tt_to_tensor(self.weights)\n",
        "    activ_1 = F.relu(self.fc1(x))\n",
        "    W = W.view( self.hidden_2 , self.hidden_1 )\n",
        "    activ_2 = F.relu(torch.matmul(activ_1,W.T))#.detach())\n",
        "    output = F.softmax(self.out(activ_2))\n",
        "    return output"
      ],
      "metadata": {
        "id": "YOl0gvflZoCi"
      },
      "execution_count": 115,
      "outputs": []
    },
    {
      "cell_type": "code",
      "source": [
        "#A mlp with two hidden layers \n",
        "class MLP(nn.Module):\n",
        "  def __init__(self, hidden_1, hidden_2, bond, dim, init='normal'):#, hidden_3):\n",
        "    '''\n",
        "    Inputs:\n",
        "    --------\n",
        "    hidden_1: int\n",
        "              number of hidden units in the first hidden layer\n",
        "    hidden_2: int\n",
        "              number of hidden units in the second hidden layer\n",
        "    bond: int\n",
        "             the bond dimension of the TT\n",
        "    dim: int\n",
        "             the dimension of each leg of the TT\n",
        "\n",
        "    '''\n",
        "\n",
        "    super(MLP,self).__init__()\n",
        "    self.bond, self.dim = bond, dim\n",
        "    self.hidden_1, self.hidden_2 = hidden_1, hidden_2\n",
        "    #self.normalized_input = nn.BatchNorm1d(28*28)\n",
        "    self.fc1 = nn.Linear(784, self.hidden_1)\n",
        "    nn.init.kaiming_normal_(self.fc1.weight)\n",
        "\n",
        "#The second layer is a TT\n",
        "    cores = [None for i in range(5)]\n",
        "    self.weights = [None for i in range(5)]\n",
        "    cores[0] = torch.Tensor(1, self.dim, self.bond)\n",
        "    for l in range(1,5-1):\n",
        "      cores[l] = torch.Tensor(self.bond, self.dim, self.bond)\n",
        "    cores[-1] = torch.Tensor(self.bond, self.dim,1)\n",
        "    for l in range(5):\n",
        "      self.weights[l] = nn.Parameter(cores[l])\n",
        "    self.params = nn.ParameterList(self.weights)\n",
        "\n",
        "\n",
        "    # initialize weights and biases\n",
        "    for weight in self.params:\n",
        "      if init=='normal':\n",
        "        torch.nn.init.normal_( weight, mean=0.0, std= .5)\n",
        "      elif init=='uniform':\n",
        "        torch.nn.init.uniform_(weight,-1,1)\n",
        "#This part was for the second layer.\n",
        "\n",
        "    self.out = nn.Linear(self.hidden_2, 10)\n",
        "    nn.init.kaiming_normal_(self.out.weight)\n",
        "    self.W = tl.tt_to_tensor(self.weights)\n",
        "\n",
        "  def forward(self,x):\n",
        "    activ_1 = F.relu(self.fc1(x))\n",
        "    self.W = self.W.view( self.hidden_2 , self.hidden_1 )\n",
        "    activ_2 = F.relu(torch.matmul(activ_1,self.W.T).detach())\n",
        "    output = F.softmax(self.out(activ_2))\n",
        "    return output"
      ],
      "metadata": {
        "id": "WE3mI9ymYYE4"
      },
      "execution_count": 154,
      "outputs": []
    },
    {
      "cell_type": "code",
      "source": [
        "#test_model.W.device #This is not a valid command any more, because we moved the definition of W from the __init__ function to the forward func, in order to resolve a device conflict."
      ],
      "metadata": {
        "id": "jVMxP4E4ngjB"
      },
      "execution_count": null,
      "outputs": []
    },
    {
      "cell_type": "code",
      "source": [
        "test_model = MLP(256,128,8,8)"
      ],
      "metadata": {
        "id": "V47dVH4Lvu4d"
      },
      "execution_count": 158,
      "outputs": []
    },
    {
      "cell_type": "code",
      "source": [
        "[weight.shape  for weight in test_model.parameters()]"
      ],
      "metadata": {
        "id": "w0VgUOjiv7ii",
        "outputId": "40cfa189-f519-400b-bdef-ca0b9949b023",
        "colab": {
          "base_uri": "https://localhost:8080/"
        }
      },
      "execution_count": 21,
      "outputs": [
        {
          "output_type": "execute_result",
          "data": {
            "text/plain": [
              "[torch.Size([256, 784]),\n",
              " torch.Size([256]),\n",
              " torch.Size([1, 8, 32]),\n",
              " torch.Size([32, 8, 32]),\n",
              " torch.Size([32, 8, 32]),\n",
              " torch.Size([32, 8, 32]),\n",
              " torch.Size([32, 8, 1]),\n",
              " torch.Size([10, 128]),\n",
              " torch.Size([10])]"
            ]
          },
          "metadata": {},
          "execution_count": 21
        }
      ]
    },
    {
      "cell_type": "code",
      "source": [
        "epochs = 20\n",
        "mlp_model = test_model.to(device)\n",
        "optimizer = optim.SGD(mlp_model.parameters(), lr = .01)\n",
        "loss = nn.CrossEntropyLoss()\n",
        "acc_list_train, loss_list_train, acc_list_test, loss_list_test = train_nn(mlp_model, loss, optimizer, mnist_train_loader, mnist_valid_loader, epochs, fully_connected = True)"
      ],
      "metadata": {
        "id": "RoRZWIqfwwjF"
      },
      "execution_count": null,
      "outputs": []
    },
    {
      "cell_type": "code",
      "source": [
        "#Plot the results for MLP with uniform weights and bias initialization!\n",
        "plot_results([train_acc.cpu() for train_acc in acc_list_train], [test_acc.cpu() for test_acc in acc_list_test], [loss_train.detach().cpu() for loss_train in loss_list_train], [loss_test.detach().cpu() for loss_test in loss_list_test])"
      ],
      "metadata": {
        "id": "edI9Cgbph1sg",
        "outputId": "747c9153-e4be-45bc-8df1-fe5e154e4399",
        "colab": {
          "base_uri": "https://localhost:8080/",
          "height": 336
        }
      },
      "execution_count": 160,
      "outputs": [
        {
          "output_type": "display_data",
          "data": {
            "text/plain": [
              "<Figure size 720x360 with 2 Axes>"
            ],
            "image/png": "[encoded data removed]"
          },
          "metadata": {
            "needs_background": "light"
          }
        }
      ]
    },
    {
      "cell_type": "code",
      "source": [
        "sum([weight.numel()  for weight in test_model.parameters()])"
      ],
      "metadata": {
        "id": "f1Qi5FqfwG9t",
        "outputId": "8b5fd825-d4d8-4ae0-841c-fa98eb99a760",
        "colab": {
          "base_uri": "https://localhost:8080/"
        }
      },
      "execution_count": null,
      "outputs": [
        {
          "output_type": "execute_result",
          "data": {
            "text/plain": [
              "57034"
            ]
          },
          "metadata": {},
          "execution_count": 36
        }
      ]
    },
    {
      "cell_type": "code",
      "source": [
        "torch.std(test_model.out.weight)"
      ],
      "metadata": {
        "colab": {
          "base_uri": "https://localhost:8080/"
        },
        "id": "pDOqclj-sXwK",
        "outputId": "d22cd017-f0aa-410a-bedf-e0595ca02eee"
      },
      "execution_count": null,
      "outputs": [
        {
          "output_type": "execute_result",
          "data": {
            "text/plain": [
              "tensor(0.1274, grad_fn=<StdBackward0>)"
            ]
          },
          "metadata": {},
          "execution_count": 74
        }
      ]
    },
    {
      "cell_type": "code",
      "source": [
        "print(f\"number of biases in layer 1 is {test_model.fc1.bias.shape}\")"
      ],
      "metadata": {
        "colab": {
          "base_uri": "https://localhost:8080/"
        },
        "id": "cAl911_hwcsa",
        "outputId": "165817c7-7d32-42ba-bc5f-5edde86e1dbe"
      },
      "execution_count": null,
      "outputs": [
        {
          "output_type": "stream",
          "name": "stdout",
          "text": [
            "number of biases in layer 1 is torch.Size([512])\n"
          ]
        }
      ]
    },
    {
      "cell_type": "code",
      "source": [
        "(2/512)**(.5)"
      ],
      "metadata": {
        "colab": {
          "base_uri": "https://localhost:8080/"
        },
        "id": "YHJznPZks7LT",
        "outputId": "3135e72e-17ba-448e-8cc1-c70c3af46dec"
      },
      "execution_count": null,
      "outputs": [
        {
          "output_type": "execute_result",
          "data": {
            "text/plain": [
              "0.0625"
            ]
          },
          "metadata": {},
          "execution_count": 36
        }
      ]
    },
    {
      "cell_type": "code",
      "source": [
        "#A small experiment with zero initialization for weights. We see that the NN still learns, just much slower. But, when I initialize weights to .1 \n",
        "#the neural net learns almost nothing over these ten epochs. Maybe because .1 is too big, but how a big weight initialization is problematic with \n",
        "#ReLU non-linearity? If I had tanh, I could understand that .1 could be too big, but why ReLU?\n",
        "test_model.out.weight.data.fill_(0.)\n",
        "test_model.fc2.weight.data.fill_(0.)\n",
        "test_model.fc1.weight.data.fill_(0.)"
      ],
      "metadata": {
        "colab": {
          "base_uri": "https://localhost:8080/"
        },
        "id": "uXBHP3-HCKfW",
        "outputId": "0fed928f-1d35-4ab1-8a1b-a94194f0be58"
      },
      "execution_count": null,
      "outputs": [
        {
          "output_type": "execute_result",
          "data": {
            "text/plain": [
              "tensor([[0., 0., 0.,  ..., 0., 0., 0.],\n",
              "        [0., 0., 0.,  ..., 0., 0., 0.],\n",
              "        [0., 0., 0.,  ..., 0., 0., 0.],\n",
              "        ...,\n",
              "        [0., 0., 0.,  ..., 0., 0., 0.],\n",
              "        [0., 0., 0.,  ..., 0., 0., 0.],\n",
              "        [0., 0., 0.,  ..., 0., 0., 0.]])"
            ]
          },
          "metadata": {},
          "execution_count": 13
        }
      ]
    },
    {
      "cell_type": "code",
      "source": [
        "list(test_model.parameters())"
      ],
      "metadata": {
        "id": "i8UEnI-eB6NY"
      },
      "execution_count": null,
      "outputs": []
    },
    {
      "cell_type": "code",
      "source": [
        "epochs = 10\n",
        "mlp_model = test_model.to(device)\n",
        "optimizer = optim.SGD(mlp_model.parameters(), lr = .2)\n",
        "loss = nn.CrossEntropyLoss()\n",
        "acc_list_train, loss_list_train, acc_list_test, loss_list_test = train_nn(mlp_model, loss, optimizer, mnist_train_loader, mnist_valid_loader, epochs, fully_connected = True)"
      ],
      "metadata": {
        "id": "pdqBjZqrEQog",
        "colab": {
          "base_uri": "https://localhost:8080/"
        },
        "outputId": "601ec841-fc45-4e4c-d464-9e6418b00be0"
      },
      "execution_count": null,
      "outputs": [
        {
          "output_type": "stream",
          "name": "stderr",
          "text": [
            "  0%|          | 0/10 [00:00<?, ?it/s]/usr/local/lib/python3.7/dist-packages/ipykernel_launcher.py:23: UserWarning: Implicit dimension choice for softmax has been deprecated. Change the call to include dim=X as an argument.\n",
            "100%|██████████| 10/10 [01:33<00:00,  9.36s/it]\n"
          ]
        }
      ]
    },
    {
      "cell_type": "code",
      "source": [
        "#Plot the results for MLP with uniform weights and bias initialization!\n",
        "plot_results([train_acc.cpu() for train_acc in acc_list_train], [test_acc.cpu() for test_acc in acc_list_test], [loss_train.detach().cpu() for loss_train in loss_list_train], [loss_test.detach().cpu() for loss_test in loss_list_test])"
      ],
      "metadata": {
        "id": "9eWOWV8OoXkj",
        "outputId": "eee95b35-15b8-4800-fbb4-755669d2c818",
        "colab": {
          "base_uri": "https://localhost:8080/",
          "height": 332
        }
      },
      "execution_count": null,
      "outputs": [
        {
          "output_type": "display_data",
          "data": {
            "text/plain": [
              "<Figure size 720x360 with 2 Axes>"
            ],
            "image/png": "[encoded data removed]"
          },
          "metadata": {
            "needs_background": "light"
          }
        }
      ]
    },
    {
      "cell_type": "code",
      "source": [
        "#Plot the results for MLP with uniform weights and bias initialization!\n",
        "plot_results([train_acc.cpu() for train_acc in acc_list_train], [test_acc.cpu() for test_acc in acc_list_test], [loss_train.detach().cpu() for loss_train in loss_list_train], [loss_test.detach().cpu() for loss_test in loss_list_test])"
      ],
      "metadata": {
        "colab": {
          "base_uri": "https://localhost:8080/",
          "height": 332
        },
        "id": "Xz3tU3E1ECiQ",
        "outputId": "28222bdf-3ad2-4438-f8fb-c9fa7d8edd6b"
      },
      "execution_count": null,
      "outputs": [
        {
          "output_type": "display_data",
          "data": {
            "text/plain": [
              "<Figure size 720x360 with 2 Axes>"
            ],
            "image/png": "[encoded data removed]"
          },
          "metadata": {
            "needs_background": "light"
          }
        }
      ]
    },
    {
      "cell_type": "code",
      "source": [
        "mlp_model.out.weight"
      ],
      "metadata": {
        "id": "6Q8T6OtPEDw3"
      },
      "execution_count": null,
      "outputs": []
    },
    {
      "cell_type": "code",
      "source": [
        "mlp_model.fc1.weight"
      ],
      "metadata": {
        "colab": {
          "base_uri": "https://localhost:8080/"
        },
        "id": "D0KYpRV3R5SD",
        "outputId": "49ed99c6-245c-437d-fa62-5d4f166acf59"
      },
      "execution_count": null,
      "outputs": [
        {
          "output_type": "execute_result",
          "data": {
            "text/plain": [
              "Parameter containing:\n",
              "tensor([[0.1000, 0.1000, 0.1000,  ..., 0.1000, 0.1000, 0.1000],\n",
              "        [0.1000, 0.1000, 0.1000,  ..., 0.1000, 0.1000, 0.1000],\n",
              "        [0.1000, 0.1000, 0.1000,  ..., 0.1000, 0.1000, 0.1000],\n",
              "        ...,\n",
              "        [0.1000, 0.1000, 0.1000,  ..., 0.1000, 0.1000, 0.1000],\n",
              "        [0.1000, 0.1000, 0.1000,  ..., 0.1000, 0.1000, 0.1000],\n",
              "        [0.1000, 0.1000, 0.1000,  ..., 0.1000, 0.1000, 0.1000]],\n",
              "       requires_grad=True)"
            ]
          },
          "metadata": {},
          "execution_count": 96
        }
      ]
    },
    {
      "cell_type": "code",
      "source": [
        "mlp_model.out.bias.grad"
      ],
      "metadata": {
        "colab": {
          "base_uri": "https://localhost:8080/"
        },
        "id": "SZnYMz95ZIpX",
        "outputId": "9726853b-ee01-4626-adf2-3a309b31fd15"
      },
      "execution_count": null,
      "outputs": [
        {
          "output_type": "execute_result",
          "data": {
            "text/plain": [
              "tensor([0., 0., 0., 0., 0., 0., 0., 0., 0., 0.])"
            ]
          },
          "metadata": {},
          "execution_count": 102
        }
      ]
    },
    {
      "cell_type": "code",
      "source": [
        "epochs = 5\n",
        "mlp_model = MLP(512,128)\n",
        "mlp_model = mlp_model.to(device)\n",
        "optimizer = optim.SGD(mlp_model.parameters(), lr = .3)\n",
        "loss = nn.CrossEntropyLoss()\n",
        "acc_list_train, loss_list_train, acc_list_test, loss_list_test = train_nn(mlp_model, loss, optimizer, mnist_train_loader, mnist_valid_loader, epochs, fully_connected = True)"
      ],
      "metadata": {
        "id": "xnbgh_AO1cb2"
      },
      "execution_count": null,
      "outputs": []
    },
    {
      "cell_type": "code",
      "source": [
        "#Plot the results for MLP!\n",
        "plot_results(acc_list_train, acc_list_test, [loss_train.detach() for loss_train in loss_list_train], [loss_test.detach() for loss_test in loss_list_test])"
      ],
      "metadata": {
        "colab": {
          "base_uri": "https://localhost:8080/",
          "height": 332
        },
        "id": "rBIvxUk3EK1_",
        "outputId": "c77afd51-38b3-4d69-c13b-74888d95f963"
      },
      "execution_count": null,
      "outputs": [
        {
          "output_type": "display_data",
          "data": {
            "text/plain": [
              "<Figure size 720x360 with 2 Axes>"
            ],
            "image/png": "[encoded data removed]"
          },
          "metadata": {
            "needs_background": "light"
          }
        }
      ]
    },
    {
      "cell_type": "code",
      "source": [
        "mlp_model.fc1.weight"
      ],
      "metadata": {
        "colab": {
          "base_uri": "https://localhost:8080/"
        },
        "id": "ZUQWTX25a4mZ",
        "outputId": "58feebfa-b580-4ff7-c18d-0df3f960e922"
      },
      "execution_count": null,
      "outputs": [
        {
          "output_type": "execute_result",
          "data": {
            "text/plain": [
              "Parameter containing:\n",
              "tensor([[-0.0225, -0.0319,  0.0162,  ..., -0.0091,  0.0260, -0.0126],\n",
              "        [-0.0173, -0.0143,  0.0152,  ...,  0.0011, -0.0010,  0.0297],\n",
              "        [-0.0010, -0.0279, -0.0003,  ...,  0.0287, -0.0153, -0.0140],\n",
              "        ...,\n",
              "        [-0.0268,  0.0009,  0.0221,  ..., -0.0322, -0.0017,  0.0242],\n",
              "        [ 0.0356, -0.0205, -0.0120,  ...,  0.0314,  0.0220,  0.0133],\n",
              "        [ 0.0169,  0.0288,  0.0350,  ...,  0.0278,  0.0079,  0.0128]],\n",
              "       requires_grad=True)"
            ]
          },
          "metadata": {},
          "execution_count": 108
        }
      ]
    },
    {
      "cell_type": "markdown",
      "source": [
        "#PART 2: CNN on MNIST"
      ],
      "metadata": {
        "id": "rztBUzJvGT2m"
      }
    },
    {
      "cell_type": "markdown",
      "source": [
        "##Vanilla CNN on MNIST"
      ],
      "metadata": {
        "id": "cpkOAKxTmzEu"
      }
    },
    {
      "cell_type": "code",
      "source": [
        "#LeNet5\n",
        "class Lenet5(nn.Module):\n",
        "  def __init__(self, kernel_size, pool_size):\n",
        "    super(Lenet5, self).__init__()\n",
        "    self.kernel_size = kernel_size\n",
        "    self.pool_size = pool_size\n",
        "    self.layer1 = nn.Sequential(nn.Conv2d(1,16,5,padding='same'), nn.ReLU(), nn.AvgPool2d(2))\n",
        "    self.layer2 = nn.Sequential(nn.Conv2d(16,32,5,padding='same'), nn.ReLU(), nn.AvgPool2d(2))\n",
        "    self.outlayer = nn.Linear(7*7*32, 10)\n",
        "\n",
        "  def forward(self,x):\n",
        "    x = self.layer1(x)\n",
        "    x = self.layer2(x)\n",
        "    x = x.view(-1,7*7*32)\n",
        "    x = self.outlayer(x)\n",
        "    output = nn.functional.softmax(x)\n",
        "    return output"
      ],
      "metadata": {
        "id": "C-4kQOMnpcXa"
      },
      "execution_count": null,
      "outputs": []
    },
    {
      "cell_type": "code",
      "source": [
        "epochs = 10\n",
        "lenet_model = Lenet5(3,2)\n",
        "lenet_model = lenet_model.to(device)\n",
        "optimizer = optim.SGD(lenet_model.parameters(), lr = .3)\n",
        "loss = nn.CrossEntropyLoss()\n",
        "acc_list_train, loss_list_train, acc_list_test, loss_list_test = train_nn(lenet_model, loss,optimizer, mnist_train_loader, mnist_valid_loader, epochs)"
      ],
      "metadata": {
        "id": "-ERlCeesKyH5",
        "colab": {
          "base_uri": "https://localhost:8080/"
        },
        "outputId": "f861181c-6f0d-4c2f-bf6d-df53eddf7e6c"
      },
      "execution_count": null,
      "outputs": [
        {
          "output_type": "stream",
          "name": "stderr",
          "text": [
            "\r  0%|          | 0/10 [00:00<?, ?it/s]/usr/local/lib/python3.7/dist-packages/ipykernel_launcher.py:16: UserWarning: Implicit dimension choice for softmax has been deprecated. Change the call to include dim=X as an argument.\n",
            "  app.launch_new_instance()\n",
            "100%|██████████| 10/10 [01:16<00:00,  7.68s/it]\n"
          ]
        }
      ]
    },
    {
      "cell_type": "code",
      "source": [
        "print(lenet_model)\n",
        "\n",
        "print(\"\\n\\n# Parameters: \", sum([param.nelement() for param in lenet_model.parameters()]))"
      ],
      "metadata": {
        "colab": {
          "base_uri": "https://localhost:8080/"
        },
        "id": "1prlpCOxD7mO",
        "outputId": "0ae302f8-4e4c-4070-f86b-5488d3fd4be1"
      },
      "execution_count": null,
      "outputs": [
        {
          "output_type": "stream",
          "name": "stdout",
          "text": [
            "Lenet5(\n",
            "  (layer1): Sequential(\n",
            "    (0): Conv2d(1, 16, kernel_size=(5, 5), stride=(1, 1), padding=same)\n",
            "    (1): ReLU()\n",
            "    (2): AvgPool2d(kernel_size=2, stride=2, padding=0)\n",
            "  )\n",
            "  (layer2): Sequential(\n",
            "    (0): Conv2d(16, 32, kernel_size=(5, 5), stride=(1, 1), padding=same)\n",
            "    (1): ReLU()\n",
            "    (2): AvgPool2d(kernel_size=2, stride=2, padding=0)\n",
            "  )\n",
            "  (outlayer): Linear(in_features=1568, out_features=10, bias=True)\n",
            ")\n",
            "\n",
            "\n",
            "# Parameters:  28938\n"
          ]
        }
      ]
    },
    {
      "cell_type": "code",
      "source": [
        "acc_list_train = [acc.cpu() for acc in acc_list_train]\n",
        "acc_list_test = [acc.cpu() for acc in acc_list_test]\n",
        "loss_list_train = [loss.cpu().detach() for loss in loss_list_train]\n",
        "loss_list_test = [loss.cpu().detach() for loss in loss_list_test]\n",
        "\n",
        "#Plot the results for LeNet!\n",
        "plot_results(acc_list_train, acc_list_test, loss_list_train, loss_list_test)"
      ],
      "metadata": {
        "colab": {
          "base_uri": "https://localhost:8080/",
          "height": 332
        },
        "id": "rfUikaYp9ZdO",
        "outputId": "154a8338-9841-4f46-dd24-d07b7b590cd7"
      },
      "execution_count": null,
      "outputs": [
        {
          "output_type": "display_data",
          "data": {
            "text/plain": [
              "<Figure size 720x360 with 2 Axes>"
            ],
            "image/png": "[encoded data removed]"
          },
          "metadata": {
            "needs_background": "light"
          }
        }
      ]
    },
    {
      "cell_type": "code",
      "source": [
        "mnist_dataset_test = torchvision.datasets.MNIST('mnist_test' ,train = False, transform = transform, download= True)"
      ],
      "metadata": {
        "id": "rhFMuI6dFwY_",
        "colab": {
          "base_uri": "https://localhost:8080/",
          "height": 408,
          "referenced_widgets": [
            "e078cb4c2f7b41f79ddd6f942607034b",
            "0a9dac44b1d54e78b6f3dc7c4846163f",
            "029d6a7e1f9f4b628d5615a836d44d83",
            "fe3c98cd1bc74cf18035003120b9a41b",
            "370ccf20c20f46b2b866c700e4ad73e6",
            "4b848be3ca664a6bab289f3311c4b9af",
            "8a964caeeb734d8aa3fa1691f51fc11d",
            "081e83d755364178950c4c5b4b510ceb",
            "72e38a280ec24b68aec4597b72d40ba1",
            "4cc62105c6594afab31a6efa290efbb1",
            "85d1b64eb44a43f5872b4014e2cc7ae7",
            "9338574e30b541e99b2c2630781b08d3",
            "ad25f437895c48c491e2e5abe4ea1c58",
            "16362032199d42e3a2a9dab4dc644210",
            "d7ce25ce29cf448a8e1928df96a77da3",
            "5ce405a9039b4f81a485856860c267bb",
            "1fa2149c0404413488c7fc3d88aa950d",
            "2340bc5aa92b42bbaf4de2306603707f",
            "2b28b96197ae42c3b2ecf764b3ac3bd2",
            "4bc853ba97364a3a92d577d9ce41e471",
            "79698cde57ad40f789cdcdf6c5664010",
            "b50751b7cc60471eaea7d955cbfe11f1",
            "3c35ea6d8fe745f2b382659d5cbd5f2d",
            "8442f2a55f5e43a08917da1497bbb5b8",
            "d417a0e2938a40e5bf52e1ea63bbf1a0",
            "64b3b3f337a04a0daead50af7cb29cf7",
            "b09ff31730044a228803671cc3ce5465",
            "55f2474437114db4854e1b627879c3ab",
            "28abc2d6af484f038ceb74ce318fd9d7",
            "195ad33c8d304235aab108b46a6fc08b",
            "b32fa3892b534ff1b7a9f4ae29d1625d",
            "fdb0745e557e4b2cad6990cad219d8cd",
            "682ed09916f64e6db9356d2390ff161b",
            "2863fd1e059d461082ad8ca0efa101d6",
            "b4386edb6fc846728262cf8649e18474",
            "8bf240ea0e2a4402bc5b8e0526c59ef2",
            "3dd4c798c3fc4c208061daf505bb26a9",
            "5520f52516554a118a5e143bfcd48a78",
            "9666f99f9d3a4f0792ee0af9d9363df6",
            "b418adabfb144992a2608d0bada6e60a",
            "08afee8621f94db98e115ad638b13f42",
            "e412935b9f31403c8acfa0523b54afc4",
            "b948cab330e04d1ea17142a1cb34ee70",
            "be63fa9a97164bf594140fb71a01d170"
          ]
        },
        "outputId": "9e9dfca9-649b-46da-c4d6-9664220046ee"
      },
      "execution_count": null,
      "outputs": [
        {
          "output_type": "stream",
          "name": "stdout",
          "text": [
            "Downloading http://yann.lecun.com/exdb/mnist/train-images-idx3-ubyte.gz\n",
            "Downloading http://yann.lecun.com/exdb/mnist/train-images-idx3-ubyte.gz to mnist_test/MNIST/raw/train-images-idx3-ubyte.gz\n"
          ]
        },
        {
          "output_type": "display_data",
          "data": {
            "text/plain": [
              "  0%|          | 0/9912422 [00:00<?, ?it/s]"
            ],
            "application/vnd.jupyter.widget-view+json": {
              "version_major": 2,
              "version_minor": 0,
              "model_id": "e078cb4c2f7b41f79ddd6f942607034b"
            }
          },
          "metadata": {}
        },
        {
          "output_type": "stream",
          "name": "stdout",
          "text": [
            "Extracting mnist_test/MNIST/raw/train-images-idx3-ubyte.gz to mnist_test/MNIST/raw\n",
            "\n",
            "Downloading http://yann.lecun.com/exdb/mnist/train-labels-idx1-ubyte.gz\n",
            "Downloading http://yann.lecun.com/exdb/mnist/train-labels-idx1-ubyte.gz to mnist_test/MNIST/raw/train-labels-idx1-ubyte.gz\n"
          ]
        },
        {
          "output_type": "display_data",
          "data": {
            "text/plain": [
              "  0%|          | 0/28881 [00:00<?, ?it/s]"
            ],
            "application/vnd.jupyter.widget-view+json": {
              "version_major": 2,
              "version_minor": 0,
              "model_id": "9338574e30b541e99b2c2630781b08d3"
            }
          },
          "metadata": {}
        },
        {
          "output_type": "stream",
          "name": "stdout",
          "text": [
            "Extracting mnist_test/MNIST/raw/train-labels-idx1-ubyte.gz to mnist_test/MNIST/raw\n",
            "\n",
            "Downloading http://yann.lecun.com/exdb/mnist/t10k-images-idx3-ubyte.gz\n",
            "Downloading http://yann.lecun.com/exdb/mnist/t10k-images-idx3-ubyte.gz to mnist_test/MNIST/raw/t10k-images-idx3-ubyte.gz\n"
          ]
        },
        {
          "output_type": "display_data",
          "data": {
            "text/plain": [
              "  0%|          | 0/1648877 [00:00<?, ?it/s]"
            ],
            "application/vnd.jupyter.widget-view+json": {
              "version_major": 2,
              "version_minor": 0,
              "model_id": "3c35ea6d8fe745f2b382659d5cbd5f2d"
            }
          },
          "metadata": {}
        },
        {
          "output_type": "stream",
          "name": "stdout",
          "text": [
            "Extracting mnist_test/MNIST/raw/t10k-images-idx3-ubyte.gz to mnist_test/MNIST/raw\n",
            "\n",
            "Downloading http://yann.lecun.com/exdb/mnist/t10k-labels-idx1-ubyte.gz\n",
            "Downloading http://yann.lecun.com/exdb/mnist/t10k-labels-idx1-ubyte.gz to mnist_test/MNIST/raw/t10k-labels-idx1-ubyte.gz\n"
          ]
        },
        {
          "output_type": "display_data",
          "data": {
            "text/plain": [
              "  0%|          | 0/4542 [00:00<?, ?it/s]"
            ],
            "application/vnd.jupyter.widget-view+json": {
              "version_major": 2,
              "version_minor": 0,
              "model_id": "2863fd1e059d461082ad8ca0efa101d6"
            }
          },
          "metadata": {}
        },
        {
          "output_type": "stream",
          "name": "stdout",
          "text": [
            "Extracting mnist_test/MNIST/raw/t10k-labels-idx1-ubyte.gz to mnist_test/MNIST/raw\n",
            "\n"
          ]
        }
      ]
    },
    {
      "cell_type": "code",
      "source": [
        "len(mnist_dataset_test)"
      ],
      "metadata": {
        "colab": {
          "base_uri": "https://localhost:8080/"
        },
        "id": "EEMlEYUqF4ts",
        "outputId": "5bbc57a7-4db8-47e8-cbcb-c215a738a350"
      },
      "execution_count": null,
      "outputs": [
        {
          "output_type": "execute_result",
          "data": {
            "text/plain": [
              "10000"
            ]
          },
          "metadata": {},
          "execution_count": 20
        }
      ]
    },
    {
      "cell_type": "code",
      "source": [
        "test_loader = torch.utils.data.DataLoader(mnist_dataset_test, batch_size = 10000)"
      ],
      "metadata": {
        "id": "0ng9jeQhHChp"
      },
      "execution_count": null,
      "outputs": []
    },
    {
      "cell_type": "code",
      "source": [
        "for data, label in test_loader:\n",
        "  data = data.to(device)\n",
        "  label = label.to(device)\n",
        "  out_test = lenet_model(data)\n",
        "  _, pred_label = torch.max(out_test, axis = 1)\n",
        "  acc = torch.mean((pred_label == label).float())\n",
        "print('test accuracy is {}'.format(acc))"
      ],
      "metadata": {
        "colab": {
          "base_uri": "https://localhost:8080/"
        },
        "id": "5uUIDJI1GAae",
        "outputId": "6945cbb8-9365-49e9-f344-7ecadb689de0"
      },
      "execution_count": null,
      "outputs": [
        {
          "output_type": "stream",
          "name": "stdout",
          "text": [
            "test accuracy is 0.9828999638557434\n"
          ]
        },
        {
          "output_type": "stream",
          "name": "stderr",
          "text": [
            "/usr/local/lib/python3.7/dist-packages/ipykernel_launcher.py:16: UserWarning: Implicit dimension choice for softmax has been deprecated. Change the call to include dim=X as an argument.\n",
            "  app.launch_new_instance()\n"
          ]
        }
      ]
    },
    {
      "cell_type": "code",
      "source": [
        ""
      ],
      "metadata": {
        "id": "wS3TG8rmo2PZ"
      },
      "execution_count": null,
      "outputs": []
    },
    {
      "cell_type": "code",
      "source": [
        "epochs = 10\n",
        "mlp_model = Alex(512,128)\n",
        "mlp_model = mlp_model.to(device)\n",
        "optimizer = optim.SGD(mlp_model.parameters(), lr = .3)\n",
        "loss = nn.CrossEntropyLoss()\n",
        "acc_list_train, loss_list_train, acc_list_test, loss_list_test = train_nn(mlp_model, loss, optimizer, mnist_train_loader, mnist_valid_loader, epochs, fully_connected = True)"
      ],
      "metadata": {
        "id": "8xox7TRMo2MO"
      },
      "execution_count": null,
      "outputs": []
    },
    {
      "cell_type": "markdown",
      "source": [
        "##Tensorized CNN on MNIST"
      ],
      "metadata": {
        "id": "x7xt1LIDtxfn"
      }
    },
    {
      "cell_type": "code",
      "source": [
        "def TT-layer(dim, rank):\n",
        "  '''\n",
        "  Inputs: \n",
        "     dim: int\n",
        "          physical dimension of the tensor\n",
        "     rank: int\n",
        "          bond dimension of the TT tensor\n",
        "\n",
        "  '''\n",
        "  pass"
      ],
      "metadata": {
        "id": "d7QQ6e94eN6A"
      },
      "execution_count": null,
      "outputs": []
    },
    {
      "cell_type": "code",
      "source": [
        "#LeNet5\n",
        "class Lenet5_tensorized(nn.Module):\n",
        "  def __init__(self, kernel_size, pool_size, dim1,dim2,dim3,dim4,bond,init='normal'):\n",
        "    super(Lenet5_tensorized, self).__init__()\n",
        "    self.kernel_size = kernel_size\n",
        "    self.pool_size = pool_size\n",
        "    self.dim1, self.dim2, self.dim3, self.dim4 = dim1, dim2, dim3, dim4\n",
        "    self.bond = bond\n",
        "    self.layer1 = nn.Sequential(nn.Conv2d(1,16,self.kernel_size,padding='same'), nn.ReLU(), nn.AvgPool2d(2))\n",
        "    self.layer2 = nn.Sequential(nn.Conv2d(16,32,self.kernel_size,padding='same'), nn.ReLU(), nn.AvgPool2d(2))\n",
        "    #The output layer is TT\n",
        "    \n",
        "    cores = [None for i in range(4)]\n",
        "    self.weights = [None for i in range(4)]\n",
        "    cores[0] = torch.Tensor(1, self.dim1, self.bond)\n",
        "    cores[1] = torch.Tensor(self.bond, self.dim2, self.bond)\n",
        "    cores[2] = torch.Tensor(self.bond, self.dim3,self.bond)\n",
        "    cores[3] = torch.Tensor(self.bond, self.dim4,1)\n",
        "    for l in range(4):\n",
        "      self.weights[l] = nn.Parameter(cores[l])\n",
        "    self.params = nn.ParameterList(self.weights)\n",
        "    # initialize weights and biases\n",
        "    for weight in self.params:\n",
        "      if init=='normal':\n",
        "        torch.nn.init.normal_( weight, mean=0.0, std= .5)\n",
        "      elif init=='uniform':\n",
        "        torch.nn.init.uniform_(weight,-1,1)\n",
        "\n",
        "   # self.W = tl.tt_to_tensor(self.weights)\n",
        "    #The TT-layer has been defined\n",
        "    #self.outlayer = nn.Linear(7*7*32, 10)\n",
        "\n",
        "  def forward(self,x):\n",
        "    W = tl.tt_to_tensor(self.weights)\n",
        "    x = self.layer1(x)\n",
        "    x = self.layer2(x)\n",
        "    x = x.view(-1,7*7*32)\n",
        "    W = W.view( 10 , 7*7*32 )\n",
        "    x = torch.matmul(x,W.T)#.detach()\n",
        "\n",
        "    #x = self.outlayer(x)\n",
        "    output = nn.functional.softmax(x)\n",
        "    return output"
      ],
      "metadata": {
        "id": "hN3FzQYrt6xA"
      },
      "execution_count": 10,
      "outputs": []
    },
    {
      "cell_type": "code",
      "source": [
        "my_model = Lenet5_tensorized(3,2,8,14,14,10, 2)\n",
        "len(list(my_model.parameters()))"
      ],
      "metadata": {
        "id": "_Zinl9PzFu4B",
        "outputId": "c82e1e15-708a-412b-b16d-1bf7d1738365",
        "colab": {
          "base_uri": "https://localhost:8080/"
        }
      },
      "execution_count": 33,
      "outputs": [
        {
          "output_type": "execute_result",
          "data": {
            "text/plain": [
              "8"
            ]
          },
          "metadata": {},
          "execution_count": 33
        }
      ]
    },
    {
      "cell_type": "code",
      "source": [
        "list(my_model.parameters())[0].shape"
      ],
      "metadata": {
        "id": "52Str4j8HfOU",
        "outputId": "754f9d33-b747-4117-82a3-63394a01bed2",
        "colab": {
          "base_uri": "https://localhost:8080/"
        }
      },
      "execution_count": 20,
      "outputs": [
        {
          "output_type": "execute_result",
          "data": {
            "text/plain": [
              "torch.Size([16, 1, 3, 3])"
            ]
          },
          "metadata": {},
          "execution_count": 20
        }
      ]
    },
    {
      "cell_type": "code",
      "source": [
        "acc_list_train = []\n",
        "loss_list_train = []\n",
        "model_loss=0\n",
        "model_acc = 0\n",
        "for (data,label) in mnist_train_loader:\n",
        "  # print('y')\n",
        "  data = data.to(device)\n",
        "  label = label.to(device)\n",
        "  nn_output = my_model(data)\n",
        "  batch_loss = loss(nn_output, label)\n",
        "  batch_loss.backward(retain_graph=True)\n",
        "  optimizer.step()\n",
        "\n",
        "  optimizer.zero_grad()\n",
        "\n",
        "\n",
        "  # print('done')\n",
        "  model_loss += batch_loss\n",
        "  _, predict = torch.max(nn_output, axis =1)\n",
        "  batch_acc = torch.mean((predict == label).float())\n",
        "  model_acc += batch_acc\n",
        "\n"
      ],
      "metadata": {
        "id": "CzVA2AueJflo",
        "outputId": "404093a4-6e76-4661-bf3a-8736fca5524a",
        "colab": {
          "base_uri": "https://localhost:8080/"
        }
      },
      "execution_count": null,
      "outputs": [
        {
          "output_type": "stream",
          "name": "stderr",
          "text": [
            "/usr/local/lib/python3.7/dist-packages/ipykernel_launcher.py:42: UserWarning: Implicit dimension choice for softmax has been deprecated. Change the call to include dim=X as an argument.\n"
          ]
        }
      ]
    },
    {
      "cell_type": "code",
      "source": [
        "model_loss"
      ],
      "metadata": {
        "id": "0ZOuMfa6Zo-r",
        "outputId": "2654560c-44de-4d85-8ef6-523a4cee53c4",
        "colab": {
          "base_uri": "https://localhost:8080/"
        }
      },
      "execution_count": 31,
      "outputs": [
        {
          "output_type": "execute_result",
          "data": {
            "text/plain": [
              "tensor(246.4502, grad_fn=<AddBackward0>)"
            ]
          },
          "metadata": {},
          "execution_count": 31
        }
      ]
    },
    {
      "cell_type": "code",
      "source": [
        "optimizer = optim.SGD(my_model.parameters(), lr = .3)\n",
        "loss = nn.CrossEntropyLoss()\n",
        "epochs = 2"
      ],
      "metadata": {
        "id": "XWgztrRCfjzg"
      },
      "execution_count": 20,
      "outputs": []
    },
    {
      "cell_type": "code",
      "source": [
        "    acc_list_train = []\n",
        "    loss_list_train = []\n",
        "    epochs = 2\n",
        "    for ep in range(epochs):\n",
        "      model_loss = 0\n",
        "      model_acc = 0\n",
        "      #my_model.train()\n",
        "      \n",
        "      for (data,label) in mnist_train_loader:\n",
        "        data = data.to(device)\n",
        "        # if fully_connected:\n",
        "        #   data = data.view(-1,28*28) #Note that 28 is only valid for mnist, not for example for CIFAR.\n",
        "        label = label.to(device)\n",
        "        nn_output = my_model(data)\n",
        "        _, predict = torch.max(nn_output, axis =1)\n",
        "        batch_loss = loss(nn_output, label)\n",
        "        model_loss += batch_loss#/num_batches_train\n",
        "        batch_acc = torch.mean((predict == label).float())#/num_batches_train\n",
        "        model_acc += batch_acc\n",
        "\n",
        "        batch_loss.backward(retain_graph=True)\n",
        "        # if e==1:\n",
        "          # print(nn_model.out.weight.grad) \n",
        "        optimizer.step()\n",
        "\n",
        "        optimizer.zero_grad()\n",
        "\n",
        "      acc_list_train.append(model_acc)\n",
        "      loss_list_train.append(model_loss)"
      ],
      "metadata": {
        "id": "YbQfNN47X7JJ",
        "outputId": "f101904a-c59a-449d-a933-6f7ac85caffe",
        "colab": {
          "base_uri": "https://localhost:8080/"
        }
      },
      "execution_count": 21,
      "outputs": [
        {
          "output_type": "stream",
          "name": "stderr",
          "text": [
            "/usr/local/lib/python3.7/dist-packages/ipykernel_launcher.py:42: UserWarning: Implicit dimension choice for softmax has been deprecated. Change the call to include dim=X as an argument.\n"
          ]
        }
      ]
    },
    {
      "cell_type": "code",
      "source": [
        "loss_list_train"
      ],
      "metadata": {
        "id": "c3frukTdgUVX",
        "outputId": "56048e02-366e-49aa-c4b4-317efb39c76e",
        "colab": {
          "base_uri": "https://localhost:8080/"
        }
      },
      "execution_count": 23,
      "outputs": [
        {
          "output_type": "execute_result",
          "data": {
            "text/plain": [
              "[tensor(250.5506, grad_fn=<AddBackward0>),\n",
              " tensor(211.7545, grad_fn=<AddBackward0>)]"
            ]
          },
          "metadata": {},
          "execution_count": 23
        }
      ]
    },
    {
      "cell_type": "code",
      "source": [
        "epochs = 10\n",
        "tt_lenet_model = Lenet5_tensorized(3,2,8,14,14,10, 10)\n",
        "tt_lenet_model = tt_lenet_model.to(device)\n",
        "optimizer = optim.SGD(tt_lenet_model.parameters(), lr = .1)\n",
        "loss = nn.CrossEntropyLoss()\n",
        "acc_list_train, loss_list_train, acc_list_test, loss_list_test = train_nn(tt_lenet_model, loss,optimizer, mnist_train_loader, mnist_valid_loader, epochs)"
      ],
      "metadata": {
        "id": "nlv8rCnyzn6n",
        "outputId": "00864954-8852-47c1-def2-0443a6396737",
        "colab": {
          "base_uri": "https://localhost:8080/"
        }
      },
      "execution_count": 22,
      "outputs": [
        {
          "output_type": "stream",
          "name": "stderr",
          "text": [
            "  0%|          | 0/10 [00:00<?, ?it/s]/usr/local/lib/python3.7/dist-packages/ipykernel_launcher.py:42: UserWarning: Implicit dimension choice for softmax has been deprecated. Change the call to include dim=X as an argument.\n",
            "100%|██████████| 10/10 [06:09<00:00, 36.92s/it]\n"
          ]
        }
      ]
    },
    {
      "cell_type": "code",
      "source": [
        "acc_list_train"
      ],
      "metadata": {
        "id": "lwTgxwKWzJYE",
        "outputId": "609d752d-3d74-418d-d748-3dde515735ac",
        "colab": {
          "base_uri": "https://localhost:8080/"
        }
      },
      "execution_count": 23,
      "outputs": [
        {
          "output_type": "execute_result",
          "data": {
            "text/plain": [
              "[tensor(0.5506),\n",
              " tensor(0.7405),\n",
              " tensor(0.7937),\n",
              " tensor(0.8123),\n",
              " tensor(0.8226),\n",
              " tensor(0.8314),\n",
              " tensor(0.8365),\n",
              " tensor(0.8419),\n",
              " tensor(0.8452),\n",
              " tensor(0.8491)]"
            ]
          },
          "metadata": {},
          "execution_count": 23
        }
      ]
    },
    {
      "cell_type": "code",
      "source": [
        "plot_results([train_acc.cpu() for train_acc in acc_list_train], [test_acc.cpu() for test_acc in acc_list_test], [loss_train.detach().cpu() for loss_train in loss_list_train], [loss_test.detach().cpu() for loss_test in loss_list_test])"
      ],
      "metadata": {
        "id": "WaoVnysq0Vzq",
        "outputId": "4fd99d4c-ab43-482f-e3c6-43c734a5a11e",
        "colab": {
          "base_uri": "https://localhost:8080/",
          "height": 332
        }
      },
      "execution_count": 24,
      "outputs": [
        {
          "output_type": "display_data",
          "data": {
            "text/plain": [
              "<Figure size 720x360 with 2 Axes>"
            ],
            "image/png": "[encoded data removed]"
          },
          "metadata": {
            "needs_background": "light"
          }
        }
      ]
    },
    {
      "cell_type": "markdown",
      "source": [
        "#PART 3: CNN on CIFAR10"
      ],
      "metadata": {
        "id": "aU3qrhzzkshD"
      }
    },
    {
      "cell_type": "code",
      "source": [
        "cifar_data = torchvision.datasets.CIFAR10('CIFAR10_train', train = True, transform=transform, download= True)"
      ],
      "metadata": {
        "colab": {
          "base_uri": "https://localhost:8080/",
          "height": 82,
          "referenced_widgets": [
            "f8210482a9464e63b0aebd13ee95c4f1",
            "df79bfb2260f435492d46841bd39e317",
            "57eb8d6c56d6471a934f74c51cb4996e",
            "fd6dd21fc7f34f95a1e6a3e58b3d3961",
            "e89bf60f822e43a09fd334d5892808e9",
            "868598f6525f485ea64cdeafe9b481ad",
            "82570fbf1732442c8976dc579b4568df",
            "190d4cdfa9c54fff89e209a23a4acf6b",
            "71a3211a48824259b362571c9f7e69a8",
            "2cd978d16c634bd7ae24ecde22301c1b",
            "0416097e985d4ab68d95cfe837a66863"
          ]
        },
        "id": "yFyOap1AkzcG",
        "outputId": "12cba9f7-e0af-49b6-fc86-e6f7fb90c13f"
      },
      "execution_count": null,
      "outputs": [
        {
          "output_type": "stream",
          "name": "stdout",
          "text": [
            "Downloading https://www.cs.toronto.edu/~kriz/cifar-10-python.tar.gz to CIFAR10_train/cifar-10-python.tar.gz\n"
          ]
        },
        {
          "output_type": "display_data",
          "data": {
            "text/plain": [
              "  0%|          | 0/170498071 [00:00<?, ?it/s]"
            ],
            "application/vnd.jupyter.widget-view+json": {
              "version_major": 2,
              "version_minor": 0,
              "model_id": "f8210482a9464e63b0aebd13ee95c4f1"
            }
          },
          "metadata": {}
        },
        {
          "output_type": "stream",
          "name": "stdout",
          "text": [
            "Extracting CIFAR10_train/cifar-10-python.tar.gz to CIFAR10_train\n"
          ]
        }
      ]
    },
    {
      "cell_type": "code",
      "source": [
        "len(cifar_data)"
      ],
      "metadata": {
        "colab": {
          "base_uri": "https://localhost:8080/"
        },
        "id": "pB5lWf2RnQBk",
        "outputId": "9d138985-4136-42e9-c422-685409a46708"
      },
      "execution_count": null,
      "outputs": [
        {
          "output_type": "execute_result",
          "data": {
            "text/plain": [
              "50000"
            ]
          },
          "metadata": {},
          "execution_count": 7
        }
      ]
    },
    {
      "cell_type": "code",
      "source": [
        "cifar_train, cifar_valid = torch.utils.data.random_split(cifar_data, [40000,10000])"
      ],
      "metadata": {
        "id": "d22NBA2klS69"
      },
      "execution_count": null,
      "outputs": []
    },
    {
      "cell_type": "code",
      "source": [
        "train_batch_size= 250\n",
        "cifar_train_loader = torch.utils.data.DataLoader(cifar_train, train_batch_size, shuffle = True)#, drop_last= True  )\n",
        "valid_batch_size = 10000\n",
        "cifar_valid_loader = torch.utils.data.DataLoader(cifar_valid, valid_batch_size)#,  drop_last= True)"
      ],
      "metadata": {
        "id": "LjNO8iZqlSxd"
      },
      "execution_count": null,
      "outputs": []
    },
    {
      "cell_type": "code",
      "source": [
        "#Alex\n",
        "class Alex(nn.Module):\n",
        "  def __init__(self, kernel_size, pool_size):\n",
        "    super(Alex, self).__init__()\n",
        "    self.kernel_size = kernel_size\n",
        "    self.pool_size = pool_size\n",
        "    self.layer1 = nn.Sequential(nn.Conv2d(3,16,kernel_size,padding='same'), nn.ReLU())\n",
        "    nn.init.kaiming_normal_(self.layer1[0].weight)\n",
        "    self.layer2 = nn.Sequential(nn.Conv2d(16,64,kernel_size,padding='same'), nn.ReLU(), nn.AvgPool2d(pool_size))\n",
        "    nn.init.kaiming_normal_(self.layer2[0].weight)\n",
        "\n",
        "    self.layer3 = nn.Sequential(nn.Conv2d(64,128,kernel_size,padding='same'), nn.ReLU(), nn.AvgPool2d(pool_size))\n",
        "    nn.init.kaiming_normal_(self.layer3[0].weight)\n",
        "\n",
        "    self.out = nn.Linear(8*8*128, 10)\n",
        "    nn.init.kaiming_normal_(self.out.weight)\n",
        "\n",
        "  def forward(self,x):\n",
        "    x = self.layer1(x)\n",
        "    x = self.layer2(x)\n",
        "    x = self.layer3(x)\n",
        "    x = x.view(-1,8*8*128)\n",
        "    x = self.out(x)\n",
        "    output = nn.functional.softmax(x)\n",
        "    return output"
      ],
      "metadata": {
        "id": "k0OQXm8rlSo0"
      },
      "execution_count": null,
      "outputs": []
    },
    {
      "cell_type": "code",
      "source": [
        "alex_model = Alex(5,2)"
      ],
      "metadata": {
        "id": "PfPxpvQ7yy1F"
      },
      "execution_count": null,
      "outputs": []
    },
    {
      "cell_type": "code",
      "source": [
        "alex_model.layer1[0].weight.shape"
      ],
      "metadata": {
        "colab": {
          "base_uri": "https://localhost:8080/"
        },
        "id": "WfL3OJoCzqII",
        "outputId": "9fc19990-bacd-42a9-8169-d0a5620d5244"
      },
      "execution_count": null,
      "outputs": [
        {
          "output_type": "execute_result",
          "data": {
            "text/plain": [
              "torch.Size([16, 3, 3, 3])"
            ]
          },
          "metadata": {},
          "execution_count": 137
        }
      ]
    },
    {
      "cell_type": "code",
      "source": [
        "torch.std(alex_model.layer1[0].weight)"
      ],
      "metadata": {
        "colab": {
          "base_uri": "https://localhost:8080/"
        },
        "id": "ZFuGJr-DzUr0",
        "outputId": "2c0be307-74ef-4d9f-ecbc-e55c70b5ecb0"
      },
      "execution_count": null,
      "outputs": [
        {
          "output_type": "execute_result",
          "data": {
            "text/plain": [
              "tensor(0.1641, grad_fn=<StdBackward0>)"
            ]
          },
          "metadata": {},
          "execution_count": 157
        }
      ]
    },
    {
      "cell_type": "code",
      "source": [
        "32*32"
      ],
      "metadata": {
        "colab": {
          "base_uri": "https://localhost:8080/"
        },
        "id": "JRg05xk32rw2",
        "outputId": "34513a59-2404-4477-9479-6c7a9d4028b6"
      },
      "execution_count": null,
      "outputs": [
        {
          "output_type": "execute_result",
          "data": {
            "text/plain": [
              "1024"
            ]
          },
          "metadata": {},
          "execution_count": 129
        }
      ]
    },
    {
      "cell_type": "code",
      "source": [
        "2/27"
      ],
      "metadata": {
        "colab": {
          "base_uri": "https://localhost:8080/"
        },
        "id": "cQkCf_-q15jo",
        "outputId": "c08506be-e7c3-4d75-bf3d-18c02adbb62a"
      },
      "execution_count": null,
      "outputs": [
        {
          "output_type": "execute_result",
          "data": {
            "text/plain": [
              "0.07407407407407407"
            ]
          },
          "metadata": {},
          "execution_count": 139
        }
      ]
    },
    {
      "cell_type": "code",
      "source": [
        "epochs = 10\n",
        "alex_model = Alex(5,2).to(device)\n",
        "# alex_model = alex_model.to(device)\n",
        "optimizer = optim.SGD(alex_model.parameters(), lr = .3)\n",
        "loss = nn.CrossEntropyLoss()\n",
        "acc_list_train, loss_list_train, acc_list_test, loss_list_test = train_nn(alex_model, loss, optimizer, cifar_train_loader, cifar_valid_loader, epochs)"
      ],
      "metadata": {
        "colab": {
          "base_uri": "https://localhost:8080/"
        },
        "id": "BO9BLOg3qlGs",
        "outputId": "fef73739-df93-4c47-baf3-38e1f812a4a0"
      },
      "execution_count": null,
      "outputs": [
        {
          "output_type": "stream",
          "name": "stderr",
          "text": [
            "  0%|          | 0/10 [00:00<?, ?it/s]/usr/local/lib/python3.7/dist-packages/ipykernel_launcher.py:24: UserWarning: Implicit dimension choice for softmax has been deprecated. Change the call to include dim=X as an argument.\n",
            "100%|██████████| 10/10 [01:11<00:00,  7.12s/it]\n"
          ]
        }
      ]
    },
    {
      "cell_type": "code",
      "source": [
        "acc_list_train = [acc.cpu() for acc in acc_list_train]\n",
        "acc_list_test = [acc.cpu() for acc in acc_list_test]\n",
        "loss_list_train = [loss.cpu().detach() for loss in loss_list_train]\n",
        "loss_list_test = [loss.cpu().detach() for loss in loss_list_test]\n",
        "\n",
        "#Plot the results for LeNet!\n",
        "plot_results(acc_list_train, acc_list_test, loss_list_train, loss_list_test)\n"
      ],
      "metadata": {
        "colab": {
          "base_uri": "https://localhost:8080/",
          "height": 332
        },
        "id": "F6uLHQBM6ezr",
        "outputId": "67248c67-0783-417d-c2bf-41e6bf6c7314"
      },
      "execution_count": null,
      "outputs": [
        {
          "output_type": "display_data",
          "data": {
            "text/plain": [
              "<Figure size 720x360 with 2 Axes>"
            ],
            "image/png": "[encoded data removed]"
          },
          "metadata": {
            "needs_background": "light"
          }
        }
      ]
    },
    {
      "cell_type": "markdown",
      "source": [
        "#Interesting! Only by using the recommended initialization for ReLU, i.e., that of Kaiming He, I see this faster learning trend."
      ],
      "metadata": {
        "id": "NU02ob7_6nyS"
      }
    },
    {
      "cell_type": "code",
      "source": [
        "acc_list_train = [acc.cpu() for acc in acc_list_train]\n",
        "acc_list_test = [acc.cpu() for acc in acc_list_test]\n",
        "loss_list_train = [loss.cpu().detach() for loss in loss_list_train]\n",
        "loss_list_test = [loss.cpu().detach() for loss in loss_list_test]\n",
        "\n",
        "#Plot the results for LeNet!\n",
        "plot_results(acc_list_train, acc_list_test, loss_list_train, loss_list_test)"
      ],
      "metadata": {
        "colab": {
          "base_uri": "https://localhost:8080/",
          "height": 334
        },
        "id": "yM1VcKUWvHAH",
        "outputId": "6d53fab1-0bc0-4a4d-b18a-9d80b9ea2410"
      },
      "execution_count": null,
      "outputs": [
        {
          "output_type": "display_data",
          "data": {
            "text/plain": [
              "<Figure size 720x360 with 2 Axes>"
            ],
            "image/png": "[encoded data removed]"
          },
          "metadata": {
            "needs_background": "light"
          }
        }
      ]
    },
    {
      "cell_type": "code",
      "source": [
        "acc_list_train = [acc.cpu() for acc in acc_list_train]\n",
        "acc_list_test = [acc.cpu() for acc in acc_list_test]\n",
        "loss_list_train = [loss.cpu().detach() for loss in loss_list_train]\n",
        "loss_list_test = [loss.cpu().detach() for loss in loss_list_test]\n",
        "\n",
        "#Plot the results for LeNet!\n",
        "plot_results(acc_list_train, acc_list_test, loss_list_train, loss_list_test)"
      ],
      "metadata": {
        "colab": {
          "base_uri": "https://localhost:8080/",
          "height": 332
        },
        "id": "xO0sSUM9KDqC",
        "outputId": "1129ce4e-119e-4195-d9ce-51dc21a2c292"
      },
      "execution_count": null,
      "outputs": [
        {
          "output_type": "display_data",
          "data": {
            "text/plain": [
              "<Figure size 720x360 with 2 Axes>"
            ],
            "image/png": "[encoded data removed]"
          },
          "metadata": {
            "needs_background": "light"
          }
        }
      ]
    },
    {
      "cell_type": "markdown",
      "source": [
        "Seems overfitting has started. We try some regularization. But also, we use the good initialization, by Kaiming He."
      ],
      "metadata": {
        "id": "nwPFxjz1L8ze"
      }
    },
    {
      "cell_type": "code",
      "source": [
        "#Alex\n",
        "class Alex_regularized(nn.Module):\n",
        "  def __init__(self, kernel_size, pool_size):\n",
        "    super(Alex_regularized, self).__init__()\n",
        "    self.kernel_size = kernel_size\n",
        "    self.pool_size = pool_size\n",
        "    self.layer1 = nn.Sequential(nn.Conv2d(3,16,kernel_size,padding='same'), nn.ReLU())\n",
        "    nn.init.kaiming_normal_(self.layer1[0].weight)\n",
        "    self.layer2 = nn.Sequential(nn.Conv2d(16,64,kernel_size,padding='same'), nn.ReLU(), nn.AvgPool2d(pool_size))\n",
        "    nn.init.kaiming_normal_(self.layer2[0].weight)\n",
        "\n",
        "    self.layer3 = nn.Sequential(nn.Conv2d(64,128,kernel_size,padding='same'), nn.ReLU(), nn.AvgPool2d(pool_size))\n",
        "    nn.init.kaiming_normal_(self.layer3[0].weight)\n",
        "\n",
        "    self.out = nn.Linear(8*8*128, 10)\n",
        "    nn.init.kaiming_normal_(self.out.weight)\n",
        "\n",
        "    self.dropout1  = nn.Dropout(.2)\n",
        "    self.dropout2  = nn.Dropout(.3)\n",
        "    self.dropout3  = nn.Dropout(.5)\n",
        "   # self.dropout_out = nn.Dropout(.3)\n",
        "\n",
        "  def forward(self,x):\n",
        "    x = self.layer1(x)\n",
        "    x=self.dropout1(x)\n",
        "    x = self.layer2(x)\n",
        "    x=self.dropout2(x)    \n",
        "    x = self.layer3(x)\n",
        "    x=self.dropout3(x)\n",
        "\n",
        "    x = x.view(-1,8*8*128)\n",
        "    x = self.out(x)\n",
        "    output = nn.functional.softmax(x)\n",
        "    return output"
      ],
      "metadata": {
        "id": "pcMXqA3vMYk9"
      },
      "execution_count": null,
      "outputs": []
    },
    {
      "cell_type": "code",
      "source": [
        "epochs = 100\n",
        "alex_model_reg = Alex_regularized(5,2).to(device)\n",
        "# alex_model = alex_model.to(device)\n",
        "optimizer = optim.SGD(alex_model_reg.parameters(), lr = .3)\n",
        "loss = nn.CrossEntropyLoss()\n",
        "acc_list_train, loss_list_train, acc_list_test, loss_list_test = train_nn(alex_model_reg, loss, optimizer, cifar_train_loader, cifar_valid_loader, epochs)"
      ],
      "metadata": {
        "id": "loAhXlieM-8o"
      },
      "execution_count": null,
      "outputs": []
    },
    {
      "cell_type": "code",
      "source": [
        "acc_list_train = [acc.cpu() for acc in acc_list_train]\n",
        "acc_list_test = [acc.cpu() for acc in acc_list_test]\n",
        "loss_list_train = [loss.cpu().detach() for loss in loss_list_train]\n",
        "loss_list_test = [loss.cpu().detach() for loss in loss_list_test]\n",
        "\n",
        "#Plot the results for LeNet!\n",
        "plot_results(acc_list_train, acc_list_test, loss_list_train, loss_list_test)"
      ],
      "metadata": {
        "id": "YPp_CQnNI_ek",
        "outputId": "3460e9db-a6bb-4c6e-8935-fc186037ddd5",
        "colab": {
          "base_uri": "https://localhost:8080/",
          "height": 332
        }
      },
      "execution_count": null,
      "outputs": [
        {
          "output_type": "display_data",
          "data": {
            "text/plain": [
              "<Figure size 720x360 with 2 Axes>"
            ],
            "image/png": "[encoded data removed]"
          },
          "metadata": {
            "needs_background": "light"
          }
        }
      ]
    },
    {
      "cell_type": "code",
      "source": [
        "acc_list_train = [acc.cpu() for acc in acc_list_train]\n",
        "acc_list_test = [acc.cpu() for acc in acc_list_test]\n",
        "loss_list_train = [loss.cpu().detach() for loss in loss_list_train]\n",
        "loss_list_test = [loss.cpu().detach() for loss in loss_list_test]\n",
        "\n",
        "#Plot the results for LeNet!\n",
        "plot_results(acc_list_train, acc_list_test, loss_list_train, loss_list_test)"
      ],
      "metadata": {
        "colab": {
          "base_uri": "https://localhost:8080/",
          "height": 332
        },
        "id": "0pNOfglP8kz3",
        "outputId": "c0b90fca-3332-4c60-cc93-aa8ab9c71924"
      },
      "execution_count": null,
      "outputs": [
        {
          "output_type": "display_data",
          "data": {
            "text/plain": [
              "<Figure size 720x360 with 2 Axes>"
            ],
            "image/png": "[encoded data removed]"
          },
          "metadata": {
            "needs_background": "light"
          }
        }
      ]
    },
    {
      "cell_type": "markdown",
      "source": [
        "##Let's try Adam optimizer! (Why it isn't working?)"
      ],
      "metadata": {
        "id": "FY7M7XxxDMTW"
      }
    },
    {
      "cell_type": "code",
      "source": [
        "epochs = 10\n",
        "alex_model_reg = Alex_regularized(5,2).to(device)\n",
        "# alex_model = alex_model.to(device)\n",
        "optimizer = optim.Adam(alex_model_reg.parameters(), lr = .001)\n",
        "loss = nn.CrossEntropyLoss()\n",
        "acc_list_train, loss_list_train, acc_list_test, loss_list_test = train_nn(alex_model_reg, loss, optimizer, cifar_train_loader, cifar_valid_loader, epochs)"
      ],
      "metadata": {
        "id": "HGyDlanvDW5H",
        "outputId": "d107d55d-aa4d-42eb-d336-4aae7b3f54ee",
        "colab": {
          "base_uri": "https://localhost:8080/"
        }
      },
      "execution_count": null,
      "outputs": [
        {
          "output_type": "stream",
          "name": "stderr",
          "text": [
            "  0%|          | 0/10 [00:00<?, ?it/s]/usr/local/lib/python3.7/dist-packages/ipykernel_launcher.py:33: UserWarning: Implicit dimension choice for softmax has been deprecated. Change the call to include dim=X as an argument.\n",
            "100%|██████████| 10/10 [02:42<00:00, 16.27s/it]\n"
          ]
        }
      ]
    },
    {
      "cell_type": "code",
      "source": [
        "acc_list_train = [acc.cpu() for acc in acc_list_train]\n",
        "acc_list_test = [acc.cpu() for acc in acc_list_test]\n",
        "loss_list_train = [loss.cpu().detach() for loss in loss_list_train]\n",
        "loss_list_test = [loss.cpu().detach() for loss in loss_list_test]\n",
        "\n",
        "#Plot the results for LeNet!\n",
        "plot_results(acc_list_train, acc_list_test, loss_list_train, loss_list_test)"
      ],
      "metadata": {
        "id": "0fOVQL0SDmXR",
        "outputId": "842a08c8-0be7-4f0f-b91a-268a842a50b0",
        "colab": {
          "base_uri": "https://localhost:8080/",
          "height": 332
        }
      },
      "execution_count": null,
      "outputs": [
        {
          "output_type": "display_data",
          "data": {
            "text/plain": [
              "<Figure size 720x360 with 2 Axes>"
            ],
            "image/png": "[encoded data removed]"
          },
          "metadata": {
            "needs_background": "light"
          }
        }
      ]
    },
    {
      "cell_type": "markdown",
      "source": [
        "##and what if we add batch norm to Alex_regularized?"
      ],
      "metadata": {
        "id": "mqJ1aS756Pp2"
      }
    },
    {
      "cell_type": "code",
      "source": [
        "#Alex\n",
        "class Alex_regularized_bn(nn.Module):\n",
        "  def __init__(self, kernel_size, pool_size):\n",
        "    super(Alex_regularized_bn, self).__init__()\n",
        "    self.kernel_size = kernel_size\n",
        "    self.pool_size = pool_size\n",
        "    self.layer1 = nn.Sequential(nn.Conv2d(3,16,kernel_size,padding='same'), nn.BatchNorm2d(16, momentum=.3), nn.ReLU())\n",
        "    nn.init.kaiming_normal_(self.layer1[0].weight)\n",
        "    self.layer2 = nn.Sequential(nn.Conv2d(16,64,kernel_size,padding='same'), nn.ReLU(),nn.BatchNorm2d(64, momentum = .3), nn.AvgPool2d(pool_size))\n",
        "    nn.init.kaiming_normal_(self.layer2[0].weight)\n",
        "\n",
        "    self.layer3 = nn.Sequential(nn.Conv2d(64,128,kernel_size,padding='same'), nn.ReLU(), nn.BatchNorm2d(128, momentum = .3), nn.AvgPool2d(pool_size))\n",
        "    nn.init.kaiming_normal_(self.layer3[0].weight)\n",
        "\n",
        "    # self.out = nn.Linear(8*8*128, 10)\n",
        "    # nn.init.kaiming_normal_(self.out.weight)\n",
        "\n",
        "    self.linear_1 = nn.Linear(8*8*128, 3072)\n",
        "    nn.init.kaiming_normal_(self.linear_1.weight)\n",
        "\n",
        "    self.out = nn.Linear(3072, 10)\n",
        "    nn.init.kaiming_normal_(self.out.weight)\n",
        "\n",
        "\n",
        "    self.dropout1  = nn.Dropout(.2)\n",
        "    self.dropout2  = nn.Dropout(.3)\n",
        "    self.dropout3  = nn.Dropout(.5)\n",
        "    self.dropout4  = nn.Dropout(.6)\n",
        "   # self.dropout_out = nn.Dropout(.3)\n",
        "\n",
        "  def forward(self,x):\n",
        "    x = self.layer1(x)\n",
        "    #x=self.dropout1(x)\n",
        "    x = self.layer2(x)\n",
        "    #x=self.dropout2(x)    \n",
        "    x = self.layer3(x)\n",
        "    x=self.dropout3(x)\n",
        "\n",
        "    x = x.view(-1,8*8*128)\n",
        "    x = self.linear_1(x)\n",
        "    x = self.dropout4(x)\n",
        "    x= self.out(x)\n",
        "    output = nn.functional.softmax(x)\n",
        "    return output"
      ],
      "metadata": {
        "id": "s4QTC--aGBzS"
      },
      "execution_count": null,
      "outputs": []
    },
    {
      "cell_type": "code",
      "source": [
        "epochs = 20\n",
        "alex_model_reg_bn = Alex_regularized_bn(5,2).to(device)\n",
        "optimizer = optim.Adam(alex_model_reg_bn.parameters(), lr = .0001)\n",
        "loss = nn.CrossEntropyLoss()\n",
        "acc_list_train, loss_list_train, acc_list_test, loss_list_test = train_nn(alex_model_reg_bn, loss, optimizer, cifar_train_loader, cifar_valid_loader, epochs)"
      ],
      "metadata": {
        "colab": {
          "base_uri": "https://localhost:8080/"
        },
        "id": "5ce71ZUh8kXh",
        "outputId": "c578d4c8-acf1-4d91-b985-8a541af31bb0"
      },
      "execution_count": null,
      "outputs": [
        {
          "output_type": "stream",
          "name": "stderr",
          "text": [
            "  0%|          | 0/20 [00:00<?, ?it/s]/usr/local/lib/python3.7/dist-packages/ipykernel_launcher.py:43: UserWarning: Implicit dimension choice for softmax has been deprecated. Change the call to include dim=X as an argument.\n",
            "100%|██████████| 20/20 [03:23<00:00, 10.19s/it]\n"
          ]
        }
      ]
    },
    {
      "cell_type": "code",
      "source": [
        "acc_list_train = [acc.cpu() for acc in acc_list_train]\n",
        "acc_list_test = [acc.cpu() for acc in acc_list_test]\n",
        "loss_list_train = [loss.cpu().detach() for loss in loss_list_train]\n",
        "loss_list_test = [loss.cpu().detach() for loss in loss_list_test]\n",
        "\n",
        "#Plot the results for LeNet!\n",
        "plot_results(acc_list_train, acc_list_test, loss_list_train, loss_list_test)"
      ],
      "metadata": {
        "id": "PaOehsULyOKz",
        "outputId": "ef7a7d7f-f280-445b-dea6-5214e74d7563",
        "colab": {
          "base_uri": "https://localhost:8080/",
          "height": 332
        }
      },
      "execution_count": null,
      "outputs": [
        {
          "output_type": "display_data",
          "data": {
            "text/plain": [
              "<Figure size 720x360 with 2 Axes>"
            ],
            "image/png": "[encoded data removed]"
          },
          "metadata": {
            "needs_background": "light"
          }
        }
      ]
    },
    {
      "cell_type": "code",
      "source": [
        "acc_list_train = [acc.cpu() for acc in acc_list_train]\n",
        "acc_list_test = [acc.cpu() for acc in acc_list_test]\n",
        "loss_list_train = [loss.cpu().detach() for loss in loss_list_train]\n",
        "loss_list_test = [loss.cpu().detach() for loss in loss_list_test]\n",
        "\n",
        "#Plot the results for LeNet!\n",
        "plot_results(acc_list_train, acc_list_test, loss_list_train, loss_list_test)"
      ],
      "metadata": {
        "id": "p890LR0Km7Vh",
        "outputId": "2371ec83-3915-46a0-bd8e-a2de601425a9",
        "colab": {
          "base_uri": "https://localhost:8080/",
          "height": 335
        }
      },
      "execution_count": null,
      "outputs": [
        {
          "output_type": "display_data",
          "data": {
            "text/plain": [
              "<Figure size 720x360 with 2 Axes>"
            ],
            "image/png": "[encoded data removed]"
          },
          "metadata": {
            "needs_background": "light"
          }
        }
      ]
    },
    {
      "cell_type": "code",
      "source": [
        "acc_list_train = [acc.cpu() for acc in acc_list_train]\n",
        "acc_list_test = [acc.cpu() for acc in acc_list_test]\n",
        "loss_list_train = [loss.cpu().detach() for loss in loss_list_train]\n",
        "loss_list_test = [loss.cpu().detach() for loss in loss_list_test]\n",
        "\n",
        "#Plot the results for LeNet!\n",
        "plot_results(acc_list_train, acc_list_test, loss_list_train, loss_list_test)"
      ],
      "metadata": {
        "id": "4Yg5Sv_Af5Z9",
        "outputId": "cd050fcc-89d6-452b-a642-9e92117c255e",
        "colab": {
          "base_uri": "https://localhost:8080/",
          "height": 332
        }
      },
      "execution_count": null,
      "outputs": [
        {
          "output_type": "display_data",
          "data": {
            "text/plain": [
              "<Figure size 720x360 with 2 Axes>"
            ],
            "image/png": "[encoded data removed]"
          },
          "metadata": {
            "needs_background": "light"
          }
        }
      ]
    },
    {
      "cell_type": "markdown",
      "source": [
        "#Part4: Transfer Learning (VGG16 on CIFAR10)"
      ],
      "metadata": {
        "id": "WswnMD3RWw5b"
      }
    },
    {
      "cell_type": "markdown",
      "source": [
        "#PART 3: Batch Nomalization"
      ],
      "metadata": {
        "id": "5TIxSgcleAJu"
      }
    },
    {
      "cell_type": "markdown",
      "source": [
        "Batch normalization often yields faster training. Note that the operation is differentiable."
      ],
      "metadata": {
        "id": "qbWw6e3Mdl6i"
      }
    },
    {
      "cell_type": "code",
      "source": [
        "#A mlp with three hidden layers of sizes 1000, 1500, 800 and with batch norm\n",
        "class MLP(nn.Module):\n",
        "  def __init__(self, hidden_1, hidden_2):#, hidden_3):\n",
        "    super(MLP,self).__init__()\n",
        "\n",
        "    self.hidden_1, self.hidden_2 = hidden_1, hidden_2\n",
        "    self.normalized_data_1 = nn.BatchNorm1d(512) #Batch normalization is addded.\n",
        "    self.normalized_data_2 = nn.BatchNorm1d(128) #Batch normalization is addded.\n",
        "    self.fc1 = nn.Linear(784, self.hidden_1)\n",
        "    self.fc2 = nn.Linear(self.hidden_1, self.hidden_2)\n",
        " #   self.fc3 = nn.Linear(self.hidden_2, self.hidden_3)\n",
        "    self.out = nn.Linear(self.hidden_2, 10)\n",
        "\n",
        "  def forward(self,x):\n",
        "    activ_1 = F.relu(self.normalized_data_1(self.fc1(x)))\n",
        "    activ_2 = F.relu(self.normalized_data_2(self.fc2(activ_1)))\n",
        "   # activ_3 = F.relu(self.fc3(activ_2))\n",
        "    output = F.softmax(self.out(activ_2))\n",
        "    #output = self.out(activ_2)\n",
        "    return output"
      ],
      "metadata": {
        "id": "jWgW0Y-SIMPA"
      },
      "execution_count": null,
      "outputs": []
    },
    {
      "cell_type": "code",
      "source": [
        "epochs = 10\n",
        "mlp_model = MLP(512,128)\n",
        "mlp_model = mlp_model.to(device)\n",
        "optimizer = optim.SGD(mlp_model.parameters(), lr = .3)\n",
        "loss = nn.CrossEntropyLoss()\n",
        "acc_list_train, loss_list_train, acc_list_test, loss_list_test = train_nn(mlp_model, loss, optimizer, mnist_train_loader, mnist_valid_loader, epochs, fully_connected = True)"
      ],
      "metadata": {
        "colab": {
          "base_uri": "https://localhost:8080/"
        },
        "id": "z9tZMiHXAeo6",
        "outputId": "02783bc3-2c0a-4d6d-fdb3-84711181fe93"
      },
      "execution_count": null,
      "outputs": [
        {
          "output_type": "stream",
          "name": "stderr",
          "text": [
            "  0%|          | 0/10 [00:00<?, ?it/s]/usr/local/lib/python3.7/dist-packages/ipykernel_launcher.py:18: UserWarning: Implicit dimension choice for softmax has been deprecated. Change the call to include dim=X as an argument.\n",
            "100%|██████████| 10/10 [01:19<00:00,  7.92s/it]\n"
          ]
        }
      ]
    },
    {
      "cell_type": "code",
      "source": [
        "#Plot the results for MLP with BN (batch norm)!\n",
        "plot_results(acc_list_train, acc_list_test, loss_list_train, loss_list_test)"
      ],
      "metadata": {
        "colab": {
          "base_uri": "https://localhost:8080/",
          "height": 334
        },
        "id": "rnpIER0jAi4q",
        "outputId": "b1d700df-3acd-4c05-f5f5-756a9a87c38d"
      },
      "execution_count": null,
      "outputs": [
        {
          "output_type": "display_data",
          "data": {
            "image/png": "[encoded data removed]",
            "text/plain": [
              "<Figure size 720x360 with 2 Axes>"
            ]
          },
          "metadata": {
            "needs_background": "light"
          }
        }
      ]
    },
    {
      "cell_type": "code",
      "source": [
        "print(\"# Parameters: \", sum([param.nelement() for param in mlp_model.parameters()]))"
      ],
      "metadata": {
        "colab": {
          "base_uri": "https://localhost:8080/"
        },
        "id": "Hwb_iB7vdogz",
        "outputId": "7613358c-db9c-4a36-94bb-35d661d02719"
      },
      "execution_count": null,
      "outputs": [
        {
          "output_type": "stream",
          "name": "stdout",
          "text": [
            "# Parameters:  470154\n"
          ]
        }
      ]
    },
    {
      "cell_type": "code",
      "source": [
        "#LeNet5 with batch norm\n",
        "class Lenet5(nn.Module):\n",
        "  def __init__(self, kernel_size, pool_size):\n",
        "    super(Lenet5, self).__init__()\n",
        "#    self.normalize = nn.BatchNorm2d(1,)\n",
        "    self.kernel_size = kernel_size\n",
        "    self.pool_size = pool_size\n",
        "    self.layer1 = nn.Sequential(nn.Conv2d(1,16,5,padding='same'), nn.BatchNorm2d(16), nn.ReLU(), nn.AvgPool2d(2))\n",
        "    self.layer2 = nn.Sequential(nn.Conv2d(16,32,5,padding='same'),nn.BatchNorm2d(32) , nn.ReLU(), nn.AvgPool2d(2))\n",
        "    self.outlayer = nn.Linear(7*7*32, 10)\n",
        "\n",
        "  def forward(self,x):\n",
        "#    x = self.normalize(x)\n",
        "    x = self.layer1(x)\n",
        "    x = self.layer2(x)\n",
        "    x = x.view(-1,7*7*32)\n",
        "    x = self.outlayer(x)\n",
        "    output = nn.functional.softmax(x)\n",
        "    return output"
      ],
      "metadata": {
        "id": "oX602Pi9A3F7"
      },
      "execution_count": null,
      "outputs": []
    },
    {
      "cell_type": "markdown",
      "source": [
        "*** I should check if the batchnorm has been applied to train and validation in the correct way."
      ],
      "metadata": {
        "id": "fzEtMLwjFvpS"
      }
    },
    {
      "cell_type": "code",
      "source": [
        "epochs = 10\n",
        "lenet_model = Lenet5(3,2)\n",
        "lenet_model = lenet_model.to(device)\n",
        "optimizer = optim.SGD(lenet_model.parameters(), lr = .3)\n",
        "loss = nn.CrossEntropyLoss()\n",
        "acc_list_train, loss_list_train, acc_list_test, loss_list_test = train_nn(lenet_model, loss,optimizer, mnist_train_loader, mnist_valid_loader, epochs)"
      ],
      "metadata": {
        "colab": {
          "base_uri": "https://localhost:8080/"
        },
        "id": "q_FXswY-BLSd",
        "outputId": "73147dfb-e3a4-4c67-e92e-d139457ed9a7"
      },
      "execution_count": null,
      "outputs": [
        {
          "output_type": "stream",
          "name": "stderr",
          "text": [
            "  0%|          | 0/10 [00:00<?, ?it/s]/usr/local/lib/python3.7/dist-packages/ipykernel_launcher.py:18: UserWarning: Implicit dimension choice for softmax has been deprecated. Change the call to include dim=X as an argument.\n",
            "100%|██████████| 10/10 [01:23<00:00,  8.33s/it]\n"
          ]
        }
      ]
    },
    {
      "cell_type": "code",
      "source": [
        "#Plot the results for MLP with BN (batch norm)!\n",
        "plot_results(acc_list_train, acc_list_test, loss_list_train, loss_list_test)"
      ],
      "metadata": {
        "colab": {
          "base_uri": "https://localhost:8080/",
          "height": 336
        },
        "id": "-YDhKUj3BSBT",
        "outputId": "9564ff07-76ea-416b-daeb-0dcc2a882be3"
      },
      "execution_count": null,
      "outputs": [
        {
          "output_type": "display_data",
          "data": {
            "image/png": "[encoded data removed]",
            "text/plain": [
              "<Figure size 720x360 with 2 Axes>"
            ]
          },
          "metadata": {
            "needs_background": "light"
          }
        }
      ]
    },
    {
      "cell_type": "code",
      "source": [
        "print(lenet_model)\n",
        "\n",
        "print(\"\\n\\n# Parameters: \", sum([param.nelement() for param in lenet_model.parameters()]))"
      ],
      "metadata": {
        "colab": {
          "base_uri": "https://localhost:8080/"
        },
        "id": "WLIuULaXDjQw",
        "outputId": "201adf02-4dcc-422f-d15e-56dbcacb66ec"
      },
      "execution_count": null,
      "outputs": [
        {
          "output_type": "stream",
          "name": "stdout",
          "text": [
            "Lenet5(\n",
            "  (normalize): BatchNorm2d(1, eps=1e-05, momentum=0.1, affine=True, track_running_stats=True)\n",
            "  (layer1): Sequential(\n",
            "    (0): Conv2d(1, 16, kernel_size=(5, 5), stride=(1, 1), padding=same)\n",
            "    (1): ReLU()\n",
            "    (2): AvgPool2d(kernel_size=2, stride=2, padding=0)\n",
            "  )\n",
            "  (layer2): Sequential(\n",
            "    (0): Conv2d(16, 32, kernel_size=(5, 5), stride=(1, 1), padding=same)\n",
            "    (1): ReLU()\n",
            "    (2): AvgPool2d(kernel_size=2, stride=2, padding=0)\n",
            "  )\n",
            "  (outlayer): Linear(in_features=1568, out_features=10, bias=True)\n",
            ")\n",
            "\n",
            "\n",
            "# Parameters:  28940\n"
          ]
        }
      ]
    },
    {
      "cell_type": "markdown",
      "source": [
        "#PART 4: Transfer Learning : Finetuning the convnet vs. convnet as fixed feature extractor.\n"
      ],
      "metadata": {
        "id": "LIWCCA6ld6hh"
      }
    },
    {
      "cell_type": "code",
      "source": [
        "from tqdm import tqdm\n",
        "from torchvision import transforms, datasets\n",
        "import torch\n",
        "import torch.nn as nn\n",
        "import torchvision\n",
        "import numpy as np\n",
        "import matplotlib.pyplot as plt\n",
        "from torchvision import models\n",
        "import torch.optim as optim\n",
        "import copy"
      ],
      "metadata": {
        "id": "TVkikb2tGr3M"
      },
      "execution_count": null,
      "outputs": []
    },
    {
      "cell_type": "markdown",
      "source": [
        "For this part, we work with a small subset of IKmagenet: bees and ants.\n",
        "\n",
        "\n"
      ],
      "metadata": {
        "id": "uAWs59FJErkA"
      }
    },
    {
      "cell_type": "code",
      "source": [
        "!wget https://download.pytorch.org/tutorial/hymenoptera_data.zip"
      ],
      "metadata": {
        "colab": {
          "base_uri": "https://localhost:8080/"
        },
        "id": "KFqPVUMQTGv6",
        "outputId": "0a0093b9-553a-4c91-da6c-ddb938ef2dac"
      },
      "execution_count": null,
      "outputs": [
        {
          "output_type": "stream",
          "name": "stdout",
          "text": [
            "--2022-01-27 19:40:25--  https://download.pytorch.org/tutorial/hymenoptera_data.zip\n",
            "Resolving download.pytorch.org (download.pytorch.org)... 99.86.38.37, 99.86.38.106, 99.86.38.72, ...\n",
            "Connecting to download.pytorch.org (download.pytorch.org)|99.86.38.37|:443... connected.\n",
            "HTTP request sent, awaiting response... 200 OK\n",
            "Length: 47286322 (45M) [application/zip]\n",
            "Saving to: ‘hymenoptera_data.zip.2’\n",
            "\n",
            "\rhymenoptera_data.zi   0%[                    ]       0  --.-KB/s               \rhymenoptera_data.zi 100%[===================>]  45.10M   290MB/s    in 0.2s    \n",
            "\n",
            "2022-01-27 19:40:25 (290 MB/s) - ‘hymenoptera_data.zip.2’ saved [47286322/47286322]\n",
            "\n"
          ]
        }
      ]
    },
    {
      "cell_type": "code",
      "source": [
        "!unzip hymenoptera_data.zip"
      ],
      "metadata": {
        "id": "jllqZeq0ZezA"
      },
      "execution_count": null,
      "outputs": []
    },
    {
      "cell_type": "code",
      "source": [
        "data_dir = 'hymenoptera_data'"
      ],
      "metadata": {
        "id": "mSWfO2mxPe_H"
      },
      "execution_count": null,
      "outputs": []
    },
    {
      "cell_type": "code",
      "source": [
        "data_transforms = {\n",
        "    # Data augmentation and normalization for training\n",
        "    'train': transforms.Compose([\n",
        "        transforms.RandomResizedCrop(224),\n",
        "        transforms.RandomHorizontalFlip(),\n",
        "        transforms.ToTensor(),\n",
        "        transforms.Normalize([0.485, 0.456, 0.406], [0.229, 0.224, 0.225])\n",
        "    ]),\n",
        "    # Data normalization for validation\n",
        "    'val': transforms.Compose([\n",
        "        transforms.Resize(256),\n",
        "        transforms.CenterCrop(224),\n",
        "        transforms.ToTensor(),\n",
        "        transforms.Normalize([0.485, 0.456, 0.406], [0.229, 0.224, 0.225])\n",
        "    ]),\n",
        "}"
      ],
      "metadata": {
        "id": "vYhPoUp4XCI1"
      },
      "execution_count": null,
      "outputs": []
    },
    {
      "cell_type": "code",
      "source": [
        "image_datasets = {x: datasets.ImageFolder('/'.join([data_dir, x]),\n",
        "                                          data_transforms[x])\n",
        "                  for x in ['train', 'val']}"
      ],
      "metadata": {
        "id": "CnhoLEoHW2HQ"
      },
      "execution_count": null,
      "outputs": []
    },
    {
      "cell_type": "code",
      "source": [
        "batch_size= 4\n",
        "dataloaders = {x: torch.utils.data.DataLoader(image_datasets[x], batch_size = batch_size,\n",
        "                                             shuffle=True, num_workers=2)\n",
        "              for x in ['train', 'val']}\n",
        "dataset_sizes = {x: len(image_datasets[x]) for x in ['train', 'val']}\n",
        "class_names = image_datasets['train'].classes\n",
        "\n",
        "device = torch.device(\"cuda:0\" if torch.cuda.is_available() else \"cpu\")"
      ],
      "metadata": {
        "id": "Nadd2NBhXiBY"
      },
      "execution_count": null,
      "outputs": []
    },
    {
      "cell_type": "code",
      "source": [
        "def imshow(inp, title=None):\n",
        "    \"\"\"Imshow for Tensor.\"\"\"\n",
        "    inp = inp.numpy().transpose((1,2,0))\n",
        "    mean = np.array([0.485, 0.456, 0.406])\n",
        "    std = np.array([0.229, 0.224, 0.225])\n",
        "    inp = std * inp + mean\n",
        "    inp = np.clip(inp, 0, 1)\n",
        "    plt.imshow(inp)\n",
        "    if title is not None:\n",
        "        plt.title(title)\n",
        "    plt.pause(0.001)  # pause a bit so that plots are updated\n",
        "\n",
        "# Get a batch of training data\n",
        "inputs, classes = next(iter(dataloaders['train']))\n",
        "\n",
        "# Make a grid from batch\n",
        "out = torchvision.utils.make_grid(inputs)\n",
        "\n",
        "imshow(out, title=[class_names[x] for x in classes])"
      ],
      "metadata": {
        "colab": {
          "base_uri": "https://localhost:8080/",
          "height": 148
        },
        "id": "adVkvh58X90y",
        "outputId": "a5428b71-c1a8-4f5d-c195-6cf04c6e5bf8"
      },
      "execution_count": null,
      "outputs": [
        {
          "output_type": "display_data",
          "data": {
            "image/png": "[encoded data removed]",
            "text/plain": [
              "<Figure size 432x288 with 1 Axes>"
            ]
          },
          "metadata": {
            "needs_background": "light"
          }
        }
      ]
    },
    {
      "cell_type": "code",
      "source": [
        "my_resnet = models.resnet18(pretrained=True)\n",
        "my_resnet.fc = nn.Linear(my_resnet.fc.in_features ,2)"
      ],
      "metadata": {
        "colab": {
          "base_uri": "https://localhost:8080/",
          "height": 65,
          "referenced_widgets": [
            "1d642cf72c2c46388b7b4ac3fb3c5918",
            "2826846bd48b416082113c9510a8b3c2",
            "83d04ab9c8ef42a4be5fb00c173658bf",
            "c0321917fb4e4d0ea18663845389436b",
            "e664d6d44d934645bcc4289da11f69ef",
            "97ea39fb42a346498572a4370aa9c2c6",
            "5a6030adad9f4266a46ae59e890b9f71",
            "eec54527d0ee4ebf9e519f29ac328ca4",
            "54d387fc1ad54e74b619f3cf856665cd",
            "52a88487e11f4f188166c86bfeb2e92e",
            "1964c96199d14d2faf71af9dc95f7e12"
          ]
        },
        "id": "fAwDkjlEqzZ8",
        "outputId": "19c01949-de45-4ab4-e370-b112e04e75b0"
      },
      "execution_count": null,
      "outputs": [
        {
          "output_type": "stream",
          "name": "stderr",
          "text": [
            "Downloading: \"https://download.pytorch.org/models/resnet18-f37072fd.pth\" to /root/.cache/torch/hub/checkpoints/resnet18-f37072fd.pth\n"
          ]
        },
        {
          "output_type": "display_data",
          "data": {
            "application/vnd.jupyter.widget-view+json": {
              "model_id": "1d642cf72c2c46388b7b4ac3fb3c5918",
              "version_minor": 0,
              "version_major": 2
            },
            "text/plain": [
              "  0%|          | 0.00/44.7M [00:00<?, ?B/s]"
            ]
          },
          "metadata": {}
        }
      ]
    },
    {
      "cell_type": "code",
      "source": [
        "[a.nelement() for a in my_resnet.fc.parameters()]"
      ],
      "metadata": {
        "colab": {
          "base_uri": "https://localhost:8080/"
        },
        "id": "MiCBEN-yG7Ab",
        "outputId": "5aa184a3-dc80-48d2-ced6-1b27e711e9b9"
      },
      "execution_count": null,
      "outputs": [
        {
          "output_type": "execute_result",
          "data": {
            "text/plain": [
              "[1024, 2]"
            ]
          },
          "metadata": {},
          "execution_count": 10
        }
      ]
    },
    {
      "cell_type": "code",
      "source": [
        "my_resnet.state_dict()['fc.weight']"
      ],
      "metadata": {
        "colab": {
          "base_uri": "https://localhost:8080/"
        },
        "id": "eYf3PDLcHXEr",
        "outputId": "64d47824-6a34-45ab-f30e-0ffad4ecdb23"
      },
      "execution_count": null,
      "outputs": [
        {
          "output_type": "execute_result",
          "data": {
            "text/plain": [
              "tensor([[ 0.0218, -0.0220,  0.0394,  ...,  0.0229, -0.0229, -0.0158],\n",
              "        [-0.0045,  0.0104, -0.0213,  ..., -0.0267,  0.0370, -0.0245]])"
            ]
          },
          "metadata": {},
          "execution_count": 15
        }
      ]
    },
    {
      "cell_type": "code",
      "source": [
        "#finetunning the resnet18 pretrained model.\n",
        "def train_model(dataloaders, model, loss, optimizer, epochs):\n",
        "  #model_to_return = model\n",
        "  highest_acc = 0\n",
        "  iter =0 \n",
        "  for e in tqdm(range(epochs)):\n",
        "    iter += 1\n",
        "    print(f'\\nepoch {e+1}/{epochs}')\n",
        "    for mode in ['train', 'val']:\n",
        "      if mode == 'train':\n",
        "        model.train()\n",
        "      else:\n",
        "        model.eval()\n",
        "      model_loss = 0\n",
        "      model_acc = 0\n",
        "      model = model.to(device)\n",
        "      for data,labels in dataloaders[mode]:\n",
        "        data = data.to(device)\n",
        "        labels = labels.to(device)\n",
        "        model_output = model(data)\n",
        "        _,model_predict = torch.max(model_output,1)\n",
        "        batch_acc = torch.sum((model_predict == labels).float())/batch_size\n",
        "        if mode == 'train':\n",
        "          with torch.set_grad_enabled(True):\n",
        "            batch_loss = loss(model_output, labels)\n",
        "            batch_loss.backward()\n",
        "            optimizer.step()\n",
        "            optimizer.zero_grad()\n",
        "        else:\n",
        "          batch_loss = loss(model_output, labels)\n",
        "        model_loss += batch_loss.item()/len(dataloaders[mode])\n",
        "        model_acc += batch_acc/len(dataloaders[mode])\n",
        "      print('\\n{} loss = {}, {} accuracy = {}'.format(mode, model_loss, mode, model_acc))\n",
        "    if model_acc>highest_acc:#Based on the best validation accuracy, we save the model parameters at that best point.\n",
        "      highest_acc = model_acc\n",
        "      best_model_weights, index = copy.deepcopy(model.state_dict()), iter\n",
        "    print('--'*10)\n",
        "  model.load_state_dict(best_model_weights)\n",
        "  return (model,index) \n"
      ],
      "metadata": {
        "id": "Lae5vkShrFnl"
      },
      "execution_count": null,
      "outputs": []
    },
    {
      "cell_type": "code",
      "source": [
        "epochs = 9\n",
        "loss = nn.CrossEntropyLoss()\n",
        "optimizer = optim.SGD(my_resnet.parameters(), lr = .0001)\n",
        "final_model,epoch_index = train_model(dataloaders, my_resnet, loss, optimizer, epochs)"
      ],
      "metadata": {
        "colab": {
          "base_uri": "https://localhost:8080/"
        },
        "id": "zSnUxNqzFnoZ",
        "outputId": "5db09e1a-1cda-4b1e-cdbd-63d9bfc1c40e"
      },
      "execution_count": null,
      "outputs": [
        {
          "output_type": "stream",
          "name": "stderr",
          "text": [
            "\r  0%|          | 0/9 [00:00<?, ?it/s]"
          ]
        },
        {
          "output_type": "stream",
          "name": "stdout",
          "text": [
            "\n",
            "epoch 1/9\n",
            "\n",
            "train loss = 0.572901232809317, train accuracy = 0.7663930654525757\n"
          ]
        },
        {
          "output_type": "stream",
          "name": "stderr",
          "text": [
            "\r 11%|█         | 1/9 [00:03<00:29,  3.63s/it]"
          ]
        },
        {
          "output_type": "stream",
          "name": "stdout",
          "text": [
            "\n",
            "val loss = 0.4999975638511853, val accuracy = 0.7628207206726074\n",
            "--------------------\n",
            "\n",
            "epoch 2/9\n",
            "\n",
            "train loss = 0.5720395499565563, train accuracy = 0.7131143808364868\n"
          ]
        },
        {
          "output_type": "stream",
          "name": "stderr",
          "text": [
            "\r 22%|██▏       | 2/9 [00:07<00:25,  3.61s/it]"
          ]
        },
        {
          "output_type": "stream",
          "name": "stdout",
          "text": [
            "\n",
            "val loss = 0.4919747679661481, val accuracy = 0.7820514440536499\n",
            "--------------------\n",
            "\n",
            "epoch 3/9\n",
            "\n",
            "train loss = 0.555002685453071, train accuracy = 0.7418029308319092\n"
          ]
        },
        {
          "output_type": "stream",
          "name": "stderr",
          "text": [
            "\r 33%|███▎      | 3/9 [00:11<00:22,  3.70s/it]"
          ]
        },
        {
          "output_type": "stream",
          "name": "stdout",
          "text": [
            "\n",
            "val loss = 0.47990789398168915, val accuracy = 0.7948719263076782\n",
            "--------------------\n",
            "\n",
            "epoch 4/9\n",
            "\n",
            "train loss = 0.5571296171086733, train accuracy = 0.721311092376709\n"
          ]
        },
        {
          "output_type": "stream",
          "name": "stderr",
          "text": [
            "\r 44%|████▍     | 4/9 [00:14<00:18,  3.72s/it]"
          ]
        },
        {
          "output_type": "stream",
          "name": "stdout",
          "text": [
            "\n",
            "val loss = 0.45540914474389504, val accuracy = 0.8269231915473938\n",
            "--------------------\n",
            "\n",
            "epoch 5/9\n",
            "\n",
            "train loss = 0.5412202013320611, train accuracy = 0.7459012866020203\n"
          ]
        },
        {
          "output_type": "stream",
          "name": "stderr",
          "text": [
            "\r 56%|█████▌    | 5/9 [00:18<00:14,  3.73s/it]"
          ]
        },
        {
          "output_type": "stream",
          "name": "stdout",
          "text": [
            "\n",
            "val loss = 0.44056143668981695, val accuracy = 0.8205130696296692\n",
            "--------------------\n",
            "\n",
            "epoch 6/9\n",
            "\n",
            "train loss = 0.53707662664476, train accuracy = 0.7295078039169312\n"
          ]
        },
        {
          "output_type": "stream",
          "name": "stderr",
          "text": [
            "\r 67%|██████▋   | 6/9 [00:22<00:11,  3.74s/it]"
          ]
        },
        {
          "output_type": "stream",
          "name": "stdout",
          "text": [
            "\n",
            "val loss = 0.43382992843786894, val accuracy = 0.8269232511520386\n",
            "--------------------\n",
            "\n",
            "epoch 7/9\n",
            "\n",
            "train loss = 0.527151420712471, train accuracy = 0.78278648853302\n"
          ]
        },
        {
          "output_type": "stream",
          "name": "stderr",
          "text": [
            "\r 78%|███████▊  | 7/9 [00:26<00:07,  3.74s/it]"
          ]
        },
        {
          "output_type": "stream",
          "name": "stdout",
          "text": [
            "\n",
            "val loss = 0.41142721130297727, val accuracy = 0.8525640964508057\n",
            "--------------------\n",
            "\n",
            "epoch 8/9\n",
            "\n",
            "train loss = 0.5428432670773051, train accuracy = 0.7377044558525085\n"
          ]
        },
        {
          "output_type": "stream",
          "name": "stderr",
          "text": [
            "\r 89%|████████▉ | 8/9 [00:29<00:03,  3.74s/it]"
          ]
        },
        {
          "output_type": "stream",
          "name": "stdout",
          "text": [
            "\n",
            "val loss = 0.4200981343403842, val accuracy = 0.8269231915473938\n",
            "--------------------\n",
            "\n",
            "epoch 9/9\n",
            "\n",
            "train loss = 0.48561211296769446, train accuracy = 0.8155733346939087\n"
          ]
        },
        {
          "output_type": "stream",
          "name": "stderr",
          "text": [
            "100%|██████████| 9/9 [00:33<00:00,  3.74s/it]"
          ]
        },
        {
          "output_type": "stream",
          "name": "stdout",
          "text": [
            "\n",
            "val loss = 0.3952563771834739, val accuracy = 0.8653847575187683\n",
            "--------------------\n"
          ]
        },
        {
          "output_type": "stream",
          "name": "stderr",
          "text": [
            "\n"
          ]
        }
      ]
    },
    {
      "cell_type": "code",
      "source": [
        "epoch_index"
      ],
      "metadata": {
        "colab": {
          "base_uri": "https://localhost:8080/"
        },
        "id": "JTjqqVHcVHKt",
        "outputId": "4cba3637-c71b-4386-f3bb-a0fc685e3e25"
      },
      "execution_count": null,
      "outputs": [
        {
          "output_type": "execute_result",
          "data": {
            "text/plain": [
              "9"
            ]
          },
          "metadata": {},
          "execution_count": 21
        }
      ]
    },
    {
      "cell_type": "code",
      "source": [
        "#Now, we save the best model parameters, using state_dict method.\n",
        "torch.save(final_model.state_dict(), 'best_model')"
      ],
      "metadata": {
        "id": "jGhvghPp5A9g"
      },
      "execution_count": null,
      "outputs": []
    },
    {
      "cell_type": "code",
      "source": [
        "#Next, we load the saved model and evaluate it on the validation data.\n",
        "my_resnet = models.resnet18()\n",
        "in_feat = my_resnet.fc.in_features\n",
        "my_resnet.fc = nn.Linear(in_feat,2)\n",
        "my_resnet.load_state_dict(torch.load('best_model'))\n",
        "my_resnet = my_resnet.to(device)\n",
        "my_resnet.eval()"
      ],
      "metadata": {
        "colab": {
          "base_uri": "https://localhost:8080/"
        },
        "id": "bUb0UtMQ8Udi",
        "outputId": "8e108330-3697-425c-c320-01bf4d57f1c4"
      },
      "execution_count": null,
      "outputs": [
        {
          "output_type": "execute_result",
          "data": {
            "text/plain": [
              "ResNet(\n",
              "  (conv1): Conv2d(3, 64, kernel_size=(7, 7), stride=(2, 2), padding=(3, 3), bias=False)\n",
              "  (bn1): BatchNorm2d(64, eps=1e-05, momentum=0.1, affine=True, track_running_stats=True)\n",
              "  (relu): ReLU(inplace=True)\n",
              "  (maxpool): MaxPool2d(kernel_size=3, stride=2, padding=1, dilation=1, ceil_mode=False)\n",
              "  (layer1): Sequential(\n",
              "    (0): BasicBlock(\n",
              "      (conv1): Conv2d(64, 64, kernel_size=(3, 3), stride=(1, 1), padding=(1, 1), bias=False)\n",
              "      (bn1): BatchNorm2d(64, eps=1e-05, momentum=0.1, affine=True, track_running_stats=True)\n",
              "      (relu): ReLU(inplace=True)\n",
              "      (conv2): Conv2d(64, 64, kernel_size=(3, 3), stride=(1, 1), padding=(1, 1), bias=False)\n",
              "      (bn2): BatchNorm2d(64, eps=1e-05, momentum=0.1, affine=True, track_running_stats=True)\n",
              "    )\n",
              "    (1): BasicBlock(\n",
              "      (conv1): Conv2d(64, 64, kernel_size=(3, 3), stride=(1, 1), padding=(1, 1), bias=False)\n",
              "      (bn1): BatchNorm2d(64, eps=1e-05, momentum=0.1, affine=True, track_running_stats=True)\n",
              "      (relu): ReLU(inplace=True)\n",
              "      (conv2): Conv2d(64, 64, kernel_size=(3, 3), stride=(1, 1), padding=(1, 1), bias=False)\n",
              "      (bn2): BatchNorm2d(64, eps=1e-05, momentum=0.1, affine=True, track_running_stats=True)\n",
              "    )\n",
              "  )\n",
              "  (layer2): Sequential(\n",
              "    (0): BasicBlock(\n",
              "      (conv1): Conv2d(64, 128, kernel_size=(3, 3), stride=(2, 2), padding=(1, 1), bias=False)\n",
              "      (bn1): BatchNorm2d(128, eps=1e-05, momentum=0.1, affine=True, track_running_stats=True)\n",
              "      (relu): ReLU(inplace=True)\n",
              "      (conv2): Conv2d(128, 128, kernel_size=(3, 3), stride=(1, 1), padding=(1, 1), bias=False)\n",
              "      (bn2): BatchNorm2d(128, eps=1e-05, momentum=0.1, affine=True, track_running_stats=True)\n",
              "      (downsample): Sequential(\n",
              "        (0): Conv2d(64, 128, kernel_size=(1, 1), stride=(2, 2), bias=False)\n",
              "        (1): BatchNorm2d(128, eps=1e-05, momentum=0.1, affine=True, track_running_stats=True)\n",
              "      )\n",
              "    )\n",
              "    (1): BasicBlock(\n",
              "      (conv1): Conv2d(128, 128, kernel_size=(3, 3), stride=(1, 1), padding=(1, 1), bias=False)\n",
              "      (bn1): BatchNorm2d(128, eps=1e-05, momentum=0.1, affine=True, track_running_stats=True)\n",
              "      (relu): ReLU(inplace=True)\n",
              "      (conv2): Conv2d(128, 128, kernel_size=(3, 3), stride=(1, 1), padding=(1, 1), bias=False)\n",
              "      (bn2): BatchNorm2d(128, eps=1e-05, momentum=0.1, affine=True, track_running_stats=True)\n",
              "    )\n",
              "  )\n",
              "  (layer3): Sequential(\n",
              "    (0): BasicBlock(\n",
              "      (conv1): Conv2d(128, 256, kernel_size=(3, 3), stride=(2, 2), padding=(1, 1), bias=False)\n",
              "      (bn1): BatchNorm2d(256, eps=1e-05, momentum=0.1, affine=True, track_running_stats=True)\n",
              "      (relu): ReLU(inplace=True)\n",
              "      (conv2): Conv2d(256, 256, kernel_size=(3, 3), stride=(1, 1), padding=(1, 1), bias=False)\n",
              "      (bn2): BatchNorm2d(256, eps=1e-05, momentum=0.1, affine=True, track_running_stats=True)\n",
              "      (downsample): Sequential(\n",
              "        (0): Conv2d(128, 256, kernel_size=(1, 1), stride=(2, 2), bias=False)\n",
              "        (1): BatchNorm2d(256, eps=1e-05, momentum=0.1, affine=True, track_running_stats=True)\n",
              "      )\n",
              "    )\n",
              "    (1): BasicBlock(\n",
              "      (conv1): Conv2d(256, 256, kernel_size=(3, 3), stride=(1, 1), padding=(1, 1), bias=False)\n",
              "      (bn1): BatchNorm2d(256, eps=1e-05, momentum=0.1, affine=True, track_running_stats=True)\n",
              "      (relu): ReLU(inplace=True)\n",
              "      (conv2): Conv2d(256, 256, kernel_size=(3, 3), stride=(1, 1), padding=(1, 1), bias=False)\n",
              "      (bn2): BatchNorm2d(256, eps=1e-05, momentum=0.1, affine=True, track_running_stats=True)\n",
              "    )\n",
              "  )\n",
              "  (layer4): Sequential(\n",
              "    (0): BasicBlock(\n",
              "      (conv1): Conv2d(256, 512, kernel_size=(3, 3), stride=(2, 2), padding=(1, 1), bias=False)\n",
              "      (bn1): BatchNorm2d(512, eps=1e-05, momentum=0.1, affine=True, track_running_stats=True)\n",
              "      (relu): ReLU(inplace=True)\n",
              "      (conv2): Conv2d(512, 512, kernel_size=(3, 3), stride=(1, 1), padding=(1, 1), bias=False)\n",
              "      (bn2): BatchNorm2d(512, eps=1e-05, momentum=0.1, affine=True, track_running_stats=True)\n",
              "      (downsample): Sequential(\n",
              "        (0): Conv2d(256, 512, kernel_size=(1, 1), stride=(2, 2), bias=False)\n",
              "        (1): BatchNorm2d(512, eps=1e-05, momentum=0.1, affine=True, track_running_stats=True)\n",
              "      )\n",
              "    )\n",
              "    (1): BasicBlock(\n",
              "      (conv1): Conv2d(512, 512, kernel_size=(3, 3), stride=(1, 1), padding=(1, 1), bias=False)\n",
              "      (bn1): BatchNorm2d(512, eps=1e-05, momentum=0.1, affine=True, track_running_stats=True)\n",
              "      (relu): ReLU(inplace=True)\n",
              "      (conv2): Conv2d(512, 512, kernel_size=(3, 3), stride=(1, 1), padding=(1, 1), bias=False)\n",
              "      (bn2): BatchNorm2d(512, eps=1e-05, momentum=0.1, affine=True, track_running_stats=True)\n",
              "    )\n",
              "  )\n",
              "  (avgpool): AdaptiveAvgPool2d(output_size=(1, 1))\n",
              "  (fc): Linear(in_features=512, out_features=2, bias=True)\n",
              ")"
            ]
          },
          "metadata": {},
          "execution_count": 9
        }
      ]
    },
    {
      "cell_type": "code",
      "source": [
        "acc = 0\n",
        "for data , label in dataloaders['val']:\n",
        "  data = data.to(device)\n",
        "  label = label.to(device)\n",
        "  res = my_resnet(data)\n",
        "  _,pred = torch.max(res,1)\n",
        "  acc_batch = torch.sum((pred == label).float())/4\n",
        "  acc += acc_batch/len(dataloaders['val'])"
      ],
      "metadata": {
        "id": "nXG8Wi3W9Kf_"
      },
      "execution_count": null,
      "outputs": []
    },
    {
      "cell_type": "code",
      "source": [
        "acc"
      ],
      "metadata": {
        "colab": {
          "base_uri": "https://localhost:8080/"
        },
        "id": "5iK1jgEA9Z0q",
        "outputId": "a175211d-d2da-4d02-e9de-8aa9a1d39321"
      },
      "execution_count": null,
      "outputs": [
        {
          "output_type": "execute_result",
          "data": {
            "text/plain": [
              "tensor(0.8654, device='cuda:0')"
            ]
          },
          "metadata": {},
          "execution_count": 11
        }
      ]
    },
    {
      "cell_type": "markdown",
      "source": [
        "The alternative approach to transfer learning is to use the pretrained Rennet18 as a fixed feature extractor and just fine-tune the fc layer."
      ],
      "metadata": {
        "id": "bLt8SzhiYqiv"
      }
    }
  ]
}