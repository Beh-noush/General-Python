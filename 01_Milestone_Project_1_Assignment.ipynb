{
  "nbformat": 4,
  "nbformat_minor": 0,
  "metadata": {
    "kernelspec": {
      "display_name": "Python 3",
      "language": "python",
      "name": "python3"
    },
    "language_info": {
      "codemirror_mode": {
        "name": "ipython",
        "version": 3
      },
      "file_extension": ".py",
      "mimetype": "text/x-python",
      "name": "python",
      "nbconvert_exporter": "python",
      "pygments_lexer": "ipython3",
      "version": "3.6.6"
    },
    "colab": {
      "name": "01-Milestone Project 1 - Assignment.ipynb",
      "provenance": [],
      "collapsed_sections": [],
      "include_colab_link": true
    }
  },
  "cells": [
    {
      "cell_type": "markdown",
      "metadata": {
        "id": "view-in-github",
        "colab_type": "text"
      },
      "source": [
        "<a href=\"https://colab.research.google.com/github/Beh-noush/General-Python/blob/main/01_Milestone_Project_1_Assignment.ipynb\" target=\"_parent\"><img src=\"https://colab.research.google.com/assets/colab-badge.svg\" alt=\"Open In Colab\"/></a>"
      ]
    },
    {
      "cell_type": "markdown",
      "metadata": {
        "id": "7DNvJSm1Fsle"
      },
      "source": [
        "# Milestone Project 1\n",
        "## Congratulations on making it to your first milestone!\n",
        "You've already learned a ton and are ready to work on a real project.\n",
        "\n",
        "Your assignment: Create a Tic Tac Toe game. You are free to use any IDE you like.\n",
        "\n",
        "Here are the requirements:\n",
        "\n",
        "* 2 players should be able to play the game (both sitting at the same computer)\n",
        "* The board should be printed out every time a player makes a move\n",
        "* You should be able to accept input of the player position and then place a symbol on the board\n",
        "\n",
        "Feel free to use Google to help you figure anything out (but don't just Google \"Tic Tac Toe in Python\" otherwise you won't learn anything!) Keep in mind that this project can take anywhere between several hours to several days.\n",
        "\n",
        "There are 4 Jupyter Notebooks related to this assignment:\n",
        "\n",
        "* This Assignment Notebook\n",
        "* A \"Walkthrough Steps Workbook\" Notebook\n",
        "* A \"Complete Walkthrough Solution\" Notebook\n",
        "* An \"Advanced Solution\" Notebook\n",
        "\n",
        "I encourage you to just try to start the project on your own without referencing any of the notebooks. If you get stuck, check out the next lecture which is a text lecture with helpful hints and steps. If you're still stuck after that, then check out the Walkthrough Steps Workbook, which breaks up the project in steps for you to solve. Still stuck? Then check out the Complete Walkthrough Solution video for more help on approaching the project!"
      ]
    },
    {
      "cell_type": "markdown",
      "metadata": {
        "id": "-PYe-MnUFslf"
      },
      "source": [
        "There are parts of this that will be a struggle...and that is good! I have complete faith that if you have made it this far through the course you have all the tools and knowledge to tackle this project. Remember, it's totally open book, so take your time, do a little research, and remember:\n",
        "\n",
        "## HAVE FUN!"
      ]
    },
    {
      "cell_type": "code",
      "metadata": {
        "id": "nlvOh9pxnGKc"
      },
      "source": [
        "def user_choice( range, user ):\n",
        "  choice = 'incorrect'\n",
        "  within_range = False\n",
        "  while not choice.isdigit() or within_range == False:\n",
        "    choice = input(f'{user} Enter a number in {range}')\n",
        "    if choice.isdigit():\n",
        "      if int(choice) in range:\n",
        "        within_range = True\n",
        "      else:\n",
        "        print('Your number is not within the range.')\n",
        "    else:\n",
        "      print('The input should be a number.')\n",
        "  return int(choice)\n"
      ],
      "execution_count": null,
      "outputs": []
    },
    {
      "cell_type": "code",
      "metadata": {
        "id": "ClAFI9lo5fkO"
      },
      "source": [
        "from IPython.display import clear_output\n",
        "def playboard(play_list):\n",
        "  a_1,a_2,a_3,a_4,a_5,a_6,a_7,a_8,a_9 = play_list\n",
        "  print( f'|__{a_1}__|__{a_2}__|__{a_3}__|\\n|__{a_4}__|__{a_5}__|__{a_6}__|\\n|__{a_7}__|__{a_8}__|__{a_9}__|' )\n"
      ],
      "execution_count": null,
      "outputs": []
    },
    {
      "cell_type": "code",
      "metadata": {
        "id": "FH0kmpUa5gI2"
      },
      "source": [
        "def is_game_won(play_board, marker_1, marker_2):\n",
        "  num_1, num_2,num_3,num_4,num_5,num_6,num_7,num_8,num_9 = play_board\n",
        "  win_1 = num_1 == num_2 == num_3  \n",
        "  win_2 = num_1 == num_4 == num_7 \n",
        "  win_3 = num_3 == num_6 == num_9  \n",
        "  win_4 = num_7 == num_8 == num_9   \n",
        "  win_5 = num_1 == num_5 == num_9  \n",
        "  win_6 = num_3 == num_5 == num_7  \n",
        "    \n",
        "  game_won = win_1 or win_2 or win_3 or win_4 or win_5 or win_6\n",
        "  if game_won:\n",
        "    if (win_1 or win_2 or win_5) and num_1 == marker_1:\n",
        "      winner = marker_1\n",
        "      #print(f'{player_1}  has won.')\n",
        "    elif (win_1 or win_2 or win_5) and num_1 == marker_2:\n",
        "      winner = marker_2\n",
        "      #print(f'{player_2}  has won.')\n",
        "    elif (win_3 or win_6) and num_3 == marker_1:\n",
        "      winner = marker_1\n",
        "      #print(f'{player_1}  has won.')\n",
        "    elif (win_3 or win_6) and num_3 == marker_2:\n",
        "      winner = marker_2\n",
        "      #print(f'{player_2}  has won.')\n",
        "    elif win_4 and num_7 == marker_1:\n",
        "      winner = marker_1\n",
        "      #print(f'{player_1} has won.')\n",
        "    else:\n",
        "      winner = marker_2\n",
        "      #print(f'{player_2} won.')\n",
        "  else:\n",
        "    winner = 'no_winner'\n",
        "  return (game_won, winner)#tuple(game_won, winner)\n"
      ],
      "execution_count": null,
      "outputs": []
    },
    {
      "cell_type": "code",
      "metadata": {
        "colab": {
          "base_uri": "https://localhost:8080/"
        },
        "id": "JuWX-HKrLPb-",
        "outputId": "fd1a0251-e9df-4907-b286-e91047c6f833"
      },
      "source": [
        "player_1 = input(\"Entre le nom du premier joueur!\\n\")\n",
        "player_2 = input(\"Entre le nom du deuxiem joueur!\\n\")\n",
        "players_list = [player_1, player_2]\n",
        "markers = ['X' , 'O']\n",
        "positions = list(range(1,10))\n",
        "play_array = list(range(1,10))\n",
        "\n",
        "playboard(play_array)\n",
        "m = 'non_valid'\n",
        "while  m not in markers:\n",
        "  m = input(f'{player_1} choisit son marqueur: X ou O. ')\n",
        "  \n",
        "marker_1 = m\n",
        "markers.remove(m)\n",
        "marker_2 = markers[0]\n",
        "marker_list = [marker_1, marker_2]\n",
        "print(f'{player_1} a {m}\\n{player_2} a {markers[0]}.')\n",
        "\n",
        "game_on = True\n",
        "while game_on:\n",
        "  for player, marker in zip(players_list, marker_list):\n",
        "    posit = user_choice(positions, player)\n",
        "    play_array[posit-1] = marker\n",
        "    clear_output()\n",
        "    playboard(play_array)\n",
        "    positions.remove(posit)\n",
        "\n",
        "    game_won = is_game_won(play_array , marker_1, marker_2)\n",
        "    game_off = len(positions)==0 or game_won[0]\n",
        "    if game_won[0]:\n",
        "      if game_won[1] == marker:\n",
        "        print(f\"{player} a gagne.\")\n",
        "      else:\n",
        "        print(f\"{player} a gagne.\")\n",
        "    if game_off:\n",
        "      break\n",
        "  if game_off:\n",
        "    break\n",
        "print(\"Game is over!\" )"
      ],
      "execution_count": null,
      "outputs": [
        {
          "output_type": "stream",
          "text": [
            "|__X__|__O__|__X__|\n",
            "|__O__|__O__|__X__|\n",
            "|__X__|__X__|__O__|\n",
            "Game is over!\n"
          ],
          "name": "stdout"
        }
      ]
    }
  ]
}