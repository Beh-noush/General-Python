{
  "nbformat": 4,
  "nbformat_minor": 0,
  "metadata": {
    "colab": {
      "name": "titanic-MLP.ipynb",
      "provenance": [],
      "collapsed_sections": [],
      "authorship_tag": "ABX9TyNhczi7a5dPqhMS3ShWRbSs",
      "include_colab_link": true
    },
    "kernelspec": {
      "name": "python3",
      "display_name": "Python 3"
    },
    "language_info": {
      "name": "python"
    },
    "accelerator": "GPU"
  },
  "cells": [
    {
      "cell_type": "markdown",
      "metadata": {
        "id": "view-in-github",
        "colab_type": "text"
      },
      "source": [
        "<a href=\"https://colab.research.google.com/github/Beh-noush/General-Python/blob/main/titanic_MLP.ipynb\" target=\"_parent\"><img src=\"https://colab.research.google.com/assets/colab-badge.svg\" alt=\"Open In Colab\"/></a>"
      ]
    },
    {
      "cell_type": "markdown",
      "source": [
        "#Pytorch Example: Titanic Dataset"
      ],
      "metadata": {
        "id": "8IANIyTCLyY4"
      }
    },
    {
      "cell_type": "code",
      "execution_count": 1,
      "metadata": {
        "colab": {
          "base_uri": "https://localhost:8080/"
        },
        "id": "cHqj5reNKdhF",
        "outputId": "df836df3-231f-4833-defc-d1661e600d67"
      },
      "outputs": [
        {
          "output_type": "stream",
          "name": "stdout",
          "text": [
            "Torch version:  1.10.0+cu111\n",
            "GPU Available: True\n"
          ]
        }
      ],
      "source": [
        "import torch\n",
        "import pandas as pd\n",
        "import numpy as np\n",
        "import matplotlib.pyplot as plt\n",
        "%matplotlib inline\n",
        "\n",
        "seed = 1234\n",
        "np.random.seed(seed) # Set the random seed of numpy for the data split.\n",
        "\n",
        "use_gpu = torch.cuda.is_available()\n",
        "device = torch.device(\"cuda:0\" if use_gpu else \"cpu\")\n",
        "\n",
        "\n",
        "print(\"Torch version: \", torch.__version__)\n",
        "print(\"GPU Available: {}\".format(use_gpu))"
      ]
    },
    {
      "cell_type": "markdown",
      "source": [
        "##Titanic Dataset"
      ],
      "metadata": {
        "id": "x4yhp52MLrVX"
      }
    },
    {
      "cell_type": "markdown",
      "source": [
        "##Preprocessing"
      ],
      "metadata": {
        "id": "8LxxMdIDL8Lm"
      }
    },
    {
      "cell_type": "code",
      "source": [
        "titanic_preprocess_df = pd.read_csv(\n",
        "    'https://github.com/afansi/winterschool18/blob/master/titanic_prepocess.csv?raw=true', \n",
        "    sep=',', \n",
        "    index_col=None\n",
        ")\n",
        "\n",
        "titanic_preprocess_df.head()"
      ],
      "metadata": {
        "colab": {
          "base_uri": "https://localhost:8080/",
          "height": 201
        },
        "id": "2uqgcRN-KnHM",
        "outputId": "7ca7ed9c-649d-4dd9-c506-d618bf75c9dd"
      },
      "execution_count": 2,
      "outputs": [
        {
          "output_type": "execute_result",
          "data": {
            "text/html": [
              "\n",
              "  <div id=\"df-e018983b-c984-4480-a774-8da8b6add3f2\">\n",
              "    <div class=\"colab-df-container\">\n",
              "      <div>\n",
              "<style scoped>\n",
              "    .dataframe tbody tr th:only-of-type {\n",
              "        vertical-align: middle;\n",
              "    }\n",
              "\n",
              "    .dataframe tbody tr th {\n",
              "        vertical-align: top;\n",
              "    }\n",
              "\n",
              "    .dataframe thead th {\n",
              "        text-align: right;\n",
              "    }\n",
              "</style>\n",
              "<table border=\"1\" class=\"dataframe\">\n",
              "  <thead>\n",
              "    <tr style=\"text-align: right;\">\n",
              "      <th></th>\n",
              "      <th>survived</th>\n",
              "      <th>pclass_1</th>\n",
              "      <th>pclass_2</th>\n",
              "      <th>pclass_3</th>\n",
              "      <th>sex_female</th>\n",
              "      <th>sex_male</th>\n",
              "      <th>age</th>\n",
              "      <th>sibsp</th>\n",
              "      <th>parch</th>\n",
              "      <th>fare</th>\n",
              "      <th>embarked_C</th>\n",
              "      <th>embarked_Q</th>\n",
              "      <th>embarked_S</th>\n",
              "    </tr>\n",
              "  </thead>\n",
              "  <tbody>\n",
              "    <tr>\n",
              "      <th>0</th>\n",
              "      <td>1</td>\n",
              "      <td>1</td>\n",
              "      <td>0</td>\n",
              "      <td>0</td>\n",
              "      <td>1</td>\n",
              "      <td>0</td>\n",
              "      <td>29.0000</td>\n",
              "      <td>0</td>\n",
              "      <td>0</td>\n",
              "      <td>211.3375</td>\n",
              "      <td>0</td>\n",
              "      <td>0</td>\n",
              "      <td>1</td>\n",
              "    </tr>\n",
              "    <tr>\n",
              "      <th>1</th>\n",
              "      <td>1</td>\n",
              "      <td>1</td>\n",
              "      <td>0</td>\n",
              "      <td>0</td>\n",
              "      <td>0</td>\n",
              "      <td>1</td>\n",
              "      <td>0.9167</td>\n",
              "      <td>1</td>\n",
              "      <td>2</td>\n",
              "      <td>151.5500</td>\n",
              "      <td>0</td>\n",
              "      <td>0</td>\n",
              "      <td>1</td>\n",
              "    </tr>\n",
              "    <tr>\n",
              "      <th>2</th>\n",
              "      <td>0</td>\n",
              "      <td>1</td>\n",
              "      <td>0</td>\n",
              "      <td>0</td>\n",
              "      <td>1</td>\n",
              "      <td>0</td>\n",
              "      <td>2.0000</td>\n",
              "      <td>1</td>\n",
              "      <td>2</td>\n",
              "      <td>151.5500</td>\n",
              "      <td>0</td>\n",
              "      <td>0</td>\n",
              "      <td>1</td>\n",
              "    </tr>\n",
              "    <tr>\n",
              "      <th>3</th>\n",
              "      <td>0</td>\n",
              "      <td>1</td>\n",
              "      <td>0</td>\n",
              "      <td>0</td>\n",
              "      <td>0</td>\n",
              "      <td>1</td>\n",
              "      <td>30.0000</td>\n",
              "      <td>1</td>\n",
              "      <td>2</td>\n",
              "      <td>151.5500</td>\n",
              "      <td>0</td>\n",
              "      <td>0</td>\n",
              "      <td>1</td>\n",
              "    </tr>\n",
              "    <tr>\n",
              "      <th>4</th>\n",
              "      <td>0</td>\n",
              "      <td>1</td>\n",
              "      <td>0</td>\n",
              "      <td>0</td>\n",
              "      <td>1</td>\n",
              "      <td>0</td>\n",
              "      <td>25.0000</td>\n",
              "      <td>1</td>\n",
              "      <td>2</td>\n",
              "      <td>151.5500</td>\n",
              "      <td>0</td>\n",
              "      <td>0</td>\n",
              "      <td>1</td>\n",
              "    </tr>\n",
              "  </tbody>\n",
              "</table>\n",
              "</div>\n",
              "      <button class=\"colab-df-convert\" onclick=\"convertToInteractive('df-e018983b-c984-4480-a774-8da8b6add3f2')\"\n",
              "              title=\"Convert this dataframe to an interactive table.\"\n",
              "              style=\"display:none;\">\n",
              "        \n",
              "  <svg xmlns=\"http://www.w3.org/2000/svg\" height=\"24px\"viewBox=\"0 0 24 24\"\n",
              "       width=\"24px\">\n",
              "    <path d=\"M0 0h24v24H0V0z\" fill=\"none\"/>\n",
              "    <path d=\"M18.56 5.44l.94 2.06.94-2.06 2.06-.94-2.06-.94-.94-2.06-.94 2.06-2.06.94zm-11 1L8.5 8.5l.94-2.06 2.06-.94-2.06-.94L8.5 2.5l-.94 2.06-2.06.94zm10 10l.94 2.06.94-2.06 2.06-.94-2.06-.94-.94-2.06-.94 2.06-2.06.94z\"/><path d=\"M17.41 7.96l-1.37-1.37c-.4-.4-.92-.59-1.43-.59-.52 0-1.04.2-1.43.59L10.3 9.45l-7.72 7.72c-.78.78-.78 2.05 0 2.83L4 21.41c.39.39.9.59 1.41.59.51 0 1.02-.2 1.41-.59l7.78-7.78 2.81-2.81c.8-.78.8-2.07 0-2.86zM5.41 20L4 18.59l7.72-7.72 1.47 1.35L5.41 20z\"/>\n",
              "  </svg>\n",
              "      </button>\n",
              "      \n",
              "  <style>\n",
              "    .colab-df-container {\n",
              "      display:flex;\n",
              "      flex-wrap:wrap;\n",
              "      gap: 12px;\n",
              "    }\n",
              "\n",
              "    .colab-df-convert {\n",
              "      background-color: #E8F0FE;\n",
              "      border: none;\n",
              "      border-radius: 50%;\n",
              "      cursor: pointer;\n",
              "      display: none;\n",
              "      fill: #1967D2;\n",
              "      height: 32px;\n",
              "      padding: 0 0 0 0;\n",
              "      width: 32px;\n",
              "    }\n",
              "\n",
              "    .colab-df-convert:hover {\n",
              "      background-color: #E2EBFA;\n",
              "      box-shadow: 0px 1px 2px rgba(60, 64, 67, 0.3), 0px 1px 3px 1px rgba(60, 64, 67, 0.15);\n",
              "      fill: #174EA6;\n",
              "    }\n",
              "\n",
              "    [theme=dark] .colab-df-convert {\n",
              "      background-color: #3B4455;\n",
              "      fill: #D2E3FC;\n",
              "    }\n",
              "\n",
              "    [theme=dark] .colab-df-convert:hover {\n",
              "      background-color: #434B5C;\n",
              "      box-shadow: 0px 1px 3px 1px rgba(0, 0, 0, 0.15);\n",
              "      filter: drop-shadow(0px 1px 2px rgba(0, 0, 0, 0.3));\n",
              "      fill: #FFFFFF;\n",
              "    }\n",
              "  </style>\n",
              "\n",
              "      <script>\n",
              "        const buttonEl =\n",
              "          document.querySelector('#df-e018983b-c984-4480-a774-8da8b6add3f2 button.colab-df-convert');\n",
              "        buttonEl.style.display =\n",
              "          google.colab.kernel.accessAllowed ? 'block' : 'none';\n",
              "\n",
              "        async function convertToInteractive(key) {\n",
              "          const element = document.querySelector('#df-e018983b-c984-4480-a774-8da8b6add3f2');\n",
              "          const dataTable =\n",
              "            await google.colab.kernel.invokeFunction('convertToInteractive',\n",
              "                                                     [key], {});\n",
              "          if (!dataTable) return;\n",
              "\n",
              "          const docLinkHtml = 'Like what you see? Visit the ' +\n",
              "            '<a target=\"_blank\" href=https://colab.research.google.com/notebooks/data_table.ipynb>data table notebook</a>'\n",
              "            + ' to learn more about interactive tables.';\n",
              "          element.innerHTML = '';\n",
              "          dataTable['output_type'] = 'display_data';\n",
              "          await google.colab.output.renderOutput(dataTable, element);\n",
              "          const docLink = document.createElement('div');\n",
              "          docLink.innerHTML = docLinkHtml;\n",
              "          element.appendChild(docLink);\n",
              "        }\n",
              "      </script>\n",
              "    </div>\n",
              "  </div>\n",
              "  "
            ],
            "text/plain": [
              "   survived  pclass_1  pclass_2  ...  embarked_C  embarked_Q  embarked_S\n",
              "0         1         1         0  ...           0           0           1\n",
              "1         1         1         0  ...           0           0           1\n",
              "2         0         1         0  ...           0           0           1\n",
              "3         0         1         0  ...           0           0           1\n",
              "4         0         1         0  ...           0           0           1\n",
              "\n",
              "[5 rows x 13 columns]"
            ]
          },
          "metadata": {},
          "execution_count": 2
        }
      ]
    },
    {
      "cell_type": "markdown",
      "source": [
        "##Train / validation / test split"
      ],
      "metadata": {
        "id": "H8H9DxOINbib"
      }
    },
    {
      "cell_type": "code",
      "source": [
        "train, validate, test = np.split(\n",
        "    titanic_preprocess_df.sample(frac=1, random_state=seed), \n",
        "    [int(.6*len(titanic_preprocess_df)), int(.8*len(titanic_preprocess_df))])\n",
        "\n",
        "# Remove the label column from X and create a label vectors.\n",
        "X_train = train.drop(['survived'], axis=1).values\n",
        "y_train = train['survived'].values\n",
        "\n",
        "X_val = validate.drop(['survived'], axis = 1).values # To complete.\n",
        "y_val = validate['survived'].values # To complete.\n",
        "\n",
        "X_test = test.drop(['survived'], axis=1).values # To complete.\n",
        "y_test = test['survived'].values # To complete.\n"
      ],
      "metadata": {
        "id": "NvnuuU2HMjE_"
      },
      "execution_count": 3,
      "outputs": []
    },
    {
      "cell_type": "markdown",
      "source": [
        "#Datasets in PyTorch"
      ],
      "metadata": {
        "id": "R8EbgkaO_1Eo"
      }
    },
    {
      "cell_type": "code",
      "source": [
        "#to manipulate together the features and targets of a dataset.\n",
        "from torch.utils.data import TensorDataset\n",
        "\n",
        "train_dataset = TensorDataset(torch.from_numpy(X_train).float(), torch.from_numpy(y_train).long())\n",
        "val_dataset = TensorDataset(torch.from_numpy(X_val).float(), torch.from_numpy(y_val).long()) # To complete.\n",
        "\n",
        "test_dataset = TensorDataset(torch.from_numpy(X_test).float(), torch.from_numpy(y_test).long()) # To complete.\n"
      ],
      "metadata": {
        "id": "98ZCKjty_YDj"
      },
      "execution_count": 4,
      "outputs": []
    },
    {
      "cell_type": "markdown",
      "source": [
        "##How to define a model in PyTorch?"
      ],
      "metadata": {
        "id": "N6jba2thGuWx"
      }
    },
    {
      "cell_type": "code",
      "source": [
        "import torch\n",
        "import torch.nn as nn\n",
        "import torch.nn.functional as F\n",
        "seed = 1234\n",
        "torch.manual_seed(seed)\n",
        "torch.cuda.manual_seed(seed)"
      ],
      "metadata": {
        "id": "NhNEg4toK66a"
      },
      "execution_count": 5,
      "outputs": []
    },
    {
      "cell_type": "code",
      "source": [
        "class NeuralNet(nn.Module):\n",
        "    def __init__(self):\n",
        "        super(NeuralNet, self).__init__()\n",
        "        self.fc1 = nn.Linear(12, 20)\n",
        "        self.fc2 = nn.Linear(20,40)\n",
        "        self.fc3 = nn.Linear(40,20)\n",
        "        self.out = nn.Linear(20,2)\n",
        "    def forward(self, x):\n",
        "        x = F.relu(self.fc1(x))\n",
        "        x = F.relu(self.fc2(x))\n",
        "        x = F.relu(self.fc3(x))\n",
        "        output = F.softmax(self.out(x),dim = 1)\n",
        "        #output = self.out(x)\n",
        "        return output"
      ],
      "metadata": {
        "id": "8UuB4tMjTyZG"
      },
      "execution_count": 42,
      "outputs": []
    },
    {
      "cell_type": "code",
      "source": [
        "class NeuralNet(nn.Module):\n",
        "    def __init__(self):\n",
        "        super(NeuralNet, self).__init__()\n",
        "        self.fc1 = nn.Linear(12, 20)\n",
        "        self.fc2 = nn.Linear(20,40)\n",
        "        self.fc3 = nn.Linear(40,20)\n",
        "        self.out = nn.Linear(20,2)\n",
        "    def forward(self, x):\n",
        "        x = torch.nn.ReLU(self.fc1(x))\n",
        "        x = torch.nn.ReLU(self.fc2(x))\n",
        "        x = torch.nn.ReLU(self.fc3(x))\n",
        "        output = torch.nn.Softmax(self.out(x),dim = 1)\n",
        "        #output = self.out(x)\n",
        "        return output"
      ],
      "metadata": {
        "id": "F1AuvrokyzuD"
      },
      "execution_count": 39,
      "outputs": []
    },
    {
      "cell_type": "markdown",
      "source": [
        "#Making predictions with our neural network!"
      ],
      "metadata": {
        "id": "QkWP_JYHchKx"
      }
    },
    {
      "cell_type": "code",
      "source": [
        "#Loss function\n",
        "import torch.nn.functional as F\n",
        "def model_loss(output,target):\n",
        "  return F.cross_entropy(output,target)"
      ],
      "metadata": {
        "id": "cxzlGAbzyS1W"
      },
      "execution_count": 36,
      "outputs": []
    },
    {
      "cell_type": "code",
      "source": [
        "#model accuracy\n",
        "def model_accuracy(prediction,target):\n",
        "  return torch.mean((prediction == target).float())"
      ],
      "metadata": {
        "id": "bKnX144HySfI"
      },
      "execution_count": 8,
      "outputs": []
    },
    {
      "cell_type": "markdown",
      "source": [
        "##Back Propagation and Optimization"
      ],
      "metadata": {
        "id": "Z-JL_-0N6Vvv"
      }
    },
    {
      "cell_type": "code",
      "source": [
        "import torch.optim as optim"
      ],
      "metadata": {
        "id": "jqNlgGdwyST9"
      },
      "execution_count": 9,
      "outputs": []
    },
    {
      "cell_type": "markdown",
      "source": [
        "#Train a model"
      ],
      "metadata": {
        "id": "b-tOPuyZeViV"
      }
    },
    {
      "cell_type": "markdown",
      "source": [
        "##Creat mini-batches of length 32 each"
      ],
      "metadata": {
        "id": "UExlQ06we7LM"
      }
    },
    {
      "cell_type": "code",
      "source": [
        "train_batch_size = 32  # number of data in a training batch.\n",
        "eval_batch_size = 32   # number of data in an batch.\n"
      ],
      "metadata": {
        "id": "cnSxfPSQGEDg"
      },
      "execution_count": 10,
      "outputs": []
    },
    {
      "cell_type": "code",
      "source": [
        "import torch.utils.data.dataloader as loader"
      ],
      "metadata": {
        "id": "c5s0l3sSfG7G"
      },
      "execution_count": 11,
      "outputs": []
    },
    {
      "cell_type": "code",
      "source": [
        "train_loaded = torch.utils.data.DataLoader(train_dataset,train_batch_size,shuffle=True)"
      ],
      "metadata": {
        "id": "Y4lRlNhBgB-k"
      },
      "execution_count": 12,
      "outputs": []
    },
    {
      "cell_type": "code",
      "source": [
        "from tqdm import tqdm"
      ],
      "metadata": {
        "id": "nowsMjEZDNBH"
      },
      "execution_count": 13,
      "outputs": []
    },
    {
      "cell_type": "code",
      "source": [
        "num_loads = len(train_loaded)\n",
        "neural_net = NeuralNet()\n",
        "#neural_net.to(device) Why does not this work for cuda?!\n",
        "neural_net.cuda\n",
        "neural_net.eval()\n",
        "lr = .0001\n",
        "\n",
        "model_optimizer = optim.Adam(neural_net.parameters(),lr = lr)\n",
        "#model_optimizer = optim.RMSprop(neural_net.parameters(), lr= lr)\n",
        "num_epochs = 8000\n",
        "acc_epoch = []\n",
        "loss_epoch = []\n",
        "\n",
        "for e in tqdm(range(num_epochs)):\n",
        "  loss = 0\n",
        "  acc = 0\n",
        "  for input,label in iter(train_loaded):\n",
        "    input.to(device)\n",
        "    label.to(device)\n",
        "    model_output = neural_net(input)\n",
        "    _, model_pred = torch.max(model_output,axis = 1)\n",
        "    batch_loss = model_loss(model_output, label)/num_loads\n",
        "    loss += batch_loss\n",
        "    batch_acc = model_accuracy(model_pred, label)/num_loads\n",
        "    acc += batch_acc\n",
        "    batch_loss.backward()\n",
        "    model_optimizer.step()\n",
        "    model_optimizer.zero_grad()\n",
        "    #print(batch_acc)\n",
        "  if e%100==0:\n",
        "    acc_epoch.append(acc)\n",
        "    loss_epoch.append(loss)"
      ],
      "metadata": {
        "colab": {
          "base_uri": "https://localhost:8080/"
        },
        "id": "DQDMntexgzT7",
        "outputId": "bf17ea8b-aa5e-4eab-9a39-98cd27236c27"
      },
      "execution_count": 44,
      "outputs": [
        {
          "output_type": "stream",
          "name": "stderr",
          "text": [
            "100%|██████████| 8000/8000 [04:26<00:00, 30.02it/s]\n"
          ]
        }
      ]
    },
    {
      "cell_type": "code",
      "source": [
        "import matplotlib.pyplot as plt"
      ],
      "metadata": {
        "id": "p2zMJtfshZdq"
      },
      "execution_count": 45,
      "outputs": []
    },
    {
      "cell_type": "code",
      "source": [
        "def plot_training(loss_epoch, acc_epoch, lr, optimizer):\n",
        "  fig = plt.figure(figsize=(12,6))\n",
        "  plt.subplot(1,2,1)\n",
        "  plt.plot(loss_epoch)\n",
        "  plt.xlabel('epoch')\n",
        "  plt.ylabel('loss')\n",
        "  plt.subplot(1,2,2)\n",
        "  plt.plot(acc_epoch)\n",
        "  plt.xlabel('epoch')\n",
        "  plt.ylabel('accuracy')\n",
        "  plt.title(f'lr = {lr}, optimizer = {optimizer}')"
      ],
      "metadata": {
        "id": "TOj-LvXiEt57"
      },
      "execution_count": 46,
      "outputs": []
    },
    {
      "cell_type": "code",
      "source": [
        "plot_training(loss_epoch, acc_epoch, lr, 'Adam')"
      ],
      "metadata": {
        "colab": {
          "base_uri": "https://localhost:8080/",
          "height": 403
        },
        "id": "SbBuy5EcFI9q",
        "outputId": "cc1cec5d-0309-4edb-d8af-95ca057e33a6"
      },
      "execution_count": 47,
      "outputs": [
        {
          "output_type": "display_data",
          "data": {
            "image/png": "[encoded data removed]",
            "text/plain": [
              "<Figure size 864x432 with 2 Axes>"
            ]
          },
          "metadata": {
            "needs_background": "light"
          }
        }
      ]
    },
    {
      "cell_type": "code",
      "source": [
        "valid_loader = torch.utils.data.DataLoader(val_dataset, batch_size=train_batch_size)"
      ],
      "metadata": {
        "id": "Jp5yHMPzQMuU"
      },
      "execution_count": 48,
      "outputs": []
    },
    {
      "cell_type": "code",
      "source": [
        "#The whole train-validation model :\n",
        "num_loads_train = len(train_loaded)\n",
        "num_loads_valid = len(valid_loader)\n",
        "\n",
        "neural_net = NeuralNet()\n",
        "#neural_net.to(device)    Question : why this command instead of neural_net.cuda results in that error of devices???\n",
        "neural_net.cuda\n",
        "#neural_net.train()\n",
        "lr = .0001\n",
        "\n",
        "model_optimizer = optim.Adam(neural_net.parameters(),lr = lr)\n",
        "#model_optimizer = optim.RMSprop(neural_net.parameters(), lr= lr)\n",
        "num_epochs = 4000\n",
        "train_acc_epoch = []\n",
        "train_loss_epoch = []\n",
        "test_acc_epoch = []\n",
        "test_loss_epoch = []\n",
        "\n",
        "for e in tqdm(range(num_epochs)):\n",
        "  loss_train = 0\n",
        "  acc_train = 0\n",
        "  for input,label in iter(train_loaded):\n",
        "    input.to(device)\n",
        "    label.to(device)\n",
        "    model_output = neural_net(input)\n",
        "    _, model_pred = torch.max(model_output,axis = 1)\n",
        "    batch_loss_train = model_loss(model_output, label)/num_loads_train\n",
        "    loss_train += batch_loss_train\n",
        "    batch_acc_train = model_accuracy(model_pred, label)/num_loads_train\n",
        "    acc_train += batch_acc_train\n",
        "    batch_loss_train.backward()\n",
        "    model_optimizer.step()\n",
        "    model_optimizer.zero_grad()\n",
        "    #print(batch_acc)\n",
        "  acc_test=0\n",
        "  loss_test=0\n",
        " # num_loads = len(val_dataset)/train_batch_size\n",
        "  for (val_data,label) in iter(valid_loader):\n",
        "    val_data.to(device)\n",
        "    label.to(device)\n",
        "    model_output = neural_net(val_data)\n",
        "    _,model_pred = torch.max(model_output, axis =1)\n",
        "    batch_acc_test = model_accuracy(model_pred, label)/num_loads_valid\n",
        "    acc_test += batch_acc_test\n",
        "    with torch.no_grad():\n",
        "      batch_loss_test = model_loss(model_output, label)/num_loads_valid\n",
        "      loss_test += batch_loss_test\n",
        "  if e%100==0:\n",
        "    train_acc_epoch.append(acc_train)\n",
        "    train_loss_epoch.append(loss_train)\n",
        "    test_acc_epoch.append(acc_test)\n",
        "    test_loss_epoch.append(loss_test)\n",
        "  "
      ],
      "metadata": {
        "colab": {
          "base_uri": "https://localhost:8080/"
        },
        "id": "vsqpZK9pWzFl",
        "outputId": "242e3ca2-18d0-48d5-c499-88bac501803e"
      },
      "execution_count": 60,
      "outputs": [
        {
          "output_type": "stream",
          "name": "stderr",
          "text": [
            "100%|██████████| 4000/4000 [02:32<00:00, 26.31it/s]\n"
          ]
        }
      ]
    },
    {
      "cell_type": "markdown",
      "source": [
        "##Question : why the command \"neural_net.to(device)\" instead of \"neural_net.cuda\" results in that error of devices???"
      ],
      "metadata": {
        "id": "vpLJPpwF25Hx"
      }
    },
    {
      "cell_type": "code",
      "source": [
        "def plot_training_validation(loss_train, acc_train, loss_test, acc_test, lr, optimizer):\n",
        "  fig = plt.figure(figsize=(12,6))\n",
        "  plt.subplot(1,2,1)\n",
        "  plt.plot(loss_train,'g',label = 'train')\n",
        "  plt.xlabel('epoch')\n",
        "  plt.ylabel('loss')\n",
        "  plt.plot(loss_test,'r', label = 'test')\n",
        "  plt.grid(True)\n",
        "  plt.legend()\n",
        "  plt.subplot(1,2,2)\n",
        "  plt.plot(acc_train, 'g', label = 'train')\n",
        "  plt.xlabel('epoch')\n",
        "  plt.ylabel('accuracy')\n",
        "  plt.plot(acc_test, 'r', label = 'test')\n",
        "  plt.grid(True)\n",
        "  plt.legend()\n",
        "\n",
        "\n",
        "  plt.title(f'lr = {lr}, optimizer = {optimizer}')"
      ],
      "metadata": {
        "id": "1893hXJFXyLd"
      },
      "execution_count": 75,
      "outputs": []
    },
    {
      "cell_type": "code",
      "source": [
        "plot_training_validation(train_loss_epoch,train_acc_epoch, test_loss_epoch, test_acc_epoch, lr, 'Adam')"
      ],
      "metadata": {
        "colab": {
          "base_uri": "https://localhost:8080/",
          "height": 403
        },
        "id": "f27PsagwX4w-",
        "outputId": "da4b43cd-8d30-40f5-bfeb-eebfb26371a9"
      },
      "execution_count": 76,
      "outputs": [
        {
          "output_type": "display_data",
          "data": {
            "image/png": "[encoded data removed]",
            "text/plain": [
              "<Figure size 864x432 with 2 Axes>"
            ]
          },
          "metadata": {
            "needs_background": "light"
          }
        }
      ]
    },
    {
      "cell_type": "code",
      "source": [
        "#Don't forget model.train() vs. model.eval()!"
      ],
      "metadata": {
        "id": "imWu-zvIa1u_"
      },
      "execution_count": 55,
      "outputs": []
    }
  ]
}