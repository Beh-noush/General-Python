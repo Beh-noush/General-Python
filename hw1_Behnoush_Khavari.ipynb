{
  "nbformat": 4,
  "nbformat_minor": 0,
  "metadata": {
    "colab": {
      "name": "hw1_Behnoush_Khavari.pynb.ipynb",
      "provenance": [],
      "collapsed_sections": [],
      "include_colab_link": true
    },
    "kernelspec": {
      "name": "python3",
      "display_name": "Python 3"
    }
  },
  "cells": [
    {
      "cell_type": "markdown",
      "metadata": {
        "id": "view-in-github",
        "colab_type": "text"
      },
      "source": [
        "<a href=\"https://colab.research.google.com/github/Beh-noush/General-Python/blob/main/hw1_Behnoush_Khavari_pynb.py\" target=\"_parent\"><img src=\"https://colab.research.google.com/assets/colab-badge.svg\" alt=\"Open In Colab\"/></a>"
      ]
    },
    {
      "cell_type": "markdown",
      "metadata": {
        "id": "Z8p_rVKVWH2w"
      },
      "source": [
        "# IFT6269 -  Maximum Likelihood Estimation"
      ]
    },
    {
      "cell_type": "markdown",
      "metadata": {
        "id": "SloWv9XFBdxL"
      },
      "source": [
        "### Introduction\n",
        "W\n",
        "e are going to numerically explore the MLE of the variance parameter of the Gaussian."
      ]
    },
    {
      "cell_type": "code",
      "metadata": {
        "id": "WlK2DyIsTCEk"
      },
      "source": [
        "import numpy as np\n",
        "import matplotlib.pyplot as plt"
      ],
      "execution_count": 1,
      "outputs": []
    },
    {
      "cell_type": "code",
      "metadata": {
        "id": "UbbWroVpRo-R"
      },
      "source": [
        "def sample_gaussian_data(num_samples, num_trials):\n",
        "  \"\"\"\n",
        "  inputs: \n",
        "     num_samples: [int] number of samples to generate for each trial\n",
        "     num_trials: [int] number of trials\n",
        "  Returns:\n",
        "     samples: [num_samples,num_trial] Array of generated samples.\n",
        "  \"\"\"\n",
        "  return np.random.randn(num_samples, num_trials)"
      ],
      "execution_count": 2,
      "outputs": []
    },
    {
      "cell_type": "code",
      "metadata": {
        "id": "RfzZh9OwTy8g"
      },
      "source": [
        "def mu_sigma2_mle(samples):\n",
        "    \"\"\"\n",
        "    # TODO \n",
        "    Compute Gaussian MLE estimators for the mean and variance \n",
        "        Inputs:\n",
        "             samples: [num_samples, num_trials] Matrix of N(0, 1) iid samples. \n",
        "                      It contains num_trials sets, each of these sets containing\n",
        "                      num_samples samples.\n",
        "        \n",
        "        Returns:\n",
        "             mu_hat: [num_trials] Vector of MLE mean estimators for each trial\n",
        "             sigma2_hat: [num_trials] Vector of MLE variance estimators for each trial\n",
        "             \n",
        "    \"\"\"\n",
        "    mean = np.mean(samples , axis = 0)\n",
        "    var = np.mean( (samples - mean)**2, axis = 0 )\n",
        "    return mean , var "
      ],
      "execution_count": 3,
      "outputs": []
    },
    {
      "cell_type": "code",
      "metadata": {
        "id": "Ur_MyJhzXSWq"
      },
      "source": [
        "def freq_mean_var(x):\n",
        "    \"\"\"\n",
        "    Compute the frequentist mean and variance of a vector of n real numbers \n",
        "        Inputs:\n",
        "             x: [n] Vector of real numbers\n",
        "        \n",
        "        Returns:\n",
        "             (mean, var): [tuple] Frequentist mean and variance of x\n",
        "             \n",
        "    \"\"\"\n",
        "    mean = np.mean(x)\n",
        "    var = np.mean((x - mean)**2)\n",
        "    return (mean , var)\n"
      ],
      "execution_count": 4,
      "outputs": []
    },
    {
      "cell_type": "code",
      "metadata": {
        "id": "-2Bqj64ZTy3X"
      },
      "source": [
        "def empirical_frequentist_bias(empirical_mean, true_mean):\n",
        "    \"\"\"\n",
        "    # TODO \n",
        "    Estimate the frequentist bias of an estimator given its empirical and true means \n",
        "        Inputs:\n",
        "             true_mean: [float] True mean of the estimator\n",
        "             empirical_mean: [float] Empirical mean of the estimator\n",
        "             \n",
        "        Returns:\n",
        "             bias: [float] Frequentist bias\n",
        "            \n",
        "    \"\"\"\n",
        "    return true_mean - empirical_mean\n"
      ],
      "execution_count": 5,
      "outputs": []
    },
    {
      "cell_type": "code",
      "metadata": {
        "id": "QLChG0awZMOd"
      },
      "source": [
        "def plot_sigma_hat_histogram(samples, bins=200):\n",
        "    \"\"\"\n",
        "    Plots a histogram of a estimated variances \n",
        "        Inputs:\n",
        "            samples: [array] Estimated variances to be plotted\n",
        "\n",
        "    \"\"\"\n",
        "    plt.xlabel('variance')\n",
        "    plt.ylabel('counts')\n",
        "    plt.hist(samples, bins )"
      ],
      "execution_count": 6,
      "outputs": []
    },
    {
      "cell_type": "code",
      "metadata": {
        "colab": {
          "base_uri": "https://localhost:8080/"
        },
        "id": "Yn6zTvnxeae-",
        "outputId": "c40df893-6d48-44ae-bede-3e8631b5b238"
      },
      "source": [
        "#draw  𝑛=5  samples from the standard Gaussian distribution,  N(0,1) .\n",
        "samples = sample_gaussian_data(5,1)\n",
        "print(f'Generated Gaussian samples\\n{samples}')"
      ],
      "execution_count": 7,
      "outputs": [
        {
          "output_type": "stream",
          "text": [
            "Generated Gaussian samples\n",
            "[[-1.18890842]\n",
            " [ 0.62134348]\n",
            " [ 0.42917227]\n",
            " [-0.98416142]\n",
            " [ 0.2704691 ]]\n"
          ],
          "name": "stdout"
        }
      ]
    },
    {
      "cell_type": "code",
      "metadata": {
        "colab": {
          "base_uri": "https://localhost:8080/"
        },
        "id": "ohE-Le__ZMoz",
        "outputId": "e7e38f4e-d3b9-46d8-b347-02092cd06437"
      },
      "source": [
        "#Compute the ML estimate  𝜇̂  for the mean and  𝜎̂2  for the variance of the Gaussian, as given in Question 3(d).\n",
        "mean , variance = mu_sigma2_mle(samples)\n",
        "print(f'MLE of mean is {mean}\\nMLE of variance is {variance}') "
      ],
      "execution_count": 8,
      "outputs": [
        {
          "output_type": "stream",
          "text": [
            "MLE of mean is [-0.170417]\n",
            "MLE of variance is [0.57605545]\n"
          ],
          "name": "stdout"
        }
      ]
    },
    {
      "cell_type": "code",
      "metadata": {
        "id": "rgTs2nnTnuth"
      },
      "source": [
        "#Repeat the previous steps 10,000 times. Plot a histogram of the 10,000 estimates of the Gaussian variance parameter to show its empirical distribution.\n",
        "variance_list = []\n",
        "for iter in range(10000):\n",
        "  samples = sample_gaussian_data(5 , 1)\n",
        "  mean , var = mu_sigma2_mle(samples)\n",
        "  variance_list.append(var)\n",
        "plot_sigma_hat_histogram(variance_list , bins = 200)"
      ],
      "execution_count": null,
      "outputs": []
    },
    {
      "cell_type": "code",
      "metadata": {
        "colab": {
          "base_uri": "https://localhost:8080/",
          "height": 280
        },
        "id": "EjstCJ0dsheK",
        "outputId": "9a4e6ff0-30e7-4195-8b70-4275ae56d1c2"
      },
      "source": [
        "samples  =  sample_gaussian_data(5 , 10000)\n",
        "mean , var = mu_sigma2_mle(samples)\n",
        "plot_sigma_hat_histogram(var, bins = 200)"
      ],
      "execution_count": 9,
      "outputs": [
        {
          "output_type": "display_data",
          "data": {
            "image/png": "[encoded data removed]",
            "text/plain": [
              "<Figure size 432x288 with 1 Axes>"
            ]
          },
          "metadata": {
            "tags": [],
            "needs_background": "light"
          }
        }
      ]
    },
    {
      "cell_type": "markdown",
      "metadata": {
        "id": "YUiBh13Wpt0q"
      },
      "source": [
        "We notice that the shape of this histogram shows the Chi-square distribution as we expected for the sum of squares of standard normal variables.\n"
      ]
    },
    {
      "cell_type": "code",
      "metadata": {
        "colab": {
          "base_uri": "https://localhost:8080/"
        },
        "id": "1QZYzYg5x-yj",
        "outputId": "b2383764-0564-4050-d594-3b86308952e1"
      },
      "source": [
        "bias_of_gaussian_variance = 1 - np.mean(var) \n",
        "bias_of_gaussian_variance"
      ],
      "execution_count": 13,
      "outputs": [
        {
          "output_type": "execute_result",
          "data": {
            "text/plain": [
              "0.19962312114292557"
            ]
          },
          "metadata": {
            "tags": []
          },
          "execution_count": 13
        }
      ]
    },
    {
      "cell_type": "code",
      "metadata": {
        "colab": {
          "base_uri": "https://localhost:8080/"
        },
        "id": "aYtO-I5syDou",
        "outputId": "9eb7b65b-2b72-455d-c10b-f7e4d169b8ad"
      },
      "source": [
        "var_of_gaussian_variance = np.mean((var - np.mean(var))**2)\n",
        "var_of_gaussian_variance "
      ],
      "execution_count": 12,
      "outputs": [
        {
          "output_type": "execute_result",
          "data": {
            "text/plain": [
              "0.31670181055821495"
            ]
          },
          "metadata": {
            "tags": []
          },
          "execution_count": 12
        }
      ]
    },
    {
      "cell_type": "code",
      "metadata": {
        "id": "ic7wSHTOz-c8"
      },
      "source": [
        ""
      ],
      "execution_count": null,
      "outputs": []
    },
    {
      "cell_type": "code",
      "metadata": {
        "id": "L15of8ttz-Tn"
      },
      "source": [
        ""
      ],
      "execution_count": null,
      "outputs": []
    },
    {
      "cell_type": "code",
      "metadata": {
        "id": "vGtfm6nnrpqd"
      },
      "source": [
        "bias_of_gaussian_variance = np.mean(var) - 1\n",
        "\n",
        "# Use the same 10,000 repeated trials to numerically estimate the (frequentist) bias and variance of the ML estimate  𝜎̂2  of the Gaussian variance parameter.\n",
        "# Compare the results with the theoretical (frequentist) bias and variance that you can compute from the formula you derived in Question 3(d).\n",
        "sigma2_hat_mean, sigma2_hat_var = freq_mean_var(sigma2_hat_vec)\n",
        "\n",
        "TRUE_SIGMA2 = 1.\n",
        "\n",
        "# In the next lines, fill in the theoretical bias and variance of $\\hat{\\sigma}^2$\n",
        "n = NUM_SAMPLES\n",
        "THEO_BIAS = TRUE_SIGMA2/n\n",
        "THEO_VAR =  TRUE_SIGMA2**2*(2*n -2)/(n**2)\n",
        "\n",
        "emp_bias = empirical_frequentist_bias(empirical_mean=sigma2_hat_mean,\n",
        "                                      true_mean=TRUE_SIGMA2)\n",
        "\n",
        "print('Theoretical Bias: ', THEO_BIAS, ' Freq. Estimated Bias: ', emp_bias)\n",
        "print('Theoretical Variance: ', THEO_VAR, ' Freq. Estimated Variance: ', sigma2_hat_var)"
      ],
      "execution_count": null,
      "outputs": []
    },
    {
      "cell_type": "code",
      "metadata": {
        "id": "Naeit-wGuLsm"
      },
      "source": [
        ""
      ],
      "execution_count": null,
      "outputs": []
    },
    {
      "cell_type": "code",
      "metadata": {
        "id": "QGtWSwUeuLn9"
      },
      "source": [
        ""
      ],
      "execution_count": null,
      "outputs": []
    },
    {
      "cell_type": "code",
      "metadata": {
        "id": "pJlUxcYmBYCK"
      },
      "source": [
        "import numpy as np\n",
        "import matplotlib.pyplot as plt\n",
        "plt.style.use('seaborn-white')\n",
        "params = {'legend.fontsize': 'x-large',\n",
        "         'axes.labelsize': 'x-large',\n",
        "         'axes.titlesize':'x-large',\n",
        "         'xtick.labelsize':'x-large',\n",
        "         'ytick.labelsize':'x-large'}\n",
        "plt.rcParams.update(params)"
      ],
      "execution_count": null,
      "outputs": []
    },
    {
      "cell_type": "code",
      "metadata": {
        "id": "EbMexfJ6uxSh"
      },
      "source": [
        "def sample_gaussian_data(num_samples, num_trials):\n",
        "    \"\"\"\n",
        "    # TODO \n",
        "    Generate num_trials sets of samples of a *standard* 1-d Gaussian random variable.\n",
        "    Each set of samples contains num_sample samples\n",
        "\n",
        "        Inputs:\n",
        "            num_samples: [int] Number of samples to generate per trial\n",
        "            num_trials: [int] Number of trials to generate\n",
        "        \n",
        "        Returns:\n",
        "            samples: [num_samples, num_trials] Vector of generated samples\n",
        "    \"\"\"\n",
        "\n",
        "    # TODO\n",
        "    samples = np.transpose(np.random.randn( num_trials, num_samples))\n",
        "\n",
        "    return samples\n",
        "\n",
        "def mu_sigma2_mle(samples):\n",
        "    \"\"\"\n",
        "    # TODO \n",
        "    Compute Gaussian MLE estimators for the mean and variance \n",
        "        Inputs:\n",
        "             samples: [num_samples, num_trials] Matrix of N(0, 1) iid samples. \n",
        "                      It contains num_trials sets, each of these sets containing\n",
        "                      num_samples samples.\n",
        "        \n",
        "        Returns:\n",
        "             mu_hat: [num_trials] Vector of MLE mean estimators for each trial\n",
        "             sigma2_hat: [num_trials] Vector of MLE variance estimators for each trial\n",
        "             \n",
        "    \"\"\"\n",
        "    # Useful dimensions\n",
        "    num_samples, num_trials = samples.shape\n",
        "\n",
        "    #TODO\n",
        "    mu_hat = np.mean(samples,0)\n",
        "    sigma2_hat = np.var(samples,0)\n",
        "\n",
        "    return mu_hat, sigma2_hat\n",
        "\n",
        "def freq_mean_var(x):\n",
        "    \"\"\"\n",
        "    # TODO \n",
        "    Compute the frequentist mean and variance of a vector of n real numbers \n",
        "        Inputs:\n",
        "             x: [n] Vector of real numbers\n",
        "        \n",
        "        Returns:\n",
        "             (mean, var): [tuple] Frequentist mean and variance of x\n",
        "             \n",
        "    \"\"\"\n",
        "\n",
        "    #TODO\n",
        "    mean, var = np.mean(x), np.mean((x-np.mean(x))**2)\n",
        "\n",
        "    return mean, var\n",
        "\n",
        "def empirical_frequentist_bias(empirical_mean, true_mean):\n",
        "    \"\"\"\n",
        "    # TODO \n",
        "    Estimate the frequentist bias of an estimator given its empirical and true means \n",
        "        Inputs:\n",
        "             true_mean: [float] True mean of the estimator\n",
        "             empirical_mean: [float] Empirical mean of the estimator\n",
        "             \n",
        "        Returns:\n",
        "             bias: [float] Frequentist bias\n",
        "            \n",
        "    \"\"\"\n",
        "\n",
        "    #TODO\n",
        "    bias = true_mean - empirical_mean\n",
        "\n",
        "    return bias\n",
        "\n",
        "def plot_sigma_hat_histogram(samples, bins=200):\n",
        "    \"\"\"\n",
        "    Plots a histogram of a estimated variances \n",
        "        Inputs:\n",
        "            samples: [array] Estimated variances to be plotted\n",
        "\n",
        "    \"\"\"\n",
        "    # Plot histogram with custom bins for readability.\n",
        "    plt.hist(samples, bins=bins, alpha=0.8, label=r'$\\hat{\\sigma}$' +' histogram');\n",
        "    plt.ylabel('Counts')\n",
        "    plt.xlabel(r'$\\hat{\\sigma^2}$')\n",
        "    plt.legend();"
      ],
      "execution_count": null,
      "outputs": []
    },
    {
      "cell_type": "markdown",
      "metadata": {
        "id": "Eqmd8My_X6eQ"
      },
      "source": [
        "## Gaussian Maximum Likelihood Estimation\n"
      ]
    },
    {
      "cell_type": "markdown",
      "metadata": {
        "id": "oMRtEaq8v9U8"
      },
      "source": [
        "### Sample generation\n",
        "\n",
        "Use the functions defined above to draw $n=5$ samples from the standard Gaussian distribution, $\\mathcal{N}(0,1)$."
      ]
    },
    {
      "cell_type": "code",
      "metadata": {
        "id": "CV8p-HkJv19I",
        "colab": {
          "base_uri": "https://localhost:8080/",
          "height": 121
        },
        "outputId": "7d06d75d-1e76-4c7c-c675-4bb8d613a0f5"
      },
      "source": [
        "NUM_SAMPLES = 5\n",
        "\n",
        "samples = sample_gaussian_data(num_samples=NUM_SAMPLES, num_trials=1)\n",
        "\n",
        "print('Generated Gaussian samples')\n",
        "print(samples)"
      ],
      "execution_count": null,
      "outputs": [
        {
          "output_type": "stream",
          "text": [
            "Generated Gaussian samples\n",
            "[[-0.96748746]\n",
            " [ 0.3470422 ]\n",
            " [-0.35715657]\n",
            " [ 0.97725692]\n",
            " [ 0.18628083]]\n"
          ],
          "name": "stdout"
        }
      ]
    },
    {
      "cell_type": "markdown",
      "metadata": {
        "id": "CD5_zQ1ywoCR"
      },
      "source": [
        "### MLE computation\n",
        "Compute the ML estimate $\\hat{\\mu}$ for the mean and $\\hat{\\sigma}^2$ for the variance of the Gaussian, as given in Question 3(d). "
      ]
    },
    {
      "cell_type": "code",
      "metadata": {
        "id": "2Yhy5FWMt5gE",
        "colab": {
          "base_uri": "https://localhost:8080/",
          "height": 52
        },
        "outputId": "3eb69d9b-0868-40ca-ddf5-a4295b437355"
      },
      "source": [
        "mu_hat, sigma2_hat = mu_sigma2_mle(samples)\n",
        "\n",
        "print('MLE mean - variance')\n",
        "print(mu_hat, sigma2_hat)"
      ],
      "execution_count": null,
      "outputs": [
        {
          "output_type": "stream",
          "text": [
            "MLE mean - variance\n",
            "[0.03718718] [0.43336966]\n"
          ],
          "name": "stdout"
        }
      ]
    },
    {
      "cell_type": "markdown",
      "metadata": {
        "id": "OtW53ntTzotm"
      },
      "source": [
        "### MLE computation\n",
        "Repeat the previous steps 10,000 times.  Plot a histogram of the 10,000 estimates of the Gaussian  variance  parameter  to  show  its  empirical  distribution."
      ]
    },
    {
      "cell_type": "code",
      "metadata": {
        "id": "vPMfMLQgzyEt"
      },
      "source": [
        "NUM_TRIALS = int(1e4)\n",
        "samples = sample_gaussian_data(num_samples=NUM_SAMPLES, num_trials=NUM_TRIALS)\n",
        "_, sigma2_hat_vec = mu_sigma2_mle(samples)"
      ],
      "execution_count": null,
      "outputs": []
    },
    {
      "cell_type": "code",
      "metadata": {
        "id": "hoWL_bRJ0U7K",
        "colab": {
          "base_uri": "https://localhost:8080/",
          "height": 292
        },
        "outputId": "fd5c201c-7672-4b15-c656-ecb77cf750d8"
      },
      "source": [
        "plot_sigma_hat_histogram(sigma2_hat_vec)"
      ],
      "execution_count": null,
      "outputs": [
        {
          "output_type": "display_data",
          "data": {
            "image/png": "[encoded data removed]",
            "text/plain": [
              "<Figure size 432x288 with 1 Axes>"
            ]
          },
          "metadata": {
            "tags": [],
            "needs_background": "light"
          }
        }
      ]
    },
    {
      "cell_type": "markdown",
      "metadata": {
        "id": "Wdt6wOYcz0WY"
      },
      "source": [
        "**Question:** Do you recognize the shape of this histogram? What is it? \n",
        "\n",
        "**Answer:** \n",
        "Chi-square distribution as we expected for the sum of squares of standard normal variables.\n"
      ]
    },
    {
      "cell_type": "markdown",
      "metadata": {
        "id": "sGN0em1z0Vif"
      },
      "source": [
        "### Bias and variance of the *estimator*\n",
        "Use *the same* 10,000 repeated trials to numerically estimate the (frequentist) bias and variance of the ML estimate $\\hat{\\sigma}^2$ of the Gaussian variance parameter.\n",
        "\n",
        "Compare the results with the theoretical (frequentist) bias and variance that you can compute from the formula you derived in Question 3(d). \n",
        "\n",
        "*Hint: if your numerical estimates are very far from the theoretical formula, you made a mistake somewhere!*"
      ]
    },
    {
      "cell_type": "code",
      "metadata": {
        "id": "yi_qhsg80ATu",
        "colab": {
          "base_uri": "https://localhost:8080/",
          "height": 52
        },
        "outputId": "ca8952f9-f69e-412d-8d3e-3a879fb4ce81"
      },
      "source": [
        "sigma2_hat_mean, sigma2_hat_var = freq_mean_var(sigma2_hat_vec)\n",
        "\n",
        "TRUE_SIGMA2 = 1.\n",
        "\n",
        "# In the next lines, fill in the theoretical bias and variance of $\\hat{\\sigma}^2$\n",
        "n = NUM_SAMPLES\n",
        "THEO_BIAS = TRUE_SIGMA2/n\n",
        "THEO_VAR =  TRUE_SIGMA2**2*(2*n -2)/(n**2)\n",
        "\n",
        "emp_bias = empirical_frequentist_bias(empirical_mean=sigma2_hat_mean,\n",
        "                                      true_mean=TRUE_SIGMA2)\n",
        "\n",
        "print('Theoretical Bias: ', THEO_BIAS, ' Freq. Estimated Bias: ', emp_bias)\n",
        "print('Theoretical Variance: ', THEO_VAR, ' Freq. Estimated Variance: ', sigma2_hat_var)"
      ],
      "execution_count": null,
      "outputs": [
        {
          "output_type": "stream",
          "text": [
            "Theoretical Bias:  0.2  Freq. Estimated Bias:  0.20999156088616533\n",
            "Theoretical Variance:  0.32  Freq. Estimated Variance:  0.31670584193825585\n"
          ],
          "name": "stdout"
        }
      ]
    },
    {
      "cell_type": "markdown",
      "metadata": {
        "id": "hEIHeZCN5Ogf"
      },
      "source": [
        "**Question:** What conclusions can you draw from the result of this comparison?\n",
        "\n",
        "**Answer:** We see that the numerical result is pretty close to the theoretical one. But it seems that it is a little bit higher that could be a result of intrinsic uncertainty. I don't have more idea on why so!"
      ]
    }
  ]
}
