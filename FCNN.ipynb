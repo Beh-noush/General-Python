{
  "nbformat": 4,
  "nbformat_minor": 0,
  "metadata": {
    "colab": {
      "name": "FCNN.ipynb",
      "provenance": [],
      "collapsed_sections": [],
      "authorship_tag": "ABX9TyNttGckujDUIiPl+aC66oHJ",
      "include_colab_link": true
    },
    "kernelspec": {
      "name": "python3",
      "display_name": "Python 3"
    },
    "language_info": {
      "name": "python"
    }
  },
  "cells": [
    {
      "cell_type": "markdown",
      "metadata": {
        "id": "view-in-github",
        "colab_type": "text"
      },
      "source": [
        "<a href=\"https://colab.research.google.com/github/Beh-noush/General-Python/blob/main/FCNN.ipynb\" target=\"_parent\"><img src=\"https://colab.research.google.com/assets/colab-badge.svg\" alt=\"Open In Colab\"/></a>"
      ]
    },
    {
      "cell_type": "markdown",
      "metadata": {
        "id": "zIJduvdLzxCt"
      },
      "source": [
        "Simple Neural Network with Pytorch"
      ]
    },
    {
      "cell_type": "code",
      "metadata": {
        "id": "0-pTfoCmzvGf"
      },
      "source": [
        "import torch\n",
        "import torch.nn as nn\n",
        "import torch.optim\n",
        "import torch.nn.functional as F\n",
        "from sklearn import datasets"
      ],
      "execution_count": 1,
      "outputs": []
    },
    {
      "cell_type": "markdown",
      "metadata": {
        "id": "YuGS2t1U1Wzi"
      },
      "source": [
        "A fully-connected 2-layer network with Relu non-linearity."
      ]
    },
    {
      "cell_type": "code",
      "metadata": {
        "id": "keOftEaE7unY"
      },
      "source": [
        "# class FCNN(nn.Module):\n",
        "#   def __init__(self, input_dim, hidden_dim, out_dim):\n",
        "#     super(FCNN, self).__init__()\n",
        "#     self.preactivation_hidden = nn.Linear(input_dim,hidden_dim)\n",
        "#     self.preactivation_out = nn.Linear(hidden_dim, out_dim)\n",
        "\n",
        "#   def forward(self, x):\n",
        "#     \"\"\"\n",
        "#     Input:\n",
        "#           1-d array\n",
        "#           x is the input of the Neural Net of dimension input_dim\n",
        "#     Returns:\n",
        "#           1-d array of dimension out_dim. The score function output.\n",
        "#     \"\"\"\n",
        "#     preactive_1 = self.preactivation_hidden(x)\n",
        "#     active_1 = F.relu(preactive_1)\n",
        "#     pre_output = self.preactivation_out(active_1)\n",
        "#     output = F.relu(pre_output)\n",
        "#     return output\n",
        "\n",
        "# # Why is this code wrong? \n"
      ],
      "execution_count": null,
      "outputs": []
    },
    {
      "cell_type": "code",
      "metadata": {
        "id": "LghljEnd0Izm"
      },
      "source": [
        "class FCNN(nn.Module):\n",
        "  def __init__(self, input_dim, hidden_dim, out_dim):\n",
        "    super(FCNN, self).__init__()\n",
        "    self.preactivation_hidden = nn.Linear(input_dim,hidden_dim)\n",
        "    self.activation_hidden = nn.ReLU()\n",
        "    self.preactivation_out = nn.Linear(hidden_dim, out_dim)\n",
        "    self.activation_out = nn.Softmax()\n",
        "\n",
        "  def forward(self, x):\n",
        "    \"\"\"\n",
        "    Input:\n",
        "          1-d array\n",
        "          x is the input of the Neural Net of dimension input_dim\n",
        "    Returns:\n",
        "          1-d array of dimension out_dim. The score function output.\n",
        "    \"\"\"\n",
        "    preactive_1 = self.preactivation_hidden(x)\n",
        "    active_1 = self.activation_hidden(preactive_1)\n",
        "    pre_output = self.preactivation_out(active_1)\n",
        "    output = self.activation_out(pre_output)\n",
        "    return output\n",
        "\n"
      ],
      "execution_count": 2,
      "outputs": []
    },
    {
      "cell_type": "markdown",
      "metadata": {
        "id": "9eYHN8X__q5J"
      },
      "source": [
        "We use this neural net on Iris dataset."
      ]
    },
    {
      "cell_type": "code",
      "metadata": {
        "id": "sjyGczwE0Ibg"
      },
      "source": [
        "iris = datasets.load_iris()"
      ],
      "execution_count": 3,
      "outputs": []
    },
    {
      "cell_type": "code",
      "metadata": {
        "id": "knUJQy118B8Z"
      },
      "source": [
        "my_net = FCNN(4, 10, 3) "
      ],
      "execution_count": 4,
      "outputs": []
    },
    {
      "cell_type": "markdown",
      "metadata": {
        "id": "g7MVWA38-T-s"
      },
      "source": [
        "Remember it was necessary to put .float() after your dataset, otherwise an error occured complaining about the dtype double rather than float! It seems a new error!"
      ]
    },
    {
      "cell_type": "code",
      "metadata": {
        "colab": {
          "base_uri": "https://localhost:8080/"
        },
        "id": "K8KNZMBk-xVl",
        "outputId": "459cc193-2c19-464c-c094-f7a48ab2a6a0"
      },
      "source": [
        "list(my_net.parameters()) #It contains weights and biases."
      ],
      "execution_count": 6,
      "outputs": [
        {
          "output_type": "execute_result",
          "data": {
            "text/plain": [
              "[Parameter containing:\n",
              " tensor([[-0.0243, -0.3486, -0.1143,  0.3277],\n",
              "         [-0.3769,  0.4315,  0.4363,  0.2054],\n",
              "         [-0.2145,  0.0609,  0.1083,  0.1593],\n",
              "         [-0.0563,  0.3580, -0.3318,  0.3421],\n",
              "         [-0.0875,  0.4688,  0.2214,  0.3218],\n",
              "         [ 0.1333, -0.1388, -0.2029, -0.2644],\n",
              "         [ 0.1023,  0.0122, -0.2811,  0.2222],\n",
              "         [ 0.0703, -0.4836, -0.2646, -0.2586],\n",
              "         [ 0.1501,  0.4141,  0.4532,  0.2034],\n",
              "         [ 0.3576, -0.1813,  0.1763,  0.1016]], requires_grad=True),\n",
              " Parameter containing:\n",
              " tensor([-0.0122,  0.3788, -0.3805,  0.2868, -0.4398,  0.4063, -0.0527, -0.0967,\n",
              "          0.1600, -0.4755], requires_grad=True),\n",
              " Parameter containing:\n",
              " tensor([[ 0.1512, -0.1767,  0.2760,  0.1484, -0.0142,  0.1976,  0.2200, -0.2902,\n",
              "           0.0649,  0.1053],\n",
              "         [ 0.1699, -0.2866, -0.1320,  0.2832, -0.0341, -0.0024, -0.2327, -0.1792,\n",
              "          -0.1414, -0.2480],\n",
              "         [-0.1032, -0.2059,  0.1980,  0.2350,  0.1988,  0.0985,  0.2898,  0.0717,\n",
              "           0.0332,  0.0128]], requires_grad=True),\n",
              " Parameter containing:\n",
              " tensor([-0.1673, -0.2044, -0.2070], requires_grad=True)]"
            ]
          },
          "metadata": {
            "tags": []
          },
          "execution_count": 6
        }
      ]
    },
    {
      "cell_type": "markdown",
      "metadata": {
        "id": "X-LfH1ifmlFt"
      },
      "source": [
        "To be added to this notebook!\n",
        "\n",
        "1- Add test data and plot test acc and test loss. ***\n",
        "\n",
        "2- Try with normalized data.\n",
        "\n",
        "3- Save the results as well as the trained model and do another experiment with the loaded model! *******\n",
        "\n",
        "4- Do PCA on the data.\n",
        "\n",
        "5- Try other classifiers than FCNN.\n",
        "\n",
        "6- Do updates on batches and not the whole dataset at each epoch! ***"
      ]
    },
    {
      "cell_type": "code",
      "metadata": {
        "id": "aUz7OK4wf8AH"
      },
      "source": [
        "#1- Add test data and plot test acc and test loss! \n",
        "#We can use the train-test-split function in SKLearn to make train and test splits of the entire dataset.\n",
        "import sklearn.model_selection as model_selection\n",
        "train_test_separated = model_selection.train_test_split(iris.data,iris.target, test_size = .1, random_state = 0)\n",
        "train_data, test_data,train_label,test_label = train_test_separated"
      ],
      "execution_count": 7,
      "outputs": []
    },
    {
      "cell_type": "code",
      "metadata": {
        "id": "LQ_tIVq2jRvR"
      },
      "source": [
        "#We transform the splitted data arrays to pytorch tensors.\n",
        "iris_train = torch.from_numpy(train_data)\n",
        "iris_test = torch.from_numpy(test_data)\n",
        "iris_train_labels = torch.from_numpy(train_label)\n",
        "iris_test_labels = torch.from_numpy(test_label)"
      ],
      "execution_count": 8,
      "outputs": []
    },
    {
      "cell_type": "code",
      "metadata": {
        "colab": {
          "base_uri": "https://localhost:8080/"
        },
        "id": "HQmR2QathtkM",
        "outputId": "66ebe06d-0ce6-4420-ac59-128b18561d95"
      },
      "source": [
        "#Now, we train and test the model.\n",
        "epochs = range(3000)\n",
        "learning_rate = 1e-3\n",
        "loss = nn.CrossEntropyLoss()\n",
        "optimizer = torch.optim.Adam(my_net.parameters(), lr = learning_rate)\n",
        "iris_train = iris_train.float()\n",
        "iris_test = iris_test.float()\n",
        "#iris_labels_torch = torch.from_numpy(iris.target)\n",
        "iris_train.requires_grad = True\n",
        "train_acc_list = []\n",
        "train_loss_list = []\n",
        "test_acc_list = []\n",
        "test_loss_list = []\n",
        "\n",
        "for e in epochs:\n",
        "   optimizer.zero_grad()\n",
        "   output = my_net.forward(iris_train)\n",
        "   predictions = torch.argmax(output, axis = 1)\n",
        "   iris_loss = loss(output, iris_train_labels)\n",
        "   iris_loss.backward()\n",
        "   optimizer.step()\n",
        "   accuracy = (predictions==iris_train_labels).float().mean()\n",
        "   train_acc_list.append(accuracy)\n",
        "   train_loss_list.append(iris_loss)\n",
        "\n",
        "   test_output = my_net.forward(iris_test)\n",
        "   test_preds = torch.argmax(test_output, axis = 1)\n",
        "   iris_test_loss = loss(test_output, iris_test_labels)\n",
        "   test_acc = (test_preds == iris_test_labels).float().mean()\n",
        "   test_acc_list.append(test_acc)\n",
        "   test_loss_list.append(iris_test_loss)"
      ],
      "execution_count": 9,
      "outputs": [
        {
          "output_type": "stream",
          "text": [
            "/usr/local/lib/python3.7/dist-packages/ipykernel_launcher.py:20: UserWarning: Implicit dimension choice for softmax has been deprecated. Change the call to include dim=X as an argument.\n"
          ],
          "name": "stderr"
        }
      ]
    },
    {
      "cell_type": "code",
      "metadata": {
        "colab": {
          "base_uri": "https://localhost:8080/",
          "height": 310
        },
        "id": "7canR2mhmf8L",
        "outputId": "b4adc650-4036-4bc7-a373-685060351992"
      },
      "source": [
        "import matplotlib.pyplot as plt\n",
        "\n",
        "plt.plot(epochs, train_acc_list, label = 'train')\n",
        "plt.xlabel('epochs')\n",
        "plt.ylabel('accuracy')\n",
        "plt.title('iris dataset')\n",
        "\n",
        "plt.plot(epochs, test_acc_list, label = 'test')\n",
        "plt.legend()"
      ],
      "execution_count": 10,
      "outputs": [
        {
          "output_type": "execute_result",
          "data": {
            "text/plain": [
              "<matplotlib.legend.Legend at 0x7f77a4f1b250>"
            ]
          },
          "metadata": {
            "tags": []
          },
          "execution_count": 10
        },
        {
          "output_type": "display_data",
          "data": {
            "image/png": "[encoded data removed]",
            "text/plain": [
              "<Figure size 432x288 with 1 Axes>"
            ]
          },
          "metadata": {
            "tags": [],
            "needs_background": "light"
          }
        }
      ]
    },
    {
      "cell_type": "code",
      "metadata": {
        "colab": {
          "base_uri": "https://localhost:8080/"
        },
        "id": "e0wPd8PBnHKk",
        "outputId": "ee9d54f4-1ae6-450b-b426-9611a13207b3"
      },
      "source": [
        "test_acc"
      ],
      "execution_count": 11,
      "outputs": [
        {
          "output_type": "execute_result",
          "data": {
            "text/plain": [
              "tensor(1.)"
            ]
          },
          "metadata": {
            "tags": []
          },
          "execution_count": 11
        }
      ]
    },
    {
      "cell_type": "code",
      "metadata": {
        "id": "BPN6Kk2rnywZ"
      },
      "source": [
        "#3- Save the results as well as the trained model and do another experiment with the loaded model!"
      ],
      "execution_count": 20,
      "outputs": []
    },
    {
      "cell_type": "code",
      "metadata": {
        "id": "dCfkvlN7o2AA"
      },
      "source": [
        "results_dic = {'lr': learning_rate, 'train_acc_list' : train_acc_list, 'test_acc_list': test_acc_list, 'train_loss_list': train_loss_list, 'test_loss_list': test_loss_list, 'model_parameters':list(my_net.parameters())}"
      ],
      "execution_count": 16,
      "outputs": []
    },
    {
      "cell_type": "code",
      "metadata": {
        "id": "NU0DlCjcGeW_",
        "outputId": "f73e1b1f-c80d-49d8-f953-9b1919ccb82d",
        "colab": {
          "base_uri": "https://localhost:8080/"
        }
      },
      "source": [
        "results_dic['model_parameters']"
      ],
      "execution_count": 17,
      "outputs": [
        {
          "output_type": "execute_result",
          "data": {
            "text/plain": [
              "[Parameter containing:\n",
              " tensor([[ 0.2365, -0.8557,  1.7003,  0.9059],\n",
              "         [ 1.2218,  0.3289, -1.2295, -1.3874],\n",
              "         [-0.3804, -0.4954, -0.1255, -0.1048],\n",
              "         [-0.6304, -1.0083,  1.4099,  1.7276],\n",
              "         [ 0.0905, -0.2824,  0.7522,  1.4154],\n",
              "         [ 1.4773,  1.0010, -1.1327, -1.4280],\n",
              "         [ 0.0430,  0.0320, -0.4927, -0.0668],\n",
              "         [-0.3413,  0.0530,  0.2631, -0.4460],\n",
              "         [ 0.3266, -0.4534, -0.3845, -0.1433],\n",
              "         [ 0.0110, -0.1963, -0.2211, -0.3685]], requires_grad=True),\n",
              " Parameter containing:\n",
              " tensor([-1.2375,  1.0975, -0.2885, -1.9593, -0.3746,  1.6819,  0.0369, -0.3585,\n",
              "          0.0889,  0.3582], requires_grad=True),\n",
              " Parameter containing:\n",
              " tensor([[-1.4606,  1.0519, -0.2035, -0.6825, -0.3087,  0.7172, -0.0167,  0.2867,\n",
              "           0.1068, -0.3139],\n",
              "         [ 0.3563,  0.1774,  0.2129, -1.8739, -0.1391,  0.5099, -0.0667, -0.1558,\n",
              "           0.0298,  0.0134],\n",
              "         [ 1.1414, -1.1374, -0.1671,  1.7961,  0.3804, -1.0959,  0.3091, -0.1404,\n",
              "           0.2235,  0.0852]], requires_grad=True),\n",
              " Parameter containing:\n",
              " tensor([ 0.3892,  0.8131, -0.4288], requires_grad=True)]"
            ]
          },
          "metadata": {
            "tags": []
          },
          "execution_count": 17
        }
      ]
    },
    {
      "cell_type": "code",
      "metadata": {
        "id": "x8GlcXyPGePw",
        "outputId": "9b8c8bf8-e2a3-4164-9e99-28535e3f4c96",
        "colab": {
          "base_uri": "https://localhost:8080/",
          "height": 175
        }
      },
      "source": [
        "with open(file = 'FCNN_results', mode= 'a') as fcnn:\n",
        "  fcnn.append(results_dic)"
      ],
      "execution_count": 20,
      "outputs": [
        {
          "output_type": "error",
          "ename": "AttributeError",
          "evalue": "ignored",
          "traceback": [
            "\u001b[0;31m---------------------------------------------------------------------------\u001b[0m",
            "\u001b[0;31mAttributeError\u001b[0m                            Traceback (most recent call last)",
            "\u001b[0;32m<ipython-input-20-9109bd30f15e>\u001b[0m in \u001b[0;36m<module>\u001b[0;34m()\u001b[0m\n\u001b[1;32m      1\u001b[0m \u001b[0;32mwith\u001b[0m \u001b[0mopen\u001b[0m\u001b[0;34m(\u001b[0m\u001b[0mfile\u001b[0m \u001b[0;34m=\u001b[0m \u001b[0;34m'FCNN_results'\u001b[0m\u001b[0;34m,\u001b[0m \u001b[0mmode\u001b[0m\u001b[0;34m=\u001b[0m \u001b[0;34m'a'\u001b[0m\u001b[0;34m)\u001b[0m \u001b[0;32mas\u001b[0m \u001b[0mfcnn\u001b[0m\u001b[0;34m:\u001b[0m\u001b[0;34m\u001b[0m\u001b[0;34m\u001b[0m\u001b[0m\n\u001b[0;32m----> 2\u001b[0;31m   \u001b[0mfcnn\u001b[0m\u001b[0;34m.\u001b[0m\u001b[0mappend\u001b[0m\u001b[0;34m(\u001b[0m\u001b[0mresults_dic\u001b[0m\u001b[0;34m)\u001b[0m\u001b[0;34m\u001b[0m\u001b[0;34m\u001b[0m\u001b[0m\n\u001b[0m",
            "\u001b[0;31mAttributeError\u001b[0m: '_io.TextIOWrapper' object has no attribute 'append'"
          ]
        }
      ]
    },
    {
      "cell_type": "markdown",
      "metadata": {
        "id": "AFdpe0OML8U3"
      },
      "source": [
        "Therefore, we have recorded the learned model. So, we can load the saved model and test it on the data. So, the question is how to attribute those weights to a network."
      ]
    },
    {
      "cell_type": "code",
      "metadata": {
        "id": "YeLGX_nBKpNg"
      },
      "source": [
        "#We start by uploading the saved information and then extracting the recorded model parameters.\n",
        "with open('FCNN_results', mode = 'r') as fcnn:\n",
        "  results = fcnn.read()"
      ],
      "execution_count": 3,
      "outputs": []
    },
    {
      "cell_type": "code",
      "metadata": {
        "id": "v0tjm__2MSaK"
      },
      "source": [
        "import torch\n",
        "import torch.nn as nn\n",
        "import torch.optim\n",
        "import torch.nn.functional as F\n",
        "from sklearn import datasets"
      ],
      "execution_count": 2,
      "outputs": []
    },
    {
      "cell_type": "code",
      "metadata": {
        "id": "lCmPJdM7MSU5",
        "outputId": "9a050dd2-579e-4b1c-a3d6-e5db290636f5",
        "colab": {
          "base_uri": "https://localhost:8080/"
        }
      },
      "source": [
        "type(results)"
      ],
      "execution_count": 4,
      "outputs": [
        {
          "output_type": "execute_result",
          "data": {
            "text/plain": [
              "str"
            ]
          },
          "metadata": {
            "tags": []
          },
          "execution_count": 4
        }
      ]
    },
    {
      "cell_type": "code",
      "metadata": {
        "id": "e7UM3X5bMSPg",
        "outputId": "8648d2bf-23a4-44b6-a76a-0807052e9d29",
        "colab": {
          "base_uri": "https://localhost:8080/",
          "height": 34
        }
      },
      "source": [
        "results"
      ],
      "execution_count": 5,
      "outputs": [
        {
          "output_type": "execute_result",
          "data": {
            "application/vnd.google.colaboratory.intrinsic+json": {
              "type": "string"
            },
            "text/plain": [
              "'results_dic'"
            ]
          },
          "metadata": {
            "tags": []
          },
          "execution_count": 5
        }
      ]
    },
    {
      "cell_type": "code",
      "metadata": {
        "id": "Y_WzdvoZMSKj"
      },
      "source": [
        "import pickle"
      ],
      "execution_count": 1,
      "outputs": []
    },
    {
      "cell_type": "code",
      "metadata": {
        "id": "Sh91lOv8MSGE",
        "outputId": "8a64922f-4857-46a3-c7a5-3b9512655302",
        "colab": {
          "base_uri": "https://localhost:8080/",
          "height": 158
        }
      },
      "source": [
        " pickle.dump(results_dic, 'FCNN') \n"
      ],
      "execution_count": 22,
      "outputs": [
        {
          "output_type": "error",
          "ename": "TypeError",
          "evalue": "ignored",
          "traceback": [
            "\u001b[0;31m---------------------------------------------------------------------------\u001b[0m",
            "\u001b[0;31mTypeError\u001b[0m                                 Traceback (most recent call last)",
            "\u001b[0;32m<ipython-input-22-cfd40bde863d>\u001b[0m in \u001b[0;36m<module>\u001b[0;34m()\u001b[0m\n\u001b[0;32m----> 1\u001b[0;31m \u001b[0mpickle\u001b[0m\u001b[0;34m.\u001b[0m\u001b[0mdump\u001b[0m\u001b[0;34m(\u001b[0m\u001b[0mresults_dic\u001b[0m\u001b[0;34m,\u001b[0m \u001b[0;34m'FCNN'\u001b[0m\u001b[0;34m)\u001b[0m\u001b[0;34m\u001b[0m\u001b[0;34m\u001b[0m\u001b[0m\n\u001b[0m",
            "\u001b[0;31mTypeError\u001b[0m: file must have a 'write' attribute"
          ]
        }
      ]
    },
    {
      "cell_type": "code",
      "metadata": {
        "id": "MLCtzgucMSBF"
      },
      "source": [
        "x = open('FCNN', mode = 'w')\n",
        "#pickle.dump(results_dic, 'FCNN',)"
      ],
      "execution_count": 28,
      "outputs": []
    },
    {
      "cell_type": "code",
      "metadata": {
        "id": "ksqIgnBgMR7v",
        "outputId": "7b27313f-13ec-4a53-9a17-ea9e7666addc",
        "colab": {
          "base_uri": "https://localhost:8080/",
          "height": 158
        }
      },
      "source": [
        "pickle.dumps(results_dic, 'FCNN',)"
      ],
      "execution_count": 32,
      "outputs": [
        {
          "output_type": "error",
          "ename": "TypeError",
          "evalue": "ignored",
          "traceback": [
            "\u001b[0;31m---------------------------------------------------------------------------\u001b[0m",
            "\u001b[0;31mTypeError\u001b[0m                                 Traceback (most recent call last)",
            "\u001b[0;32m<ipython-input-32-9fe0a1acae31>\u001b[0m in \u001b[0;36m<module>\u001b[0;34m()\u001b[0m\n\u001b[0;32m----> 1\u001b[0;31m \u001b[0mpickle\u001b[0m\u001b[0;34m.\u001b[0m\u001b[0mdumps\u001b[0m\u001b[0;34m(\u001b[0m\u001b[0mresults_dic\u001b[0m\u001b[0;34m,\u001b[0m \u001b[0;34m'FCNN'\u001b[0m\u001b[0;34m)\u001b[0m\u001b[0;34m\u001b[0m\u001b[0;34m\u001b[0m\u001b[0m\n\u001b[0m",
            "\u001b[0;31mTypeError\u001b[0m: an integer is required (got type str)"
          ]
        }
      ]
    },
    {
      "cell_type": "code",
      "metadata": {
        "id": "klY3FRWHMR3V"
      },
      "source": [
        "with open('f' , 'wb') as oh:\n",
        "  pickle.dump(results_dic, oh)"
      ],
      "execution_count": 46,
      "outputs": []
    },
    {
      "cell_type": "code",
      "metadata": {
        "id": "ML_fa4rXMRyl"
      },
      "source": [
        "with open('f' , 'rb') as toh:\n",
        "  unpickler = pickle.Unpickler(toh)\n",
        "  res = unpickler.load()"
      ],
      "execution_count": 2,
      "outputs": []
    },
    {
      "cell_type": "code",
      "metadata": {
        "id": "NuXeomGHMRt3",
        "outputId": "36d41ca1-6250-4973-d561-ae2206c588c4",
        "colab": {
          "base_uri": "https://localhost:8080/"
        }
      },
      "source": [
        "type(res)"
      ],
      "execution_count": 50,
      "outputs": [
        {
          "output_type": "execute_result",
          "data": {
            "text/plain": [
              "dict"
            ]
          },
          "metadata": {
            "tags": []
          },
          "execution_count": 50
        }
      ]
    },
    {
      "cell_type": "code",
      "metadata": {
        "id": "DracicBCMRpS",
        "outputId": "a4d8cc7e-c73b-4ac9-cd44-3ece0017ce7b",
        "colab": {
          "base_uri": "https://localhost:8080/"
        }
      },
      "source": [
        "res['model_parameters']"
      ],
      "execution_count": 3,
      "outputs": [
        {
          "output_type": "execute_result",
          "data": {
            "text/plain": [
              "[Parameter containing:\n",
              " tensor([[ 0.2365, -0.8557,  1.7003,  0.9059],\n",
              "         [ 1.2218,  0.3289, -1.2295, -1.3874],\n",
              "         [-0.3804, -0.4954, -0.1255, -0.1048],\n",
              "         [-0.6304, -1.0083,  1.4099,  1.7276],\n",
              "         [ 0.0905, -0.2824,  0.7522,  1.4154],\n",
              "         [ 1.4773,  1.0010, -1.1327, -1.4280],\n",
              "         [ 0.0430,  0.0320, -0.4927, -0.0668],\n",
              "         [-0.3413,  0.0530,  0.2631, -0.4460],\n",
              "         [ 0.3266, -0.4534, -0.3845, -0.1433],\n",
              "         [ 0.0110, -0.1963, -0.2211, -0.3685]], requires_grad=True),\n",
              " Parameter containing:\n",
              " tensor([-1.2375,  1.0975, -0.2885, -1.9593, -0.3746,  1.6819,  0.0369, -0.3585,\n",
              "          0.0889,  0.3582], requires_grad=True),\n",
              " Parameter containing:\n",
              " tensor([[-1.4606,  1.0519, -0.2035, -0.6825, -0.3087,  0.7172, -0.0167,  0.2867,\n",
              "           0.1068, -0.3139],\n",
              "         [ 0.3563,  0.1774,  0.2129, -1.8739, -0.1391,  0.5099, -0.0667, -0.1558,\n",
              "           0.0298,  0.0134],\n",
              "         [ 1.1414, -1.1374, -0.1671,  1.7961,  0.3804, -1.0959,  0.3091, -0.1404,\n",
              "           0.2235,  0.0852]], requires_grad=True),\n",
              " Parameter containing:\n",
              " tensor([ 0.3892,  0.8131, -0.4288], requires_grad=True)]"
            ]
          },
          "metadata": {
            "tags": []
          },
          "execution_count": 3
        }
      ]
    },
    {
      "cell_type": "code",
      "metadata": {
        "id": "lZj3iAhRMRlM"
      },
      "source": [
        "torch.save(my_net,'model')"
      ],
      "execution_count": 12,
      "outputs": []
    },
    {
      "cell_type": "code",
      "metadata": {
        "id": "-O27RXPWMRJ4"
      },
      "source": [
        "loaded_model = torch.load('model')"
      ],
      "execution_count": 13,
      "outputs": []
    },
    {
      "cell_type": "code",
      "metadata": {
        "id": "Pye5AUOjwpUm"
      },
      "source": [
        "loaded_model.forward"
      ],
      "execution_count": null,
      "outputs": []
    },
    {
      "cell_type": "code",
      "metadata": {
        "id": "faMJuw2Ew4oc",
        "outputId": "a534d507-7df9-4d6e-b111-85fbbde4df28",
        "colab": {
          "base_uri": "https://localhost:8080/"
        }
      },
      "source": [
        "#Now, we train and test the model.\n",
        "epochs = range(1)\n",
        "learning_rate = 0\n",
        "loss = nn.CrossEntropyLoss()\n",
        "optimizer = torch.optim.Adam(my_net.parameters(), lr = learning_rate)\n",
        "iris_train = iris_train.float()\n",
        "iris_test = iris_test.float()\n",
        "#iris_labels_torch = torch.from_numpy(iris.target)\n",
        "iris_train.requires_grad = True\n",
        "train_acc_list = []\n",
        "train_loss_list = []\n",
        "test_acc_list = []\n",
        "test_loss_list = []\n",
        "\n",
        "for e in epochs:\n",
        "   optimizer.zero_grad()\n",
        "   output = loaded_model.forward(iris_train)\n",
        "   predictions = torch.argmax(output, axis = 1)\n",
        "   iris_loss = loss(output, iris_train_labels)\n",
        "   iris_loss.backward()\n",
        "   optimizer.step()\n",
        "   accuracy = (predictions==iris_train_labels).float().mean()\n",
        "   train_acc_list.append(accuracy)\n",
        "   train_loss_list.append(iris_loss)\n",
        "\n",
        "   test_output = loaded_model.forward(iris_test)\n",
        "   test_preds = torch.argmax(test_output, axis = 1)\n",
        "   iris_test_loss = loss(test_output, iris_test_labels)\n",
        "   test_acc = (test_preds == iris_test_labels).float().mean()\n",
        "   test_acc_list.append(test_acc)\n",
        "   test_loss_list.append(iris_test_loss)"
      ],
      "execution_count": 14,
      "outputs": [
        {
          "output_type": "stream",
          "text": [
            "/usr/local/lib/python3.7/dist-packages/ipykernel_launcher.py:20: UserWarning: Implicit dimension choice for softmax has been deprecated. Change the call to include dim=X as an argument.\n"
          ],
          "name": "stderr"
        }
      ]
    },
    {
      "cell_type": "code",
      "metadata": {
        "id": "NF7t_AOSxA1M",
        "outputId": "7b92cd20-f297-4608-8b6d-702fb295443b",
        "colab": {
          "base_uri": "https://localhost:8080/",
          "height": 310
        }
      },
      "source": [
        "import matplotlib.pyplot as plt\n",
        "\n",
        "plt.scatter(epochs, train_acc_list, label = 'train')\n",
        "plt.xlabel('epochs')\n",
        "plt.ylabel('accuracy')\n",
        "plt.title('iris dataset')\n",
        "\n",
        "plt.scatter(epochs, test_acc_list, label = 'test')\n",
        "plt.legend()"
      ],
      "execution_count": 15,
      "outputs": [
        {
          "output_type": "execute_result",
          "data": {
            "text/plain": [
              "<matplotlib.legend.Legend at 0x7f77a4ea5310>"
            ]
          },
          "metadata": {
            "tags": []
          },
          "execution_count": 15
        },
        {
          "output_type": "display_data",
          "data": {
            "image/png": "[encoded data removed]",
            "text/plain": [
              "<Figure size 432x288 with 1 Axes>"
            ]
          },
          "metadata": {
            "tags": [],
            "needs_background": "light"
          }
        }
      ]
    },
    {
      "cell_type": "code",
      "metadata": {
        "id": "G4fVhw28xIaS"
      },
      "source": [
        ""
      ],
      "execution_count": null,
      "outputs": []
    }
  ]
}