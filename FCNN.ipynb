{
  "nbformat": 4,
  "nbformat_minor": 0,
  "metadata": {
    "colab": {
      "name": "FCNN.ipynb",
      "provenance": [],
      "collapsed_sections": [],
      "authorship_tag": "ABX9TyPvvlJJ2ExonwvAcWqavKx0",
      "include_colab_link": true
    },
    "kernelspec": {
      "name": "python3",
      "display_name": "Python 3"
    },
    "language_info": {
      "name": "python"
    }
  },
  "cells": [
    {
      "cell_type": "markdown",
      "metadata": {
        "id": "view-in-github",
        "colab_type": "text"
      },
      "source": [
        "<a href=\"https://colab.research.google.com/github/Beh-noush/General-Python/blob/main/FCNN.ipynb\" target=\"_parent\"><img src=\"https://colab.research.google.com/assets/colab-badge.svg\" alt=\"Open In Colab\"/></a>"
      ]
    },
    {
      "cell_type": "markdown",
      "metadata": {
        "id": "zIJduvdLzxCt"
      },
      "source": [
        "Simple Neural Network with Pytorch"
      ]
    },
    {
      "cell_type": "code",
      "metadata": {
        "id": "0-pTfoCmzvGf"
      },
      "source": [
        "import torch\n",
        "import torch.nn as nn\n",
        "import torch.optim\n",
        "import torch.nn.functional as F\n",
        "from sklearn import datasets\n",
        "import numpy as np"
      ],
      "execution_count": 1,
      "outputs": []
    },
    {
      "cell_type": "markdown",
      "metadata": {
        "id": "YuGS2t1U1Wzi"
      },
      "source": [
        "A fully-connected 2-layer network with Relu non-linearity."
      ]
    },
    {
      "cell_type": "code",
      "metadata": {
        "id": "keOftEaE7unY"
      },
      "source": [
        "# class FCNN(nn.Module):\n",
        "#   def __init__(self, input_dim, hidden_dim, out_dim):\n",
        "#     super(FCNN, self).__init__()\n",
        "#     self.preactivation_hidden = nn.Linear(input_dim,hidden_dim)\n",
        "#     self.preactivation_out = nn.Linear(hidden_dim, out_dim)\n",
        "\n",
        "#   def forward(self, x):\n",
        "#     \"\"\"\n",
        "#     Input:\n",
        "#           1-d array\n",
        "#           x is the input of the Neural Net of dimension input_dim\n",
        "#     Returns:\n",
        "#           1-d array of dimension out_dim. The score function output.\n",
        "#     \"\"\"\n",
        "#     preactive_1 = self.preactivation_hidden(x)\n",
        "#     active_1 = F.relu(preactive_1)\n",
        "#     pre_output = self.preactivation_out(active_1)\n",
        "#     output = F.relu(pre_output)\n",
        "#     return output\n",
        "\n",
        "# # Why is this code wrong? \n"
      ],
      "execution_count": null,
      "outputs": []
    },
    {
      "cell_type": "code",
      "metadata": {
        "id": "LghljEnd0Izm"
      },
      "source": [
        "class FCNN(nn.Module):\n",
        "  def __init__(self, input_dim, hidden_dim, out_dim):\n",
        "    super(FCNN, self).__init__()\n",
        "    self.preactivation_hidden = nn.Linear(input_dim,hidden_dim)\n",
        "    self.activation_hidden = nn.ReLU()\n",
        "    self.preactivation_out = nn.Linear(hidden_dim, out_dim)\n",
        "    self.activation_out = nn.Softmax()\n",
        "\n",
        "  def forward(self, x):\n",
        "    \"\"\"\n",
        "    Input:\n",
        "          1-d array\n",
        "          x is the input of the Neural Net of dimension input_dim\n",
        "    Returns:\n",
        "          1-d array of dimension out_dim. The score function output.\n",
        "    \"\"\"\n",
        "    preactive_1 = self.preactivation_hidden(x)\n",
        "    active_1 = self.activation_hidden(preactive_1)\n",
        "    pre_output = self.preactivation_out(active_1)\n",
        "    output = self.activation_out(pre_output)\n",
        "    return output\n",
        "\n"
      ],
      "execution_count": 2,
      "outputs": []
    },
    {
      "cell_type": "markdown",
      "metadata": {
        "id": "9eYHN8X__q5J"
      },
      "source": [
        "We use this neural net on Iris dataset."
      ]
    },
    {
      "cell_type": "code",
      "metadata": {
        "id": "sjyGczwE0Ibg"
      },
      "source": [
        "iris = datasets.load_iris()"
      ],
      "execution_count": 3,
      "outputs": []
    },
    {
      "cell_type": "code",
      "metadata": {
        "id": "knUJQy118B8Z"
      },
      "source": [
        "my_net = FCNN(4, 10, 3) "
      ],
      "execution_count": 4,
      "outputs": []
    },
    {
      "cell_type": "markdown",
      "metadata": {
        "id": "g7MVWA38-T-s"
      },
      "source": [
        "Remember it was necessary to put .float() after your dataset, otherwise an error occured complaining about the dtype double rather than float! It seems a new error!"
      ]
    },
    {
      "cell_type": "markdown",
      "metadata": {
        "id": "X-LfH1ifmlFt"
      },
      "source": [
        "To be added to this notebook!\n",
        "\n",
        "1- Add test data and plot test acc and test loss. ***\n",
        "\n",
        "2- Try with normalized data.\n",
        "\n",
        "3- Save the results as well as the trained model and do another experiment with the loaded model! *******\n",
        "\n",
        "4- Do PCA on the data.\n",
        "\n",
        "5- Try other classifiers than FCNN.\n",
        "\n",
        "6- Do updates on batches and not the whole dataset at each epoch! ***"
      ]
    },
    {
      "cell_type": "code",
      "metadata": {
        "id": "aUz7OK4wf8AH"
      },
      "source": [
        "#1- Add test data and plot test acc and test loss! \n",
        "#We can use the train-test-split function in SKLearn to make train and test splits of the entire dataset.\n",
        "import sklearn.model_selection as model_selection\n",
        "train_test_separated = model_selection.train_test_split(iris.data,iris.target, test_size = .1, random_state = 0)\n",
        "train_data, test_data,train_label,test_label = train_test_separated"
      ],
      "execution_count": 5,
      "outputs": []
    },
    {
      "cell_type": "code",
      "metadata": {
        "id": "LQ_tIVq2jRvR"
      },
      "source": [
        "# #We transform the splitted data arrays to pytorch tensors.\n",
        "# iris_train = torch.from_numpy(train_data)\n",
        "iris_test = torch.from_numpy(test_data)\n",
        "# iris_train_labels = torch.from_numpy(train_label)\n",
        "iris_test_labels = torch.from_numpy(test_label)"
      ],
      "execution_count": 6,
      "outputs": []
    },
    {
      "cell_type": "code",
      "metadata": {
        "colab": {
          "base_uri": "https://localhost:8080/"
        },
        "id": "imDKoYgV5oaB",
        "outputId": "230ffe29-33eb-4530-dc61-2f6a6ba2bf77"
      },
      "source": [
        "# iris_train_labels"
      ],
      "execution_count": 9,
      "outputs": [
        {
          "output_type": "execute_result",
          "data": {
            "text/plain": [
              "tensor([0, 1, 1, 0, 0, 2, 1, 0, 0, 2, 0, 0, 1, 1, 0, 2, 1, 0, 2, 2, 1, 0, 1, 1,\n",
              "        1, 2, 0, 2, 0, 0, 1, 2, 2, 2, 2, 1, 2, 1, 1, 2, 2, 2, 2, 1, 2, 1, 0, 2,\n",
              "        1, 1, 1, 1, 2, 0, 0, 2, 1, 0, 0, 1, 0, 2, 1, 0, 1, 2, 1, 0, 2, 2, 2, 2,\n",
              "        0, 0, 2, 2, 0, 2, 0, 2, 2, 0, 0, 2, 0, 0, 0, 1, 2, 2, 0, 0, 0, 1, 1, 0,\n",
              "        0, 1, 0, 2, 1, 2, 1, 0, 2, 0, 2, 0, 0, 2, 0, 2, 1, 1, 1, 2, 2, 1, 1, 0,\n",
              "        1, 2, 2, 0, 1, 1, 1, 1, 0, 0, 0, 2, 1, 2, 0])"
            ]
          },
          "metadata": {
            "tags": []
          },
          "execution_count": 9
        }
      ]
    },
    {
      "cell_type": "code",
      "metadata": {
        "id": "Ga2divEueOFb"
      },
      "source": [
        "#iris_entire = np.column_stack((iris.data, iris.target))"
      ],
      "execution_count": 9,
      "outputs": []
    },
    {
      "cell_type": "code",
      "metadata": {
        "id": "9_BiKlaZbDuB"
      },
      "source": [
        "#iris_torch_in_batch = torch.utils.data.DataLoader(iris_entire, batch_size = 5, shuffle= True)"
      ],
      "execution_count": 10,
      "outputs": []
    },
    {
      "cell_type": "code",
      "metadata": {
        "id": "yQcbqQvgSQY8"
      },
      "source": [
        "iris_train_entire = np.column_stack((train_data,train_label))\n",
        "iris_train_in_batch = torch.utils.data.DataLoader(iris_train_entire, batch_size = 5, shuffle= True)"
      ],
      "execution_count": 7,
      "outputs": []
    },
    {
      "cell_type": "code",
      "metadata": {
        "colab": {
          "base_uri": "https://localhost:8080/"
        },
        "id": "bkLUc_YYZtI5",
        "outputId": "109fc89c-21eb-4285-ed77-256bafa79f44"
      },
      "source": [
        "# list(iris_train_in_batch)[0][:,-1].long()"
      ],
      "execution_count": 49,
      "outputs": [
        {
          "output_type": "execute_result",
          "data": {
            "text/plain": [
              "tensor([1, 0, 2, 2, 0])"
            ]
          },
          "metadata": {
            "tags": []
          },
          "execution_count": 49
        }
      ]
    },
    {
      "cell_type": "code",
      "metadata": {
        "id": "jrr5YWqJaT_A"
      },
      "source": [
        "  # for batch in iris_train_in_batch:\n",
        "    \n",
        "  #   iris_train_batch = batch[:,:-1]\n",
        "  #   iris_train_labels_batch = batch[:,-1].int()\n"
      ],
      "execution_count": 41,
      "outputs": []
    },
    {
      "cell_type": "code",
      "metadata": {
        "colab": {
          "base_uri": "https://localhost:8080/"
        },
        "id": "gPUW5rs-adaZ",
        "outputId": "1d61f30d-f3a7-48ae-944f-59a7f5d91305"
      },
      "source": [
        "type(iris_train_labels_batch.long())\n"
      ],
      "execution_count": 46,
      "outputs": [
        {
          "output_type": "execute_result",
          "data": {
            "text/plain": [
              "torch.Tensor"
            ]
          },
          "metadata": {
            "tags": []
          },
          "execution_count": 46
        }
      ]
    },
    {
      "cell_type": "code",
      "metadata": {
        "colab": {
          "base_uri": "https://localhost:8080/"
        },
        "id": "HQmR2QathtkM",
        "outputId": "33cd97f2-2efc-497d-d7ee-4af8438176ad"
      },
      "source": [
        "#Now, we train and test the model.\n",
        "batch_size = 27\n",
        "num_batches = len(train_data)/batch_size\n",
        "epochs = range(3000)\n",
        "learning_rate = 1e-3\n",
        "loss = nn.CrossEntropyLoss()\n",
        "optimizer = torch.optim.Adam(my_net.parameters(), lr = learning_rate)\n",
        "#iris_train = iris_train.float()\n",
        "iris_test = iris_test.float()\n",
        "#iris_labels_torch = torch.from_numpy(iris.target)\n",
        "#iris_train.requires_grad = True\n",
        "train_acc_list = []\n",
        "train_loss_list = []\n",
        "test_acc_list = []\n",
        "test_loss_list = []\n",
        "\n",
        "for e in epochs:\n",
        "  accuracy = 0\n",
        "  my_loss = 0\n",
        "  for batch in iris_train_in_batch:\n",
        "    \n",
        "    iris_train_batch = batch[:,:-1]\n",
        "    iris_train_in_batch.requires_grad = True\n",
        "\n",
        "    iris_train_labels_batch = batch[:,-1].long()\n",
        "    optimizer.zero_grad()\n",
        "    output = my_net.forward(iris_train_batch.float())\n",
        "    predictions = torch.argmax(output, axis = 1)\n",
        "    iris_loss = loss(output, iris_train_labels_batch)\n",
        "    iris_loss.backward()\n",
        "    optimizer.step()\n",
        "    accuracy += (predictions==iris_train_labels_batch).float().mean()\n",
        "    my_loss += iris_loss\n",
        "  train_acc_list.append(accuracy/num_batches)\n",
        "  train_loss_list.append(iris_loss)\n",
        "\n",
        "  test_output = my_net.forward(iris_test)\n",
        "  test_preds = torch.argmax(test_output, axis = 1)\n",
        "  iris_test_loss = loss(test_output, iris_test_labels)\n",
        "  test_acc = (test_preds == iris_test_labels).float().mean()\n",
        "  test_acc_list.append(test_acc)\n",
        "  test_loss_list.append(iris_test_loss)"
      ],
      "execution_count": 8,
      "outputs": [
        {
          "output_type": "stream",
          "text": [
            "/usr/local/lib/python3.7/dist-packages/ipykernel_launcher.py:20: UserWarning: Implicit dimension choice for softmax has been deprecated. Change the call to include dim=X as an argument.\n"
          ],
          "name": "stderr"
        }
      ]
    },
    {
      "cell_type": "code",
      "metadata": {
        "colab": {
          "base_uri": "https://localhost:8080/",
          "height": 310
        },
        "id": "7canR2mhmf8L",
        "outputId": "d3a8a3d4-a656-4b53-aaa4-5624cbda36e3"
      },
      "source": [
        "import matplotlib.pyplot as plt\n",
        "\n",
        "plt.plot(epochs, train_acc_list, label = 'train')\n",
        "plt.xlabel('epochs')\n",
        "plt.ylabel('accuracy')\n",
        "plt.title('iris dataset')\n",
        "\n",
        "plt.plot(epochs, test_acc_list, label = 'test')\n",
        "plt.legend()"
      ],
      "execution_count": 9,
      "outputs": [
        {
          "output_type": "execute_result",
          "data": {
            "text/plain": [
              "<matplotlib.legend.Legend at 0x7f2b38318110>"
            ]
          },
          "metadata": {
            "tags": []
          },
          "execution_count": 9
        },
        {
          "output_type": "display_data",
          "data": {
            "image/png": "[encoded data removed]",
            "text/plain": [
              "<Figure size 432x288 with 1 Axes>"
            ]
          },
          "metadata": {
            "tags": [],
            "needs_background": "light"
          }
        }
      ]
    },
    {
      "cell_type": "code",
      "metadata": {
        "colab": {
          "base_uri": "https://localhost:8080/"
        },
        "id": "e0wPd8PBnHKk",
        "outputId": "bcbfb962-9d3d-4fa2-b815-86083e554b3b"
      },
      "source": [
        "test_acc"
      ],
      "execution_count": 9,
      "outputs": [
        {
          "output_type": "execute_result",
          "data": {
            "text/plain": [
              "tensor(1.)"
            ]
          },
          "metadata": {
            "tags": []
          },
          "execution_count": 9
        }
      ]
    },
    {
      "cell_type": "code",
      "metadata": {
        "id": "BPN6Kk2rnywZ"
      },
      "source": [
        "#3- Save the results as well as the trained model and do another experiment with the loaded model!"
      ],
      "execution_count": 20,
      "outputs": []
    },
    {
      "cell_type": "code",
      "metadata": {
        "id": "dCfkvlN7o2AA"
      },
      "source": [
        "results_dic = {'lr': learning_rate, 'train_acc_list' : train_acc_list, 'test_acc_list': test_acc_list, 'train_loss_list': train_loss_list, 'test_loss_list': test_loss_list, 'model_parameters':list(my_net.parameters())}"
      ],
      "execution_count": 10,
      "outputs": []
    },
    {
      "cell_type": "markdown",
      "metadata": {
        "id": "AFdpe0OML8U3"
      },
      "source": [
        "Therefore, we have recorded the learned model. So, we can load the saved model and test it on the data. So, the question is how to attribute those weights to a network."
      ]
    },
    {
      "cell_type": "code",
      "metadata": {
        "id": "Y_WzdvoZMSKj"
      },
      "source": [
        "import pickle"
      ],
      "execution_count": 11,
      "outputs": []
    },
    {
      "cell_type": "code",
      "metadata": {
        "id": "klY3FRWHMR3V"
      },
      "source": [
        "with open('results' , 'wb') as fcnn_write:\n",
        "  pickle.dump(results_dic, fcnn_write)"
      ],
      "execution_count": 12,
      "outputs": []
    },
    {
      "cell_type": "code",
      "metadata": {
        "id": "ML_fa4rXMRyl"
      },
      "source": [
        "with open('f' , 'rb') as fcnn_read:\n",
        "  unpickler = pickle.Unpickler(fcnn_read)\n",
        "  res = unpickler.load()"
      ],
      "execution_count": 13,
      "outputs": []
    },
    {
      "cell_type": "code",
      "metadata": {
        "colab": {
          "base_uri": "https://localhost:8080/"
        },
        "id": "DracicBCMRpS",
        "outputId": "55e5f61b-d17b-4723-e1be-15ebf9615422"
      },
      "source": [
        "res['model_parameters']"
      ],
      "execution_count": 14,
      "outputs": [
        {
          "output_type": "execute_result",
          "data": {
            "text/plain": [
              "[Parameter containing:\n",
              " tensor([[ 0.2365, -0.8557,  1.7003,  0.9059],\n",
              "         [ 1.2218,  0.3289, -1.2295, -1.3874],\n",
              "         [-0.3804, -0.4954, -0.1255, -0.1048],\n",
              "         [-0.6304, -1.0083,  1.4099,  1.7276],\n",
              "         [ 0.0905, -0.2824,  0.7522,  1.4154],\n",
              "         [ 1.4773,  1.0010, -1.1327, -1.4280],\n",
              "         [ 0.0430,  0.0320, -0.4927, -0.0668],\n",
              "         [-0.3413,  0.0530,  0.2631, -0.4460],\n",
              "         [ 0.3266, -0.4534, -0.3845, -0.1433],\n",
              "         [ 0.0110, -0.1963, -0.2211, -0.3685]], requires_grad=True),\n",
              " Parameter containing:\n",
              " tensor([-1.2375,  1.0975, -0.2885, -1.9593, -0.3746,  1.6819,  0.0369, -0.3585,\n",
              "          0.0889,  0.3582], requires_grad=True),\n",
              " Parameter containing:\n",
              " tensor([[-1.4606,  1.0519, -0.2035, -0.6825, -0.3087,  0.7172, -0.0167,  0.2867,\n",
              "           0.1068, -0.3139],\n",
              "         [ 0.3563,  0.1774,  0.2129, -1.8739, -0.1391,  0.5099, -0.0667, -0.1558,\n",
              "           0.0298,  0.0134],\n",
              "         [ 1.1414, -1.1374, -0.1671,  1.7961,  0.3804, -1.0959,  0.3091, -0.1404,\n",
              "           0.2235,  0.0852]], requires_grad=True),\n",
              " Parameter containing:\n",
              " tensor([ 0.3892,  0.8131, -0.4288], requires_grad=True)]"
            ]
          },
          "metadata": {
            "tags": []
          },
          "execution_count": 14
        }
      ]
    },
    {
      "cell_type": "code",
      "metadata": {
        "id": "lZj3iAhRMRlM"
      },
      "source": [
        "#We save the model.\n",
        "torch.save(my_net,'saved_model')"
      ],
      "execution_count": 16,
      "outputs": []
    },
    {
      "cell_type": "code",
      "metadata": {
        "id": "-O27RXPWMRJ4"
      },
      "source": [
        "#We load the model to check its output on the test set without more training.\n",
        "loaded_model = torch.load('saved_model')"
      ],
      "execution_count": 17,
      "outputs": []
    },
    {
      "cell_type": "code",
      "metadata": {
        "colab": {
          "base_uri": "https://localhost:8080/"
        },
        "id": "faMJuw2Ew4oc",
        "outputId": "19b05cfa-2e13-47d0-ac59-06faa020ce9a"
      },
      "source": [
        "#Apply the trained model on a dataset.\n",
        "\n",
        "iris_train = iris_train.float()\n",
        "iris_test = iris_test.float()\n",
        "#iris_labels_torch = torch.from_numpy(iris.target)\n",
        "#iris_train.requires_grad = True\n",
        "\n",
        "output = loaded_model(iris_train)\n",
        "predictions = torch.argmax(output, axis = 1)\n",
        "iris_loss = loss(output, iris_train_labels)\n",
        "accuracy = (predictions==iris_train_labels).float().mean()\n",
        "\n",
        "test_output = loaded_model.forward(iris_test)\n",
        "test_preds = torch.argmax(test_output, axis = 1)\n",
        "iris_test_loss = loss(test_output, iris_test_labels)\n",
        "test_acc = (test_preds == iris_test_labels).float().mean()"
      ],
      "execution_count": 18,
      "outputs": [
        {
          "output_type": "stream",
          "text": [
            "/usr/local/lib/python3.7/dist-packages/ipykernel_launcher.py:20: UserWarning: Implicit dimension choice for softmax has been deprecated. Change the call to include dim=X as an argument.\n"
          ],
          "name": "stderr"
        }
      ]
    },
    {
      "cell_type": "code",
      "metadata": {
        "colab": {
          "base_uri": "https://localhost:8080/",
          "height": 310
        },
        "id": "NF7t_AOSxA1M",
        "outputId": "81552939-1082-45bc-f7cd-74cefa3082d0"
      },
      "source": [
        "import matplotlib.pyplot as plt\n",
        "\n",
        "plt.scatter( [1], accuracy, label = 'train')\n",
        "plt.xlabel('epochs')\n",
        "plt.ylabel('accuracy')\n",
        "plt.title('iris dataset')\n",
        "\n",
        "plt.scatter([1], test_acc, label = 'test')\n",
        "plt.legend()"
      ],
      "execution_count": 22,
      "outputs": [
        {
          "output_type": "execute_result",
          "data": {
            "text/plain": [
              "<matplotlib.legend.Legend at 0x7f974246c090>"
            ]
          },
          "metadata": {
            "tags": []
          },
          "execution_count": 22
        },
        {
          "output_type": "display_data",
          "data": {
            "image/png": "[encoded data removed]",
            "text/plain": [
              "<Figure size 432x288 with 1 Axes>"
            ]
          },
          "metadata": {
            "tags": [],
            "needs_background": "light"
          }
        }
      ]
    },
    {
      "cell_type": "code",
      "metadata": {
        "id": "GTBFBWh6mSes"
      },
      "source": [
        "#6- Do updates on batches and not the whole dataset at each epoch! "
      ],
      "execution_count": null,
      "outputs": []
    }
  ]
}