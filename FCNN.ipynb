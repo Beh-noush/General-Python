{
  "nbformat": 4,
  "nbformat_minor": 0,
  "metadata": {
    "colab": {
      "name": "FCNN.ipynb",
      "provenance": [],
      "collapsed_sections": [],
      "authorship_tag": "ABX9TyN8Vt7rMIJ1nhCCTvKGGMji",
      "include_colab_link": true
    },
    "kernelspec": {
      "name": "python3",
      "display_name": "Python 3"
    },
    "language_info": {
      "name": "python"
    }
  },
  "cells": [
    {
      "cell_type": "markdown",
      "metadata": {
        "id": "view-in-github",
        "colab_type": "text"
      },
      "source": [
        "<a href=\"https://colab.research.google.com/github/Beh-noush/General-Python/blob/main/FCNN.ipynb\" target=\"_parent\"><img src=\"https://colab.research.google.com/assets/colab-badge.svg\" alt=\"Open In Colab\"/></a>"
      ]
    },
    {
      "cell_type": "markdown",
      "metadata": {
        "id": "zIJduvdLzxCt"
      },
      "source": [
        "Simple Neural Network with Pytorch"
      ]
    },
    {
      "cell_type": "code",
      "metadata": {
        "id": "0-pTfoCmzvGf"
      },
      "source": [
        "import torch\n",
        "import torch.nn as nn\n",
        "import torch.optim\n",
        "import torch.nn.functional as F"
      ],
      "execution_count": 1,
      "outputs": []
    },
    {
      "cell_type": "code",
      "metadata": {
        "id": "YjXwzVEYfTq1"
      },
      "source": [
        "from sklearn import datasets"
      ],
      "execution_count": 2,
      "outputs": []
    },
    {
      "cell_type": "markdown",
      "metadata": {
        "id": "YuGS2t1U1Wzi"
      },
      "source": [
        "A fully-connected 2-layer network with Relu non-linearity."
      ]
    },
    {
      "cell_type": "code",
      "metadata": {
        "id": "keOftEaE7unY"
      },
      "source": [
        "class FCNN(nn.Module):\n",
        "  def __init__(self, input_dim, hidden_dim, out_dim):\n",
        "    super(FCNN, self).__init__()\n",
        "    self.preactivation_hidden = nn.Linear(input_dim,hidden_dim)\n",
        "   # self.activation_hidden = nn.ReLU(self.preactivation_hidden)\n",
        "    self.preactivation_out = nn.Linear(hidden_dim, out_dim)\n",
        "  #  self.activation_hidden = nn.ReLU(self.preactivation_out)\n",
        "\n",
        "  def forward(self, x):\n",
        "    \"\"\"\n",
        "    Input:\n",
        "          1-d array\n",
        "          x is the input of the Neural Net of dimension input_dim\n",
        "    Returns:\n",
        "          1-d array of dimension out_dim. The score function output.\n",
        "    \"\"\"\n",
        "    preactive_1 = self.preactivation_hidden(x)\n",
        "    active_1 = F.relu(preactive_1)\n",
        "    pre_output = self.preactivation_out(active_1)\n",
        "    output = F.relu(pre_output)\n",
        "    return output\n",
        "\n",
        "# Why is this code wrong? \n",
        "#Ok, By replacing nn.ReLU with F.relu it works.\n",
        "#It remains to check that both network structures are correct.\n"
      ],
      "execution_count": 3,
      "outputs": []
    },
    {
      "cell_type": "code",
      "metadata": {
        "id": "LghljEnd0Izm"
      },
      "source": [
        "class FCNN(nn.Module):\n",
        "  def __init__(self, input_dim, hidden_dim, out_dim):\n",
        "    super(FCNN, self).__init__()\n",
        "    self.preactivation_hidden = nn.Linear(input_dim,hidden_dim)\n",
        "    self.activation_hidden = nn.ReLU()\n",
        "    self.preactivation_out = nn.Linear(hidden_dim, out_dim)\n",
        "    self.activation_out = nn.Softmax()\n",
        "\n",
        "  def forward(self, x):\n",
        "    \"\"\"\n",
        "    Input:\n",
        "          1-d array\n",
        "          x is the input of the Neural Net of dimension input_dim\n",
        "    Returns:\n",
        "          1-d array of dimension out_dim. The score function output.\n",
        "    \"\"\"\n",
        "    preactive_1 = self.preactivation_hidden(x)\n",
        "    active_1 = self.activation_hidden(preactive_1)\n",
        "    pre_output = self.preactivation_out(active_1)\n",
        "    output = self.activation_out(pre_output)\n",
        "    return output\n",
        "\n"
      ],
      "execution_count": 3,
      "outputs": []
    },
    {
      "cell_type": "markdown",
      "metadata": {
        "id": "9eYHN8X__q5J"
      },
      "source": [
        "We use this neural net on Iris dataset."
      ]
    },
    {
      "cell_type": "code",
      "metadata": {
        "id": "sjyGczwE0Ibg"
      },
      "source": [
        "iris = datasets.load_iris()"
      ],
      "execution_count": 4,
      "outputs": []
    },
    {
      "cell_type": "code",
      "metadata": {
        "colab": {
          "base_uri": "https://localhost:8080/"
        },
        "id": "u69WEvrh0IN_",
        "outputId": "bde8004b-ce96-4945-8b37-758141a0a922"
      },
      "source": [
        "type(iris['data'])"
      ],
      "execution_count": 5,
      "outputs": [
        {
          "output_type": "execute_result",
          "data": {
            "text/plain": [
              "numpy.ndarray"
            ]
          },
          "metadata": {
            "tags": []
          },
          "execution_count": 5
        }
      ]
    },
    {
      "cell_type": "code",
      "metadata": {
        "id": "3nReFOXO6wuI"
      },
      "source": [
        "#iris_data_torch = torch.from_numpy(iris.data)"
      ],
      "execution_count": 6,
      "outputs": []
    },
    {
      "cell_type": "code",
      "metadata": {
        "colab": {
          "base_uri": "https://localhost:8080/"
        },
        "id": "CXhU1vsb8c9v",
        "outputId": "347fb0f3-5303-4413-850b-44d199abc95f"
      },
      "source": [
        "iris.target"
      ],
      "execution_count": 6,
      "outputs": [
        {
          "output_type": "execute_result",
          "data": {
            "text/plain": [
              "array([0, 0, 0, 0, 0, 0, 0, 0, 0, 0, 0, 0, 0, 0, 0, 0, 0, 0, 0, 0, 0, 0,\n",
              "       0, 0, 0, 0, 0, 0, 0, 0, 0, 0, 0, 0, 0, 0, 0, 0, 0, 0, 0, 0, 0, 0,\n",
              "       0, 0, 0, 0, 0, 0, 1, 1, 1, 1, 1, 1, 1, 1, 1, 1, 1, 1, 1, 1, 1, 1,\n",
              "       1, 1, 1, 1, 1, 1, 1, 1, 1, 1, 1, 1, 1, 1, 1, 1, 1, 1, 1, 1, 1, 1,\n",
              "       1, 1, 1, 1, 1, 1, 1, 1, 1, 1, 1, 1, 2, 2, 2, 2, 2, 2, 2, 2, 2, 2,\n",
              "       2, 2, 2, 2, 2, 2, 2, 2, 2, 2, 2, 2, 2, 2, 2, 2, 2, 2, 2, 2, 2, 2,\n",
              "       2, 2, 2, 2, 2, 2, 2, 2, 2, 2, 2, 2, 2, 2, 2, 2, 2, 2])"
            ]
          },
          "metadata": {
            "tags": []
          },
          "execution_count": 6
        }
      ]
    },
    {
      "cell_type": "markdown",
      "metadata": {
        "id": "g411nDun7wUg"
      },
      "source": [
        "This data is now ready to be feed into the neeural net.\n"
      ]
    },
    {
      "cell_type": "code",
      "metadata": {
        "id": "knUJQy118B8Z"
      },
      "source": [
        "my_net = FCNN(4, 10, 3) "
      ],
      "execution_count": 5,
      "outputs": []
    },
    {
      "cell_type": "markdown",
      "metadata": {
        "id": "g7MVWA38-T-s"
      },
      "source": [
        "Remember it was necessary to put .float() after your dataset, otherwise an error occured complaining about the dtype double rather than float! It seems a new error!"
      ]
    },
    {
      "cell_type": "markdown",
      "metadata": {
        "id": "HdWvI_xp-pvK"
      },
      "source": [
        "Now, we can train our neural net on this dataset."
      ]
    },
    {
      "cell_type": "code",
      "metadata": {
        "colab": {
          "base_uri": "https://localhost:8080/"
        },
        "id": "K8KNZMBk-xVl",
        "outputId": "78f424c2-8190-4621-8247-6c974a5b2dab"
      },
      "source": [
        "list(my_net.parameters()) #It contains weights and biases."
      ],
      "execution_count": 8,
      "outputs": [
        {
          "output_type": "execute_result",
          "data": {
            "text/plain": [
              "[Parameter containing:\n",
              " tensor([[-0.0911,  0.4572, -0.0415,  0.1727],\n",
              "         [-0.0238,  0.4151, -0.2890, -0.1469],\n",
              "         [ 0.3847, -0.3009, -0.0982,  0.0382],\n",
              "         [ 0.4942,  0.0273,  0.0497, -0.4950],\n",
              "         [ 0.1928, -0.4682, -0.0067, -0.1663],\n",
              "         [ 0.2212,  0.1210, -0.2533, -0.0520],\n",
              "         [-0.4446, -0.3972,  0.2209, -0.2807],\n",
              "         [ 0.2569, -0.3577, -0.1595,  0.4449],\n",
              "         [ 0.2516,  0.3995, -0.0618, -0.4240],\n",
              "         [-0.0718, -0.1723, -0.1673, -0.2879]], requires_grad=True),\n",
              " Parameter containing:\n",
              " tensor([-0.0822, -0.2733,  0.1956, -0.0852, -0.2679, -0.3459,  0.1965, -0.3389,\n",
              "          0.2965, -0.1420], requires_grad=True),\n",
              " Parameter containing:\n",
              " tensor([[-0.2976,  0.2116,  0.1121,  0.2423, -0.0872, -0.0018,  0.2597, -0.0008,\n",
              "          -0.0732, -0.0321],\n",
              "         [-0.2216,  0.1653, -0.2942, -0.1125, -0.2187, -0.1584,  0.0535,  0.0583,\n",
              "          -0.2356, -0.0413],\n",
              "         [-0.3141, -0.0880, -0.1398, -0.0788, -0.1136, -0.0781,  0.0053,  0.3041,\n",
              "          -0.0851, -0.2953]], requires_grad=True),\n",
              " Parameter containing:\n",
              " tensor([-0.0613,  0.2883, -0.0741], requires_grad=True)]"
            ]
          },
          "metadata": {
            "tags": []
          },
          "execution_count": 8
        }
      ]
    },
    {
      "cell_type": "code",
      "metadata": {
        "id": "BW8VRO5JHLpW"
      },
      "source": [
        "#First, we train with unnormalized data.\n",
        "epochs = range(10000)\n",
        "loss = nn.CrossEntropyLoss()\n",
        "optimizer = torch.optim.Adam(my_net.parameters(), lr=1e-3)\n",
        "iris_train = iris_data_torch.float()\n",
        "iris_labels_torch = torch.from_numpy(iris.target)\n",
        "iris_train.requires_grad = True\n",
        "acc_list = []\n",
        "loss_list = []\n",
        "for e in epochs:\n",
        "   optimizer.zero_grad()\n",
        "   output = my_net.forward(iris_train)\n",
        "   predictions = torch.argmax(output, axis = 1)\n",
        "   iris_loss = loss(output, iris_labels_torch)\n",
        "   iris_loss.backward()\n",
        "   optimizer.step()\n",
        "   accuracy = (predictions==iris_labels_torch).float().mean()\n",
        "   acc_list.append(accuracy)\n",
        "   loss_list.append(iris_loss)"
      ],
      "execution_count": 13,
      "outputs": []
    },
    {
      "cell_type": "code",
      "metadata": {
        "colab": {
          "base_uri": "https://localhost:8080/"
        },
        "id": "Q1Quq9ClOQn5",
        "outputId": "5f692dc8-2f2e-4b79-f6b6-f96c439752af"
      },
      "source": [
        "predictions"
      ],
      "execution_count": 14,
      "outputs": [
        {
          "output_type": "execute_result",
          "data": {
            "text/plain": [
              "tensor([0, 0, 0, 0, 0, 0, 0, 0, 0, 0, 0, 0, 0, 0, 0, 0, 0, 0, 0, 0, 0, 0, 0, 0,\n",
              "        0, 0, 0, 0, 0, 0, 0, 0, 0, 0, 0, 0, 0, 0, 0, 0, 0, 0, 0, 0, 0, 0, 0, 0,\n",
              "        0, 0, 1, 1, 1, 1, 1, 1, 1, 1, 1, 1, 1, 1, 1, 1, 1, 1, 1, 1, 1, 1, 1, 1,\n",
              "        1, 1, 1, 1, 1, 1, 1, 1, 1, 1, 1, 2, 1, 1, 1, 1, 1, 1, 1, 1, 1, 1, 1, 1,\n",
              "        1, 1, 1, 1, 2, 2, 2, 2, 2, 2, 2, 2, 2, 2, 2, 2, 2, 2, 2, 2, 2, 2, 2, 2,\n",
              "        2, 2, 2, 2, 2, 2, 2, 2, 2, 2, 2, 2, 2, 1, 2, 2, 2, 2, 2, 2, 2, 2, 2, 2,\n",
              "        2, 2, 2, 2, 2, 2])"
            ]
          },
          "metadata": {
            "tags": []
          },
          "execution_count": 14
        }
      ]
    },
    {
      "cell_type": "code",
      "metadata": {
        "colab": {
          "base_uri": "https://localhost:8080/"
        },
        "id": "dlYpnQphLpbP",
        "outputId": "1e15db02-3431-4e60-e7d6-5b5eec59c05c"
      },
      "source": [
        "#Network weights for the trained neural network.\n",
        "list(my_net.parameters()) "
      ],
      "execution_count": 15,
      "outputs": [
        {
          "output_type": "execute_result",
          "data": {
            "text/plain": [
              "[Parameter containing:\n",
              " tensor([[-0.4807, -0.2439,  0.1834,  0.1174],\n",
              "         [-0.3473, -1.1392,  1.5147,  2.7036],\n",
              "         [-0.0171, -0.8412,  1.3800,  2.0942],\n",
              "         [-0.0384, -0.4799, -0.4974,  0.2513],\n",
              "         [-0.4766, -0.0040, -0.3686,  0.4579],\n",
              "         [ 0.5568, -0.6093,  0.9996,  0.1602],\n",
              "         [-0.4220, -0.3834, -0.0677,  0.3850],\n",
              "         [-0.3545, -0.4433,  0.0742,  0.2780],\n",
              "         [-0.2513,  0.3335, -0.1784, -0.3205],\n",
              "         [ 0.8707,  1.2571, -1.8060, -1.8913]], requires_grad=True),\n",
              " Parameter containing:\n",
              " tensor([ 0.2026, -4.7447, -4.7107, -0.4623, -0.3089,  2.2441,  0.3232, -0.2283,\n",
              "          0.2913,  1.6041], requires_grad=True),\n",
              " Parameter containing:\n",
              " tensor([[-1.3749e-01, -1.8269e-01, -1.2515e-01,  6.2855e-02,  8.2093e-04,\n",
              "           7.0000e-02,  6.2334e-02, -1.3585e-01, -2.5390e-02, -3.4691e-01],\n",
              "         [-1.5118e-02, -2.2933e+00, -1.4595e+00,  2.5280e-01,  2.6151e-01,\n",
              "           1.7755e+00, -1.1625e-01,  4.2447e-02,  1.8120e-01, -1.7730e+00],\n",
              "         [-5.4878e-02,  2.0376e+00,  1.7876e+00,  2.8759e-02, -2.9703e-01,\n",
              "           1.4419e-01,  1.5292e-01, -9.7876e-03, -1.4060e-01, -5.0780e-01]],\n",
              "        requires_grad=True),\n",
              " Parameter containing:\n",
              " tensor([-0.3921,  1.2052, -1.7800], requires_grad=True)]"
            ]
          },
          "metadata": {
            "tags": []
          },
          "execution_count": 15
        }
      ]
    },
    {
      "cell_type": "code",
      "metadata": {
        "colab": {
          "base_uri": "https://localhost:8080/",
          "height": 310
        },
        "id": "8jz98WbLNKjT",
        "outputId": "844ccabf-5fd4-4de5-8ffc-b10b611ed541"
      },
      "source": [
        "import matplotlib.pyplot as plt\n",
        "\n",
        "plt.plot(epochs, acc_list)\n",
        "plt.xlabel('epochs')\n",
        "plt.ylabel('accuracy')\n",
        "plt.title('iris dataset')"
      ],
      "execution_count": 16,
      "outputs": [
        {
          "output_type": "execute_result",
          "data": {
            "text/plain": [
              "Text(0.5, 1.0, 'iris dataset')"
            ]
          },
          "metadata": {
            "tags": []
          },
          "execution_count": 16
        },
        {
          "output_type": "display_data",
          "data": {
            "image/png": "[encoded data removed]",
            "text/plain": [
              "<Figure size 432x288 with 1 Axes>"
            ]
          },
          "metadata": {
            "tags": [],
            "needs_background": "light"
          }
        }
      ]
    },
    {
      "cell_type": "code",
      "metadata": {
        "colab": {
          "base_uri": "https://localhost:8080/"
        },
        "id": "6f1QZfYng4_w",
        "outputId": "16868396-8b7e-414f-a15e-f53916bbb880"
      },
      "source": [
        "accuracy"
      ],
      "execution_count": 17,
      "outputs": [
        {
          "output_type": "execute_result",
          "data": {
            "text/plain": [
              "tensor(0.9867)"
            ]
          },
          "metadata": {
            "tags": []
          },
          "execution_count": 17
        }
      ]
    },
    {
      "cell_type": "markdown",
      "metadata": {
        "id": "X-LfH1ifmlFt"
      },
      "source": [
        "To be added to this notebook!\n",
        "\n",
        "1- Add test data and plot test acc and test loss. ***\n",
        "\n",
        "2- Try with normalized data.\n",
        "\n",
        "3- Save the results as well as the trained model and do another experiment with the loaded model! *******\n",
        "\n",
        "4- Do PCA on the data.\n",
        "\n",
        "5- Try other classifiers than FCNN.\n",
        "\n",
        "6- Do updates on batches and not the whole dataset at each epoch! ***"
      ]
    },
    {
      "cell_type": "code",
      "metadata": {
        "id": "_J8oClx2hUsu",
        "outputId": "47201daa-f53e-4812-c623-b929c97d4d70",
        "colab": {
          "base_uri": "https://localhost:8080/",
          "height": 175
        }
      },
      "source": [
        "#1- We can use the train-test-split function in SKLearn to make train and test splits of the entire dataset.\n",
        "sklearn.test_train_split(iris.data)"
      ],
      "execution_count": 25,
      "outputs": [
        {
          "output_type": "error",
          "ename": "AttributeError",
          "evalue": "ignored",
          "traceback": [
            "\u001b[0;31m---------------------------------------------------------------------------\u001b[0m",
            "\u001b[0;31mAttributeError\u001b[0m                            Traceback (most recent call last)",
            "\u001b[0;32m<ipython-input-25-528090ebee55>\u001b[0m in \u001b[0;36m<module>\u001b[0;34m()\u001b[0m\n\u001b[1;32m      1\u001b[0m \u001b[0;31m#1- We can use the train-test-split function in SKLearn to make train and test splits of the entire dataset.\u001b[0m\u001b[0;34m\u001b[0m\u001b[0;34m\u001b[0m\u001b[0;34m\u001b[0m\u001b[0m\n\u001b[0;32m----> 2\u001b[0;31m \u001b[0msklearn\u001b[0m\u001b[0;34m.\u001b[0m\u001b[0mtest_train_split\u001b[0m\u001b[0;34m(\u001b[0m\u001b[0miris\u001b[0m\u001b[0;34m.\u001b[0m\u001b[0mdata\u001b[0m\u001b[0;34m)\u001b[0m\u001b[0;34m\u001b[0m\u001b[0;34m\u001b[0m\u001b[0m\n\u001b[0m",
            "\u001b[0;31mAttributeError\u001b[0m: module 'sklearn' has no attribute 'test_train_split'"
          ]
        }
      ]
    },
    {
      "cell_type": "code",
      "metadata": {
        "id": "LXYM1yuxfo_x"
      },
      "source": [
        "import sklearn"
      ],
      "execution_count": 23,
      "outputs": []
    },
    {
      "cell_type": "code",
      "metadata": {
        "id": "aUz7OK4wf8AH"
      },
      "source": [
        "import sklearn.model_selection as model_selection"
      ],
      "execution_count": 6,
      "outputs": []
    },
    {
      "cell_type": "code",
      "metadata": {
        "id": "AMbSNjSIgchB"
      },
      "source": [
        "train_test_separated = model_selection.train_test_split(iris.data,iris.target, test_size = .1, random_state = 0)"
      ],
      "execution_count": 7,
      "outputs": []
    },
    {
      "cell_type": "code",
      "metadata": {
        "id": "4E5oatgBhbgB"
      },
      "source": [
        "train_data, test_data,train_label,test_label = train_test_separated"
      ],
      "execution_count": 8,
      "outputs": []
    },
    {
      "cell_type": "code",
      "metadata": {
        "id": "yoBn9yG4hp7V",
        "outputId": "055744f9-dfd3-435c-fcd6-80c3f470c239",
        "colab": {
          "base_uri": "https://localhost:8080/"
        }
      },
      "source": [
        "train_label"
      ],
      "execution_count": 8,
      "outputs": [
        {
          "output_type": "execute_result",
          "data": {
            "text/plain": [
              "array([0, 1, 1, 0, 0, 2, 1, 0, 0, 2, 0, 0, 1, 1, 0, 2, 1, 0, 2, 2, 1, 0,\n",
              "       1, 1, 1, 2, 0, 2, 0, 0, 1, 2, 2, 2, 2, 1, 2, 1, 1, 2, 2, 2, 2, 1,\n",
              "       2, 1, 0, 2, 1, 1, 1, 1, 2, 0, 0, 2, 1, 0, 0, 1, 0, 2, 1, 0, 1, 2,\n",
              "       1, 0, 2, 2, 2, 2, 0, 0, 2, 2, 0, 2, 0, 2, 2, 0, 0, 2, 0, 0, 0, 1,\n",
              "       2, 2, 0, 0, 0, 1, 1, 0, 0, 1, 0, 2, 1, 2, 1, 0, 2, 0, 2, 0, 0, 2,\n",
              "       0, 2, 1, 1, 1, 2, 2, 1, 1, 0, 1, 2, 2, 0, 1, 1, 1, 1, 0, 0, 0, 2,\n",
              "       1, 2, 0])"
            ]
          },
          "metadata": {
            "tags": []
          },
          "execution_count": 8
        }
      ]
    },
    {
      "cell_type": "code",
      "metadata": {
        "id": "LQ_tIVq2jRvR"
      },
      "source": [
        "#We transform the splitted data arrays to pytorch tensors.\n",
        "iris_train = torch.from_numpy(train_data)\n",
        "iris_test = torch.from_numpy(test_data)\n",
        "iris_train_labels = torch.from_numpy(train_label)\n",
        "iris_test_labels = torch.from_numpy(test_label)"
      ],
      "execution_count": 9,
      "outputs": []
    },
    {
      "cell_type": "code",
      "metadata": {
        "id": "HQmR2QathtkM",
        "outputId": "43e9252a-0bbd-4137-ba20-1b90aa9ffeff",
        "colab": {
          "base_uri": "https://localhost:8080/"
        }
      },
      "source": [
        "#Now, we can complete the experiment.\n",
        "epochs = range(3000)\n",
        "loss = nn.CrossEntropyLoss()\n",
        "optimizer = torch.optim.Adam(my_net.parameters(), lr=1e-3)\n",
        "iris_train = iris_train.float()\n",
        "iris_test = iris_test.float()\n",
        "#iris_labels_torch = torch.from_numpy(iris.target)\n",
        "iris_train.requires_grad = True\n",
        "train_acc_list = []\n",
        "train_loss_list = []\n",
        "test_acc_list = []\n",
        "test_loss_list = []\n",
        "\n",
        "for e in epochs:\n",
        "   optimizer.zero_grad()\n",
        "   output = my_net.forward(iris_train)\n",
        "   predictions = torch.argmax(output, axis = 1)\n",
        "   iris_loss = loss(output, iris_train_labels)\n",
        "   iris_loss.backward()\n",
        "   optimizer.step()\n",
        "   accuracy = (predictions==iris_train_labels).float().mean()\n",
        "   train_acc_list.append(accuracy)\n",
        "   train_loss_list.append(iris_loss)\n",
        "\n",
        "   test_output = my_net.forward(iris_test)\n",
        "   test_preds = torch.argmax(test_output, axis = 1)\n",
        "   iris_test_loss = loss(test_output, iris_test_labels)\n",
        "   test_acc = (test_preds == iris_test_labels).float().mean()\n",
        "   test_acc_list.append(test_acc)\n",
        "   test_loss_list.append(iris_test_loss)"
      ],
      "execution_count": 10,
      "outputs": [
        {
          "output_type": "stream",
          "text": [
            "/usr/local/lib/python3.7/dist-packages/ipykernel_launcher.py:20: UserWarning: Implicit dimension choice for softmax has been deprecated. Change the call to include dim=X as an argument.\n"
          ],
          "name": "stderr"
        }
      ]
    },
    {
      "cell_type": "code",
      "metadata": {
        "id": "7canR2mhmf8L",
        "outputId": "c1c02c0b-cd85-4ce3-963f-9de6731a7b34",
        "colab": {
          "base_uri": "https://localhost:8080/",
          "height": 310
        }
      },
      "source": [
        "import matplotlib.pyplot as plt\n",
        "\n",
        "plt.plot(epochs, train_acc_list)\n",
        "plt.xlabel('epochs')\n",
        "plt.ylabel('accuracy')\n",
        "plt.title('iris dataset')\n",
        "\n",
        "plt.plot(epochs, test_acc_list)"
      ],
      "execution_count": 12,
      "outputs": [
        {
          "output_type": "execute_result",
          "data": {
            "text/plain": [
              "[<matplotlib.lines.Line2D at 0x7f977809b3d0>]"
            ]
          },
          "metadata": {
            "tags": []
          },
          "execution_count": 12
        },
        {
          "output_type": "display_data",
          "data": {
            "image/png": "[encoded data removed]",
            "text/plain": [
              "<Figure size 432x288 with 1 Axes>"
            ]
          },
          "metadata": {
            "tags": [],
            "needs_background": "light"
          }
        }
      ]
    },
    {
      "cell_type": "code",
      "metadata": {
        "id": "e0wPd8PBnHKk",
        "outputId": "3e09c949-ea20-4591-ec8b-9de51c81279e",
        "colab": {
          "base_uri": "https://localhost:8080/"
        }
      },
      "source": [
        "accuracy"
      ],
      "execution_count": 15,
      "outputs": [
        {
          "output_type": "execute_result",
          "data": {
            "text/plain": [
              "tensor(0.9778)"
            ]
          },
          "metadata": {
            "tags": []
          },
          "execution_count": 15
        }
      ]
    },
    {
      "cell_type": "code",
      "metadata": {
        "id": "BPN6Kk2rnywZ"
      },
      "source": [
        ""
      ],
      "execution_count": null,
      "outputs": []
    },
    {
      "cell_type": "code",
      "metadata": {
        "id": "dCfkvlN7o2AA"
      },
      "source": [
        ""
      ],
      "execution_count": null,
      "outputs": []
    }
  ]
}