{
  "nbformat": 4,
  "nbformat_minor": 0,
  "metadata": {
    "colab": {
      "name": "FCNN.ipynb",
      "provenance": [],
      "collapsed_sections": [],
      "authorship_tag": "ABX9TyNtgs0GUR4DZ0eqkj3VldRs",
      "include_colab_link": true
    },
    "kernelspec": {
      "name": "python3",
      "display_name": "Python 3"
    },
    "language_info": {
      "name": "python"
    }
  },
  "cells": [
    {
      "cell_type": "markdown",
      "metadata": {
        "id": "view-in-github",
        "colab_type": "text"
      },
      "source": [
        "<a href=\"https://colab.research.google.com/github/Beh-noush/General-Python/blob/main/FCNN.ipynb\" target=\"_parent\"><img src=\"https://colab.research.google.com/assets/colab-badge.svg\" alt=\"Open In Colab\"/></a>"
      ]
    },
    {
      "cell_type": "markdown",
      "metadata": {
        "id": "zIJduvdLzxCt"
      },
      "source": [
        "Simple Neural Network with Pytorch"
      ]
    },
    {
      "cell_type": "code",
      "metadata": {
        "id": "0-pTfoCmzvGf"
      },
      "source": [
        "import torch\n",
        "import torch.nn as nn\n",
        "import torch.optim\n",
        "import torch.nn.functional as F\n",
        "from sklearn import datasets"
      ],
      "execution_count": 1,
      "outputs": []
    },
    {
      "cell_type": "markdown",
      "metadata": {
        "id": "YuGS2t1U1Wzi"
      },
      "source": [
        "A fully-connected 2-layer network with Relu non-linearity."
      ]
    },
    {
      "cell_type": "code",
      "metadata": {
        "id": "keOftEaE7unY"
      },
      "source": [
        "# class FCNN(nn.Module):\n",
        "#   def __init__(self, input_dim, hidden_dim, out_dim):\n",
        "#     super(FCNN, self).__init__()\n",
        "#     self.preactivation_hidden = nn.Linear(input_dim,hidden_dim)\n",
        "#     self.preactivation_out = nn.Linear(hidden_dim, out_dim)\n",
        "\n",
        "#   def forward(self, x):\n",
        "#     \"\"\"\n",
        "#     Input:\n",
        "#           1-d array\n",
        "#           x is the input of the Neural Net of dimension input_dim\n",
        "#     Returns:\n",
        "#           1-d array of dimension out_dim. The score function output.\n",
        "#     \"\"\"\n",
        "#     preactive_1 = self.preactivation_hidden(x)\n",
        "#     active_1 = F.relu(preactive_1)\n",
        "#     pre_output = self.preactivation_out(active_1)\n",
        "#     output = F.relu(pre_output)\n",
        "#     return output\n",
        "\n",
        "# # Why is this code wrong? \n"
      ],
      "execution_count": null,
      "outputs": []
    },
    {
      "cell_type": "code",
      "metadata": {
        "id": "LghljEnd0Izm"
      },
      "source": [
        "class FCNN(nn.Module):\n",
        "  def __init__(self, input_dim, hidden_dim, out_dim):\n",
        "    super(FCNN, self).__init__()\n",
        "    self.preactivation_hidden = nn.Linear(input_dim,hidden_dim)\n",
        "    self.activation_hidden = nn.ReLU()\n",
        "    self.preactivation_out = nn.Linear(hidden_dim, out_dim)\n",
        "    self.activation_out = nn.Softmax()\n",
        "\n",
        "  def forward(self, x):\n",
        "    \"\"\"\n",
        "    Input:\n",
        "          1-d array\n",
        "          x is the input of the Neural Net of dimension input_dim\n",
        "    Returns:\n",
        "          1-d array of dimension out_dim. The score function output.\n",
        "    \"\"\"\n",
        "    preactive_1 = self.preactivation_hidden(x)\n",
        "    active_1 = self.activation_hidden(preactive_1)\n",
        "    pre_output = self.preactivation_out(active_1)\n",
        "    output = self.activation_out(pre_output)\n",
        "    return output\n",
        "\n"
      ],
      "execution_count": 2,
      "outputs": []
    },
    {
      "cell_type": "markdown",
      "metadata": {
        "id": "9eYHN8X__q5J"
      },
      "source": [
        "We use this neural net on Iris dataset."
      ]
    },
    {
      "cell_type": "code",
      "metadata": {
        "id": "sjyGczwE0Ibg"
      },
      "source": [
        "iris = datasets.load_iris()"
      ],
      "execution_count": 3,
      "outputs": []
    },
    {
      "cell_type": "code",
      "metadata": {
        "id": "knUJQy118B8Z"
      },
      "source": [
        "my_net = FCNN(4, 10, 3) "
      ],
      "execution_count": 4,
      "outputs": []
    },
    {
      "cell_type": "markdown",
      "metadata": {
        "id": "g7MVWA38-T-s"
      },
      "source": [
        "Remember it was necessary to put .float() after your dataset, otherwise an error occured complaining about the dtype double rather than float! It seems a new error!"
      ]
    },
    {
      "cell_type": "code",
      "metadata": {
        "colab": {
          "base_uri": "https://localhost:8080/"
        },
        "id": "K8KNZMBk-xVl",
        "outputId": "ab01cc6c-e657-4fc2-8325-82a995f67f3d"
      },
      "source": [
        "list(my_net.parameters()) #It contains weights and biases."
      ],
      "execution_count": 5,
      "outputs": [
        {
          "output_type": "execute_result",
          "data": {
            "text/plain": [
              "[Parameter containing:\n",
              " tensor([[ 0.1995,  0.0818, -0.4246, -0.4527],\n",
              "         [ 0.0773, -0.2452,  0.3628, -0.1888],\n",
              "         [-0.3147, -0.1261, -0.2421,  0.4663],\n",
              "         [ 0.4060,  0.2842, -0.2482, -0.1095],\n",
              "         [-0.4470, -0.2232,  0.1342, -0.1917],\n",
              "         [-0.1137, -0.1112, -0.2761,  0.1828],\n",
              "         [-0.0350, -0.2608,  0.3013, -0.1188],\n",
              "         [ 0.2414,  0.0666,  0.3702, -0.2106],\n",
              "         [ 0.0452, -0.1275,  0.4465,  0.1193],\n",
              "         [ 0.3383, -0.2181,  0.0353, -0.3933]], requires_grad=True),\n",
              " Parameter containing:\n",
              " tensor([ 0.3984,  0.2551, -0.4139,  0.4249,  0.4494,  0.3685,  0.3349,  0.3989,\n",
              "          0.4608, -0.2348], requires_grad=True),\n",
              " Parameter containing:\n",
              " tensor([[ 0.0978,  0.0225, -0.3120,  0.2516, -0.0959, -0.2599, -0.2708, -0.0433,\n",
              "          -0.1541,  0.0471],\n",
              "         [ 0.2003,  0.0466,  0.2691, -0.1362,  0.0175,  0.1486,  0.2067, -0.2627,\n",
              "           0.2272, -0.1680],\n",
              "         [ 0.2426, -0.2737, -0.0320,  0.0324,  0.2908,  0.0657, -0.1319,  0.1964,\n",
              "          -0.2651,  0.2112]], requires_grad=True),\n",
              " Parameter containing:\n",
              " tensor([-0.1356,  0.2079,  0.2421], requires_grad=True)]"
            ]
          },
          "metadata": {
            "tags": []
          },
          "execution_count": 5
        }
      ]
    },
    {
      "cell_type": "markdown",
      "metadata": {
        "id": "X-LfH1ifmlFt"
      },
      "source": [
        "To be added to this notebook!\n",
        "\n",
        "1- Add test data and plot test acc and test loss. ***\n",
        "\n",
        "2- Try with normalized data.\n",
        "\n",
        "3- Save the results as well as the trained model and do another experiment with the loaded model! *******\n",
        "\n",
        "4- Do PCA on the data.\n",
        "\n",
        "5- Try other classifiers than FCNN.\n",
        "\n",
        "6- Do updates on batches and not the whole dataset at each epoch! ***"
      ]
    },
    {
      "cell_type": "code",
      "metadata": {
        "id": "aUz7OK4wf8AH"
      },
      "source": [
        "#1- Add test data and plot test acc and test loss! \n",
        "#We can use the train-test-split function in SKLearn to make train and test splits of the entire dataset.\n",
        "import sklearn.model_selection as model_selection\n",
        "train_test_separated = model_selection.train_test_split(iris.data,iris.target, test_size = .1, random_state = 0)\n",
        "train_data, test_data,train_label,test_label = train_test_separated"
      ],
      "execution_count": 6,
      "outputs": []
    },
    {
      "cell_type": "code",
      "metadata": {
        "id": "LQ_tIVq2jRvR"
      },
      "source": [
        "#We transform the splitted data arrays to pytorch tensors.\n",
        "iris_train = torch.from_numpy(train_data)\n",
        "iris_test = torch.from_numpy(test_data)\n",
        "iris_train_labels = torch.from_numpy(train_label)\n",
        "iris_test_labels = torch.from_numpy(test_label)"
      ],
      "execution_count": 7,
      "outputs": []
    },
    {
      "cell_type": "code",
      "metadata": {
        "colab": {
          "base_uri": "https://localhost:8080/"
        },
        "id": "HQmR2QathtkM",
        "outputId": "68a3d3bd-f6b3-43c7-e7ba-5f428a07f6fd"
      },
      "source": [
        "#Now, we train and test the model.\n",
        "epochs = range(3000)\n",
        "learning_rate = 1e-3\n",
        "loss = nn.CrossEntropyLoss()\n",
        "optimizer = torch.optim.Adam(my_net.parameters(), lr = learning_rate)\n",
        "iris_train = iris_train.float()\n",
        "iris_test = iris_test.float()\n",
        "#iris_labels_torch = torch.from_numpy(iris.target)\n",
        "iris_train.requires_grad = True\n",
        "train_acc_list = []\n",
        "train_loss_list = []\n",
        "test_acc_list = []\n",
        "test_loss_list = []\n",
        "\n",
        "for e in epochs:\n",
        "   optimizer.zero_grad()\n",
        "   output = my_net.forward(iris_train)\n",
        "   predictions = torch.argmax(output, axis = 1)\n",
        "   iris_loss = loss(output, iris_train_labels)\n",
        "   iris_loss.backward()\n",
        "   optimizer.step()\n",
        "   accuracy = (predictions==iris_train_labels).float().mean()\n",
        "   train_acc_list.append(accuracy)\n",
        "   train_loss_list.append(iris_loss)\n",
        "\n",
        "   test_output = my_net.forward(iris_test)\n",
        "   test_preds = torch.argmax(test_output, axis = 1)\n",
        "   iris_test_loss = loss(test_output, iris_test_labels)\n",
        "   test_acc = (test_preds == iris_test_labels).float().mean()\n",
        "   test_acc_list.append(test_acc)\n",
        "   test_loss_list.append(iris_test_loss)"
      ],
      "execution_count": 8,
      "outputs": [
        {
          "output_type": "stream",
          "text": [
            "/usr/local/lib/python3.7/dist-packages/ipykernel_launcher.py:20: UserWarning: Implicit dimension choice for softmax has been deprecated. Change the call to include dim=X as an argument.\n"
          ],
          "name": "stderr"
        }
      ]
    },
    {
      "cell_type": "code",
      "metadata": {
        "colab": {
          "base_uri": "https://localhost:8080/",
          "height": 310
        },
        "id": "7canR2mhmf8L",
        "outputId": "934afe5c-8c3f-4e67-8b0d-fb651c2d63f6"
      },
      "source": [
        "import matplotlib.pyplot as plt\n",
        "\n",
        "plt.plot(epochs, train_acc_list, label = 'train')\n",
        "plt.xlabel('epochs')\n",
        "plt.ylabel('accuracy')\n",
        "plt.title('iris dataset')\n",
        "\n",
        "plt.plot(epochs, test_acc_list, label = 'test')\n",
        "plt.legend()"
      ],
      "execution_count": 10,
      "outputs": [
        {
          "output_type": "execute_result",
          "data": {
            "text/plain": [
              "<matplotlib.legend.Legend at 0x7f284c20f690>"
            ]
          },
          "metadata": {
            "tags": []
          },
          "execution_count": 10
        },
        {
          "output_type": "display_data",
          "data": {
            "image/png": "[encoded data removed]",
            "text/plain": [
              "<Figure size 432x288 with 1 Axes>"
            ]
          },
          "metadata": {
            "tags": [],
            "needs_background": "light"
          }
        }
      ]
    },
    {
      "cell_type": "code",
      "metadata": {
        "colab": {
          "base_uri": "https://localhost:8080/"
        },
        "id": "e0wPd8PBnHKk",
        "outputId": "cb3ab5f8-4ddc-48dc-b45d-febe9666f2ae"
      },
      "source": [
        "test_acc"
      ],
      "execution_count": 12,
      "outputs": [
        {
          "output_type": "execute_result",
          "data": {
            "text/plain": [
              "tensor(1.)"
            ]
          },
          "metadata": {
            "tags": []
          },
          "execution_count": 12
        }
      ]
    },
    {
      "cell_type": "code",
      "metadata": {
        "id": "BPN6Kk2rnywZ"
      },
      "source": [
        "#3- Save the results as well as the trained model and do another experiment with the loaded model!"
      ],
      "execution_count": null,
      "outputs": []
    },
    {
      "cell_type": "code",
      "metadata": {
        "id": "dCfkvlN7o2AA"
      },
      "source": [
        "results_dic = {'train_acc_list' : train_acc_list, 'test_acc_list': test_acc_list, 'train_loss_list': train_loss_list, 'test_loss_list': test_loss_list, 'model_parameters':list(my_net.parameters())}"
      ],
      "execution_count": null,
      "outputs": []
    }
  ]
}