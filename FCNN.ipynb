{
  "nbformat": 4,
  "nbformat_minor": 0,
  "metadata": {
    "colab": {
      "name": "FCNN.ipynb",
      "provenance": [],
      "collapsed_sections": [],
      "authorship_tag": "ABX9TyPVGwkiKVoXprS6hUkB88WT",
      "include_colab_link": true
    },
    "kernelspec": {
      "name": "python3",
      "display_name": "Python 3"
    },
    "language_info": {
      "name": "python"
    }
  },
  "cells": [
    {
      "cell_type": "markdown",
      "metadata": {
        "id": "view-in-github",
        "colab_type": "text"
      },
      "source": [
        "<a href=\"https://colab.research.google.com/github/Beh-noush/General-Python/blob/main/FCNN.ipynb\" target=\"_parent\"><img src=\"https://colab.research.google.com/assets/colab-badge.svg\" alt=\"Open In Colab\"/></a>"
      ]
    },
    {
      "cell_type": "markdown",
      "metadata": {
        "id": "zIJduvdLzxCt"
      },
      "source": [
        "Simple Neural Network with Pytorch"
      ]
    },
    {
      "cell_type": "code",
      "metadata": {
        "id": "0-pTfoCmzvGf"
      },
      "source": [
        "import torch\n",
        "import torch.nn as nn\n",
        "import torch.optim\n",
        "import torch.nn.functional as F"
      ],
      "execution_count": null,
      "outputs": []
    },
    {
      "cell_type": "code",
      "metadata": {
        "id": "YjXwzVEYfTq1"
      },
      "source": [
        "from sklearn import datasets"
      ],
      "execution_count": null,
      "outputs": []
    },
    {
      "cell_type": "markdown",
      "metadata": {
        "id": "YuGS2t1U1Wzi"
      },
      "source": [
        "A fully-connected 2-layer network with Relu non-linearity."
      ]
    },
    {
      "cell_type": "code",
      "metadata": {
        "id": "keOftEaE7unY"
      },
      "source": [
        "class FCNN(nn.Module):\n",
        "  def __init__(self, input_dim, hidden_dim, out_dim):\n",
        "    super(FCNN, self).__init__()\n",
        "    self.preactivation_hidden = nn.Linear(input_dim,hidden_dim)\n",
        "   # self.activation_hidden = nn.ReLU(self.preactivation_hidden)\n",
        "    self.preactivation_out = nn.Linear(hidden_dim, out_dim)\n",
        "  #  self.activation_hidden = nn.ReLU(self.preactivation_out)\n",
        "\n",
        "  def forward(self, x):\n",
        "    \"\"\"\n",
        "    Input:\n",
        "          1-d array\n",
        "          x is the input of the Neural Net of dimension input_dim\n",
        "    Returns:\n",
        "          1-d array of dimension out_dim. The score function output.\n",
        "    \"\"\"\n",
        "    preactive_1 = self.preactivation_hidden(x)\n",
        "    active_1 = F.relu(preactive_1)\n",
        "    pre_output = self.preactivation_out(active_1)\n",
        "    output = F.relu(pre_output)\n",
        "    return output\n",
        "\n",
        "# Why is this code wrong? \n",
        "#Ok, By replacing nn.ReLU with F.relu it works.\n",
        "#It remains to check that both network structures are correct.\n"
      ],
      "execution_count": null,
      "outputs": []
    },
    {
      "cell_type": "code",
      "metadata": {
        "id": "LghljEnd0Izm"
      },
      "source": [
        "class FCNN(nn.Module):\n",
        "  def __init__(self, input_dim, hidden_dim, out_dim):\n",
        "    super(FCNN, self).__init__()\n",
        "    self.preactivation_hidden = nn.Linear(input_dim,hidden_dim)\n",
        "    self.activation_hidden = nn.ReLU()\n",
        "    self.preactivation_out = nn.Linear(hidden_dim, out_dim)\n",
        "    self.activation_out = nn.Softmax()\n",
        "\n",
        "  def forward(self, x):\n",
        "    \"\"\"\n",
        "    Input:\n",
        "          1-d array\n",
        "          x is the input of the Neural Net of dimension input_dim\n",
        "    Returns:\n",
        "          1-d array of dimension out_dim. The score function output.\n",
        "    \"\"\"\n",
        "    preactive_1 = self.preactivation_hidden(x)\n",
        "    active_1 = self.activation_hidden(preactive_1)\n",
        "    pre_output = self.preactivation_out(active_1)\n",
        "    output = self.activation_out(pre_output)\n",
        "    return output\n",
        "\n"
      ],
      "execution_count": null,
      "outputs": []
    },
    {
      "cell_type": "markdown",
      "metadata": {
        "id": "9eYHN8X__q5J"
      },
      "source": [
        "We use this neural net on Iris dataset."
      ]
    },
    {
      "cell_type": "code",
      "metadata": {
        "id": "sjyGczwE0Ibg"
      },
      "source": [
        "iris = datasets.load_iris()"
      ],
      "execution_count": null,
      "outputs": []
    },
    {
      "cell_type": "code",
      "metadata": {
        "colab": {
          "base_uri": "https://localhost:8080/"
        },
        "id": "u69WEvrh0IN_",
        "outputId": "159af769-b8e4-4cba-ce18-388ba8ab1028"
      },
      "source": [
        "type(iris['data'])"
      ],
      "execution_count": null,
      "outputs": [
        {
          "output_type": "execute_result",
          "data": {
            "text/plain": [
              "numpy.ndarray"
            ]
          },
          "metadata": {
            "tags": []
          },
          "execution_count": 8
        }
      ]
    },
    {
      "cell_type": "code",
      "metadata": {
        "id": "3nReFOXO6wuI"
      },
      "source": [
        "iris_data_torch = torch.from_numpy(iris.data)"
      ],
      "execution_count": null,
      "outputs": []
    },
    {
      "cell_type": "code",
      "metadata": {
        "colab": {
          "base_uri": "https://localhost:8080/"
        },
        "id": "CXhU1vsb8c9v",
        "outputId": "df7f017c-35ce-43ca-f72f-f2abf1316f73"
      },
      "source": [
        "iris.target"
      ],
      "execution_count": null,
      "outputs": [
        {
          "output_type": "execute_result",
          "data": {
            "text/plain": [
              "array([0, 0, 0, 0, 0, 0, 0, 0, 0, 0, 0, 0, 0, 0, 0, 0, 0, 0, 0, 0, 0, 0,\n",
              "       0, 0, 0, 0, 0, 0, 0, 0, 0, 0, 0, 0, 0, 0, 0, 0, 0, 0, 0, 0, 0, 0,\n",
              "       0, 0, 0, 0, 0, 0, 1, 1, 1, 1, 1, 1, 1, 1, 1, 1, 1, 1, 1, 1, 1, 1,\n",
              "       1, 1, 1, 1, 1, 1, 1, 1, 1, 1, 1, 1, 1, 1, 1, 1, 1, 1, 1, 1, 1, 1,\n",
              "       1, 1, 1, 1, 1, 1, 1, 1, 1, 1, 1, 1, 2, 2, 2, 2, 2, 2, 2, 2, 2, 2,\n",
              "       2, 2, 2, 2, 2, 2, 2, 2, 2, 2, 2, 2, 2, 2, 2, 2, 2, 2, 2, 2, 2, 2,\n",
              "       2, 2, 2, 2, 2, 2, 2, 2, 2, 2, 2, 2, 2, 2, 2, 2, 2, 2])"
            ]
          },
          "metadata": {
            "tags": []
          },
          "execution_count": 12
        }
      ]
    },
    {
      "cell_type": "markdown",
      "metadata": {
        "id": "g411nDun7wUg"
      },
      "source": [
        "This data is now ready to be feed into the neeural net.\n"
      ]
    },
    {
      "cell_type": "code",
      "metadata": {
        "id": "knUJQy118B8Z"
      },
      "source": [
        "my_net = FCNN(4, 10, 3) "
      ],
      "execution_count": null,
      "outputs": []
    },
    {
      "cell_type": "markdown",
      "metadata": {
        "id": "g7MVWA38-T-s"
      },
      "source": [
        "Remember it was necessary to put .float() after your dataset, otherwise an error occured complaining about the dtype double rather than float! It seems a new error!"
      ]
    },
    {
      "cell_type": "markdown",
      "metadata": {
        "id": "HdWvI_xp-pvK"
      },
      "source": [
        "Now, we can train our neural net on this dataset."
      ]
    },
    {
      "cell_type": "code",
      "metadata": {
        "colab": {
          "base_uri": "https://localhost:8080/"
        },
        "id": "K8KNZMBk-xVl",
        "outputId": "2db61d47-5b67-46ba-ab8e-f900669345f4"
      },
      "source": [
        "list(my_net.parameters()) #It contains weights and biases."
      ],
      "execution_count": null,
      "outputs": [
        {
          "output_type": "execute_result",
          "data": {
            "text/plain": [
              "[Parameter containing:\n",
              " tensor([[-0.0548,  0.3455,  0.4643,  0.0593],\n",
              "         [-0.0470,  0.0854, -0.2960,  0.0564],\n",
              "         [-0.0679, -0.3587,  0.2166, -0.3548],\n",
              "         [-0.4126, -0.3511, -0.1248,  0.4512],\n",
              "         [-0.4377, -0.1925, -0.0476, -0.4453],\n",
              "         [-0.3268, -0.3716, -0.4640, -0.4267],\n",
              "         [ 0.2061,  0.3578, -0.1701,  0.4924],\n",
              "         [ 0.0742,  0.2283, -0.3238,  0.1341],\n",
              "         [ 0.1541,  0.2520, -0.2787,  0.0419],\n",
              "         [ 0.4153,  0.1287, -0.3938, -0.2300]], requires_grad=True),\n",
              " Parameter containing:\n",
              " tensor([ 0.0264, -0.0033,  0.4596,  0.0966,  0.2223,  0.0438, -0.4906, -0.1595,\n",
              "          0.2367,  0.1609], requires_grad=True),\n",
              " Parameter containing:\n",
              " tensor([[ 0.0803, -0.1943,  0.1737,  0.2967,  0.0295, -0.1198,  0.0273, -0.0797,\n",
              "          -0.2777,  0.2971],\n",
              "         [-0.0200, -0.0127,  0.0312, -0.2087, -0.1868, -0.0671,  0.2688,  0.2480,\n",
              "           0.1554,  0.2987],\n",
              "         [ 0.1571, -0.1995,  0.0285, -0.2683, -0.2505,  0.0789,  0.0174, -0.0873,\n",
              "          -0.1122, -0.0102]], requires_grad=True),\n",
              " Parameter containing:\n",
              " tensor([-0.0375, -0.1911, -0.1829], requires_grad=True)]"
            ]
          },
          "metadata": {
            "tags": []
          },
          "execution_count": 23
        }
      ]
    },
    {
      "cell_type": "code",
      "metadata": {
        "id": "BW8VRO5JHLpW"
      },
      "source": [
        "#First, we train with unnormalized data.\n",
        "epochs = range(10000)\n",
        "loss = nn.CrossEntropyLoss()\n",
        "optimizer = torch.optim.Adam(my_net.parameters(), lr=1e-3)\n",
        "iris_train = iris_data_torch.float()\n",
        "iris_labels_torch = torch.from_numpy(iris.target)\n",
        "iris_train.requires_grad = True\n",
        "acc_list = []\n",
        "loss_list = []\n",
        "for e in epochs:\n",
        "   optimizer.zero_grad()\n",
        "   output = my_net.forward(iris_train)\n",
        "   predictions = torch.argmax(output, axis = 1)\n",
        "   iris_loss = loss(output, iris_labels_torch)\n",
        "   iris_loss.backward()\n",
        "   optimizer.step()\n",
        "   accuracy = (predictions==iris_labels_torch).float().mean()\n",
        "   acc_list.append(accuracy)\n",
        "   loss_list.append(iris_loss)"
      ],
      "execution_count": null,
      "outputs": []
    },
    {
      "cell_type": "code",
      "metadata": {
        "colab": {
          "base_uri": "https://localhost:8080/"
        },
        "id": "Q1Quq9ClOQn5",
        "outputId": "c2b75c5e-6a1e-4907-f2c4-984c4f6a47ba"
      },
      "source": [
        "predictions"
      ],
      "execution_count": null,
      "outputs": [
        {
          "output_type": "execute_result",
          "data": {
            "text/plain": [
              "tensor([0, 0, 0, 0, 0, 0, 0, 0, 0, 0, 0, 0, 0, 0, 0, 0, 0, 0, 0, 0, 0, 0, 0, 0,\n",
              "        0, 0, 0, 0, 0, 0, 0, 0, 0, 0, 0, 0, 0, 0, 0, 0, 0, 0, 0, 0, 0, 0, 0, 0,\n",
              "        0, 0, 0, 0, 0, 0, 0, 0, 0, 0, 0, 0, 0, 0, 0, 0, 0, 0, 0, 0, 2, 0, 2, 0,\n",
              "        2, 0, 0, 0, 0, 2, 0, 0, 0, 0, 0, 2, 0, 0, 0, 0, 0, 0, 0, 0, 0, 0, 0, 0,\n",
              "        0, 0, 0, 0, 2, 2, 2, 2, 2, 2, 2, 2, 2, 2, 2, 2, 2, 2, 2, 2, 2, 2, 2, 2,\n",
              "        2, 2, 2, 2, 2, 2, 2, 2, 2, 2, 2, 2, 2, 2, 2, 2, 2, 2, 2, 2, 2, 2, 2, 2,\n",
              "        2, 2, 2, 2, 2, 2])"
            ]
          },
          "metadata": {
            "tags": []
          },
          "execution_count": 37
        }
      ]
    },
    {
      "cell_type": "code",
      "metadata": {
        "colab": {
          "base_uri": "https://localhost:8080/"
        },
        "id": "dlYpnQphLpbP",
        "outputId": "668c6abe-c4e1-49c1-b33b-f59cd10459dd"
      },
      "source": [
        "#Network weights for the trained neural network.\n",
        "list(my_net.parameters()) "
      ],
      "execution_count": null,
      "outputs": [
        {
          "output_type": "execute_result",
          "data": {
            "text/plain": [
              "[Parameter containing:\n",
              " tensor([[-0.1940, -0.0800, -0.1055,  0.0161],\n",
              "         [-0.1973,  0.1230, -0.3030,  0.1955],\n",
              "         [-0.2717,  0.4122, -0.0829, -0.3926],\n",
              "         [ 0.1115,  1.3536, -0.6037, -1.2550],\n",
              "         [-0.3526, -0.4167, -0.3070,  0.1551],\n",
              "         [-0.3158, -0.2244, -0.3907,  0.3439],\n",
              "         [-0.4366, -0.4142,  0.3629, -0.3536],\n",
              "         [-0.5697,  0.4741, -0.5294, -0.9404],\n",
              "         [-0.8458, -0.0630, -0.9767, -0.2744],\n",
              "         [-0.1582,  0.0378,  0.0771, -0.0163]], requires_grad=True),\n",
              " Parameter containing:\n",
              " tensor([-3.0975e-01, -7.4935e-02, -3.8639e-01,  7.3626e-01,  4.2915e-04,\n",
              "         -1.3054e-02,  1.7281e-01,  2.7261e-01, -1.7075e-01, -5.2517e-02],\n",
              "        requires_grad=True),\n",
              " Parameter containing:\n",
              " tensor([[-0.0581,  0.2700, -0.0335,  1.4862,  0.3011, -0.3042,  0.2296,  0.2057,\n",
              "           0.2261,  0.2488],\n",
              "         [ 0.0093, -0.2570,  0.0215,  0.4130, -0.2484, -0.3035,  0.1727, -0.3045,\n",
              "          -0.2127,  0.2307],\n",
              "         [-0.2642,  0.1836, -0.1385, -1.1205,  0.1881, -0.0615, -0.2881, -0.4551,\n",
              "          -0.2277,  0.1658]], requires_grad=True),\n",
              " Parameter containing:\n",
              " tensor([-0.3515,  1.0182,  1.3460], requires_grad=True)]"
            ]
          },
          "metadata": {
            "tags": []
          },
          "execution_count": 10
        }
      ]
    },
    {
      "cell_type": "code",
      "metadata": {
        "colab": {
          "base_uri": "https://localhost:8080/",
          "height": 310
        },
        "id": "8jz98WbLNKjT",
        "outputId": "45066964-7fae-49da-9ea8-edae005cf0ae"
      },
      "source": [
        "import matplotlib.pyplot as plt\n",
        "\n",
        "plt.plot(epochs, acc_list)\n",
        "plt.xlabel('epochs')\n",
        "plt.ylabel('accuracy')\n",
        "plt.title('iris dataset')"
      ],
      "execution_count": null,
      "outputs": [
        {
          "output_type": "execute_result",
          "data": {
            "text/plain": [
              "Text(0.5, 1.0, 'iris dataset')"
            ]
          },
          "metadata": {
            "tags": []
          },
          "execution_count": 42
        },
        {
          "output_type": "display_data",
          "data": {
            "image/png": "[encoded data removed]",
            "text/plain": [
              "<Figure size 432x288 with 1 Axes>"
            ]
          },
          "metadata": {
            "tags": [],
            "needs_background": "light"
          }
        }
      ]
    },
    {
      "cell_type": "code",
      "metadata": {
        "colab": {
          "base_uri": "https://localhost:8080/"
        },
        "id": "6f1QZfYng4_w",
        "outputId": "01035de3-a2d1-4844-8a61-0e608371faa8"
      },
      "source": [
        "accuracy"
      ],
      "execution_count": null,
      "outputs": [
        {
          "output_type": "execute_result",
          "data": {
            "text/plain": [
              "tensor(0.9867)"
            ]
          },
          "metadata": {
            "tags": []
          },
          "execution_count": 43
        }
      ]
    },
    {
      "cell_type": "markdown",
      "metadata": {
        "id": "X-LfH1ifmlFt"
      },
      "source": [
        "To be added to this notebook!\n",
        "\n",
        "1- Add test data and plot test acc and test loss. ***\n",
        "\n",
        "2- Try with normalized data.\n",
        "\n",
        "3- Save the results as well as the trained model and do another experiment with the loaded model! *******\n",
        "\n",
        "4- Do PCA on the data.\n",
        "\n",
        "5- Try other classifiers than FCNN.\n",
        "\n",
        "6- Do updates on batches and not the whole dataset at each epoch! ***"
      ]
    },
    {
      "cell_type": "code",
      "metadata": {
        "id": "_J8oClx2hUsu"
      },
      "source": [
        ""
      ],
      "execution_count": null,
      "outputs": []
    }
  ]
}