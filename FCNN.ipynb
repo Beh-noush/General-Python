{
  "nbformat": 4,
  "nbformat_minor": 0,
  "metadata": {
    "colab": {
      "name": "FCNN.ipynb",
      "provenance": [],
      "collapsed_sections": [],
      "authorship_tag": "ABX9TyMTIPApvbc/rY7H4EvVm3tK",
      "include_colab_link": true
    },
    "kernelspec": {
      "name": "python3",
      "display_name": "Python 3"
    },
    "language_info": {
      "name": "python"
    }
  },
  "cells": [
    {
      "cell_type": "markdown",
      "metadata": {
        "id": "view-in-github",
        "colab_type": "text"
      },
      "source": [
        "<a href=\"https://colab.research.google.com/github/Beh-noush/General-Python/blob/main/FCNN.ipynb\" target=\"_parent\"><img src=\"https://colab.research.google.com/assets/colab-badge.svg\" alt=\"Open In Colab\"/></a>"
      ]
    },
    {
      "cell_type": "markdown",
      "metadata": {
        "id": "zIJduvdLzxCt"
      },
      "source": [
        "Simple Neural Network with Pytorch"
      ]
    },
    {
      "cell_type": "code",
      "metadata": {
        "id": "0-pTfoCmzvGf"
      },
      "source": [
        "import torch\n",
        "import torch.nn as nn"
      ],
      "execution_count": 1,
      "outputs": []
    },
    {
      "cell_type": "markdown",
      "metadata": {
        "id": "YuGS2t1U1Wzi"
      },
      "source": [
        "A fully-connected 2-layer network with Relu non-linearity."
      ]
    },
    {
      "cell_type": "code",
      "metadata": {
        "id": "5i-_X_DT0BWs"
      },
      "source": [
        "import torch.nn.functional as F"
      ],
      "execution_count": 20,
      "outputs": []
    },
    {
      "cell_type": "code",
      "metadata": {
        "colab": {
          "base_uri": "https://localhost:8080/"
        },
        "id": "coNbjTbt0ZRU",
        "outputId": "5c7efd8c-b9b6-4fd5-bfc0-ede7bbf97543"
      },
      "source": [
        "F.relu"
      ],
      "execution_count": 21,
      "outputs": [
        {
          "output_type": "execute_result",
          "data": {
            "text/plain": [
              "<function torch.nn.functional.relu>"
            ]
          },
          "metadata": {
            "tags": []
          },
          "execution_count": 21
        }
      ]
    },
    {
      "cell_type": "code",
      "metadata": {
        "id": "keOftEaE7unY"
      },
      "source": [
        "class FCNN(nn.Module):\n",
        "  def __init__(self, input_dim, hidden_dim, out_dim):\n",
        "    super(FCNN, self).__init__()\n",
        "    self.preactivation_hidden = nn.Linear(input_dim,hidden_dim)\n",
        "   # self.activation_hidden = nn.ReLU(self.preactivation_hidden)\n",
        "    self.preactivation_out = nn.Linear(hidden_dim, out_dim)\n",
        "  #  self.activation_hidden = nn.ReLU(self.preactivation_out)\n",
        "\n",
        "  def forward(self, x):\n",
        "    \"\"\"\n",
        "    Input:\n",
        "          1-d array\n",
        "          x is the input of the Neural Net of dimension input_dim\n",
        "    Returns:\n",
        "          1-d array of dimension out_dim. The score function output.\n",
        "    \"\"\"\n",
        "    preactive_1 = self.preactivation_hidden(x)\n",
        "    active_1 = F.relu(preactive_1)\n",
        "    pre_output = self.preactivation_out(active_1)\n",
        "    output = F.relu(pre_output)\n",
        "    return output\n",
        "\n",
        "# Why is this code wrong? \n",
        "#Ok, By replacing nn.ReLU with F.relu it works.\n",
        "#It remains to check that both network structures are correct.\n"
      ],
      "execution_count": 28,
      "outputs": []
    },
    {
      "cell_type": "code",
      "metadata": {
        "id": "LghljEnd0Izm"
      },
      "source": [
        "class FCNN(nn.Module):\n",
        "  def __init__(self, input_dim, hidden_dim, out_dim):\n",
        "    super(FCNN, self).__init__()\n",
        "    self.preactivation_hidden = nn.Linear(input_dim,hidden_dim)\n",
        "    self.activation_hidden = nn.ReLU()\n",
        "    self.preactivation_out = nn.Linear(hidden_dim, out_dim)\n",
        "    self.activation_out = nn.Softmax()\n",
        "\n",
        "  def forward(self, x):\n",
        "    \"\"\"\n",
        "    Input:\n",
        "          1-d array\n",
        "          x is the input of the Neural Net of dimension input_dim\n",
        "    Returns:\n",
        "          1-d array of dimension out_dim. The score function output.\n",
        "    \"\"\"\n",
        "    preactive_1 = self.preactivation_hidden(x)\n",
        "    active_1 = self.activation_hidden(preactive_1)\n",
        "    pre_output = self.preactivation_out(active_1)\n",
        "    output = self.activation_out(pre_output)\n",
        "    return output\n",
        "\n"
      ],
      "execution_count": 83,
      "outputs": []
    },
    {
      "cell_type": "code",
      "metadata": {
        "id": "7MXOiK170IwY"
      },
      "source": [
        "my_net = FCNN(10, 15,2)\n"
      ],
      "execution_count": 78,
      "outputs": []
    },
    {
      "cell_type": "code",
      "metadata": {
        "id": "2cpLyeuM94AA"
      },
      "source": [
        "input_vector = torch.Tensor(3,10).uniform_(-1,1)"
      ],
      "execution_count": 45,
      "outputs": []
    },
    {
      "cell_type": "code",
      "metadata": {
        "colab": {
          "base_uri": "https://localhost:8080/"
        },
        "id": "eEIbYHOF0Iq8",
        "outputId": "7c6c541e-f41d-462c-d570-1b303f4b9b1a"
      },
      "source": [
        "my_net.forward(input_vector)"
      ],
      "execution_count": 46,
      "outputs": [
        {
          "output_type": "execute_result",
          "data": {
            "text/plain": [
              "tensor([[0.0000, 0.4418],\n",
              "        [0.0000, 0.2924],\n",
              "        [0.1829, 0.2840]], grad_fn=<ReluBackward0>)"
            ]
          },
          "metadata": {
            "tags": []
          },
          "execution_count": 46
        }
      ]
    },
    {
      "cell_type": "code",
      "metadata": {
        "colab": {
          "base_uri": "https://localhost:8080/"
        },
        "id": "y2dgtFq80IoI",
        "outputId": "7939ac0f-df66-4345-f52e-a008f55e05b8"
      },
      "source": [
        "my_net.preactivation_hidden"
      ],
      "execution_count": 7,
      "outputs": [
        {
          "output_type": "execute_result",
          "data": {
            "text/plain": [
              "Linear(in_features=10, out_features=15, bias=True)"
            ]
          },
          "metadata": {
            "tags": []
          },
          "execution_count": 7
        }
      ]
    },
    {
      "cell_type": "markdown",
      "metadata": {
        "id": "9eYHN8X__q5J"
      },
      "source": [
        "We use this neural net on Iris dataset."
      ]
    },
    {
      "cell_type": "code",
      "metadata": {
        "id": "UpmFYc_W0If9"
      },
      "source": [
        "from sklearn import datasets"
      ],
      "execution_count": 34,
      "outputs": []
    },
    {
      "cell_type": "code",
      "metadata": {
        "id": "sjyGczwE0Ibg"
      },
      "source": [
        "iris = datasets.load_iris()"
      ],
      "execution_count": 37,
      "outputs": []
    },
    {
      "cell_type": "code",
      "metadata": {
        "colab": {
          "base_uri": "https://localhost:8080/"
        },
        "id": "l8jpFyKn0IRb",
        "outputId": "bbc9ad25-0530-4f80-d52d-e9823f627803"
      },
      "source": [
        "type(iris)"
      ],
      "execution_count": 38,
      "outputs": [
        {
          "output_type": "execute_result",
          "data": {
            "text/plain": [
              "sklearn.utils.Bunch"
            ]
          },
          "metadata": {
            "tags": []
          },
          "execution_count": 38
        }
      ]
    },
    {
      "cell_type": "code",
      "metadata": {
        "colab": {
          "base_uri": "https://localhost:8080/"
        },
        "id": "u69WEvrh0IN_",
        "outputId": "3e5a9b49-1e4f-4be5-efad-081717e06135"
      },
      "source": [
        "type(iris['data'])"
      ],
      "execution_count": 43,
      "outputs": [
        {
          "output_type": "execute_result",
          "data": {
            "text/plain": [
              "numpy.ndarray"
            ]
          },
          "metadata": {
            "tags": []
          },
          "execution_count": 43
        }
      ]
    },
    {
      "cell_type": "code",
      "metadata": {
        "colab": {
          "base_uri": "https://localhost:8080/"
        },
        "id": "Qgy6V4mV3w-8",
        "outputId": "705b5273-899f-4c2b-d09b-ce6d6588bc6a"
      },
      "source": [
        "type(iris.data)"
      ],
      "execution_count": 49,
      "outputs": [
        {
          "output_type": "execute_result",
          "data": {
            "text/plain": [
              "numpy.ndarray"
            ]
          },
          "metadata": {
            "tags": []
          },
          "execution_count": 49
        }
      ]
    },
    {
      "cell_type": "code",
      "metadata": {
        "id": "3nReFOXO6wuI"
      },
      "source": [
        "iris_data_torch = torch.from_numpy(iris.data)"
      ],
      "execution_count": 58,
      "outputs": []
    },
    {
      "cell_type": "code",
      "metadata": {
        "colab": {
          "base_uri": "https://localhost:8080/"
        },
        "id": "WDctUv_f7m6n",
        "outputId": "20b8081c-4be1-4c12-e6ba-08f0571a03a7"
      },
      "source": [
        "iris_data_torch.shape"
      ],
      "execution_count": 59,
      "outputs": [
        {
          "output_type": "execute_result",
          "data": {
            "text/plain": [
              "torch.Size([150, 4])"
            ]
          },
          "metadata": {
            "tags": []
          },
          "execution_count": 59
        }
      ]
    },
    {
      "cell_type": "markdown",
      "metadata": {
        "id": "g411nDun7wUg"
      },
      "source": [
        "This data is now ready to be feed into the neeural net.\n"
      ]
    },
    {
      "cell_type": "code",
      "metadata": {
        "id": "knUJQy118B8Z"
      },
      "source": [
        "my_net = FCNN(4, 10, 3) "
      ],
      "execution_count": 84,
      "outputs": []
    },
    {
      "cell_type": "markdown",
      "metadata": {
        "id": "g7MVWA38-T-s"
      },
      "source": [
        "Remember it was necessary to put .float() after your dataset, otherwise an error occured complaining about the dtype double rather than float! It seems a new error!"
      ]
    },
    {
      "cell_type": "code",
      "metadata": {
        "colab": {
          "base_uri": "https://localhost:8080/"
        },
        "id": "AXa1m4du7tSC",
        "outputId": "ae8b3e98-b7dd-455b-e4ee-a255c5dd49ce"
      },
      "source": [
        "my_net.forward(iris_data_torch.float())"
      ],
      "execution_count": 119,
      "outputs": [
        {
          "output_type": "stream",
          "text": [
            "/usr/local/lib/python3.7/dist-packages/ipykernel_launcher.py:20: UserWarning: Implicit dimension choice for softmax has been deprecated. Change the call to include dim=X as an argument.\n"
          ],
          "name": "stderr"
        },
        {
          "output_type": "execute_result",
          "data": {
            "text/plain": [
              "tensor([[0.6224, 0.2720, 0.1057],\n",
              "        [0.6127, 0.2736, 0.1137],\n",
              "        [0.6059, 0.2786, 0.1155],\n",
              "        [0.6055, 0.2770, 0.1175],\n",
              "        [0.6199, 0.2738, 0.1063],\n",
              "        [0.6472, 0.2541, 0.0987],\n",
              "        [0.6098, 0.2741, 0.1162],\n",
              "        [0.6203, 0.2718, 0.1079],\n",
              "        [0.5958, 0.2807, 0.1235],\n",
              "        [0.6112, 0.2777, 0.1111],\n",
              "        [0.6347, 0.2664, 0.0989],\n",
              "        [0.6157, 0.2735, 0.1108],\n",
              "        [0.6056, 0.2803, 0.1141],\n",
              "        [0.5840, 0.2921, 0.1238],\n",
              "        [0.6435, 0.2650, 0.0915],\n",
              "        [0.6559, 0.2533, 0.0907],\n",
              "        [0.6404, 0.2596, 0.1000],\n",
              "        [0.6263, 0.2668, 0.1068],\n",
              "        [0.6518, 0.2542, 0.0940],\n",
              "        [0.6300, 0.2662, 0.1038],\n",
              "        [0.6362, 0.2629, 0.1009],\n",
              "        [0.6333, 0.2609, 0.1058],\n",
              "        [0.6002, 0.2856, 0.1142],\n",
              "        [0.6378, 0.2522, 0.1101],\n",
              "        [0.6209, 0.2693, 0.1098],\n",
              "        [0.6194, 0.2693, 0.1113],\n",
              "        [0.6298, 0.2602, 0.1099],\n",
              "        [0.6272, 0.2690, 0.1037],\n",
              "        [0.6249, 0.2701, 0.1050],\n",
              "        [0.6112, 0.2744, 0.1144],\n",
              "        [0.6137, 0.2726, 0.1137],\n",
              "        [0.6406, 0.2556, 0.1038],\n",
              "        [0.6269, 0.2758, 0.0973],\n",
              "        [0.6390, 0.2675, 0.0935],\n",
              "        [0.6151, 0.2725, 0.1124],\n",
              "        [0.6138, 0.2755, 0.1108],\n",
              "        [0.6331, 0.2671, 0.0998],\n",
              "        [0.6127, 0.2806, 0.1067],\n",
              "        [0.5948, 0.2824, 0.1228],\n",
              "        [0.6235, 0.2703, 0.1062],\n",
              "        [0.6215, 0.2697, 0.1088],\n",
              "        [0.5968, 0.2734, 0.1299],\n",
              "        [0.5962, 0.2831, 0.1207],\n",
              "        [0.6381, 0.2506, 0.1114],\n",
              "        [0.6407, 0.2557, 0.1036],\n",
              "        [0.6134, 0.2699, 0.1167],\n",
              "        [0.6277, 0.2700, 0.1023],\n",
              "        [0.6045, 0.2787, 0.1168],\n",
              "        [0.6316, 0.2680, 0.1004],\n",
              "        [0.6179, 0.2729, 0.1091],\n",
              "        [0.7654, 0.1548, 0.0797],\n",
              "        [0.7501, 0.1603, 0.0896],\n",
              "        [0.7651, 0.1527, 0.0822],\n",
              "        [0.6902, 0.1952, 0.1146],\n",
              "        [0.7404, 0.1671, 0.0925],\n",
              "        [0.7228, 0.1750, 0.1022],\n",
              "        [0.7535, 0.1561, 0.0904],\n",
              "        [0.6683, 0.2095, 0.1223],\n",
              "        [0.7485, 0.1642, 0.0873],\n",
              "        [0.7012, 0.1833, 0.1155],\n",
              "        [0.6587, 0.2161, 0.1252],\n",
              "        [0.7310, 0.1688, 0.1003],\n",
              "        [0.6973, 0.1991, 0.1036],\n",
              "        [0.7400, 0.1649, 0.0951],\n",
              "        [0.7072, 0.1860, 0.1067],\n",
              "        [0.7532, 0.1611, 0.0857],\n",
              "        [0.7273, 0.1690, 0.1038],\n",
              "        [0.7099, 0.1896, 0.1004],\n",
              "        [0.7057, 0.1888, 0.1055],\n",
              "        [0.7022, 0.1904, 0.1074],\n",
              "        [0.7501, 0.1520, 0.0979],\n",
              "        [0.7244, 0.1775, 0.0981],\n",
              "        [0.7323, 0.1710, 0.0967],\n",
              "        [0.7337, 0.1720, 0.0943],\n",
              "        [0.7397, 0.1691, 0.0912],\n",
              "        [0.7480, 0.1639, 0.0881],\n",
              "        [0.7499, 0.1638, 0.0864],\n",
              "        [0.7577, 0.1543, 0.0880],\n",
              "        [0.7352, 0.1662, 0.0986],\n",
              "        [0.6973, 0.1974, 0.1053],\n",
              "        [0.6934, 0.1957, 0.1109],\n",
              "        [0.6925, 0.1977, 0.1098],\n",
              "        [0.7130, 0.1839, 0.1031],\n",
              "        [0.7433, 0.1600, 0.0967],\n",
              "        [0.7231, 0.1705, 0.1064],\n",
              "        [0.7435, 0.1616, 0.0949],\n",
              "        [0.7585, 0.1560, 0.0855],\n",
              "        [0.7121, 0.1876, 0.1003],\n",
              "        [0.7153, 0.1809, 0.1038],\n",
              "        [0.7001, 0.1883, 0.1116],\n",
              "        [0.7125, 0.1813, 0.1062],\n",
              "        [0.7393, 0.1660, 0.0947],\n",
              "        [0.7112, 0.1849, 0.1039],\n",
              "        [0.6698, 0.2087, 0.1215],\n",
              "        [0.7146, 0.1793, 0.1062],\n",
              "        [0.7167, 0.1824, 0.1009],\n",
              "        [0.7189, 0.1784, 0.1027],\n",
              "        [0.7344, 0.1714, 0.0943],\n",
              "        [0.6737, 0.2064, 0.1199],\n",
              "        [0.7167, 0.1793, 0.1040],\n",
              "        [0.7860, 0.1258, 0.0883],\n",
              "        [0.7388, 0.1585, 0.1027],\n",
              "        [0.7822, 0.1371, 0.0807],\n",
              "        [0.7666, 0.1447, 0.0887],\n",
              "        [0.7741, 0.1376, 0.0883],\n",
              "        [0.8044, 0.1254, 0.0702],\n",
              "        [0.7048, 0.1750, 0.1202],\n",
              "        [0.7934, 0.1333, 0.0732],\n",
              "        [0.7607, 0.1522, 0.0871],\n",
              "        [0.8052, 0.1187, 0.0761],\n",
              "        [0.7628, 0.1463, 0.0910],\n",
              "        [0.7500, 0.1558, 0.0942],\n",
              "        [0.7686, 0.1441, 0.0873],\n",
              "        [0.7257, 0.1655, 0.1088],\n",
              "        [0.7377, 0.1540, 0.1083],\n",
              "        [0.7651, 0.1414, 0.0935],\n",
              "        [0.7689, 0.1444, 0.0867],\n",
              "        [0.8313, 0.1061, 0.0625],\n",
              "        [0.7983, 0.1293, 0.0724],\n",
              "        [0.7208, 0.1769, 0.1022],\n",
              "        [0.7805, 0.1350, 0.0845],\n",
              "        [0.7336, 0.1589, 0.1074],\n",
              "        [0.8018, 0.1287, 0.0695],\n",
              "        [0.7376, 0.1641, 0.0983],\n",
              "        [0.7842, 0.1327, 0.0831],\n",
              "        [0.7949, 0.1313, 0.0739],\n",
              "        [0.7376, 0.1632, 0.0993],\n",
              "        [0.7477, 0.1553, 0.0969],\n",
              "        [0.7610, 0.1466, 0.0924],\n",
              "        [0.7840, 0.1405, 0.0755],\n",
              "        [0.7844, 0.1395, 0.0761],\n",
              "        [0.8256, 0.1124, 0.0620],\n",
              "        [0.7601, 0.1463, 0.0936],\n",
              "        [0.7505, 0.1582, 0.0913],\n",
              "        [0.7574, 0.1534, 0.0892],\n",
              "        [0.7903, 0.1339, 0.0757],\n",
              "        [0.7792, 0.1306, 0.0902],\n",
              "        [0.7718, 0.1416, 0.0866],\n",
              "        [0.7438, 0.1571, 0.0991],\n",
              "        [0.7701, 0.1436, 0.0863],\n",
              "        [0.7717, 0.1386, 0.0896],\n",
              "        [0.7601, 0.1485, 0.0914],\n",
              "        [0.7388, 0.1585, 0.1027],\n",
              "        [0.7853, 0.1312, 0.0834],\n",
              "        [0.7808, 0.1317, 0.0876],\n",
              "        [0.7571, 0.1491, 0.0938],\n",
              "        [0.7318, 0.1674, 0.1008],\n",
              "        [0.7583, 0.1496, 0.0921],\n",
              "        [0.7737, 0.1342, 0.0921],\n",
              "        [0.7522, 0.1509, 0.0968]], grad_fn=<SoftmaxBackward>)"
            ]
          },
          "metadata": {
            "tags": []
          },
          "execution_count": 119
        }
      ]
    },
    {
      "cell_type": "markdown",
      "metadata": {
        "id": "HdWvI_xp-pvK"
      },
      "source": [
        "Now, we can train our neural net on this dataset."
      ]
    },
    {
      "cell_type": "code",
      "metadata": {
        "colab": {
          "base_uri": "https://localhost:8080/"
        },
        "id": "CXhU1vsb8c9v",
        "outputId": "ded37a97-b09d-4b4c-d592-da1669a816ef"
      },
      "source": [
        "iris.target"
      ],
      "execution_count": 88,
      "outputs": [
        {
          "output_type": "execute_result",
          "data": {
            "text/plain": [
              "array([0, 0, 0, 0, 0, 0, 0, 0, 0, 0, 0, 0, 0, 0, 0, 0, 0, 0, 0, 0, 0, 0,\n",
              "       0, 0, 0, 0, 0, 0, 0, 0, 0, 0, 0, 0, 0, 0, 0, 0, 0, 0, 0, 0, 0, 0,\n",
              "       0, 0, 0, 0, 0, 0, 1, 1, 1, 1, 1, 1, 1, 1, 1, 1, 1, 1, 1, 1, 1, 1,\n",
              "       1, 1, 1, 1, 1, 1, 1, 1, 1, 1, 1, 1, 1, 1, 1, 1, 1, 1, 1, 1, 1, 1,\n",
              "       1, 1, 1, 1, 1, 1, 1, 1, 1, 1, 1, 1, 2, 2, 2, 2, 2, 2, 2, 2, 2, 2,\n",
              "       2, 2, 2, 2, 2, 2, 2, 2, 2, 2, 2, 2, 2, 2, 2, 2, 2, 2, 2, 2, 2, 2,\n",
              "       2, 2, 2, 2, 2, 2, 2, 2, 2, 2, 2, 2, 2, 2, 2, 2, 2, 2])"
            ]
          },
          "metadata": {
            "tags": []
          },
          "execution_count": 88
        }
      ]
    },
    {
      "cell_type": "code",
      "metadata": {
        "colab": {
          "base_uri": "https://localhost:8080/"
        },
        "id": "K8KNZMBk-xVl",
        "outputId": "5ccd926b-379d-4d38-f9b4-48028b4a27f1"
      },
      "source": [
        "list(my_net.parameters()) #It contains weights and biases."
      ],
      "execution_count": 90,
      "outputs": [
        {
          "output_type": "execute_result",
          "data": {
            "text/plain": [
              "[Parameter containing:\n",
              " tensor([[ 0.4943,  0.1262,  0.1936,  0.3627],\n",
              "         [ 0.2767, -0.2441, -0.4087, -0.1398],\n",
              "         [-0.2096,  0.4884,  0.2511, -0.1610],\n",
              "         [ 0.4618, -0.1699, -0.1292, -0.1604],\n",
              "         [ 0.1158,  0.1164,  0.0487, -0.3122],\n",
              "         [-0.3074, -0.2158, -0.0487, -0.1790],\n",
              "         [-0.1393,  0.4505,  0.0704, -0.4620],\n",
              "         [ 0.0299,  0.1465,  0.1960, -0.0678],\n",
              "         [-0.4093,  0.3419, -0.4740, -0.1335],\n",
              "         [ 0.3097,  0.2232, -0.4883, -0.1055]], requires_grad=True),\n",
              " Parameter containing:\n",
              " tensor([ 0.4656, -0.1151, -0.4064, -0.0455, -0.1885,  0.4079, -0.1187,  0.2300,\n",
              "         -0.2814, -0.0677], requires_grad=True),\n",
              " Parameter containing:\n",
              " tensor([[ 0.0784,  0.0656,  0.1392, -0.1270,  0.1772, -0.1486, -0.2591,  0.2735,\n",
              "          -0.2024,  0.1350],\n",
              "         [-0.1486,  0.0379, -0.1168,  0.0588,  0.0108, -0.1088,  0.2974,  0.1194,\n",
              "          -0.1321,  0.0282],\n",
              "         [-0.0393, -0.1958,  0.0550, -0.1562, -0.2573,  0.3075, -0.0185, -0.1962,\n",
              "          -0.1176, -0.0242]], requires_grad=True),\n",
              " Parameter containing:\n",
              " tensor([ 0.0408, -0.0045, -0.2297], requires_grad=True)]"
            ]
          },
          "metadata": {
            "tags": []
          },
          "execution_count": 90
        }
      ]
    },
    {
      "cell_type": "code",
      "metadata": {
        "colab": {
          "base_uri": "https://localhost:8080/"
        },
        "id": "KaxKygL4N67G",
        "outputId": "6b588ffe-34b9-4565-ed5e-70bab5eb7db2"
      },
      "source": [
        "loss(output, iris_labels_torch)"
      ],
      "execution_count": 141,
      "outputs": [
        {
          "output_type": "execute_result",
          "data": {
            "text/plain": [
              "tensor(1.1720, grad_fn=<NllLossBackward>)"
            ]
          },
          "metadata": {
            "tags": []
          },
          "execution_count": 141
        }
      ]
    },
    {
      "cell_type": "code",
      "metadata": {
        "colab": {
          "base_uri": "https://localhost:8080/"
        },
        "id": "BW8VRO5JHLpW",
        "outputId": "d828b599-12ae-41c0-b2ae-677775962641"
      },
      "source": [
        "#First, we train with unnormalized data.\n",
        "epochs = range(20)\n",
        "loss = nn.CrossEntropyLoss()\n",
        "optimizer = torch.optim.Adam(my_net.parameters(), lr=1e-1)\n",
        "iris_train = iris_data_torch.float()\n",
        "iris_labels_torch = torch.from_numpy(iris.target)\n",
        "iris_train.requires_grad = True\n",
        "for e in epochs:\n",
        "   optimizer.zero_grad()\n",
        "   output = my_net.forward(iris_train)\n",
        "   predictions = torch.argmax(output, axis = 1)\n",
        "   iris_loss = loss(output, iris_labels_torch)\n",
        "   iris_loss.backward()\n",
        "   optimizer.step()"
      ],
      "execution_count": 149,
      "outputs": [
        {
          "output_type": "stream",
          "text": [
            "/usr/local/lib/python3.7/dist-packages/ipykernel_launcher.py:20: UserWarning: Implicit dimension choice for softmax has been deprecated. Change the call to include dim=X as an argument.\n"
          ],
          "name": "stderr"
        }
      ]
    },
    {
      "cell_type": "code",
      "metadata": {
        "colab": {
          "base_uri": "https://localhost:8080/"
        },
        "id": "Q1Quq9ClOQn5",
        "outputId": "b442c364-bcf7-4e0c-898a-ac3e53791fa1"
      },
      "source": [
        "predictions"
      ],
      "execution_count": 150,
      "outputs": [
        {
          "output_type": "execute_result",
          "data": {
            "text/plain": [
              "tensor([0, 0, 0, 0, 0, 0, 0, 0, 0, 0, 0, 0, 0, 0, 0, 0, 0, 0, 0, 0, 0, 0, 0, 0,\n",
              "        0, 0, 0, 0, 0, 0, 0, 0, 0, 0, 0, 0, 0, 0, 0, 0, 0, 0, 0, 0, 0, 0, 0, 0,\n",
              "        0, 0, 1, 1, 1, 1, 1, 1, 1, 1, 1, 1, 1, 1, 1, 1, 1, 1, 1, 1, 2, 1, 2, 1,\n",
              "        2, 1, 1, 1, 1, 2, 1, 1, 1, 1, 1, 2, 1, 1, 1, 1, 1, 1, 1, 1, 1, 1, 1, 1,\n",
              "        1, 1, 1, 1, 2, 2, 2, 2, 2, 2, 2, 2, 2, 2, 2, 2, 2, 2, 2, 2, 2, 2, 2, 2,\n",
              "        2, 2, 2, 2, 2, 2, 2, 2, 2, 2, 2, 2, 2, 2, 2, 2, 2, 2, 2, 2, 2, 2, 2, 2,\n",
              "        2, 2, 2, 2, 2, 2])"
            ]
          },
          "metadata": {
            "tags": []
          },
          "execution_count": 150
        }
      ]
    },
    {
      "cell_type": "code",
      "metadata": {
        "id": "dlYpnQphLpbP"
      },
      "source": [
        "import torch.optim"
      ],
      "execution_count": 135,
      "outputs": []
    },
    {
      "cell_type": "code",
      "metadata": {
        "id": "VQTMR2ezM7bu"
      },
      "source": [
        ""
      ],
      "execution_count": 136,
      "outputs": []
    },
    {
      "cell_type": "code",
      "metadata": {
        "id": "8jz98WbLNKjT"
      },
      "source": [
        ""
      ],
      "execution_count": null,
      "outputs": []
    }
  ]
}